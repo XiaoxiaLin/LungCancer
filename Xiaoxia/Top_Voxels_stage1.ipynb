{
 "cells": [
  {
   "cell_type": "markdown",
   "metadata": {},
   "source": [
    "# Source (Danniel's github)\n",
    "\n",
    "\n",
    "https://github.com/dhammack/DSB2017/blob/50ea5d169f6028b907b40276502e744c6b9d12ec/training_code/FLung_nodule_models/score_ident_model_v1.py\n",
    "\n",
    "\n",
    "https://github.com/dhammack/DSB2017/blob/master/scoring_code/score_ident_model_v1_stage2.py"
   ]
  },
  {
   "cell_type": "code",
   "execution_count": 1,
   "metadata": {
    "collapsed": false
   },
   "outputs": [
    {
     "name": "stderr",
     "output_type": "stream",
     "text": [
      "Using TensorFlow backend.\n"
     ]
    }
   ],
   "source": [
    "import numpy as np\n",
    "import pandas as pd\n",
    "from keras.models import load_model\n",
    "from sklearn.linear_model import LogisticRegression\n",
    "from sklearn.metrics import log_loss\n",
    "from joblib import Parallel, delayed\n",
    "import sys\n",
    "import scipy\n",
    "import cv2\n",
    "import os\n",
    "from os.path import join\n",
    "import matplotlib.pyplot as plt\n",
    "%matplotlib inline\n",
    "\n",
    "import tensorflow as tf\n",
    "from keras.backend.tensorflow_backend import set_session\n",
    "config = tf.ConfigProto()\n",
    "config.gpu_options.per_process_gpu_memory_fraction = 0.3\n",
    "set_session(tf.Session(config=config))"
   ]
  },
  {
   "cell_type": "code",
   "execution_count": 2,
   "metadata": {
    "collapsed": true
   },
   "outputs": [],
   "source": [
    "def find_start(arr, thresh=.5):\n",
    "    #determine when the arr first exceeds thresh\n",
    "    #arr = arr.ravel()\n",
    "    for i in range(arr.shape[0]):\n",
    "        if arr[i] > thresh:\n",
    "            #print 'returning', i\n",
    "            return np.clip(i - 8, 0, arr.shape[0])\n",
    "    return 0"
   ]
  },
  {
   "cell_type": "code",
   "execution_count": 3,
   "metadata": {
    "collapsed": true
   },
   "outputs": [],
   "source": [
    "def get_strides(steps,size,offset,VOXEL_SIZE):\n",
    "    if steps * VOXEL_SIZE < size - 2*offset:\n",
    "        #not enough coverage. start and end are modified\n",
    "        start = (size - steps*VOXEL_SIZE) / 2\n",
    "        end = size - start - VOXEL_SIZE\n",
    "    else:\n",
    "        start = offset\n",
    "        end = size-VOXEL_SIZE - offset\n",
    "    return list(np.around(np.linspace(start,end,steps)).astype('int32'))"
   ]
  },
  {
   "cell_type": "markdown",
   "metadata": {},
   "source": [
    "In Danniel's code, the preds are in the original scale (from 0 to 5), and he uses thresh=1.5. That means he is only keeping voxels with malignancy score higher then 1.5. \n",
    "\n",
    "Our CNN is giving normalized malignancy preds (from 0 to 1), if we use thresh = 1.5/5=0.3, "
   ]
  },
  {
   "cell_type": "code",
   "execution_count": 4,
   "metadata": {
    "collapsed": true
   },
   "outputs": [],
   "source": [
    "def get_interesting_ixs(preds,thresh=0.35,max_ct=50):\n",
    "    ''' \n",
    "    input the predictions, threshold, and maximum number of CT scans\n",
    "    return the indices of interest\n",
    "    '''\n",
    "    ixs = []\n",
    "    # preds_at_ixs = []\n",
    "    for i in range(preds.shape[0]):\n",
    "        if preds[i] > thresh:\n",
    "            ixs.append(i)\n",
    "            # preds_at_ixs.append(preds[i])\n",
    "\n",
    "    if len(ixs) == 0:\n",
    "        ixs = [np.argmax(preds)]\n",
    "        # preds_at_ixs = [preds[np.argmax(preds)]]\n",
    "\n",
    "    if len(ixs) > max_ct:\n",
    "        ixs = np.argsort(preds)[-max_ct:]\n",
    "\n",
    "    return np.array(ixs)"
   ]
  },
  {
   "cell_type": "code",
   "execution_count": 5,
   "metadata": {
    "collapsed": true
   },
   "outputs": [],
   "source": [
    "def img_to_vox(img,VOXEL_SIZE,mask):\n",
    "\n",
    "    #mask == 0 -> inside lung; mask == 1 -> outside lung \n",
    "\n",
    "    #first let's just get the minimum amount of coverage\n",
    "    samples0 = int(img.shape[0] / float(VOXEL_SIZE)) + 4\n",
    "    samples1 = int(img.shape[1] / float(VOXEL_SIZE)) + 4\n",
    "    samples2 = int(img.shape[2] / float(VOXEL_SIZE)) + 4\n",
    "\n",
    "    ixs0 = get_strides(samples0,img.shape[0],0,VOXEL_SIZE)\n",
    "    ixs1 = get_strides(samples1,img.shape[1],0,VOXEL_SIZE)\n",
    "    ixs2 = get_strides(samples2,img.shape[2],0,VOXEL_SIZE)\n",
    "\n",
    "    subvoxels = []\n",
    "    locations = []\n",
    "    centroids = []\n",
    "    for i0,x0 in enumerate(ixs0):\n",
    "        for i1,x1 in enumerate(ixs1):\n",
    "            for i2,x2 in enumerate(ixs2):\n",
    "                if mask[x0:x0+VOXEL_SIZE,x1:x1+VOXEL_SIZE,x2:x2+VOXEL_SIZE].mean() > .99:\n",
    "                    #basically no lung in this voxel, might as well ignore.\n",
    "                    continue\n",
    "                subvoxels.append(img[x0:x0+VOXEL_SIZE,x1:x1+VOXEL_SIZE,x2:x2+VOXEL_SIZE])\n",
    "                assert subvoxels[-1].shape == (VOXEL_SIZE,VOXEL_SIZE,VOXEL_SIZE), 'bad subvoxel shape ' + str(subvoxels[-1].shape) + ' ' + str([x0,x1,x2]) + ' ' + str(img.shape)\n",
    "                locations.append((i0,i1,i2))\n",
    "                centroids.append((x0+VOXEL_SIZE/2,x1+VOXEL_SIZE/2,x2+VOXEL_SIZE/2))\n",
    "    X = np.stack(subvoxels, axis=0)\n",
    "    #print 'num subvoxels:', X.shape[0]\n",
    "    X = np.expand_dims(X, 1)\n",
    "    #normalized locations\n",
    "    #allows us to de-weight certain places...\n",
    "\n",
    "    return X,locations,centroids"
   ]
  },
  {
   "cell_type": "code",
   "execution_count": 6,
   "metadata": {
    "collapsed": false
   },
   "outputs": [],
   "source": [
    "def crop_img(img_cpy):\n",
    "    # img_raw = np.load(patient)\n",
    "    # downsample = 1\n",
    "    masks = []\n",
    "    img_raw = img_cpy.copy()\n",
    "\n",
    "    for i in range(img_raw.shape[2]):\n",
    "        img_slice = img_raw[ :,:,i]\n",
    "        img = img_slice.copy()\n",
    "\n",
    "        img[img>-300] = 255\n",
    "        img[img<-300] = 0\n",
    "        img = np.uint8(img)\n",
    "        _, contours, _ = cv2.findContours(img,cv2.RETR_LIST,cv2.CHAIN_APPROX_SIMPLE)\n",
    "        if len(contours) > 0:\n",
    "\n",
    "\n",
    "            largest_contour = max(contours, key=cv2.contourArea)\n",
    "        else:\n",
    "            mask = (np.zeros(img.shape, np.uint8) < 255)\n",
    "            masks.append(mask)\n",
    "            continue\n",
    "        mask = np.zeros(img.shape, np.uint8)\n",
    "        cv2.fillPoly(mask, [largest_contour], 255)\n",
    "\n",
    "    # imshow(mask); show()\n",
    "\n",
    "        # apply mask to threshold image to remove outside. this is our new mask\n",
    "        img = ~img \n",
    "        img[(mask == 0)] = 0 # <-- Larger than threshold value\n",
    "\n",
    "        # apply closing to the mask\n",
    "        kernel = cv2.getStructuringElement(cv2.MORPH_ELLIPSE,(5,5))\n",
    "        img = cv2.morphologyEx(img, cv2.MORPH_OPEN, kernel)  # <- to remove speckles...\n",
    "        img = cv2.morphologyEx(img, cv2.MORPH_DILATE, kernel)\n",
    "        img = cv2.morphologyEx(img, cv2.MORPH_DILATE, kernel)\n",
    "        img = cv2.morphologyEx(img, cv2.MORPH_CLOSE, kernel)\n",
    "        img = cv2.morphologyEx(img, cv2.MORPH_CLOSE, kernel)\n",
    "        img = cv2.morphologyEx(img, cv2.MORPH_ERODE, kernel)\n",
    "        img = cv2.morphologyEx(img, cv2.MORPH_ERODE, kernel)\n",
    "\n",
    "        #the image has an outside part which we don't care about (value 0)\n",
    "        #and a boundary that we don't care about (value 255)\n",
    "        #and some noise that we don't care about (value 125)\n",
    "        mask = (img < 255)\n",
    "    #\t\t img_raw[~mask] = -2000\n",
    "    #\t\t imshow(img_raw); colorbar(); show()\n",
    "        masks.append(mask)\n",
    "\n",
    "    #now we have one mask per slice. To determine our bounding box, take the max x,y,z plus a fuzz factor\n",
    "    ixs_to_remove = [i for i,m in enumerate(masks) if np.mean(m) > .995]\n",
    "\n",
    "    # masks =[m for m in masks if np.mean(m) < .995]\n",
    "    masks = np.stack(masks, axis=2)\n",
    "    masks = np.delete(masks, ixs_to_remove, axis=2)\n",
    "    img_raw = np.delete(img_raw, ixs_to_remove, axis=2)\n",
    "\n",
    "\n",
    "    #0 = mask, 1 = background\n",
    "    x_dim = np.min(masks, axis=(1,2))\n",
    "    y_dim = np.min(masks, axis=(0,2))\n",
    "    z_dim = np.min(masks, axis=(0,1))\n",
    "\n",
    "    xstart = find_start(1 - x_dim, .5)\n",
    "    xend = -(find_start(1 - x_dim[::-1], .5) + 1)\n",
    "    ystart = find_start(1 - y_dim, .5)\n",
    "    yend = -(find_start(1 - y_dim[::-1], .5) + 1)\n",
    "    zstart = find_start(1 - z_dim, .5)\n",
    "    zend = -( find_start(1 - z_dim[::-1], .5) + 1)\n",
    "\n",
    "    # try:\n",
    "    assert xstart < int(img_raw.shape[0]*.5) < img_raw.shape[0] - xend, 'bad crop ' + str(xstart) + ' ' + str(xend) + ' ' + str(img_raw.shape[0])\n",
    "    assert ystart < int(img_raw.shape[1]*.5) < img_raw.shape[1] - yend, 'bad crop ' + str(ystart) + ' ' + str(yend) + ' ' + str(img_raw.shape[1])\n",
    "    assert zstart < int(img_raw.shape[2]*.5) < img_raw.shape[2] - zend, 'bad crop ' + str(zstart) + ' ' + str(zend) + ' ' + str(img_raw.shape[2])\n",
    "    assert xend < 0 and yend < 0 and zend < 0, 'one end >= 0'\n",
    "    assert xstart >= 0 and ystart >= 0 and zstart >= 0, 'one start <= 0'\n",
    "    # except AssertionError as e:\n",
    "        # print 'WARNING cropping failed. using full img', e\n",
    "        # return img_raw\n",
    "\n",
    "    return img_raw[xstart:xend,ystart:yend,zstart:zend], masks[xstart:xend,ystart:yend,zstart:zend]"
   ]
  },
  {
   "cell_type": "code",
   "execution_count": 8,
   "metadata": {
    "collapsed": true
   },
   "outputs": [],
   "source": [
    "def load_and_txform_file(file,model,VOXEL_SIZE,batch_size,n_TTA=32):\n",
    "    #read, convert to voxels.\n",
    "    xorig = np.load(os.path.join(\"../../data/stage1_arrays/\", file))\n",
    "    x = np.clip(xorig.copy(), -1000, 400)\n",
    "    x,mask = crop_img(x)\n",
    "\n",
    "    x = ((x + 1000.) / (400. + 1000.)).astype('float32')\n",
    "    voxels, locs, centroids = img_to_vox(x,VOXEL_SIZE,mask)\n",
    "    #predict on voxels, keep top N ROI\n",
    "    preds = np.array(model.predict(voxels, batch_size=batch_size))\n",
    "    topNixs = get_interesting_ixs(preds[0,:,0])\n",
    "    topNvox = voxels[topNixs]\n",
    "    topNcentroids = np.array(centroids)[topNixs]\n",
    "    topNpreds = preds[:,topNixs,0]\n",
    "\n",
    "    return topNvox, topNcentroids, [x.shape]*topNcentroids.shape[0], topNpreds   \n",
    "#  In Danniel's code, it is returning a list of shapes: [x.shape] * topNcentroids.shape[0],\n",
    "#  why don't we just keep one shape"
   ]
  },
  {
   "cell_type": "code",
   "execution_count": 9,
   "metadata": {
    "collapsed": false
   },
   "outputs": [
    {
     "name": "stderr",
     "output_type": "stream",
     "text": [
      "/opt/anaconda/lib/python3.5/site-packages/keras/engine/topology.py:1206: UserWarning: The `Merge` layer is deprecated and will be removed after 08/2017. Use instead layers from `keras.layers.merge`, e.g. `add`, `concatenate`, etc.\n",
      "  return cls(**config)\n"
     ]
    }
   ],
   "source": [
    "PATH_MODEL = \"../Models/LUNA_model_v2.h5\"\n",
    "model_v24 = load_model(PATH_MODEL)\n",
    "PATH_RAW_ARRAY = \"../../data/stage1_arrays/\"\n",
    "PATH_VOXELS = \"../../data/stage1_TOP_voxels/\"\n",
    "VOXEL_SIZE = 64"
   ]
  },
  {
   "cell_type": "markdown",
   "metadata": {},
   "source": [
    "# Unit test for one patient"
   ]
  },
  {
   "cell_type": "code",
   "execution_count": 10,
   "metadata": {
    "collapsed": false
   },
   "outputs": [],
   "source": [
    "import seaborn as sns\n",
    "def unit_test(patient='337e7a428e7342d1e7f53a04247f7ad8.npy'):      \n",
    "    xorig = np.load(os.path.join(\"../../data/stage1_arrays/\", patient))\n",
    "    x = np.clip(xorig.copy(), -1000, 400)\n",
    "    x,mask = crop_img(x)\n",
    "\n",
    "    x = ((x + 1000.) / (400. + 1000.)).astype('float32')\n",
    "    print (\"x shape: \", x.shape)\n",
    "    voxels, locs, centroids = img_to_vox(x,VOXEL_SIZE,mask)\n",
    "    \n",
    "    print (\"voxels shape:\", voxels.shape)\n",
    "    print (\"locations:\", locs[:3])\n",
    "    print (\"centroids:\", centroids[:3])\n",
    "    \n",
    "    preds = np.array(model_v24.predict(x= voxels)) \n",
    "    print (\"predictions (from CNN) shape: \", preds.shape)\n",
    "    print (\"\\npred[0] shape????\", preds[0].shape)\n",
    "    \n",
    "    # (malignancy, spiculation, lobulation, and diameter across nodules (4 features)\n",
    "    print (  \"min malignancy :\", preds[0].min(), \" max malignancy :\", preds[0].max(),\\\n",
    "           \"\\nmin spiculation:\", preds[1].min(), \" max spiculation:\", preds[1].max(),\\\n",
    "           \"\\nmin lobulation :\", preds[2].min(), \" max lobulation :\", preds[2].max(),\\\n",
    "           \"\\nmin diameter   :\", preds[3].min(), \" max diameter   :\", preds[3].max())\n",
    "    \n",
    "    topNixs = get_interesting_ixs(preds[0,:,0])\n",
    "#     print (\"number of top voxels\", topNixs)\n",
    "    \n",
    "    topNvox = voxels[topNixs]\n",
    "    topNcentroids = np.array(centroids)[topNixs]\n",
    "#     print (\"topNcentroids\", topNcentroids[:5])\n",
    "    \n",
    "    topNpreds = preds[:,topNixs,0]\n",
    "#     print (\"topNpreds\",topNpreds)\n",
    "    \n",
    "    topNpreds_malignancy = preds[0,:,0][topNixs]\n",
    "#     print (\"topNpreds_malignancy\",topNpreds_malignancy)\n",
    "    \n",
    "    topNpreds_spiculation = preds[1,:,0][topNixs]\n",
    "    topNpreds_lobulation = preds[2,:,0][topNixs]\n",
    "    topNpreds_diameter = preds[3,:,0][topNixs]\n",
    "    sns.distplot(preds[0]);\n",
    "\n",
    "    return topNvox, topNcentroids, [x.shape] * topNcentroids.shape[0], topNpreds_malignancy"
   ]
  },
  {
   "cell_type": "code",
   "execution_count": 11,
   "metadata": {
    "collapsed": false,
    "scrolled": true
   },
   "outputs": [
    {
     "name": "stdout",
     "output_type": "stream",
     "text": [
      "x shape:  (313, 252, 260)\n",
      "voxels shape: (413, 1, 64, 64, 64)\n",
      "locations: [(0, 0, 0), (0, 0, 1), (0, 0, 2)]\n",
      "centroids: [(32.0, 32.0, 32.0), (32.0, 32.0, 60.0), (32.0, 32.0, 88.0)]\n",
      "predictions (from CNN) shape:  (4, 413, 1)\n",
      "\n",
      "pred[0] shape???? (413, 1)\n",
      "min malignancy : 0.04064  max malignancy : 0.606117 \n",
      "min spiculation: 0.00689988  max spiculation: 0.348682 \n",
      "min lobulation : 0.00800679  max lobulation : 0.392116 \n",
      "min diameter   : 0.00609919  max diameter   : 0.358569\n",
      "number of top voxels [  7 256  10 389 154 202  43  74 357  15  58  28 354  92  66  87 148 150\n",
      " 363  34  35 294 142 153 305 146  95  96 388 141 344 133 149  36  90  89\n",
      "  80 155  12  93  85  94 350  32 301 143 289  82 397 147]\n",
      "topNcentroids [[  32.   63.   60.]\n",
      " [ 174.  220.  116.]\n",
      " [  32.   63.  144.]\n",
      " [ 281.  126.  116.]\n",
      " [ 103.  220.   88.]]\n",
      "topNpreds [[ 0.45016217  0.450921    0.45626158  0.45677713  0.45702773  0.46191454\n",
      "   0.46343669  0.46883607  0.4695158   0.47629216  0.47784057  0.47879755\n",
      "   0.48022056  0.4874121   0.4878366   0.49435413  0.49621776  0.49830312\n",
      "   0.49886817  0.50080079  0.50087112  0.50132406  0.50644118  0.5105955\n",
      "   0.51189959  0.51310486  0.51751268  0.51929325  0.52015406  0.52271932\n",
      "   0.5377956   0.54014432  0.54995555  0.55008906  0.55212879  0.55353153\n",
      "   0.55485088  0.55948848  0.56772822  0.56988555  0.57042915  0.58139968\n",
      "   0.58318853  0.58974969  0.59068775  0.59510958  0.60314393  0.60505104\n",
      "   0.60529935  0.60611713]\n",
      " [ 0.17071897  0.32433847  0.16810244  0.28251851  0.28815794  0.28332904\n",
      "   0.31691229  0.23664314  0.09565902  0.30206013  0.34868205  0.34635279\n",
      "   0.21978109  0.1308019   0.33406314  0.33117148  0.14860699  0.18986079\n",
      "   0.24148886  0.10240197  0.12878433  0.23763569  0.24623078  0.2977137\n",
      "   0.32734084  0.28211954  0.32144699  0.32057139  0.32014287  0.31927291\n",
      "   0.23915914  0.28435615  0.14165708  0.2053545   0.29794848  0.2942\n",
      "   0.17384797  0.28222051  0.19176897  0.20999551  0.26351243  0.24768589\n",
      "   0.09044582  0.26878336  0.26545426  0.23270197  0.2201941   0.2604301\n",
      "   0.22226202  0.20302857]\n",
      " [ 0.19974731  0.35186991  0.19802372  0.32500371  0.33211368  0.32367638\n",
      "   0.36770269  0.26285017  0.12005992  0.33994588  0.39211595  0.3894096\n",
      "   0.23728937  0.13120921  0.37973753  0.3761175   0.18030685  0.22566415\n",
      "   0.28384429  0.12969011  0.15852182  0.28055242  0.29274759  0.34344828\n",
      "   0.36333868  0.30463085  0.36038351  0.35795951  0.34789407  0.35295621\n",
      "   0.2403311   0.33108234  0.18341707  0.25180516  0.31798422  0.30756304\n",
      "   0.16165969  0.28984955  0.23718508  0.19354673  0.26189452  0.23724061\n",
      "   0.12495749  0.29544184  0.26609853  0.27774265  0.19593918  0.27846363\n",
      "   0.26636627  0.24516658]\n",
      " [ 0.14176832  0.31691277  0.14116439  0.26891521  0.28258094  0.26728594\n",
      "   0.31866163  0.20031542  0.07477421  0.29656228  0.35856935  0.35676694\n",
      "   0.17342947  0.07719817  0.35166851  0.32761666  0.13371582  0.18164763\n",
      "   0.24698053  0.08743632  0.11427837  0.2447776   0.26181927  0.31789675\n",
      "   0.31327558  0.24421234  0.31070849  0.30730531  0.29279506  0.29981682\n",
      "   0.17580129  0.29490307  0.16313252  0.23359863  0.25578007  0.24574374\n",
      "   0.10114397  0.22819299  0.21826072  0.13144028  0.19831578  0.17424615\n",
      "   0.11199179  0.2292043   0.19935913  0.23711374  0.13525844  0.2081793\n",
      "   0.22575627  0.20977119]]\n",
      "topNpreds_malignancy [ 0.45016217  0.450921    0.45626158  0.45677713  0.45702773  0.46191454\n",
      "  0.46343669  0.46883607  0.4695158   0.47629216  0.47784057  0.47879755\n",
      "  0.48022056  0.4874121   0.4878366   0.49435413  0.49621776  0.49830312\n",
      "  0.49886817  0.50080079  0.50087112  0.50132406  0.50644118  0.5105955\n",
      "  0.51189959  0.51310486  0.51751268  0.51929325  0.52015406  0.52271932\n",
      "  0.5377956   0.54014432  0.54995555  0.55008906  0.55212879  0.55353153\n",
      "  0.55485088  0.55948848  0.56772822  0.56988555  0.57042915  0.58139968\n",
      "  0.58318853  0.58974969  0.59068775  0.59510958  0.60314393  0.60505104\n",
      "  0.60529935  0.60611713]\n",
      "It took 49.51 second\n"
     ]
    },
    {
     "data": {
      "image/png": "[encoded data removed]",
      "text/plain": [
       "<matplotlib.figure.Figure at 0x7fb92c265978>"
      ]
     },
     "metadata": {},
     "output_type": "display_data"
    }
   ],
   "source": [
    "import time\n",
    "\n",
    "start = time.time()\n",
    "vox, cents, shapes, preds = unit_test(patient='337e7a428e7342d1e7f53a04247f7ad8.npy') \n",
    "print (\"It took %0.2f second\"%(time.time() - start))"
   ]
  },
  {
   "cell_type": "code",
   "execution_count": 71,
   "metadata": {
    "collapsed": false
   },
   "outputs": [
    {
     "name": "stdout",
     "output_type": "stream",
     "text": [
      "x shape:  (304, 261, 286)\n",
      "voxels shape: (508, 1, 64, 64, 64)\n",
      "locations: [(0, 0, 0), (0, 0, 1), (0, 0, 2)]\n",
      "centroids: [(32.0, 32.0, 32.0), (32.0, 32.0, 64.0), (32.0, 32.0, 95.0)]\n",
      "min malignancy : 0.0516395  max malignancy : 0.690876 \n",
      "min spiculation: 0.0115351  max spiculation: 0.347923 \n",
      "min lobulation : 0.0113054  max lobulation : 0.39479 \n",
      "min diameter   : 0.00819314  max diameter   : 0.360683\n",
      "number of top voxels 50\n"
     ]
    },
    {
     "data": {
      "image/png": "[encoded data removed]",
      "text/plain": [
       "<matplotlib.figure.Figure at 0x7f0fa8f5a978>"
      ]
     },
     "metadata": {},
     "output_type": "display_data"
    }
   ],
   "source": [
    "# This is a cancer patient\n",
    "vox, cents, shapes, preds = unit_test(patient='624a34fa8fd36847724e749877343847.npy')   "
   ]
  },
  {
   "cell_type": "code",
   "execution_count": 33,
   "metadata": {
    "collapsed": false
   },
   "outputs": [
    {
     "name": "stdout",
     "output_type": "stream",
     "text": [
      "x shape:  (332, 256, 316)\n",
      "voxels shape: (537, 1, 64, 64, 64)\n",
      "4\n",
      "number of top voxels 50\n",
      "50\n"
     ]
    },
    {
     "data": {
      "image/png": "[encoded data removed]",
      "text/plain": [
       "<matplotlib.figure.Figure at 0x7f0fd42cff98>"
      ]
     },
     "metadata": {},
     "output_type": "display_data"
    }
   ],
   "source": [
    "# This is a non-cancer patient\n",
    "vox, cents, shapes, preds = unit_test(patient='eb8d5136918d6859ca3cc3abafe369ac.npy')  "
   ]
  },
  {
   "cell_type": "markdown",
   "metadata": {},
   "source": [
    "# Saving the files"
   ]
  },
  {
   "cell_type": "code",
   "execution_count": null,
   "metadata": {
    "collapsed": false,
    "scrolled": true
   },
   "outputs": [
    {
     "name": "stdout",
     "output_type": "stream",
     "text": [
      "patient numbers:  1434\n",
      "0 patients saved\n"
     ]
    }
   ],
   "source": [
    "patients = [f for f in os.listdir(PATH_RAW_ARRAY) if '.npy' in f ]\n",
    "print (\"patient numbers: \", len(patients) )    \n",
    "for num, patient in enumerate(patients):\n",
    "    if num%100 == 0:\n",
    "        print (\"%d patients saved\"%num)\n",
    "    vox, cents, shapes, preds = load_and_txform_file(patient, model_v24, VOXEL_SIZE, batch_size=32, n_TTA=2)\n",
    "    np.save(join(PATH_VOXELS, 'vox_' + patient), vox)\n",
    "    np.save(join(PATH_VOXELS, 'cents_' + patient), cents)\n",
    "    np.save(join(PATH_VOXELS, 'shapes_' + patient), shapes)\n",
    "    np.save(join(PATH_VOXELS, 'preds_' + patient), preds)"
   ]
  },
  {
   "cell_type": "code",
   "execution_count": null,
   "metadata": {
    "collapsed": true
   },
   "outputs": [],
   "source": []
  }
 ],
 "metadata": {
  "kernelspec": {
   "display_name": "Python [default]",
   "language": "python",
   "name": "python3"
  },
  "language_info": {
   "codemirror_mode": {
    "name": "ipython",
    "version": 3
   },
   "file_extension": ".py",
   "mimetype": "text/x-python",
   "name": "python",
   "nbconvert_exporter": "python",
   "pygments_lexer": "ipython3",
   "version": "3.5.2"
  }
 },
 "nbformat": 4,
 "nbformat_minor": 2
}
