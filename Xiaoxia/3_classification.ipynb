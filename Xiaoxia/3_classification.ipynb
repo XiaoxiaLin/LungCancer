{
 "cells": [
  {
   "cell_type": "code",
   "execution_count": 2,
   "metadata": {
    "collapsed": false
   },
   "outputs": [],
   "source": [
    "import numpy as np\n",
    "import pandas as pd\n",
    "from pandas.tools.plotting import scatter_matrix\n",
    "from sklearn import neighbors, linear_model\n",
    "import matplotlib.pyplot as plt\n",
    "from sklearn.model_selection import train_test_split\n",
    "from sklearn.metrics import confusion_matrix\n",
    "from sklearn.model_selection import cross_val_predict, StratifiedKFold\n",
    "%matplotlib inline"
   ]
  },
  {
   "cell_type": "markdown",
   "metadata": {},
   "source": [
    "## 1. Preparing data for classification"
   ]
  },
  {
   "cell_type": "code",
   "execution_count": 41,
   "metadata": {
    "collapsed": false
   },
   "outputs": [
    {
     "name": "stdout",
     "output_type": "stream",
     "text": [
      "(1434, 16)\n"
     ]
    },
    {
     "data": {
      "text/html": [
       "<div>\n",
       "<table border=\"1\" class=\"dataframe\">\n",
       "  <thead>\n",
       "    <tr style=\"text-align: right;\">\n",
       "      <th></th>\n",
       "      <th>Unnamed: 0</th>\n",
       "      <th>max_malig</th>\n",
       "      <th>max_spiculation</th>\n",
       "      <th>max_lobulation</th>\n",
       "      <th>max_diameter</th>\n",
       "      <th>xsd_malig</th>\n",
       "      <th>xsd_spiculation</th>\n",
       "      <th>xmax_lobulation</th>\n",
       "      <th>xsd_diameter</th>\n",
       "      <th>loc_from_malig_x</th>\n",
       "      <th>loc_from_malig_y</th>\n",
       "      <th>loc_from_malig_z</th>\n",
       "      <th>std_locs_x</th>\n",
       "      <th>std_locs_y</th>\n",
       "      <th>std_locs_z</th>\n",
       "      <th>id</th>\n",
       "    </tr>\n",
       "  </thead>\n",
       "  <tbody>\n",
       "    <tr>\n",
       "      <th>0</th>\n",
       "      <td>d777a77cc7a2ec2f1eed68799cc9075c.npz</td>\n",
       "      <td>0.697503</td>\n",
       "      <td>0.335968</td>\n",
       "      <td>0.385324</td>\n",
       "      <td>0.339156</td>\n",
       "      <td>0.148894</td>\n",
       "      <td>0.089260</td>\n",
       "      <td>0.385324</td>\n",
       "      <td>0.085551</td>\n",
       "      <td>0.753571</td>\n",
       "      <td>0.528571</td>\n",
       "      <td>0.434028</td>\n",
       "      <td>0.244258</td>\n",
       "      <td>0.163056</td>\n",
       "      <td>0.242655</td>\n",
       "      <td>d777a77cc7a2ec2f1eed68799cc9075c</td>\n",
       "    </tr>\n",
       "    <tr>\n",
       "      <th>1</th>\n",
       "      <td>1631637f08f27347e8f23d7a0e18c100.npz</td>\n",
       "      <td>0.666373</td>\n",
       "      <td>0.345718</td>\n",
       "      <td>0.391515</td>\n",
       "      <td>0.359679</td>\n",
       "      <td>0.148370</td>\n",
       "      <td>0.082181</td>\n",
       "      <td>0.391515</td>\n",
       "      <td>0.078761</td>\n",
       "      <td>0.088889</td>\n",
       "      <td>0.416667</td>\n",
       "      <td>0.304487</td>\n",
       "      <td>0.243736</td>\n",
       "      <td>0.159560</td>\n",
       "      <td>0.216008</td>\n",
       "      <td>1631637f08f27347e8f23d7a0e18c100</td>\n",
       "    </tr>\n",
       "    <tr>\n",
       "      <th>2</th>\n",
       "      <td>9065f2b133129c5747d42db18a424749.npz</td>\n",
       "      <td>0.701259</td>\n",
       "      <td>0.347774</td>\n",
       "      <td>0.394380</td>\n",
       "      <td>0.360565</td>\n",
       "      <td>0.159877</td>\n",
       "      <td>0.084858</td>\n",
       "      <td>0.394380</td>\n",
       "      <td>0.079833</td>\n",
       "      <td>0.706061</td>\n",
       "      <td>0.418182</td>\n",
       "      <td>0.799363</td>\n",
       "      <td>0.231711</td>\n",
       "      <td>0.155614</td>\n",
       "      <td>0.217998</td>\n",
       "      <td>9065f2b133129c5747d42db18a424749</td>\n",
       "    </tr>\n",
       "    <tr>\n",
       "      <th>3</th>\n",
       "      <td>e3a9a6f8d21c6c459728066bcf18c615.npz</td>\n",
       "      <td>0.690341</td>\n",
       "      <td>0.343430</td>\n",
       "      <td>0.400079</td>\n",
       "      <td>0.354308</td>\n",
       "      <td>0.147548</td>\n",
       "      <td>0.088106</td>\n",
       "      <td>0.400079</td>\n",
       "      <td>0.085576</td>\n",
       "      <td>0.315789</td>\n",
       "      <td>0.112281</td>\n",
       "      <td>0.555556</td>\n",
       "      <td>0.233297</td>\n",
       "      <td>0.183184</td>\n",
       "      <td>0.207843</td>\n",
       "      <td>e3a9a6f8d21c6c459728066bcf18c615</td>\n",
       "    </tr>\n",
       "    <tr>\n",
       "      <th>4</th>\n",
       "      <td>f39a1e54d79731e4417aa8159d19b7d4.npz</td>\n",
       "      <td>0.726764</td>\n",
       "      <td>0.341739</td>\n",
       "      <td>0.396748</td>\n",
       "      <td>0.356204</td>\n",
       "      <td>0.147422</td>\n",
       "      <td>0.088995</td>\n",
       "      <td>0.396748</td>\n",
       "      <td>0.086762</td>\n",
       "      <td>0.885294</td>\n",
       "      <td>0.582353</td>\n",
       "      <td>0.373563</td>\n",
       "      <td>0.249184</td>\n",
       "      <td>0.183342</td>\n",
       "      <td>0.214586</td>\n",
       "      <td>f39a1e54d79731e4417aa8159d19b7d4</td>\n",
       "    </tr>\n",
       "  </tbody>\n",
       "</table>\n",
       "</div>"
      ],
      "text/plain": [
       "                             Unnamed: 0  max_malig  max_spiculation  \\\n",
       "0  d777a77cc7a2ec2f1eed68799cc9075c.npz   0.697503         0.335968   \n",
       "1  1631637f08f27347e8f23d7a0e18c100.npz   0.666373         0.345718   \n",
       "2  9065f2b133129c5747d42db18a424749.npz   0.701259         0.347774   \n",
       "3  e3a9a6f8d21c6c459728066bcf18c615.npz   0.690341         0.343430   \n",
       "4  f39a1e54d79731e4417aa8159d19b7d4.npz   0.726764         0.341739   \n",
       "\n",
       "   max_lobulation  max_diameter  xsd_malig  xsd_spiculation  xmax_lobulation  \\\n",
       "0        0.385324      0.339156   0.148894         0.089260         0.385324   \n",
       "1        0.391515      0.359679   0.148370         0.082181         0.391515   \n",
       "2        0.394380      0.360565   0.159877         0.084858         0.394380   \n",
       "3        0.400079      0.354308   0.147548         0.088106         0.400079   \n",
       "4        0.396748      0.356204   0.147422         0.088995         0.396748   \n",
       "\n",
       "   xsd_diameter  loc_from_malig_x  loc_from_malig_y  loc_from_malig_z  \\\n",
       "0      0.085551          0.753571          0.528571          0.434028   \n",
       "1      0.078761          0.088889          0.416667          0.304487   \n",
       "2      0.079833          0.706061          0.418182          0.799363   \n",
       "3      0.085576          0.315789          0.112281          0.555556   \n",
       "4      0.086762          0.885294          0.582353          0.373563   \n",
       "\n",
       "   std_locs_x  std_locs_y  std_locs_z                                id  \n",
       "0    0.244258    0.163056    0.242655  d777a77cc7a2ec2f1eed68799cc9075c  \n",
       "1    0.243736    0.159560    0.216008  1631637f08f27347e8f23d7a0e18c100  \n",
       "2    0.231711    0.155614    0.217998  9065f2b133129c5747d42db18a424749  \n",
       "3    0.233297    0.183184    0.207843  e3a9a6f8d21c6c459728066bcf18c615  \n",
       "4    0.249184    0.183342    0.214586  f39a1e54d79731e4417aa8159d19b7d4  "
      ]
     },
     "execution_count": 41,
     "metadata": {},
     "output_type": "execute_result"
    }
   ],
   "source": [
    "df_feature = pd.read_csv(\"./model_v24_1_feature_matrix_14.csv\")\n",
    "df_feature['id'] = df_feature['Unnamed: 0'].apply(lambda x: x.split('.')[0])\n",
    "print (df_feature.shape)\n",
    "df_feature.head()"
   ]
  },
  {
   "cell_type": "code",
   "execution_count": 166,
   "metadata": {
    "collapsed": false,
    "scrolled": false
   },
   "outputs": [
    {
     "name": "stdout",
     "output_type": "stream",
     "text": [
      "(1397, 2)\n"
     ]
    },
    {
     "data": {
      "text/html": [
       "<div>\n",
       "<table border=\"1\" class=\"dataframe\">\n",
       "  <thead>\n",
       "    <tr style=\"text-align: right;\">\n",
       "      <th></th>\n",
       "      <th>id</th>\n",
       "      <th>cancer</th>\n",
       "    </tr>\n",
       "  </thead>\n",
       "  <tbody>\n",
       "    <tr>\n",
       "      <th>0</th>\n",
       "      <td>0015ceb851d7251b8f399e39779d1e7d</td>\n",
       "      <td>1</td>\n",
       "    </tr>\n",
       "    <tr>\n",
       "      <th>1</th>\n",
       "      <td>0030a160d58723ff36d73f41b170ec21</td>\n",
       "      <td>0</td>\n",
       "    </tr>\n",
       "    <tr>\n",
       "      <th>2</th>\n",
       "      <td>003f41c78e6acfa92430a057ac0b306e</td>\n",
       "      <td>0</td>\n",
       "    </tr>\n",
       "    <tr>\n",
       "      <th>3</th>\n",
       "      <td>006b96310a37b36cccb2ab48d10b49a3</td>\n",
       "      <td>1</td>\n",
       "    </tr>\n",
       "    <tr>\n",
       "      <th>4</th>\n",
       "      <td>008464bb8521d09a42985dd8add3d0d2</td>\n",
       "      <td>1</td>\n",
       "    </tr>\n",
       "  </tbody>\n",
       "</table>\n",
       "</div>"
      ],
      "text/plain": [
       "                                 id  cancer\n",
       "0  0015ceb851d7251b8f399e39779d1e7d       1\n",
       "1  0030a160d58723ff36d73f41b170ec21       0\n",
       "2  003f41c78e6acfa92430a057ac0b306e       0\n",
       "3  006b96310a37b36cccb2ab48d10b49a3       1\n",
       "4  008464bb8521d09a42985dd8add3d0d2       1"
      ]
     },
     "execution_count": 166,
     "metadata": {},
     "output_type": "execute_result"
    }
   ],
   "source": [
    "df_labels_1 =pd.read_csv('/home/lin/data/stage1_labels.csv')\n",
    "print (df_labels_1.shape)\n",
    "df_labels_1.head()"
   ]
  },
  {
   "cell_type": "code",
   "execution_count": 178,
   "metadata": {
    "collapsed": false
   },
   "outputs": [
    {
     "name": "stdout",
     "output_type": "stream",
     "text": [
      "(198, 2)\n"
     ]
    },
    {
     "data": {
      "text/html": [
       "<div>\n",
       "<table border=\"1\" class=\"dataframe\">\n",
       "  <thead>\n",
       "    <tr style=\"text-align: right;\">\n",
       "      <th></th>\n",
       "      <th>id</th>\n",
       "      <th>cancer</th>\n",
       "    </tr>\n",
       "  </thead>\n",
       "  <tbody>\n",
       "    <tr>\n",
       "      <th>0</th>\n",
       "      <td>026470d51482c93efc18b9803159c960</td>\n",
       "      <td>1</td>\n",
       "    </tr>\n",
       "    <tr>\n",
       "      <th>1</th>\n",
       "      <td>031b7ec4fe96a3b035a8196264a8c8c3</td>\n",
       "      <td>1</td>\n",
       "    </tr>\n",
       "    <tr>\n",
       "      <th>2</th>\n",
       "      <td>03bd22ed5858039af223c04993e9eb22</td>\n",
       "      <td>0</td>\n",
       "    </tr>\n",
       "    <tr>\n",
       "      <th>3</th>\n",
       "      <td>06a90409e4fcea3e634748b967993531</td>\n",
       "      <td>0</td>\n",
       "    </tr>\n",
       "    <tr>\n",
       "      <th>4</th>\n",
       "      <td>07b1defcfae5873ee1f03c90255eb170</td>\n",
       "      <td>1</td>\n",
       "    </tr>\n",
       "  </tbody>\n",
       "</table>\n",
       "</div>"
      ],
      "text/plain": [
       "                                 id  cancer\n",
       "0  026470d51482c93efc18b9803159c960       1\n",
       "1  031b7ec4fe96a3b035a8196264a8c8c3       1\n",
       "2  03bd22ed5858039af223c04993e9eb22       0\n",
       "3  06a90409e4fcea3e634748b967993531       0\n",
       "4  07b1defcfae5873ee1f03c90255eb170       1"
      ]
     },
     "execution_count": 178,
     "metadata": {},
     "output_type": "execute_result"
    }
   ],
   "source": [
    "df_labels_2 = pd.read_csv('/home/lin/data/stage1_solution.csv')\n",
    "df_labels_2 = df_labels_2.drop(['Usage'],1)\n",
    "print (df_labels_2.shape)\n",
    "df_labels_2.head()"
   ]
  },
  {
   "cell_type": "code",
   "execution_count": 189,
   "metadata": {
    "collapsed": false
   },
   "outputs": [
    {
     "data": {
      "text/plain": [
       "(1595, 2)"
      ]
     },
     "execution_count": 189,
     "metadata": {},
     "output_type": "execute_result"
    }
   ],
   "source": [
    "df_labels = df_labels_1.append(df_labels_2)\n",
    "df_labels.shape"
   ]
  },
  {
   "cell_type": "code",
   "execution_count": 190,
   "metadata": {
    "collapsed": false,
    "scrolled": true
   },
   "outputs": [
    {
     "name": "stdout",
     "output_type": "stream",
     "text": [
      "(1434, 17)\n"
     ]
    },
    {
     "data": {
      "text/html": [
       "<div>\n",
       "<table border=\"1\" class=\"dataframe\">\n",
       "  <thead>\n",
       "    <tr style=\"text-align: right;\">\n",
       "      <th></th>\n",
       "      <th>Unnamed: 0</th>\n",
       "      <th>max_malig</th>\n",
       "      <th>max_spiculation</th>\n",
       "      <th>max_lobulation</th>\n",
       "      <th>max_diameter</th>\n",
       "      <th>xsd_malig</th>\n",
       "      <th>xsd_spiculation</th>\n",
       "      <th>xmax_lobulation</th>\n",
       "      <th>xsd_diameter</th>\n",
       "      <th>loc_from_malig_x</th>\n",
       "      <th>loc_from_malig_y</th>\n",
       "      <th>loc_from_malig_z</th>\n",
       "      <th>std_locs_x</th>\n",
       "      <th>std_locs_y</th>\n",
       "      <th>std_locs_z</th>\n",
       "      <th>id</th>\n",
       "      <th>cancer</th>\n",
       "    </tr>\n",
       "  </thead>\n",
       "  <tbody>\n",
       "    <tr>\n",
       "      <th>0</th>\n",
       "      <td>d777a77cc7a2ec2f1eed68799cc9075c.npz</td>\n",
       "      <td>0.697503</td>\n",
       "      <td>0.335968</td>\n",
       "      <td>0.385324</td>\n",
       "      <td>0.339156</td>\n",
       "      <td>0.148894</td>\n",
       "      <td>0.089260</td>\n",
       "      <td>0.385324</td>\n",
       "      <td>0.085551</td>\n",
       "      <td>0.753571</td>\n",
       "      <td>0.528571</td>\n",
       "      <td>0.434028</td>\n",
       "      <td>0.244258</td>\n",
       "      <td>0.163056</td>\n",
       "      <td>0.242655</td>\n",
       "      <td>d777a77cc7a2ec2f1eed68799cc9075c</td>\n",
       "      <td>1</td>\n",
       "    </tr>\n",
       "    <tr>\n",
       "      <th>1</th>\n",
       "      <td>1631637f08f27347e8f23d7a0e18c100.npz</td>\n",
       "      <td>0.666373</td>\n",
       "      <td>0.345718</td>\n",
       "      <td>0.391515</td>\n",
       "      <td>0.359679</td>\n",
       "      <td>0.148370</td>\n",
       "      <td>0.082181</td>\n",
       "      <td>0.391515</td>\n",
       "      <td>0.078761</td>\n",
       "      <td>0.088889</td>\n",
       "      <td>0.416667</td>\n",
       "      <td>0.304487</td>\n",
       "      <td>0.243736</td>\n",
       "      <td>0.159560</td>\n",
       "      <td>0.216008</td>\n",
       "      <td>1631637f08f27347e8f23d7a0e18c100</td>\n",
       "      <td>0</td>\n",
       "    </tr>\n",
       "    <tr>\n",
       "      <th>2</th>\n",
       "      <td>9065f2b133129c5747d42db18a424749.npz</td>\n",
       "      <td>0.701259</td>\n",
       "      <td>0.347774</td>\n",
       "      <td>0.394380</td>\n",
       "      <td>0.360565</td>\n",
       "      <td>0.159877</td>\n",
       "      <td>0.084858</td>\n",
       "      <td>0.394380</td>\n",
       "      <td>0.079833</td>\n",
       "      <td>0.706061</td>\n",
       "      <td>0.418182</td>\n",
       "      <td>0.799363</td>\n",
       "      <td>0.231711</td>\n",
       "      <td>0.155614</td>\n",
       "      <td>0.217998</td>\n",
       "      <td>9065f2b133129c5747d42db18a424749</td>\n",
       "      <td>1</td>\n",
       "    </tr>\n",
       "    <tr>\n",
       "      <th>3</th>\n",
       "      <td>e3a9a6f8d21c6c459728066bcf18c615.npz</td>\n",
       "      <td>0.690341</td>\n",
       "      <td>0.343430</td>\n",
       "      <td>0.400079</td>\n",
       "      <td>0.354308</td>\n",
       "      <td>0.147548</td>\n",
       "      <td>0.088106</td>\n",
       "      <td>0.400079</td>\n",
       "      <td>0.085576</td>\n",
       "      <td>0.315789</td>\n",
       "      <td>0.112281</td>\n",
       "      <td>0.555556</td>\n",
       "      <td>0.233297</td>\n",
       "      <td>0.183184</td>\n",
       "      <td>0.207843</td>\n",
       "      <td>e3a9a6f8d21c6c459728066bcf18c615</td>\n",
       "      <td>0</td>\n",
       "    </tr>\n",
       "    <tr>\n",
       "      <th>4</th>\n",
       "      <td>f39a1e54d79731e4417aa8159d19b7d4.npz</td>\n",
       "      <td>0.726764</td>\n",
       "      <td>0.341739</td>\n",
       "      <td>0.396748</td>\n",
       "      <td>0.356204</td>\n",
       "      <td>0.147422</td>\n",
       "      <td>0.088995</td>\n",
       "      <td>0.396748</td>\n",
       "      <td>0.086762</td>\n",
       "      <td>0.885294</td>\n",
       "      <td>0.582353</td>\n",
       "      <td>0.373563</td>\n",
       "      <td>0.249184</td>\n",
       "      <td>0.183342</td>\n",
       "      <td>0.214586</td>\n",
       "      <td>f39a1e54d79731e4417aa8159d19b7d4</td>\n",
       "      <td>0</td>\n",
       "    </tr>\n",
       "  </tbody>\n",
       "</table>\n",
       "</div>"
      ],
      "text/plain": [
       "                             Unnamed: 0  max_malig  max_spiculation  \\\n",
       "0  d777a77cc7a2ec2f1eed68799cc9075c.npz   0.697503         0.335968   \n",
       "1  1631637f08f27347e8f23d7a0e18c100.npz   0.666373         0.345718   \n",
       "2  9065f2b133129c5747d42db18a424749.npz   0.701259         0.347774   \n",
       "3  e3a9a6f8d21c6c459728066bcf18c615.npz   0.690341         0.343430   \n",
       "4  f39a1e54d79731e4417aa8159d19b7d4.npz   0.726764         0.341739   \n",
       "\n",
       "   max_lobulation  max_diameter  xsd_malig  xsd_spiculation  xmax_lobulation  \\\n",
       "0        0.385324      0.339156   0.148894         0.089260         0.385324   \n",
       "1        0.391515      0.359679   0.148370         0.082181         0.391515   \n",
       "2        0.394380      0.360565   0.159877         0.084858         0.394380   \n",
       "3        0.400079      0.354308   0.147548         0.088106         0.400079   \n",
       "4        0.396748      0.356204   0.147422         0.088995         0.396748   \n",
       "\n",
       "   xsd_diameter  loc_from_malig_x  loc_from_malig_y  loc_from_malig_z  \\\n",
       "0      0.085551          0.753571          0.528571          0.434028   \n",
       "1      0.078761          0.088889          0.416667          0.304487   \n",
       "2      0.079833          0.706061          0.418182          0.799363   \n",
       "3      0.085576          0.315789          0.112281          0.555556   \n",
       "4      0.086762          0.885294          0.582353          0.373563   \n",
       "\n",
       "   std_locs_x  std_locs_y  std_locs_z                                id  \\\n",
       "0    0.244258    0.163056    0.242655  d777a77cc7a2ec2f1eed68799cc9075c   \n",
       "1    0.243736    0.159560    0.216008  1631637f08f27347e8f23d7a0e18c100   \n",
       "2    0.231711    0.155614    0.217998  9065f2b133129c5747d42db18a424749   \n",
       "3    0.233297    0.183184    0.207843  e3a9a6f8d21c6c459728066bcf18c615   \n",
       "4    0.249184    0.183342    0.214586  f39a1e54d79731e4417aa8159d19b7d4   \n",
       "\n",
       "   cancer  \n",
       "0       1  \n",
       "1       0  \n",
       "2       1  \n",
       "3       0  \n",
       "4       0  "
      ]
     },
     "execution_count": 190,
     "metadata": {},
     "output_type": "execute_result"
    }
   ],
   "source": [
    "df = pd.merge(left=df_feature, right=df_labels,how='outer',on='id').dropna()\n",
    "print (df.shape)\n",
    "df.head()"
   ]
  },
  {
   "cell_type": "markdown",
   "metadata": {},
   "source": [
    "## 2. Data exploration\n",
    "\n",
    "### 2.1 Basic estadistics\n",
    "\n",
    "+ How many patients do we have for training-test? --> 1257\n",
    "+ How many cancer patients? --> 315\n",
    "+ What percentage is the cancer patient? --> 25%\n"
   ]
  },
  {
   "cell_type": "code",
   "execution_count": 192,
   "metadata": {
    "collapsed": false
   },
   "outputs": [
    {
     "name": "stdout",
     "output_type": "stream",
     "text": [
      "data frame shape (1434, 17)\n",
      "number of cancer patient: 363\n",
      "how un-balance is the data: 0.25313807531380755\n"
     ]
    }
   ],
   "source": [
    "print (\"data frame shape\", df.shape)\n",
    "print (\"number of cancer patient:\",df['cancer'].sum() )\n",
    "print (\"how un-balance is the data:\", df['cancer'].sum()/df.shape[0])"
   ]
  },
  {
   "cell_type": "code",
   "execution_count": 193,
   "metadata": {
    "collapsed": false
   },
   "outputs": [
    {
     "name": "stdout",
     "output_type": "stream",
     "text": [
      "(363, 17)\n"
     ]
    },
    {
     "data": {
      "text/html": [
       "<div>\n",
       "<table border=\"1\" class=\"dataframe\">\n",
       "  <thead>\n",
       "    <tr style=\"text-align: right;\">\n",
       "      <th></th>\n",
       "      <th>Unnamed: 0</th>\n",
       "      <th>max_malig</th>\n",
       "      <th>max_spiculation</th>\n",
       "      <th>max_lobulation</th>\n",
       "      <th>max_diameter</th>\n",
       "      <th>xsd_malig</th>\n",
       "      <th>xsd_spiculation</th>\n",
       "      <th>xmax_lobulation</th>\n",
       "      <th>xsd_diameter</th>\n",
       "      <th>loc_from_malig_x</th>\n",
       "      <th>loc_from_malig_y</th>\n",
       "      <th>loc_from_malig_z</th>\n",
       "      <th>std_locs_x</th>\n",
       "      <th>std_locs_y</th>\n",
       "      <th>std_locs_z</th>\n",
       "      <th>id</th>\n",
       "      <th>cancer</th>\n",
       "    </tr>\n",
       "  </thead>\n",
       "  <tbody>\n",
       "    <tr>\n",
       "      <th>0</th>\n",
       "      <td>d777a77cc7a2ec2f1eed68799cc9075c.npz</td>\n",
       "      <td>0.697503</td>\n",
       "      <td>0.335968</td>\n",
       "      <td>0.385324</td>\n",
       "      <td>0.339156</td>\n",
       "      <td>0.148894</td>\n",
       "      <td>0.089260</td>\n",
       "      <td>0.385324</td>\n",
       "      <td>0.085551</td>\n",
       "      <td>0.753571</td>\n",
       "      <td>0.528571</td>\n",
       "      <td>0.434028</td>\n",
       "      <td>0.244258</td>\n",
       "      <td>0.163056</td>\n",
       "      <td>0.242655</td>\n",
       "      <td>d777a77cc7a2ec2f1eed68799cc9075c</td>\n",
       "      <td>1</td>\n",
       "    </tr>\n",
       "    <tr>\n",
       "      <th>2</th>\n",
       "      <td>9065f2b133129c5747d42db18a424749.npz</td>\n",
       "      <td>0.701259</td>\n",
       "      <td>0.347774</td>\n",
       "      <td>0.394380</td>\n",
       "      <td>0.360565</td>\n",
       "      <td>0.159877</td>\n",
       "      <td>0.084858</td>\n",
       "      <td>0.394380</td>\n",
       "      <td>0.079833</td>\n",
       "      <td>0.706061</td>\n",
       "      <td>0.418182</td>\n",
       "      <td>0.799363</td>\n",
       "      <td>0.231711</td>\n",
       "      <td>0.155614</td>\n",
       "      <td>0.217998</td>\n",
       "      <td>9065f2b133129c5747d42db18a424749</td>\n",
       "      <td>1</td>\n",
       "    </tr>\n",
       "    <tr>\n",
       "      <th>6</th>\n",
       "      <td>7c2b72f9e0f5649c22902292febdc89f.npz</td>\n",
       "      <td>0.668319</td>\n",
       "      <td>0.338826</td>\n",
       "      <td>0.384684</td>\n",
       "      <td>0.337507</td>\n",
       "      <td>0.154942</td>\n",
       "      <td>0.091774</td>\n",
       "      <td>0.384684</td>\n",
       "      <td>0.087845</td>\n",
       "      <td>0.221429</td>\n",
       "      <td>0.385714</td>\n",
       "      <td>0.613475</td>\n",
       "      <td>0.212833</td>\n",
       "      <td>0.155433</td>\n",
       "      <td>0.220319</td>\n",
       "      <td>7c2b72f9e0f5649c22902292febdc89f</td>\n",
       "      <td>1</td>\n",
       "    </tr>\n",
       "    <tr>\n",
       "      <th>10</th>\n",
       "      <td>f5717f7cbc08d8bd942cd4c1128e3339.npz</td>\n",
       "      <td>0.659050</td>\n",
       "      <td>0.350864</td>\n",
       "      <td>0.396342</td>\n",
       "      <td>0.361564</td>\n",
       "      <td>0.149278</td>\n",
       "      <td>0.087901</td>\n",
       "      <td>0.396342</td>\n",
       "      <td>0.083719</td>\n",
       "      <td>0.093023</td>\n",
       "      <td>0.180233</td>\n",
       "      <td>0.553571</td>\n",
       "      <td>0.246453</td>\n",
       "      <td>0.172813</td>\n",
       "      <td>0.243043</td>\n",
       "      <td>f5717f7cbc08d8bd942cd4c1128e3339</td>\n",
       "      <td>1</td>\n",
       "    </tr>\n",
       "    <tr>\n",
       "      <th>13</th>\n",
       "      <td>882107a204c302e27628f85522baea49.npz</td>\n",
       "      <td>0.644114</td>\n",
       "      <td>0.341161</td>\n",
       "      <td>0.386432</td>\n",
       "      <td>0.342413</td>\n",
       "      <td>0.152086</td>\n",
       "      <td>0.093578</td>\n",
       "      <td>0.386432</td>\n",
       "      <td>0.091503</td>\n",
       "      <td>0.281553</td>\n",
       "      <td>0.391586</td>\n",
       "      <td>0.602941</td>\n",
       "      <td>0.204743</td>\n",
       "      <td>0.144383</td>\n",
       "      <td>0.161236</td>\n",
       "      <td>882107a204c302e27628f85522baea49</td>\n",
       "      <td>1</td>\n",
       "    </tr>\n",
       "  </tbody>\n",
       "</table>\n",
       "</div>"
      ],
      "text/plain": [
       "                              Unnamed: 0  max_malig  max_spiculation  \\\n",
       "0   d777a77cc7a2ec2f1eed68799cc9075c.npz   0.697503         0.335968   \n",
       "2   9065f2b133129c5747d42db18a424749.npz   0.701259         0.347774   \n",
       "6   7c2b72f9e0f5649c22902292febdc89f.npz   0.668319         0.338826   \n",
       "10  f5717f7cbc08d8bd942cd4c1128e3339.npz   0.659050         0.350864   \n",
       "13  882107a204c302e27628f85522baea49.npz   0.644114         0.341161   \n",
       "\n",
       "    max_lobulation  max_diameter  xsd_malig  xsd_spiculation  xmax_lobulation  \\\n",
       "0         0.385324      0.339156   0.148894         0.089260         0.385324   \n",
       "2         0.394380      0.360565   0.159877         0.084858         0.394380   \n",
       "6         0.384684      0.337507   0.154942         0.091774         0.384684   \n",
       "10        0.396342      0.361564   0.149278         0.087901         0.396342   \n",
       "13        0.386432      0.342413   0.152086         0.093578         0.386432   \n",
       "\n",
       "    xsd_diameter  loc_from_malig_x  loc_from_malig_y  loc_from_malig_z  \\\n",
       "0       0.085551          0.753571          0.528571          0.434028   \n",
       "2       0.079833          0.706061          0.418182          0.799363   \n",
       "6       0.087845          0.221429          0.385714          0.613475   \n",
       "10      0.083719          0.093023          0.180233          0.553571   \n",
       "13      0.091503          0.281553          0.391586          0.602941   \n",
       "\n",
       "    std_locs_x  std_locs_y  std_locs_z                                id  \\\n",
       "0     0.244258    0.163056    0.242655  d777a77cc7a2ec2f1eed68799cc9075c   \n",
       "2     0.231711    0.155614    0.217998  9065f2b133129c5747d42db18a424749   \n",
       "6     0.212833    0.155433    0.220319  7c2b72f9e0f5649c22902292febdc89f   \n",
       "10    0.246453    0.172813    0.243043  f5717f7cbc08d8bd942cd4c1128e3339   \n",
       "13    0.204743    0.144383    0.161236  882107a204c302e27628f85522baea49   \n",
       "\n",
       "    cancer  \n",
       "0        1  \n",
       "2        1  \n",
       "6        1  \n",
       "10       1  \n",
       "13       1  "
      ]
     },
     "execution_count": 193,
     "metadata": {},
     "output_type": "execute_result"
    }
   ],
   "source": [
    "df_cancer = df.loc[df['cancer'] == 1]\n",
    "print (df_cancer.shape)\n",
    "df_cancer.head()"
   ]
  },
  {
   "cell_type": "code",
   "execution_count": 194,
   "metadata": {
    "collapsed": false,
    "scrolled": false
   },
   "outputs": [
    {
     "name": "stdout",
     "output_type": "stream",
     "text": [
      "(1071, 17)\n"
     ]
    },
    {
     "data": {
      "text/html": [
       "<div>\n",
       "<table border=\"1\" class=\"dataframe\">\n",
       "  <thead>\n",
       "    <tr style=\"text-align: right;\">\n",
       "      <th></th>\n",
       "      <th>Unnamed: 0</th>\n",
       "      <th>max_malig</th>\n",
       "      <th>max_spiculation</th>\n",
       "      <th>max_lobulation</th>\n",
       "      <th>max_diameter</th>\n",
       "      <th>xsd_malig</th>\n",
       "      <th>xsd_spiculation</th>\n",
       "      <th>xmax_lobulation</th>\n",
       "      <th>xsd_diameter</th>\n",
       "      <th>loc_from_malig_x</th>\n",
       "      <th>loc_from_malig_y</th>\n",
       "      <th>loc_from_malig_z</th>\n",
       "      <th>std_locs_x</th>\n",
       "      <th>std_locs_y</th>\n",
       "      <th>std_locs_z</th>\n",
       "      <th>id</th>\n",
       "      <th>cancer</th>\n",
       "    </tr>\n",
       "  </thead>\n",
       "  <tbody>\n",
       "    <tr>\n",
       "      <th>1</th>\n",
       "      <td>1631637f08f27347e8f23d7a0e18c100.npz</td>\n",
       "      <td>0.666373</td>\n",
       "      <td>0.345718</td>\n",
       "      <td>0.391515</td>\n",
       "      <td>0.359679</td>\n",
       "      <td>0.148370</td>\n",
       "      <td>0.082181</td>\n",
       "      <td>0.391515</td>\n",
       "      <td>0.078761</td>\n",
       "      <td>0.088889</td>\n",
       "      <td>0.416667</td>\n",
       "      <td>0.304487</td>\n",
       "      <td>0.243736</td>\n",
       "      <td>0.159560</td>\n",
       "      <td>0.216008</td>\n",
       "      <td>1631637f08f27347e8f23d7a0e18c100</td>\n",
       "      <td>0</td>\n",
       "    </tr>\n",
       "    <tr>\n",
       "      <th>3</th>\n",
       "      <td>e3a9a6f8d21c6c459728066bcf18c615.npz</td>\n",
       "      <td>0.690341</td>\n",
       "      <td>0.343430</td>\n",
       "      <td>0.400079</td>\n",
       "      <td>0.354308</td>\n",
       "      <td>0.147548</td>\n",
       "      <td>0.088106</td>\n",
       "      <td>0.400079</td>\n",
       "      <td>0.085576</td>\n",
       "      <td>0.315789</td>\n",
       "      <td>0.112281</td>\n",
       "      <td>0.555556</td>\n",
       "      <td>0.233297</td>\n",
       "      <td>0.183184</td>\n",
       "      <td>0.207843</td>\n",
       "      <td>e3a9a6f8d21c6c459728066bcf18c615</td>\n",
       "      <td>0</td>\n",
       "    </tr>\n",
       "    <tr>\n",
       "      <th>4</th>\n",
       "      <td>f39a1e54d79731e4417aa8159d19b7d4.npz</td>\n",
       "      <td>0.726764</td>\n",
       "      <td>0.341739</td>\n",
       "      <td>0.396748</td>\n",
       "      <td>0.356204</td>\n",
       "      <td>0.147422</td>\n",
       "      <td>0.088995</td>\n",
       "      <td>0.396748</td>\n",
       "      <td>0.086762</td>\n",
       "      <td>0.885294</td>\n",
       "      <td>0.582353</td>\n",
       "      <td>0.373563</td>\n",
       "      <td>0.249184</td>\n",
       "      <td>0.183342</td>\n",
       "      <td>0.214586</td>\n",
       "      <td>f39a1e54d79731e4417aa8159d19b7d4</td>\n",
       "      <td>0</td>\n",
       "    </tr>\n",
       "    <tr>\n",
       "      <th>5</th>\n",
       "      <td>8987df2216ae2ab1a907d52bc9dc540d.npz</td>\n",
       "      <td>0.691301</td>\n",
       "      <td>0.342192</td>\n",
       "      <td>0.395080</td>\n",
       "      <td>0.358410</td>\n",
       "      <td>0.161766</td>\n",
       "      <td>0.087251</td>\n",
       "      <td>0.395080</td>\n",
       "      <td>0.083102</td>\n",
       "      <td>0.574286</td>\n",
       "      <td>0.574286</td>\n",
       "      <td>0.486301</td>\n",
       "      <td>0.219889</td>\n",
       "      <td>0.184321</td>\n",
       "      <td>0.200701</td>\n",
       "      <td>8987df2216ae2ab1a907d52bc9dc540d</td>\n",
       "      <td>0</td>\n",
       "    </tr>\n",
       "    <tr>\n",
       "      <th>7</th>\n",
       "      <td>e60d99ea9648e1ce859eb0b386365e26.npz</td>\n",
       "      <td>0.665821</td>\n",
       "      <td>0.336849</td>\n",
       "      <td>0.386759</td>\n",
       "      <td>0.351551</td>\n",
       "      <td>0.157453</td>\n",
       "      <td>0.089670</td>\n",
       "      <td>0.386759</td>\n",
       "      <td>0.085031</td>\n",
       "      <td>0.274011</td>\n",
       "      <td>0.324859</td>\n",
       "      <td>0.735593</td>\n",
       "      <td>0.234608</td>\n",
       "      <td>0.177474</td>\n",
       "      <td>0.225888</td>\n",
       "      <td>e60d99ea9648e1ce859eb0b386365e26</td>\n",
       "      <td>0</td>\n",
       "    </tr>\n",
       "  </tbody>\n",
       "</table>\n",
       "</div>"
      ],
      "text/plain": [
       "                             Unnamed: 0  max_malig  max_spiculation  \\\n",
       "1  1631637f08f27347e8f23d7a0e18c100.npz   0.666373         0.345718   \n",
       "3  e3a9a6f8d21c6c459728066bcf18c615.npz   0.690341         0.343430   \n",
       "4  f39a1e54d79731e4417aa8159d19b7d4.npz   0.726764         0.341739   \n",
       "5  8987df2216ae2ab1a907d52bc9dc540d.npz   0.691301         0.342192   \n",
       "7  e60d99ea9648e1ce859eb0b386365e26.npz   0.665821         0.336849   \n",
       "\n",
       "   max_lobulation  max_diameter  xsd_malig  xsd_spiculation  xmax_lobulation  \\\n",
       "1        0.391515      0.359679   0.148370         0.082181         0.391515   \n",
       "3        0.400079      0.354308   0.147548         0.088106         0.400079   \n",
       "4        0.396748      0.356204   0.147422         0.088995         0.396748   \n",
       "5        0.395080      0.358410   0.161766         0.087251         0.395080   \n",
       "7        0.386759      0.351551   0.157453         0.089670         0.386759   \n",
       "\n",
       "   xsd_diameter  loc_from_malig_x  loc_from_malig_y  loc_from_malig_z  \\\n",
       "1      0.078761          0.088889          0.416667          0.304487   \n",
       "3      0.085576          0.315789          0.112281          0.555556   \n",
       "4      0.086762          0.885294          0.582353          0.373563   \n",
       "5      0.083102          0.574286          0.574286          0.486301   \n",
       "7      0.085031          0.274011          0.324859          0.735593   \n",
       "\n",
       "   std_locs_x  std_locs_y  std_locs_z                                id  \\\n",
       "1    0.243736    0.159560    0.216008  1631637f08f27347e8f23d7a0e18c100   \n",
       "3    0.233297    0.183184    0.207843  e3a9a6f8d21c6c459728066bcf18c615   \n",
       "4    0.249184    0.183342    0.214586  f39a1e54d79731e4417aa8159d19b7d4   \n",
       "5    0.219889    0.184321    0.200701  8987df2216ae2ab1a907d52bc9dc540d   \n",
       "7    0.234608    0.177474    0.225888  e60d99ea9648e1ce859eb0b386365e26   \n",
       "\n",
       "   cancer  \n",
       "1       0  \n",
       "3       0  \n",
       "4       0  \n",
       "5       0  \n",
       "7       0  "
      ]
     },
     "execution_count": 194,
     "metadata": {},
     "output_type": "execute_result"
    }
   ],
   "source": [
    "df_no_cancer = df.loc[df['cancer'] == 0]\n",
    "print (df_no_cancer.shape)\n",
    "df_no_cancer.head()"
   ]
  },
  {
   "cell_type": "code",
   "execution_count": 191,
   "metadata": {
    "collapsed": false,
    "scrolled": true
   },
   "outputs": [
    {
     "data": {
      "text/plain": [
       "<matplotlib.axes._subplots.AxesSubplot at 0x7f869f39a828>"
      ]
     },
     "execution_count": 191,
     "metadata": {},
     "output_type": "execute_result"
    },
    {
     "data": {
      "image/png": "[encoded data removed]",
      "text/plain": [
       "<matplotlib.figure.Figure at 0x7f869f6b30b8>"
      ]
     },
     "metadata": {},
     "output_type": "display_data"
    },
    {
     "data": {
      "image/png": "[encoded data removed]",
      "text/plain": [
       "<matplotlib.figure.Figure at 0x7f869f6b3710>"
      ]
     },
     "metadata": {},
     "output_type": "display_data"
    }
   ],
   "source": [
    "df_cancer.plot(kind='box',figsize=(18,5))\n",
    "df_no_cancer.plot(kind='box',figsize=(18,5))"
   ]
  },
  {
   "cell_type": "markdown",
   "metadata": {},
   "source": [
    "### 2.2 Cancer patient v.s. Non-cancer patients"
   ]
  },
  {
   "cell_type": "markdown",
   "metadata": {},
   "source": [
    "#### 2.2.1 Mean\n",
    "\n",
    "<font color='red'> Does it make sense?? shouldn't be so similar!! </font>"
   ]
  },
  {
   "cell_type": "code",
   "execution_count": 195,
   "metadata": {
    "collapsed": false
   },
   "outputs": [
    {
     "name": "stdout",
     "output_type": "stream",
     "text": [
      "max_malig          -0.000556\n",
      "max_spiculation     0.000453\n",
      "max_lobulation      0.000310\n",
      "max_diameter        0.000197\n",
      "xsd_malig          -0.000839\n",
      "xsd_spiculation    -0.000009\n",
      "xmax_lobulation     0.000310\n",
      "xsd_diameter       -0.000004\n",
      "loc_from_malig_x   -0.017301\n",
      "loc_from_malig_y   -0.011904\n",
      "loc_from_malig_z    0.006386\n",
      "std_locs_x          0.000371\n",
      "std_locs_y          0.000825\n",
      "std_locs_z          0.001998\n",
      "cancer              1.000000\n",
      "dtype: float64\n"
     ]
    }
   ],
   "source": [
    "df_cancer_mean = df.loc[df['cancer'] == 1].mean()\n",
    "df_no_cancer_mean = df.loc[df['cancer'] == 0].mean()\n",
    "print (df_cancer_mean-df_no_cancer_mean)\n",
    "# print (df_cancer_mean)\n",
    "# plt.bar(y_pos, df_cancer_mean, align='center', alpha=0.5)"
   ]
  },
  {
   "cell_type": "code",
   "execution_count": 196,
   "metadata": {
    "collapsed": false,
    "scrolled": true
   },
   "outputs": [
    {
     "data": {
      "text/plain": [
       "<matplotlib.collections.PathCollection at 0x7f869f1319b0>"
      ]
     },
     "execution_count": 196,
     "metadata": {},
     "output_type": "execute_result"
    },
    {
     "data": {
      "image/png": "[encoded data removed]",
      "text/plain": [
       "<matplotlib.figure.Figure at 0x7f869f194cf8>"
      ]
     },
     "metadata": {},
     "output_type": "display_data"
    }
   ],
   "source": [
    "plt.scatter(np.arange(15),df_no_cancer_mean)\n",
    "plt.scatter(np.arange(15),df_cancer_mean)"
   ]
  },
  {
   "cell_type": "code",
   "execution_count": null,
   "metadata": {
    "collapsed": true
   },
   "outputs": [],
   "source": []
  },
  {
   "cell_type": "markdown",
   "metadata": {},
   "source": [
    "## 3. Feature selection, training-test splitting"
   ]
  },
  {
   "cell_type": "code",
   "execution_count": 197,
   "metadata": {
    "collapsed": false
   },
   "outputs": [
    {
     "name": "stdout",
     "output_type": "stream",
     "text": [
      "Feature space holds 1434 observations and 14 features\n",
      "Unique target labels: [0 1]\n"
     ]
    }
   ],
   "source": [
    "from sklearn.preprocessing import StandardScaler\n",
    "\n",
    "x_cols = df.drop(['id', 'cancer', 'Unnamed: 0'],1).columns  # using all the features\n",
    "# x_cols=['max_malig','max_spiculation','max_lobulation','max_diameter',\\\n",
    "#      'xsd_malig', 'xsd_spiculation', 'xmax_lobulation','xsd_diameter']\n",
    "X = df.loc[:][x_cols].values\n",
    "y = df.loc[:]['cancer'].values\n",
    "\n",
    "print (\"Feature space holds %d observations and %d features\" % X.shape)\n",
    "print (\"Unique target labels:\", np.unique(y))"
   ]
  },
  {
   "cell_type": "code",
   "execution_count": 198,
   "metadata": {
    "collapsed": false,
    "scrolled": true
   },
   "outputs": [
    {
     "data": {
      "image/png": "[encoded data removed]",
      "text/plain": [
       "<matplotlib.figure.Figure at 0x7f86a1635dd8>"
      ]
     },
     "metadata": {},
     "output_type": "display_data"
    }
   ],
   "source": [
    "%matplotlib inline\n",
    "import matplotlib.pyplot as plt\n",
    "plt.pie(np.c_[len(y)-np.sum(y),np.sum(y)][0],labels=['No cancer','Cancer'],colors=['g','r'],shadow=False,autopct ='%.2f' )\n",
    "fig = plt.gcf()\n",
    "fig.set_size_inches(6,6)"
   ]
  },
  {
   "cell_type": "markdown",
   "metadata": {},
   "source": [
    "<div class = \"alert alert-info\">\n",
    "**Unbalanced datasets**\n",
    "<p>\n",
    "In cancer detection because the cost of missing one patient in a trial is very large, we want the predictor to have very large recall/sensitivity (we do not accept false negatives) though it means accepting more false positives. These false positives can be discarded in subsequent tests. \n",
    "\n",
    "<p>\n",
    "$$\\text{sensitivity (recall) }=\\frac{\\text{TP}}{\\text{Real Positives}}=\\frac{\\text{TP}}{\\text{TP}+\\text{FN}}$$\n",
    "\n",
    "\n",
    "</div>\n",
    "\n",
    "Although accuracy is the most normal metric for evaluating classifiers, there are cases when the business value of correctly predicting elements from one class is different from the value for the prediction of elements of another class. In those cases, accuracy is not a good performance metric and more detailed analysis is needed. The **confusion matrix** enables us to define different metrics considering such scenarios. The confusion matrix considers the concepts of the classifier outcome and the actual ground truth or gold standard. In a binary problem, there are four possible cases: \n",
    "\n",
    "\n",
    "+ *True positives (TP):* When the classifier predicts a sample as positive and it really is positive.\n",
    "+ *False positives (FP):* When the classifier predicts a sample as positive but in fact it is negative.\n",
    "+ *True negatives (TN):* When the classifier predicts a sample as negative and it really is negative.\n",
    "+ *False negatives (FN):* When the classifier predicts a sample as negative but in fact it is positive.\n",
    "\n",
    "\n",
    "We can summarize this information in a matrix, namely the confusion matrix, as follows:\n",
    "\n",
    "<img src = \"https://i.stack.imgur.com/OW5Lt.jpg\" width = 400px>"
   ]
  },
  {
   "cell_type": "markdown",
   "metadata": {},
   "source": [
    "### 3.1 Different classifiers"
   ]
  },
  {
   "cell_type": "code",
   "execution_count": 199,
   "metadata": {
    "collapsed": false,
    "scrolled": true
   },
   "outputs": [],
   "source": [
    "from sklearn import metrics\n",
    "from sklearn import tree\n",
    "from sklearn import neighbors\n",
    "from sklearn import cross_validation\n",
    "from sklearn.metrics import confusion_matrix\n",
    "from sklearn.ensemble import ExtraTreesRegressor as XTR\n",
    "from sklearn.ensemble import RandomForestClassifier\n",
    "from sklearn.neural_network import MLPClassifier\n",
    "\n",
    "r_state = [0, 1,2,3,4,5,42,43,44,45]\n",
    "acc = np.zeros((len(r_state),4))\n",
    "recall = np.zeros((len(r_state),4))\n",
    "\n",
    "for i in range(len(r_state)):\n",
    "\n",
    "    X = StandardScaler().fit_transform(X)\n",
    "    X_train, X_test, y_train, y_test = cross_validation.train_test_split(X, y, train_size=0.7, random_state=r_state[i])\n",
    "    \n",
    "    # 1.decision tree\n",
    "    clf_tr = tree.DecisionTreeClassifier() \n",
    "    clf_tr.fit(X_train,y_train)\n",
    "    yhat_tr = clf_tr.predict(X_test)\n",
    "    \n",
    "    # 2.KNN1\n",
    "    clf_nn1 = neighbors.KNeighborsClassifier(n_neighbors=1)      \n",
    "    clf_nn1.fit(X_train,y_train)\n",
    "    yhat_nn1 = clf_nn1.predict(X_test)\n",
    "    \n",
    "    # 3.Logistic regression\n",
    "    lr = linear_model.LogisticRegression(class_weight={0:0.25,1:0.75},penalty='l1')\n",
    "    lr.fit(X_train,y_train)\n",
    "    yhat_lr = lr.predict(X_test)\n",
    "    \n",
    "    # 4.MLP\n",
    "    mlp = MLPClassifier(hidden_layer_sizes=(50,50), max_iter=50, alpha=1e-4,\n",
    "                    solver='adam', verbose=0, tol=1e-4, random_state=1,\n",
    "                    learning_rate_init=.001)\n",
    "    mlp.fit(X_train, y_train)\n",
    "    yhat_mlp = mlp.predict(X_test)\n",
    "    \n",
    "    # accuracy score\n",
    "    acc[i,0] = metrics.accuracy_score(y_test,yhat_tr)\n",
    "    acc[i,1] = metrics.accuracy_score(y_test,yhat_nn1)\n",
    "    acc[i,2] = metrics.accuracy_score(y_test,yhat_lr)\n",
    "    acc[i,3] = metrics.accuracy_score(y_test,yhat_mlp)\n",
    "    \n",
    "    # recall score\n",
    "    recall[i,0] = metrics.recall_score(y_test,yhat_tr)\n",
    "    recall[i,1] = metrics.recall_score(y_test,yhat_nn1)\n",
    "    recall[i,2] = metrics.recall_score(y_test,yhat_lr)\n",
    "    recall[i,3] = metrics.recall_score(y_test,yhat_mlp)\n",
    "    \n",
    "    '''     \n",
    "    TP = np.sum(np.logical_and(yhat_lr==y_test,yhat_lr==1))\n",
    "    TN = np.sum(np.logical_and(yhat_lr==y_test,yhat_lr==0))\n",
    "    FP = np.sum(np.logical_and(yhat_lr!=y_test,yhat_lr==1))\n",
    "    FN = np.sum(np.logical_and(yhat_lr!=y_test,yhat_lr==0))\n",
    "\n",
    "    print (TP,FP)\n",
    "    print (FN,TN)\n",
    "    \n",
    "    print (\"recall: \", TP/(TP+FN) )            \n",
    "    print (\"precision: \", TP/(TP+FP))         \n",
    "    print (\"F1-score: \", 2*TP/(TP+FN+TP+FP))\n",
    "    '''"
   ]
  },
  {
   "cell_type": "code",
   "execution_count": 200,
   "metadata": {
    "collapsed": false,
    "scrolled": false
   },
   "outputs": [
    {
     "name": "stdout",
     "output_type": "stream",
     "text": [
      "[ 0.26693797  0.22288958  0.58149713  0.        ]\n"
     ]
    },
    {
     "name": "stderr",
     "output_type": "stream",
     "text": [
      "/opt/anaconda/lib/python3.5/site-packages/ipykernel/__main__.py:6: MatplotlibDeprecationWarning: The hold function was deprecated in version 2.0.\n"
     ]
    },
    {
     "data": {
      "text/plain": [
       "<matplotlib.collections.PathCollection at 0x7f869f0d2d68>"
      ]
     },
     "execution_count": 200,
     "metadata": {},
     "output_type": "execute_result"
    },
    {
     "data": {
      "image/png": "[encoded data removed]",
      "text/plain": [
       "<matplotlib.figure.Figure at 0x7f869f0fcef0>"
      ]
     },
     "metadata": {},
     "output_type": "display_data"
    }
   ],
   "source": [
    "import matplotlib.pyplot as plt\n",
    "fig = plt.figure()\n",
    "# print (recall)\n",
    "print (recall.mean(axis=0))\n",
    "plt.boxplot(recall)\n",
    "fig.hold('on')\n",
    "plt.scatter(np.tile(np.array([1,2,3,4]),(10,1))+0.01*np.random.normal(size=(10,4)),recall,alpha = 0.5,color='r')"
   ]
  },
  {
   "cell_type": "markdown",
   "metadata": {},
   "source": [
    "We see the best result so far is Logistic regression, and we also see that the result could vary a lot depending on the data splitting. \n",
    "\n",
    "### 3.2 Let us implement kfold cross validation on the logistic regression, with 10 folders. "
   ]
  },
  {
   "cell_type": "code",
   "execution_count": 204,
   "metadata": {
    "collapsed": false
   },
   "outputs": [
    {
     "name": "stdout",
     "output_type": "stream",
     "text": [
      "recall:  0.826801801802\n",
      "confusion_matrix: \n",
      " [[208 863]\n",
      " [ 63 300]]\n",
      "             precision    recall  f1-score   support\n",
      "\n",
      "          0       0.77      0.19      0.31      1071\n",
      "          1       0.26      0.83      0.39       363\n",
      "\n",
      "avg / total       0.64      0.35      0.33      1434\n",
      "\n"
     ]
    }
   ],
   "source": [
    "from sklearn.cross_validation import cross_val_score\n",
    "lr = linear_model.LogisticRegression(class_weight={0:0.22,1:0.78},penalty='l1')\n",
    "X = StandardScaler().fit_transform(X)\n",
    "score = cross_val_score(lr,X,y,cv=10,scoring='recall').mean()\n",
    "print (\"recall: \", score)\n",
    "\n",
    "yhat = cross_val_predict(lr, X,y, cv=10)\n",
    "print (\"confusion_matrix: \\n\", confusion_matrix(y,yhat))\n",
    "print (metrics.classification_report(y,yhat))"
   ]
  },
  {
   "cell_type": "markdown",
   "metadata": {},
   "source": [
    "### 3.3 SVM with 10 fold cross validation"
   ]
  },
  {
   "cell_type": "code",
   "execution_count": 206,
   "metadata": {
    "collapsed": false
   },
   "outputs": [
    {
     "name": "stdout",
     "output_type": "stream",
     "text": [
      "recall:  0.801801801802\n",
      "confusion_matrix: \n",
      " [[234 837]\n",
      " [ 72 291]]\n",
      "             precision    recall  f1-score   support\n",
      "\n",
      "          0       0.76      0.22      0.34      1071\n",
      "          1       0.26      0.80      0.39       363\n",
      "\n",
      "avg / total       0.64      0.37      0.35      1434\n",
      "\n"
     ]
    }
   ],
   "source": [
    "from sklearn.cross_validation import cross_val_score\n",
    "from sklearn import svm\n",
    "\n",
    "svm_clf = svm.LinearSVC(C=0.1,class_weight={0:0.22,1:0.78})\n",
    "X = StandardScaler().fit_transform(X)\n",
    "score = cross_val_score(svm_clf,X,y,cv=10,scoring='recall').mean()\n",
    "print (\"recall: \", score)\n",
    "\n",
    "yhat = cross_val_predict(svm_clf, X,y, cv=10)\n",
    "# print (yhat.shape)\n",
    "print (\"confusion_matrix: \\n\", confusion_matrix(y,yhat))\n",
    "print (metrics.classification_report(y,yhat))"
   ]
  },
  {
   "cell_type": "markdown",
   "metadata": {
    "collapsed": true
   },
   "source": [
    "### 3.3 Random forest\n",
    "\n",
    "??"
   ]
  },
  {
   "cell_type": "code",
   "execution_count": 207,
   "metadata": {
    "collapsed": false,
    "scrolled": false
   },
   "outputs": [
    {
     "name": "stdout",
     "output_type": "stream",
     "text": [
      "recall:  0.0524024024024\n",
      "confusion_matrix: \n",
      " [[994  77]\n",
      " [344  19]]\n",
      "             precision    recall  f1-score   support\n",
      "\n",
      "          0       0.74      0.93      0.83      1071\n",
      "          1       0.20      0.05      0.08       363\n",
      "\n",
      "avg / total       0.60      0.71      0.64      1434\n",
      "\n"
     ]
    }
   ],
   "source": [
    "from sklearn.ensemble import RandomForestClassifier\n",
    "\n",
    "rf = RandomForestClassifier(max_depth=15,class_weight={0:0.2,1:0.8}, n_estimators=14,n_jobs=4,random_state=False)\n",
    "X = StandardScaler().fit_transform(X)\n",
    "score = cross_val_score(rf,X,y,cv=10,scoring='recall').mean()\n",
    "print (\"recall: \", score)\n",
    "\n",
    "yhat = cross_val_predict(rf, X,y, cv=10)\n",
    "# print (yhat.shape)\n",
    "print (\"confusion_matrix: \\n\", confusion_matrix(y,yhat))\n",
    "print (metrics.classification_report(y,yhat))"
   ]
  },
  {
   "cell_type": "code",
   "execution_count": null,
   "metadata": {
    "collapsed": true
   },
   "outputs": [],
   "source": []
  },
  {
   "cell_type": "code",
   "execution_count": null,
   "metadata": {
    "collapsed": true
   },
   "outputs": [],
   "source": []
  },
  {
   "cell_type": "code",
   "execution_count": null,
   "metadata": {
    "collapsed": true
   },
   "outputs": [],
   "source": []
  },
  {
   "cell_type": "code",
   "execution_count": null,
   "metadata": {
    "collapsed": true
   },
   "outputs": [],
   "source": []
  },
  {
   "cell_type": "code",
   "execution_count": null,
   "metadata": {
    "collapsed": true
   },
   "outputs": [],
   "source": []
  },
  {
   "cell_type": "code",
   "execution_count": null,
   "metadata": {
    "collapsed": true
   },
   "outputs": [],
   "source": []
  },
  {
   "cell_type": "code",
   "execution_count": null,
   "metadata": {
    "collapsed": true
   },
   "outputs": [],
   "source": []
  },
  {
   "cell_type": "code",
   "execution_count": null,
   "metadata": {
    "collapsed": true
   },
   "outputs": [],
   "source": []
  },
  {
   "cell_type": "code",
   "execution_count": null,
   "metadata": {
    "collapsed": true
   },
   "outputs": [],
   "source": []
  },
  {
   "cell_type": "code",
   "execution_count": null,
   "metadata": {
    "collapsed": true
   },
   "outputs": [],
   "source": []
  },
  {
   "cell_type": "markdown",
   "metadata": {},
   "source": [
    "------\n",
    "\n",
    "## DRAFT BELOW\n",
    "\n",
    "- Try Tpot\n",
    "- Understand XTR\n",
    "- add some plots \n",
    "\n",
    "- Maybe try Danniel's model too?\n",
    "- How to combine different models?"
   ]
  },
  {
   "cell_type": "code",
   "execution_count": 290,
   "metadata": {
    "collapsed": false
   },
   "outputs": [
    {
     "name": "stdout",
     "output_type": "stream",
     "text": [
      "LogisticRegression score: 0.713147\n"
     ]
    }
   ],
   "source": [
    "print('LogisticRegression score: %f'% logistic.fit(X_train, y_train).score(X_test, y_test))"
   ]
  },
  {
   "cell_type": "code",
   "execution_count": 289,
   "metadata": {
    "collapsed": false
   },
   "outputs": [
    {
     "data": {
      "text/plain": [
       "array([[163,  16],\n",
       "       [ 57,  15]])"
      ]
     },
     "execution_count": 289,
     "metadata": {},
     "output_type": "execute_result"
    }
   ],
   "source": [
    "confusion_matrix(y_test, logistic.predict(X_test))"
   ]
  },
  {
   "cell_type": "code",
   "execution_count": 40,
   "metadata": {
    "collapsed": false
   },
   "outputs": [
    {
     "name": "stdout",
     "output_type": "stream",
     "text": [
      "(629, 14) (628, 14) (629,) (628,)\n"
     ]
    }
   ],
   "source": [
    "# MLPClassifier\n",
    "from sklearn.neural_network import MLPClassifier\n",
    "from sklearn.model_selection import StratifiedKFold\n",
    "\n",
    "skf = StratifiedKFold(n_splits=2)\n",
    "skf.get_n_splits(X, Y)\n",
    "\n",
    "for train_index, test_index in skf.split(X, Y):\n",
    "#     print(\"TRAIN:\", train_index, \"\\nTEST:\", test_index)\n",
    "    X_train, X_test = X[train_index], X[test_index]\n",
    "    Y_train, Y_test = Y[train_index], Y[test_index]\n",
    "\n",
    "print (X_train.shape,X_test.shape, Y_train.shape, Y_test.shape)\n",
    "mlp = MLPClassifier(hidden_layer_sizes=(500,500), max_iter=100, alpha=1e-4,\n",
    "                    solver='adam', verbose=10, tol=1e-4, random_state=1,\n",
    "                    learning_rate_init=.001)"
   ]
  },
  {
   "cell_type": "code",
   "execution_count": 41,
   "metadata": {
    "collapsed": false
   },
   "outputs": [
    {
     "name": "stdout",
     "output_type": "stream",
     "text": [
      "Iteration 1, loss = 0.62881341\n",
      "Iteration 2, loss = 0.56752884\n",
      "Iteration 3, loss = 0.57459232\n",
      "Iteration 4, loss = 0.56527411\n",
      "Iteration 5, loss = 0.56680666\n",
      "Iteration 6, loss = 0.57069154\n",
      "Iteration 7, loss = 0.56855063\n",
      "Training loss did not improve more than tol=0.000100 for two consecutive epochs. Stopping.\n",
      "Training set score: 0.748808\n",
      "Test set score: 0.750000\n"
     ]
    }
   ],
   "source": [
    "mlp.fit(X_train, Y_train)\n",
    "print(\"Training set score: %f\" % mlp.score(X_train, Y_train))\n",
    "print(\"Test set score: %f\" % mlp.score(X_test, Y_test))"
   ]
  },
  {
   "cell_type": "code",
   "execution_count": 42,
   "metadata": {
    "collapsed": false
   },
   "outputs": [
    {
     "data": {
      "text/plain": [
       "array([[ 0.72833808,  0.27166192],\n",
       "       [ 0.72831089,  0.27168911],\n",
       "       [ 0.72960447,  0.27039553],\n",
       "       ..., \n",
       "       [ 0.72936873,  0.27063127],\n",
       "       [ 0.72906942,  0.27093058],\n",
       "       [ 0.73275669,  0.26724331]])"
      ]
     },
     "execution_count": 42,
     "metadata": {},
     "output_type": "execute_result"
    }
   ],
   "source": [
    "mlp.predict_proba(X_train)"
   ]
  },
  {
   "cell_type": "code",
   "execution_count": 43,
   "metadata": {
    "collapsed": false
   },
   "outputs": [
    {
     "data": {
      "text/plain": [
       "0.74880763116057236"
      ]
     },
     "execution_count": 43,
     "metadata": {},
     "output_type": "execute_result"
    }
   ],
   "source": [
    "mlp.score(X_train, Y_train)"
   ]
  },
  {
   "cell_type": "code",
   "execution_count": 44,
   "metadata": {
    "collapsed": false,
    "scrolled": true
   },
   "outputs": [
    {
     "data": {
      "text/plain": [
       "0.0"
      ]
     },
     "execution_count": 44,
     "metadata": {},
     "output_type": "execute_result"
    }
   ],
   "source": [
    "sum(mlp.predict(X_test))"
   ]
  },
  {
   "cell_type": "code",
   "execution_count": 45,
   "metadata": {
    "collapsed": false
   },
   "outputs": [
    {
     "data": {
      "text/plain": [
       "array([[471,   0],\n",
       "       [157,   0]])"
      ]
     },
     "execution_count": 45,
     "metadata": {},
     "output_type": "execute_result"
    }
   ],
   "source": [
    "from sklearn.metrics import confusion_matrix\n",
    "confusion_matrix(Y_test, mlp.predict(X_test))"
   ]
  },
  {
   "cell_type": "code",
   "execution_count": null,
   "metadata": {
    "collapsed": true
   },
   "outputs": [],
   "source": []
  }
 ],
 "metadata": {
  "kernelspec": {
   "display_name": "Python [default]",
   "language": "python",
   "name": "python3"
  },
  "language_info": {
   "codemirror_mode": {
    "name": "ipython",
    "version": 3
   },
   "file_extension": ".py",
   "mimetype": "text/x-python",
   "name": "python",
   "nbconvert_exporter": "python",
   "pygments_lexer": "ipython3",
   "version": "3.5.2"
  }
 },
 "nbformat": 4,
 "nbformat_minor": 2
}
