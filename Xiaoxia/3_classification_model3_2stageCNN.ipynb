{
 "cells": [
  {
   "cell_type": "code",
   "execution_count": 21,
   "metadata": {
    "collapsed": true
   },
   "outputs": [],
   "source": [
    "%reset -f"
   ]
  },
  {
   "cell_type": "code",
   "execution_count": 22,
   "metadata": {
    "collapsed": false
   },
   "outputs": [],
   "source": [
    "# import session\n",
    "import numpy as np\n",
    "import pandas as pd\n",
    "from pandas.tools.plotting import scatter_matrix\n",
    "import matplotlib.pyplot as plt\n",
    "%matplotlib inline\n",
    "\n",
    "from sklearn import neighbors, linear_model, metrics, tree, cross_validation, svm\n",
    "from sklearn.preprocessing import StandardScaler\n",
    "from sklearn.cross_validation import cross_val_score, StratifiedKFold as KFold\n",
    "from sklearn.calibration import CalibratedClassifierCV\n",
    "from sklearn.base import BaseEstimator\n",
    "from sklearn.linear_model import LogisticRegression\n",
    "from sklearn.neural_network import MLPClassifier\n",
    "\n",
    "from sklearn.metrics import confusion_matrix\n",
    "from sklearn.metrics import classification_report\n",
    "from sklearn.metrics import log_loss\n",
    "from sklearn.metrics import roc_auc_score\n",
    "\n",
    "from sklearn.model_selection import train_test_split, cross_val_predict, StratifiedKFold\n",
    "from sklearn.model_selection import GridSearchCV\n",
    "\n",
    "from sklearn.ensemble import ExtraTreesRegressor as XTR\n",
    "from sklearn.ensemble import RandomForestClassifier as RF\n"
   ]
  },
  {
   "cell_type": "markdown",
   "metadata": {},
   "source": [
    "## 1. Preparing data for classification\n",
    "\n",
    "### 1.1 Stage1 data"
   ]
  },
  {
   "cell_type": "code",
   "execution_count": 23,
   "metadata": {
    "collapsed": false
   },
   "outputs": [
    {
     "name": "stdout",
     "output_type": "stream",
     "text": [
      "stage1 data (1434, 16)\n",
      "stage1 labels1 (1397, 2)\n",
      "stage1 labels2 (198, 2)\n",
      "Total 1595 labels\n",
      "(1434, 16)\n"
     ]
    },
    {
     "data": {
      "text/html": [
       "<div>\n",
       "<table border=\"1\" class=\"dataframe\">\n",
       "  <thead>\n",
       "    <tr style=\"text-align: right;\">\n",
       "      <th></th>\n",
       "      <th>max_malig</th>\n",
       "      <th>max_spiculation</th>\n",
       "      <th>max_lobulation</th>\n",
       "      <th>max_diameter</th>\n",
       "      <th>xsd_malig</th>\n",
       "      <th>xsd_spiculation</th>\n",
       "      <th>xmax_lobulation</th>\n",
       "      <th>xsd_diameter</th>\n",
       "      <th>loc_from_malig_x</th>\n",
       "      <th>loc_from_malig_y</th>\n",
       "      <th>loc_from_malig_z</th>\n",
       "      <th>std_locs_x</th>\n",
       "      <th>std_locs_y</th>\n",
       "      <th>std_locs_z</th>\n",
       "      <th>id</th>\n",
       "      <th>cancer</th>\n",
       "    </tr>\n",
       "  </thead>\n",
       "  <tbody>\n",
       "    <tr>\n",
       "      <th>0</th>\n",
       "      <td>0.521839</td>\n",
       "      <td>0.373247</td>\n",
       "      <td>0.372914</td>\n",
       "      <td>0.349160</td>\n",
       "      <td>0.103659</td>\n",
       "      <td>0.076975</td>\n",
       "      <td>0.372914</td>\n",
       "      <td>0.061591</td>\n",
       "      <td>0.539286</td>\n",
       "      <td>0.528571</td>\n",
       "      <td>0.434028</td>\n",
       "      <td>0.244258</td>\n",
       "      <td>0.163056</td>\n",
       "      <td>0.242655</td>\n",
       "      <td>d777a77cc7a2ec2f1eed68799cc9075c</td>\n",
       "      <td>1</td>\n",
       "    </tr>\n",
       "    <tr>\n",
       "      <th>1</th>\n",
       "      <td>0.531258</td>\n",
       "      <td>0.376680</td>\n",
       "      <td>0.376645</td>\n",
       "      <td>0.349927</td>\n",
       "      <td>0.122501</td>\n",
       "      <td>0.079592</td>\n",
       "      <td>0.376645</td>\n",
       "      <td>0.062194</td>\n",
       "      <td>0.088889</td>\n",
       "      <td>0.172222</td>\n",
       "      <td>0.205128</td>\n",
       "      <td>0.243736</td>\n",
       "      <td>0.159560</td>\n",
       "      <td>0.216008</td>\n",
       "      <td>1631637f08f27347e8f23d7a0e18c100</td>\n",
       "      <td>0</td>\n",
       "    </tr>\n",
       "    <tr>\n",
       "      <th>2</th>\n",
       "      <td>0.528440</td>\n",
       "      <td>0.375415</td>\n",
       "      <td>0.376739</td>\n",
       "      <td>0.351881</td>\n",
       "      <td>0.114865</td>\n",
       "      <td>0.077483</td>\n",
       "      <td>0.376739</td>\n",
       "      <td>0.059155</td>\n",
       "      <td>0.300000</td>\n",
       "      <td>0.339394</td>\n",
       "      <td>0.700637</td>\n",
       "      <td>0.231711</td>\n",
       "      <td>0.155614</td>\n",
       "      <td>0.217998</td>\n",
       "      <td>9065f2b133129c5747d42db18a424749</td>\n",
       "      <td>1</td>\n",
       "    </tr>\n",
       "    <tr>\n",
       "      <th>3</th>\n",
       "      <td>0.527394</td>\n",
       "      <td>0.379579</td>\n",
       "      <td>0.376450</td>\n",
       "      <td>0.354797</td>\n",
       "      <td>0.096239</td>\n",
       "      <td>0.078583</td>\n",
       "      <td>0.376450</td>\n",
       "      <td>0.062853</td>\n",
       "      <td>0.214035</td>\n",
       "      <td>0.385965</td>\n",
       "      <td>0.462963</td>\n",
       "      <td>0.233297</td>\n",
       "      <td>0.183184</td>\n",
       "      <td>0.207843</td>\n",
       "      <td>e3a9a6f8d21c6c459728066bcf18c615</td>\n",
       "      <td>0</td>\n",
       "    </tr>\n",
       "    <tr>\n",
       "      <th>4</th>\n",
       "      <td>0.533726</td>\n",
       "      <td>0.376004</td>\n",
       "      <td>0.377995</td>\n",
       "      <td>0.352379</td>\n",
       "      <td>0.110376</td>\n",
       "      <td>0.077679</td>\n",
       "      <td>0.377995</td>\n",
       "      <td>0.060632</td>\n",
       "      <td>0.688235</td>\n",
       "      <td>0.094118</td>\n",
       "      <td>0.091954</td>\n",
       "      <td>0.249184</td>\n",
       "      <td>0.183342</td>\n",
       "      <td>0.214586</td>\n",
       "      <td>f39a1e54d79731e4417aa8159d19b7d4</td>\n",
       "      <td>0</td>\n",
       "    </tr>\n",
       "  </tbody>\n",
       "</table>\n",
       "</div>"
      ],
      "text/plain": [
       "   max_malig  max_spiculation  max_lobulation  max_diameter  xsd_malig  \\\n",
       "0   0.521839         0.373247        0.372914      0.349160   0.103659   \n",
       "1   0.531258         0.376680        0.376645      0.349927   0.122501   \n",
       "2   0.528440         0.375415        0.376739      0.351881   0.114865   \n",
       "3   0.527394         0.379579        0.376450      0.354797   0.096239   \n",
       "4   0.533726         0.376004        0.377995      0.352379   0.110376   \n",
       "\n",
       "   xsd_spiculation  xmax_lobulation  xsd_diameter  loc_from_malig_x  \\\n",
       "0         0.076975         0.372914      0.061591          0.539286   \n",
       "1         0.079592         0.376645      0.062194          0.088889   \n",
       "2         0.077483         0.376739      0.059155          0.300000   \n",
       "3         0.078583         0.376450      0.062853          0.214035   \n",
       "4         0.077679         0.377995      0.060632          0.688235   \n",
       "\n",
       "   loc_from_malig_y  loc_from_malig_z  std_locs_x  std_locs_y  std_locs_z  \\\n",
       "0          0.528571          0.434028    0.244258    0.163056    0.242655   \n",
       "1          0.172222          0.205128    0.243736    0.159560    0.216008   \n",
       "2          0.339394          0.700637    0.231711    0.155614    0.217998   \n",
       "3          0.385965          0.462963    0.233297    0.183184    0.207843   \n",
       "4          0.094118          0.091954    0.249184    0.183342    0.214586   \n",
       "\n",
       "                                 id  cancer  \n",
       "0  d777a77cc7a2ec2f1eed68799cc9075c       1  \n",
       "1  1631637f08f27347e8f23d7a0e18c100       0  \n",
       "2  9065f2b133129c5747d42db18a424749       1  \n",
       "3  e3a9a6f8d21c6c459728066bcf18c615       0  \n",
       "4  f39a1e54d79731e4417aa8159d19b7d4       0  "
      ]
     },
     "execution_count": 23,
     "metadata": {},
     "output_type": "execute_result"
    }
   ],
   "source": [
    "df_feature = pd.read_csv(\"./feature_matrix_model2_stage1.csv\")\n",
    "df_feature['id'] = df_feature['Unnamed: 0'].apply(lambda x: x.split('.')[0])\n",
    "print (\"stage1 data\", df_feature.shape)\n",
    "\n",
    "df_labels_1 =pd.read_csv('/home/lin/data/stage1_labels.csv')\n",
    "print (\"stage1 labels1\",df_labels_1.shape)\n",
    "\n",
    "df_labels_2 = pd.read_csv('/home/lin/data/stage1_solution.csv')\n",
    "df_labels_2 = df_labels_2.drop(['Usage'],1)\n",
    "print (\"stage1 labels2\", df_labels_2.shape)\n",
    "\n",
    "df_labels = df_labels_1.append(df_labels_2)\n",
    "print (\"Total %d labels\"%df_labels.shape[0])\n",
    "\n",
    "df = pd.merge(left=df_feature, right=df_labels,how='outer',on='id').dropna()\n",
    "df = df.drop(['Unnamed: 0'],1)\n",
    "print (df.shape)\n",
    "df.head()"
   ]
  },
  {
   "cell_type": "code",
   "execution_count": 24,
   "metadata": {
    "collapsed": false
   },
   "outputs": [
    {
     "name": "stdout",
     "output_type": "stream",
     "text": [
      "(1434, 16)\n"
     ]
    },
    {
     "data": {
      "text/html": [
       "<div>\n",
       "<table border=\"1\" class=\"dataframe\">\n",
       "  <thead>\n",
       "    <tr style=\"text-align: right;\">\n",
       "      <th></th>\n",
       "      <th>max_malig</th>\n",
       "      <th>max_spiculation</th>\n",
       "      <th>max_lobulation</th>\n",
       "      <th>max_diameter</th>\n",
       "      <th>xsd_malig</th>\n",
       "      <th>xsd_spiculation</th>\n",
       "      <th>xmax_lobulation</th>\n",
       "      <th>xsd_diameter</th>\n",
       "      <th>loc_from_malig_x</th>\n",
       "      <th>loc_from_malig_y</th>\n",
       "      <th>loc_from_malig_z</th>\n",
       "      <th>std_locs_x</th>\n",
       "      <th>std_locs_y</th>\n",
       "      <th>std_locs_z</th>\n",
       "      <th>id</th>\n",
       "      <th>cancer</th>\n",
       "    </tr>\n",
       "  </thead>\n",
       "  <tbody>\n",
       "    <tr>\n",
       "      <th>0</th>\n",
       "      <td>0.407618</td>\n",
       "      <td>0.211248</td>\n",
       "      <td>0.229299</td>\n",
       "      <td>0.196713</td>\n",
       "      <td>0.060364</td>\n",
       "      <td>0.028035</td>\n",
       "      <td>0.030435</td>\n",
       "      <td>0.010581</td>\n",
       "      <td>0.114286</td>\n",
       "      <td>0.364286</td>\n",
       "      <td>0.326389</td>\n",
       "      <td>0.244258</td>\n",
       "      <td>0.163056</td>\n",
       "      <td>0.242655</td>\n",
       "      <td>d777a77cc7a2ec2f1eed68799cc9075c</td>\n",
       "      <td>1</td>\n",
       "    </tr>\n",
       "    <tr>\n",
       "      <th>1</th>\n",
       "      <td>0.301607</td>\n",
       "      <td>0.195614</td>\n",
       "      <td>0.219990</td>\n",
       "      <td>0.194113</td>\n",
       "      <td>0.067776</td>\n",
       "      <td>0.028539</td>\n",
       "      <td>0.034208</td>\n",
       "      <td>0.010117</td>\n",
       "      <td>0.088889</td>\n",
       "      <td>0.416667</td>\n",
       "      <td>0.102564</td>\n",
       "      <td>0.243736</td>\n",
       "      <td>0.159560</td>\n",
       "      <td>0.216008</td>\n",
       "      <td>1631637f08f27347e8f23d7a0e18c100</td>\n",
       "      <td>0</td>\n",
       "    </tr>\n",
       "    <tr>\n",
       "      <th>2</th>\n",
       "      <td>0.349085</td>\n",
       "      <td>0.231036</td>\n",
       "      <td>0.224010</td>\n",
       "      <td>0.202245</td>\n",
       "      <td>0.066410</td>\n",
       "      <td>0.035221</td>\n",
       "      <td>0.025599</td>\n",
       "      <td>0.008611</td>\n",
       "      <td>0.200000</td>\n",
       "      <td>0.339394</td>\n",
       "      <td>0.598726</td>\n",
       "      <td>0.231711</td>\n",
       "      <td>0.155614</td>\n",
       "      <td>0.217998</td>\n",
       "      <td>9065f2b133129c5747d42db18a424749</td>\n",
       "      <td>1</td>\n",
       "    </tr>\n",
       "    <tr>\n",
       "      <th>3</th>\n",
       "      <td>0.370535</td>\n",
       "      <td>0.214804</td>\n",
       "      <td>0.227077</td>\n",
       "      <td>0.195514</td>\n",
       "      <td>0.048811</td>\n",
       "      <td>0.028892</td>\n",
       "      <td>0.032502</td>\n",
       "      <td>0.009913</td>\n",
       "      <td>0.112281</td>\n",
       "      <td>0.294737</td>\n",
       "      <td>0.555556</td>\n",
       "      <td>0.233297</td>\n",
       "      <td>0.183184</td>\n",
       "      <td>0.207843</td>\n",
       "      <td>e3a9a6f8d21c6c459728066bcf18c615</td>\n",
       "      <td>0</td>\n",
       "    </tr>\n",
       "    <tr>\n",
       "      <th>4</th>\n",
       "      <td>0.318191</td>\n",
       "      <td>0.169963</td>\n",
       "      <td>0.229695</td>\n",
       "      <td>0.192455</td>\n",
       "      <td>0.060015</td>\n",
       "      <td>0.025715</td>\n",
       "      <td>0.038635</td>\n",
       "      <td>0.011385</td>\n",
       "      <td>0.094118</td>\n",
       "      <td>0.420588</td>\n",
       "      <td>0.278736</td>\n",
       "      <td>0.249184</td>\n",
       "      <td>0.183342</td>\n",
       "      <td>0.214586</td>\n",
       "      <td>f39a1e54d79731e4417aa8159d19b7d4</td>\n",
       "      <td>0</td>\n",
       "    </tr>\n",
       "  </tbody>\n",
       "</table>\n",
       "</div>"
      ],
      "text/plain": [
       "   max_malig  max_spiculation  max_lobulation  max_diameter  xsd_malig  \\\n",
       "0   0.407618         0.211248        0.229299      0.196713   0.060364   \n",
       "1   0.301607         0.195614        0.219990      0.194113   0.067776   \n",
       "2   0.349085         0.231036        0.224010      0.202245   0.066410   \n",
       "3   0.370535         0.214804        0.227077      0.195514   0.048811   \n",
       "4   0.318191         0.169963        0.229695      0.192455   0.060015   \n",
       "\n",
       "   xsd_spiculation  xmax_lobulation  xsd_diameter  loc_from_malig_x  \\\n",
       "0         0.028035         0.030435      0.010581          0.114286   \n",
       "1         0.028539         0.034208      0.010117          0.088889   \n",
       "2         0.035221         0.025599      0.008611          0.200000   \n",
       "3         0.028892         0.032502      0.009913          0.112281   \n",
       "4         0.025715         0.038635      0.011385          0.094118   \n",
       "\n",
       "   loc_from_malig_y  loc_from_malig_z  std_locs_x  std_locs_y  std_locs_z  \\\n",
       "0          0.364286          0.326389    0.244258    0.163056    0.242655   \n",
       "1          0.416667          0.102564    0.243736    0.159560    0.216008   \n",
       "2          0.339394          0.598726    0.231711    0.155614    0.217998   \n",
       "3          0.294737          0.555556    0.233297    0.183184    0.207843   \n",
       "4          0.420588          0.278736    0.249184    0.183342    0.214586   \n",
       "\n",
       "                                 id  cancer  \n",
       "0  d777a77cc7a2ec2f1eed68799cc9075c       1  \n",
       "1  1631637f08f27347e8f23d7a0e18c100       0  \n",
       "2  9065f2b133129c5747d42db18a424749       1  \n",
       "3  e3a9a6f8d21c6c459728066bcf18c615       0  \n",
       "4  f39a1e54d79731e4417aa8159d19b7d4       0  "
      ]
     },
     "execution_count": 24,
     "metadata": {},
     "output_type": "execute_result"
    }
   ],
   "source": [
    "df = pd.read_csv(\"./feature_matrix_model3_stage1.csv\")\n",
    "df = df.drop(['Unnamed: 0'],1)\n",
    "print (df.shape)\n",
    "df.head()"
   ]
  },
  {
   "cell_type": "markdown",
   "metadata": {},
   "source": [
    "## 2. Data exploration\n",
    "\n",
    "### 2.1 Basic estadistics\n",
    "\n",
    "+ How many patients do we have for training-test? --> 1257\n",
    "+ How many cancer patients? --> 315\n",
    "+ What percentage is the cancer patient? --> 25%\n"
   ]
  },
  {
   "cell_type": "code",
   "execution_count": 25,
   "metadata": {
    "collapsed": false
   },
   "outputs": [
    {
     "name": "stdout",
     "output_type": "stream",
     "text": [
      "data frame shape (1434, 16)\n",
      "number of cancer patient: 363\n",
      "how un-balance is the data: 0.25313807531380755\n"
     ]
    }
   ],
   "source": [
    "print (\"data frame shape\", df.shape)\n",
    "print (\"number of cancer patient:\",df['cancer'].sum() )\n",
    "print (\"how un-balance is the data:\", df['cancer'].sum()/df.shape[0])"
   ]
  },
  {
   "cell_type": "markdown",
   "metadata": {},
   "source": [
    "### 2.2 Cancer patient v.s. Non-cancer patients"
   ]
  },
  {
   "cell_type": "code",
   "execution_count": 26,
   "metadata": {
    "collapsed": false
   },
   "outputs": [
    {
     "name": "stdout",
     "output_type": "stream",
     "text": [
      "(363, 16)\n"
     ]
    },
    {
     "data": {
      "text/html": [
       "<div>\n",
       "<table border=\"1\" class=\"dataframe\">\n",
       "  <thead>\n",
       "    <tr style=\"text-align: right;\">\n",
       "      <th></th>\n",
       "      <th>max_malig</th>\n",
       "      <th>max_spiculation</th>\n",
       "      <th>max_lobulation</th>\n",
       "      <th>max_diameter</th>\n",
       "      <th>xsd_malig</th>\n",
       "      <th>xsd_spiculation</th>\n",
       "      <th>xmax_lobulation</th>\n",
       "      <th>xsd_diameter</th>\n",
       "      <th>loc_from_malig_x</th>\n",
       "      <th>loc_from_malig_y</th>\n",
       "      <th>loc_from_malig_z</th>\n",
       "      <th>std_locs_x</th>\n",
       "      <th>std_locs_y</th>\n",
       "      <th>std_locs_z</th>\n",
       "      <th>id</th>\n",
       "      <th>cancer</th>\n",
       "    </tr>\n",
       "  </thead>\n",
       "  <tbody>\n",
       "    <tr>\n",
       "      <th>0</th>\n",
       "      <td>0.407618</td>\n",
       "      <td>0.211248</td>\n",
       "      <td>0.229299</td>\n",
       "      <td>0.196713</td>\n",
       "      <td>0.060364</td>\n",
       "      <td>0.028035</td>\n",
       "      <td>0.030435</td>\n",
       "      <td>0.010581</td>\n",
       "      <td>0.114286</td>\n",
       "      <td>0.364286</td>\n",
       "      <td>0.326389</td>\n",
       "      <td>0.244258</td>\n",
       "      <td>0.163056</td>\n",
       "      <td>0.242655</td>\n",
       "      <td>d777a77cc7a2ec2f1eed68799cc9075c</td>\n",
       "      <td>1</td>\n",
       "    </tr>\n",
       "    <tr>\n",
       "      <th>2</th>\n",
       "      <td>0.349085</td>\n",
       "      <td>0.231036</td>\n",
       "      <td>0.224010</td>\n",
       "      <td>0.202245</td>\n",
       "      <td>0.066410</td>\n",
       "      <td>0.035221</td>\n",
       "      <td>0.025599</td>\n",
       "      <td>0.008611</td>\n",
       "      <td>0.200000</td>\n",
       "      <td>0.339394</td>\n",
       "      <td>0.598726</td>\n",
       "      <td>0.231711</td>\n",
       "      <td>0.155614</td>\n",
       "      <td>0.217998</td>\n",
       "      <td>9065f2b133129c5747d42db18a424749</td>\n",
       "      <td>1</td>\n",
       "    </tr>\n",
       "    <tr>\n",
       "      <th>6</th>\n",
       "      <td>0.329599</td>\n",
       "      <td>0.215058</td>\n",
       "      <td>0.229345</td>\n",
       "      <td>0.199101</td>\n",
       "      <td>0.059572</td>\n",
       "      <td>0.031746</td>\n",
       "      <td>0.032229</td>\n",
       "      <td>0.011190</td>\n",
       "      <td>0.114286</td>\n",
       "      <td>0.385714</td>\n",
       "      <td>0.315603</td>\n",
       "      <td>0.212833</td>\n",
       "      <td>0.155433</td>\n",
       "      <td>0.220319</td>\n",
       "      <td>7c2b72f9e0f5649c22902292febdc89f</td>\n",
       "      <td>1</td>\n",
       "    </tr>\n",
       "    <tr>\n",
       "      <th>10</th>\n",
       "      <td>0.347607</td>\n",
       "      <td>0.215653</td>\n",
       "      <td>0.220137</td>\n",
       "      <td>0.192020</td>\n",
       "      <td>0.067938</td>\n",
       "      <td>0.034482</td>\n",
       "      <td>0.037560</td>\n",
       "      <td>0.011494</td>\n",
       "      <td>0.093023</td>\n",
       "      <td>0.270349</td>\n",
       "      <td>0.442857</td>\n",
       "      <td>0.246453</td>\n",
       "      <td>0.172813</td>\n",
       "      <td>0.243043</td>\n",
       "      <td>f5717f7cbc08d8bd942cd4c1128e3339</td>\n",
       "      <td>1</td>\n",
       "    </tr>\n",
       "    <tr>\n",
       "      <th>13</th>\n",
       "      <td>0.292038</td>\n",
       "      <td>0.208207</td>\n",
       "      <td>0.236811</td>\n",
       "      <td>0.197853</td>\n",
       "      <td>0.049490</td>\n",
       "      <td>0.031461</td>\n",
       "      <td>0.032128</td>\n",
       "      <td>0.010005</td>\n",
       "      <td>0.103560</td>\n",
       "      <td>0.174757</td>\n",
       "      <td>0.360294</td>\n",
       "      <td>0.204743</td>\n",
       "      <td>0.144383</td>\n",
       "      <td>0.161236</td>\n",
       "      <td>882107a204c302e27628f85522baea49</td>\n",
       "      <td>1</td>\n",
       "    </tr>\n",
       "  </tbody>\n",
       "</table>\n",
       "</div>"
      ],
      "text/plain": [
       "    max_malig  max_spiculation  max_lobulation  max_diameter  xsd_malig  \\\n",
       "0    0.407618         0.211248        0.229299      0.196713   0.060364   \n",
       "2    0.349085         0.231036        0.224010      0.202245   0.066410   \n",
       "6    0.329599         0.215058        0.229345      0.199101   0.059572   \n",
       "10   0.347607         0.215653        0.220137      0.192020   0.067938   \n",
       "13   0.292038         0.208207        0.236811      0.197853   0.049490   \n",
       "\n",
       "    xsd_spiculation  xmax_lobulation  xsd_diameter  loc_from_malig_x  \\\n",
       "0          0.028035         0.030435      0.010581          0.114286   \n",
       "2          0.035221         0.025599      0.008611          0.200000   \n",
       "6          0.031746         0.032229      0.011190          0.114286   \n",
       "10         0.034482         0.037560      0.011494          0.093023   \n",
       "13         0.031461         0.032128      0.010005          0.103560   \n",
       "\n",
       "    loc_from_malig_y  loc_from_malig_z  std_locs_x  std_locs_y  std_locs_z  \\\n",
       "0           0.364286          0.326389    0.244258    0.163056    0.242655   \n",
       "2           0.339394          0.598726    0.231711    0.155614    0.217998   \n",
       "6           0.385714          0.315603    0.212833    0.155433    0.220319   \n",
       "10          0.270349          0.442857    0.246453    0.172813    0.243043   \n",
       "13          0.174757          0.360294    0.204743    0.144383    0.161236   \n",
       "\n",
       "                                  id  cancer  \n",
       "0   d777a77cc7a2ec2f1eed68799cc9075c       1  \n",
       "2   9065f2b133129c5747d42db18a424749       1  \n",
       "6   7c2b72f9e0f5649c22902292febdc89f       1  \n",
       "10  f5717f7cbc08d8bd942cd4c1128e3339       1  \n",
       "13  882107a204c302e27628f85522baea49       1  "
      ]
     },
     "execution_count": 26,
     "metadata": {},
     "output_type": "execute_result"
    }
   ],
   "source": [
    "df_cancer = df.loc[df['cancer'] == 1]\n",
    "print (df_cancer.shape)\n",
    "df_cancer.head()"
   ]
  },
  {
   "cell_type": "code",
   "execution_count": 27,
   "metadata": {
    "collapsed": false,
    "scrolled": true
   },
   "outputs": [
    {
     "name": "stdout",
     "output_type": "stream",
     "text": [
      "(1071, 16)\n"
     ]
    },
    {
     "data": {
      "text/html": [
       "<div>\n",
       "<table border=\"1\" class=\"dataframe\">\n",
       "  <thead>\n",
       "    <tr style=\"text-align: right;\">\n",
       "      <th></th>\n",
       "      <th>max_malig</th>\n",
       "      <th>max_spiculation</th>\n",
       "      <th>max_lobulation</th>\n",
       "      <th>max_diameter</th>\n",
       "      <th>xsd_malig</th>\n",
       "      <th>xsd_spiculation</th>\n",
       "      <th>xmax_lobulation</th>\n",
       "      <th>xsd_diameter</th>\n",
       "      <th>loc_from_malig_x</th>\n",
       "      <th>loc_from_malig_y</th>\n",
       "      <th>loc_from_malig_z</th>\n",
       "      <th>std_locs_x</th>\n",
       "      <th>std_locs_y</th>\n",
       "      <th>std_locs_z</th>\n",
       "      <th>id</th>\n",
       "      <th>cancer</th>\n",
       "    </tr>\n",
       "  </thead>\n",
       "  <tbody>\n",
       "    <tr>\n",
       "      <th>1</th>\n",
       "      <td>0.301607</td>\n",
       "      <td>0.195614</td>\n",
       "      <td>0.219990</td>\n",
       "      <td>0.194113</td>\n",
       "      <td>0.067776</td>\n",
       "      <td>0.028539</td>\n",
       "      <td>0.034208</td>\n",
       "      <td>0.010117</td>\n",
       "      <td>0.088889</td>\n",
       "      <td>0.416667</td>\n",
       "      <td>0.102564</td>\n",
       "      <td>0.243736</td>\n",
       "      <td>0.159560</td>\n",
       "      <td>0.216008</td>\n",
       "      <td>1631637f08f27347e8f23d7a0e18c100</td>\n",
       "      <td>0</td>\n",
       "    </tr>\n",
       "    <tr>\n",
       "      <th>3</th>\n",
       "      <td>0.370535</td>\n",
       "      <td>0.214804</td>\n",
       "      <td>0.227077</td>\n",
       "      <td>0.195514</td>\n",
       "      <td>0.048811</td>\n",
       "      <td>0.028892</td>\n",
       "      <td>0.032502</td>\n",
       "      <td>0.009913</td>\n",
       "      <td>0.112281</td>\n",
       "      <td>0.294737</td>\n",
       "      <td>0.555556</td>\n",
       "      <td>0.233297</td>\n",
       "      <td>0.183184</td>\n",
       "      <td>0.207843</td>\n",
       "      <td>e3a9a6f8d21c6c459728066bcf18c615</td>\n",
       "      <td>0</td>\n",
       "    </tr>\n",
       "    <tr>\n",
       "      <th>4</th>\n",
       "      <td>0.318191</td>\n",
       "      <td>0.169963</td>\n",
       "      <td>0.229695</td>\n",
       "      <td>0.192455</td>\n",
       "      <td>0.060015</td>\n",
       "      <td>0.025715</td>\n",
       "      <td>0.038635</td>\n",
       "      <td>0.011385</td>\n",
       "      <td>0.094118</td>\n",
       "      <td>0.420588</td>\n",
       "      <td>0.278736</td>\n",
       "      <td>0.249184</td>\n",
       "      <td>0.183342</td>\n",
       "      <td>0.214586</td>\n",
       "      <td>f39a1e54d79731e4417aa8159d19b7d4</td>\n",
       "      <td>0</td>\n",
       "    </tr>\n",
       "    <tr>\n",
       "      <th>5</th>\n",
       "      <td>0.379130</td>\n",
       "      <td>0.198604</td>\n",
       "      <td>0.228618</td>\n",
       "      <td>0.194666</td>\n",
       "      <td>0.059033</td>\n",
       "      <td>0.032172</td>\n",
       "      <td>0.031038</td>\n",
       "      <td>0.009002</td>\n",
       "      <td>0.091429</td>\n",
       "      <td>0.171429</td>\n",
       "      <td>0.393836</td>\n",
       "      <td>0.219889</td>\n",
       "      <td>0.184321</td>\n",
       "      <td>0.200701</td>\n",
       "      <td>8987df2216ae2ab1a907d52bc9dc540d</td>\n",
       "      <td>0</td>\n",
       "    </tr>\n",
       "    <tr>\n",
       "      <th>7</th>\n",
       "      <td>0.412462</td>\n",
       "      <td>0.222255</td>\n",
       "      <td>0.228341</td>\n",
       "      <td>0.197242</td>\n",
       "      <td>0.068449</td>\n",
       "      <td>0.031100</td>\n",
       "      <td>0.028903</td>\n",
       "      <td>0.008404</td>\n",
       "      <td>0.090395</td>\n",
       "      <td>0.324859</td>\n",
       "      <td>0.423729</td>\n",
       "      <td>0.234608</td>\n",
       "      <td>0.177474</td>\n",
       "      <td>0.225888</td>\n",
       "      <td>e60d99ea9648e1ce859eb0b386365e26</td>\n",
       "      <td>0</td>\n",
       "    </tr>\n",
       "  </tbody>\n",
       "</table>\n",
       "</div>"
      ],
      "text/plain": [
       "   max_malig  max_spiculation  max_lobulation  max_diameter  xsd_malig  \\\n",
       "1   0.301607         0.195614        0.219990      0.194113   0.067776   \n",
       "3   0.370535         0.214804        0.227077      0.195514   0.048811   \n",
       "4   0.318191         0.169963        0.229695      0.192455   0.060015   \n",
       "5   0.379130         0.198604        0.228618      0.194666   0.059033   \n",
       "7   0.412462         0.222255        0.228341      0.197242   0.068449   \n",
       "\n",
       "   xsd_spiculation  xmax_lobulation  xsd_diameter  loc_from_malig_x  \\\n",
       "1         0.028539         0.034208      0.010117          0.088889   \n",
       "3         0.028892         0.032502      0.009913          0.112281   \n",
       "4         0.025715         0.038635      0.011385          0.094118   \n",
       "5         0.032172         0.031038      0.009002          0.091429   \n",
       "7         0.031100         0.028903      0.008404          0.090395   \n",
       "\n",
       "   loc_from_malig_y  loc_from_malig_z  std_locs_x  std_locs_y  std_locs_z  \\\n",
       "1          0.416667          0.102564    0.243736    0.159560    0.216008   \n",
       "3          0.294737          0.555556    0.233297    0.183184    0.207843   \n",
       "4          0.420588          0.278736    0.249184    0.183342    0.214586   \n",
       "5          0.171429          0.393836    0.219889    0.184321    0.200701   \n",
       "7          0.324859          0.423729    0.234608    0.177474    0.225888   \n",
       "\n",
       "                                 id  cancer  \n",
       "1  1631637f08f27347e8f23d7a0e18c100       0  \n",
       "3  e3a9a6f8d21c6c459728066bcf18c615       0  \n",
       "4  f39a1e54d79731e4417aa8159d19b7d4       0  \n",
       "5  8987df2216ae2ab1a907d52bc9dc540d       0  \n",
       "7  e60d99ea9648e1ce859eb0b386365e26       0  "
      ]
     },
     "execution_count": 27,
     "metadata": {},
     "output_type": "execute_result"
    }
   ],
   "source": [
    "df_no_cancer = df.loc[df['cancer'] == 0]\n",
    "print (df_no_cancer.shape)\n",
    "df_no_cancer.head()"
   ]
  },
  {
   "cell_type": "code",
   "execution_count": 28,
   "metadata": {
    "collapsed": false,
    "scrolled": true
   },
   "outputs": [
    {
     "data": {
      "image/png": "[encoded data removed]",
      "text/plain": [
       "<matplotlib.figure.Figure at 0x7f90966517b8>"
      ]
     },
     "metadata": {},
     "output_type": "display_data"
    }
   ],
   "source": [
    "# df_no_cancer.reset_index(inplace=True, drop=True)\n",
    "fig, ax = plt.subplots(figsize=[20,12])\n",
    "\n",
    "cancerCount=0\n",
    "nonCancerCount=0\n",
    "\n",
    "for patient in range(300):\n",
    "    if df.iloc[patient].cancer==0:\n",
    "        if nonCancerCount<30:\n",
    "            nonCancerCount+=1\n",
    "            line1, = plt.plot(np.arange(14), df.iloc[patient][:-2],'ok',alpha=0.3,label='Non Cancer')\n",
    "    else:\n",
    "        if cancerCount<30:\n",
    "            cancerCount+=1\n",
    "            line2, = plt.plot(np.arange(14), df.iloc[patient][:-2],'oc',alpha=0.5,label='Cancer')\n",
    "\n",
    "plt.legend((line1,line2),('Non Cancer','Cancer'))\n",
    "plt.xticks([x for x in range(14)])\n",
    "ax.set_xticklabels(df.columns[:-2])\n",
    "plt.savefig('model2_stage1_features_patients_diff.png')"
   ]
  },
  {
   "cell_type": "code",
   "execution_count": 29,
   "metadata": {
    "collapsed": false,
    "scrolled": true
   },
   "outputs": [
    {
     "name": "stderr",
     "output_type": "stream",
     "text": [
      "/opt/anaconda/lib/python3.5/site-packages/pandas/core/frame.py:5749: UserWarning: When passing multiple axes, sharex and sharey are ignored. These settings must be specified when creating axes\n",
      "  return_type=return_type, **kwds)\n"
     ]
    },
    {
     "data": {
      "image/png": "[encoded data removed]",
      "text/plain": [
       "<matplotlib.figure.Figure at 0x7f9096651e10>"
      ]
     },
     "metadata": {},
     "output_type": "display_data"
    }
   ],
   "source": [
    "import seaborn\n",
    "seaborn.set(style=\"ticks\")\n",
    "fig, axes = plt.subplots(ncols=14, figsize=(20, 5), sharey=True)\n",
    "df.query(\"cancer in [0, 1]\").boxplot(by='cancer', return_type='axes', ax=axes)\n",
    "plt.savefig('model2_stage1_paired_boxplot_feature.png')"
   ]
  },
  {
   "cell_type": "markdown",
   "metadata": {},
   "source": [
    "#### 2.2.1 Mean\n",
    "\n",
    "Not surprisely, as the box plot above showed, they are extremly similar!! "
   ]
  },
  {
   "cell_type": "code",
   "execution_count": 30,
   "metadata": {
    "collapsed": false
   },
   "outputs": [
    {
     "name": "stdout",
     "output_type": "stream",
     "text": [
      "max_malig          -0.002446\n",
      "max_spiculation     0.000044\n",
      "max_lobulation     -0.000031\n",
      "max_diameter       -0.000014\n",
      "xsd_malig          -0.000466\n",
      "xsd_spiculation     0.000284\n",
      "xmax_lobulation     0.000264\n",
      "xsd_diameter        0.000176\n",
      "loc_from_malig_x   -0.000108\n",
      "loc_from_malig_y   -0.005407\n",
      "loc_from_malig_z    0.014892\n",
      "std_locs_x          0.000371\n",
      "std_locs_y          0.000825\n",
      "std_locs_z          0.001998\n",
      "cancer              1.000000\n",
      "dtype: float64\n"
     ]
    }
   ],
   "source": [
    "df_cancer_mean = df.loc[df['cancer'] == 1].mean()\n",
    "df_no_cancer_mean = df.loc[df['cancer'] == 0].mean()\n",
    "print (df_cancer_mean-df_no_cancer_mean)\n",
    "# print (df_cancer_mean)"
   ]
  },
  {
   "cell_type": "code",
   "execution_count": 31,
   "metadata": {
    "collapsed": false,
    "scrolled": true
   },
   "outputs": [
    {
     "data": {
      "image/png": "[encoded data removed]",
      "text/plain": [
       "<matplotlib.figure.Figure at 0x7f907d80db70>"
      ]
     },
     "metadata": {},
     "output_type": "display_data"
    }
   ],
   "source": [
    "plt.scatter(np.arange(14),df_no_cancer_mean[:-1], color = 'k', alpha=0.5,  label = 'non-cancer mean')\n",
    "plt.scatter(np.arange(14),df_cancer_mean[:-1], color = 'c', alpha=0.5, label = 'cancer mean')\n",
    "plt.legend()\n",
    "plt.savefig('model2_stage1_cancer_nonCancer_mean_diff.png')"
   ]
  },
  {
   "cell_type": "markdown",
   "metadata": {},
   "source": [
    "## 3. Metrics\n",
    "\n",
    "### 3.1 Confusion matrix"
   ]
  },
  {
   "cell_type": "markdown",
   "metadata": {},
   "source": [
    "<div class = \"alert alert-info\">\n",
    "**Unbalanced datasets**\n",
    "<p>\n",
    "In cancer detection because the cost of missing one patient in a trial is very large, we want the predictor to have very large recall/sensitivity (we do not accept false negatives) though it means accepting more false positives. These false positives can be discarded in subsequent tests. \n",
    "\n",
    "<p>\n",
    "$$\\text{sensitivity (recall) }=\\frac{\\text{TP}}{\\text{Real Positives}}=\\frac{\\text{TP}}{\\text{TP}+\\text{FN}}$$\n",
    "\n",
    "\n",
    "</div>\n",
    "\n",
    "Although accuracy is the most normal metric for evaluating classifiers, there are cases when the business value of correctly predicting elements from one class is different from the value for the prediction of elements of another class. In those cases, accuracy is not a good performance metric and more detailed analysis is needed. The **confusion matrix** enables us to define different metrics considering such scenarios. The confusion matrix considers the concepts of the classifier outcome and the actual ground truth or gold standard. In a binary problem, there are four possible cases: \n",
    "\n",
    "\n",
    "+ *True positives (TP):* When the classifier predicts a sample as positive and it really is positive.\n",
    "+ *False positives (FP):* When the classifier predicts a sample as positive but in fact it is negative.\n",
    "+ *True negatives (TN):* When the classifier predicts a sample as negative and it really is negative.\n",
    "+ *False negatives (FN):* When the classifier predicts a sample as negative but in fact it is positive.\n",
    "\n",
    "\n",
    "We can summarize this information in a matrix, namely the confusion matrix, as follows:\n",
    "\n",
    "<img src = \"https://i.stack.imgur.com/OW5Lt.jpg\" width = 400px>"
   ]
  },
  {
   "cell_type": "markdown",
   "metadata": {
    "collapsed": true
   },
   "source": [
    "### 3.2 Evaluation: Logloss\n",
    "\n",
    "https://www.kaggle.com/c/data-science-bowl-2017#evaluation\n",
    "\n",
    "$$\n",
    "\\textrm{LogLoss} = - \\frac{1}{n} \\sum_{i=1}^n \\left[ y_i \\log(\\hat{y}_i) + (1 - y_i) \\log(1 - \\hat{y}_i)\\right],\n",
    "$$\n",
    "\n",
    "where\n",
    "\n",
    "+ n is the number of patients in the test set\n",
    "+ $\\hat{y}_i $ is the predicted probability of the image belonging to a patient with cancer\n",
    "+ $ y_i $ is 1 if the diagnosis is cancer, 0 otherwise\n",
    "+ $ log()$ is the natural (base e) logarithm\n",
    "\n",
    "Note: the actual submitted predicted probabilities are replaced with $(max(min(p,1-10^{-15}),10^{-15}))$ . A smaller log loss is better."
   ]
  },
  {
   "cell_type": "markdown",
   "metadata": {},
   "source": [
    "## 4. Feature selection,  classification, and evaluation"
   ]
  },
  {
   "cell_type": "markdown",
   "metadata": {},
   "source": [
    "### 4.1 Feature selection "
   ]
  },
  {
   "cell_type": "code",
   "execution_count": 12,
   "metadata": {
    "collapsed": false
   },
   "outputs": [
    {
     "name": "stdout",
     "output_type": "stream",
     "text": [
      "Feature space holds 1434 observations and 14 features\n",
      "Unique target labels: [0 1]\n"
     ]
    }
   ],
   "source": [
    "## Feature selection ##\n",
    "x_cols = df.drop(['id', 'cancer'],1).columns  # using all the features\n",
    "# x_cols=['max_malig','max_spiculation','max_lobulation','max_diameter','xsd_malig', 'xsd_spiculation', 'xmax_lobulation','xsd_diameter']\n",
    "X = df.loc[:][x_cols].values\n",
    "y = df.loc[:]['cancer'].values\n",
    "\n",
    "print (\"Feature space holds %d observations and %d features\" % X.shape)\n",
    "print (\"Unique target labels:\", np.unique(y))"
   ]
  },
  {
   "cell_type": "markdown",
   "metadata": {},
   "source": [
    "### 4.2 Clssification\n",
    "\n",
    "### 4.2.1 Logistic regression (LR) with ExtraTreesRegressor (XTR)"
   ]
  },
  {
   "cell_type": "code",
   "execution_count": 13,
   "metadata": {
    "collapsed": true
   },
   "outputs": [],
   "source": [
    "class SlightlyNonlinearClassification(BaseEstimator):\n",
    "\n",
    "    def __init__(self,C=10,step_size=0.7):\n",
    "        self.step_size = step_size\n",
    "        self.C = C\n",
    "\n",
    "    def fit(self, X, y):\n",
    "        lr = LogisticRegression(C=self.C,penalty='l1')\n",
    "        lr_preds = cross_val_predict(lr, X, y, cv=50, method='predict_proba')[:,1]\n",
    "        lr.fit(X,y)\n",
    "        xtr = XTR(n_estimators=500, min_samples_leaf=20, max_features=.8).fit(X, y - lr_preds)\n",
    "        self.lr = lr\n",
    "        self.xtr = xtr\n",
    "\n",
    "        return self\n",
    "\n",
    "    def predict_proba(self, X):\n",
    "        base = self.lr.predict_proba(X)\n",
    "        base[:,1] += self.step_size * self.xtr.predict(X)\n",
    "        base[:,0] = 1 - base[:,1]\n",
    "        return np.clip(base, 1e-3, 1-1e-3)\n",
    "\n",
    "    def predict(self, X):\n",
    "        return self.predict_proba(X)"
   ]
  },
  {
   "cell_type": "code",
   "execution_count": 14,
   "metadata": {
    "collapsed": false,
    "scrolled": true
   },
   "outputs": [
    {
     "name": "stdout",
     "output_type": "stream",
     "text": [
      "(1434,)\n",
      "logloss 0.572951032872\n"
     ]
    },
    {
     "data": {
      "text/plain": [
       "(array([   3.,   34.,  133.,  286.,  372.,  306.,  182.,   87.,   23.,    8.]),\n",
       " array([ 0.089217  ,  0.12336996,  0.15752291,  0.19167587,  0.22582882,\n",
       "         0.25998177,  0.29413473,  0.32828768,  0.36244064,  0.39659359,\n",
       "         0.43074654]),\n",
       " <a list of 10 Patch objects>)"
      ]
     },
     "execution_count": 14,
     "metadata": {},
     "output_type": "execute_result"
    },
    {
     "data": {
      "image/png": "[encoded data removed]",
      "text/plain": [
       "<matplotlib.figure.Figure at 0x7f907d1d39e8>"
      ]
     },
     "metadata": {},
     "output_type": "display_data"
    }
   ],
   "source": [
    "x_cols = df.drop(['id', 'cancer'],1).columns  # using all the features\n",
    "X = df.loc[:][x_cols].values\n",
    "y = df.loc[:]['cancer'].values\n",
    "\n",
    "X = StandardScaler().fit_transform(X)\n",
    "lr = SlightlyNonlinearClassification(C=1000, step_size=0.9)\n",
    "Yh = cross_val_predict(lr, X, y, cv=10, method='predict_proba',n_jobs=-1)[:,1]\n",
    "\n",
    "print (Yh.shape)\n",
    "print (\"logloss\",log_loss(y, Yh) )\n",
    "plt.hist(Yh)"
   ]
  },
  {
   "cell_type": "code",
   "execution_count": 15,
   "metadata": {
    "collapsed": false,
    "scrolled": true
   },
   "outputs": [
    {
     "name": "stdout",
     "output_type": "stream",
     "text": [
      "logloss 0.575051894404\n",
      "confusion_matrix: \n",
      " [[539 532]\n",
      " [180 183]]\n",
      "             precision    recall  f1-score   support\n",
      "\n",
      "  No Cancer       0.75      0.50      0.60      1071\n",
      "     Cancer       0.26      0.50      0.34       363\n",
      "\n",
      "avg / total       0.62      0.50      0.54      1434\n",
      "\n",
      "Specificity:  0.503267973856\n",
      "Recall:  0.504132231405\n",
      "Accuracy:  0.503486750349\n"
     ]
    },
    {
     "data": {
      "text/plain": [
       "' \\n    acc = []\\n    threholds = [2,2.5,3,3.5,4]\\n    for threhold in threholds:\\n        y_pred_sub = np.zeros(len(y_train))\\n        for t in test:\\n            if y_pred_prob[t]>=threhold:\\n                y_pred_sub[t]=1\\n        conf_mat_sub = confusion_matrix(y_train,y_pred_sub)\\n        D = conf_mat_sub[0][0]    # TP\\n        B = conf_mat_sub[0][1]    # FP\\n        C = conf_mat_sub[1][0]    # FN\\n        A = conf_mat_sub[1][1]    # TN\\n        acc.append(A/(A+C))\\n    \\n#     print (\"Accuracy: \", acc)     \\n    idx = acc.index(max(acc))\\n    threhold =  threholds[idx]\\n    print (\"best threhold: \",threhold)\\n    if y_pred_prob[t]>=threhold:\\n        y_pred[t]=1\\n \\nprint (\\'Logistic Regression\\')\\nconf_mat = confusion_matrix(y,y_pred)\\nD = conf_mat[0][0]    # TP\\nB = conf_mat[0][1]    # FP\\nC = conf_mat[1][0]    # FN\\nA = conf_mat[1][1]    # TN\\n\\n'"
      ]
     },
     "execution_count": 15,
     "metadata": {},
     "output_type": "execute_result"
    }
   ],
   "source": [
    "x_cols = df.drop(['id', 'cancer'],1).columns  # using all the features\n",
    "X = df.loc[:][x_cols].values\n",
    "y = df.loc[:]['cancer'].values\n",
    "\n",
    "cv = cross_validation.KFold(X.shape[0],n_folds = 20,random_state=42)\n",
    "y_pred = np.zeros(len(y))\n",
    "y_pred_prob = np.zeros(len(y))\n",
    "for train, test in cv:\n",
    "    X_train, X_test, y_train, y_test = X[train,:], X[test,:], y[train], y[test]\n",
    "    scaler = StandardScaler()\n",
    "    X_train = scaler.fit_transform(X_train)\n",
    "    X_test = scaler.transform(X_test)\n",
    "\n",
    "    clf = SlightlyNonlinearClassification(C=1000, step_size=0.9)\n",
    "    clf.fit(X_train, y_train)\n",
    "    y_pred_prob[test] = clf.predict_proba(X_test)[:,1]\n",
    "    for t in test:\n",
    "        if y_pred_prob[t]>=0.25:\n",
    "            y_pred[t]=1\n",
    "    \n",
    "print(\"logloss\",log_loss(y, y_pred_prob))\n",
    "conf_mat = confusion_matrix(y,y_pred)\n",
    "D = conf_mat[0][0]    # TP\n",
    "B = conf_mat[0][1]    # FP\n",
    "C = conf_mat[1][0]    # FN\n",
    "A = conf_mat[1][1]    # TN\n",
    "    \n",
    "print (\"confusion_matrix: \\n\", conf_mat)\n",
    "print (classification_report(y, y_pred, target_names=[\"No Cancer\", \"Cancer\"]))\n",
    "print (\"Specificity: \", D/(B+D))\n",
    "print (\"Recall: \", A/(A+C))\n",
    "print (\"Accuracy: \", (A+D)/(A+B+C+D))\n",
    "\n",
    "''' \n",
    "    acc = []\n",
    "    threholds = [2,2.5,3,3.5,4]\n",
    "    for threhold in threholds:\n",
    "        y_pred_sub = np.zeros(len(y_train))\n",
    "        for t in test:\n",
    "            if y_pred_prob[t]>=threhold:\n",
    "                y_pred_sub[t]=1\n",
    "        conf_mat_sub = confusion_matrix(y_train,y_pred_sub)\n",
    "        D = conf_mat_sub[0][0]    # TP\n",
    "        B = conf_mat_sub[0][1]    # FP\n",
    "        C = conf_mat_sub[1][0]    # FN\n",
    "        A = conf_mat_sub[1][1]    # TN\n",
    "        acc.append(A/(A+C))\n",
    "    \n",
    "#     print (\"Accuracy: \", acc)     \n",
    "    idx = acc.index(max(acc))\n",
    "    threhold =  threholds[idx]\n",
    "    print (\"best threhold: \",threhold)\n",
    "    if y_pred_prob[t]>=threhold:\n",
    "        y_pred[t]=1\n",
    " \n",
    "print ('Logistic Regression')\n",
    "conf_mat = confusion_matrix(y,y_pred)\n",
    "D = conf_mat[0][0]    # TP\n",
    "B = conf_mat[0][1]    # FP\n",
    "C = conf_mat[1][0]    # FN\n",
    "A = conf_mat[1][1]    # TN\n",
    "\n",
    "'''"
   ]
  },
  {
   "cell_type": "markdown",
   "metadata": {},
   "source": [
    "### 4.2.2 LogisticRegression"
   ]
  },
  {
   "cell_type": "code",
   "execution_count": 35,
   "metadata": {
    "collapsed": false
   },
   "outputs": [
    {
     "name": "stdout",
     "output_type": "stream",
     "text": [
      "Logistic Regression\n",
      "confusion_matrix for test set: \n",
      " [[558 513]\n",
      " [186 177]]\n",
      "             precision    recall  f1-score   support\n",
      "\n",
      "  No Cancer       0.75      0.52      0.61      1071\n",
      "     Cancer       0.26      0.49      0.34       363\n",
      "\n",
      "avg / total       0.63      0.51      0.54      1434\n",
      "\n",
      "logloss 0.696318211385\n",
      "Specificity:  0.521008403361\n",
      "Recall:  0.487603305785\n",
      "Accuracy:  0.512552301255\n"
     ]
    },
    {
     "data": {
      "text/plain": [
       "(array([   1.,    7.,   45.,  139.,  312.,  403.,  320.,  156.,   42.,    9.]),\n",
       " array([ 0.26477616,  0.30657604,  0.34837592,  0.3901758 ,  0.43197567,\n",
       "         0.47377555,  0.51557543,  0.55737531,  0.59917519,  0.64097507,\n",
       "         0.68277495]),\n",
       " <a list of 10 Patch objects>)"
      ]
     },
     "execution_count": 35,
     "metadata": {},
     "output_type": "execute_result"
    },
    {
     "data": {
      "image/png": "[encoded data removed]",
      "text/plain": [
       "<matplotlib.figure.Figure at 0x7f9083feb668>"
      ]
     },
     "metadata": {},
     "output_type": "display_data"
    }
   ],
   "source": [
    "# LogisticRegression\n",
    "\n",
    "x_cols = df.drop(['id', 'cancer'],1).columns  # using all the features\n",
    "X = df.loc[:][x_cols].values\n",
    "y = df.loc[:]['cancer'].values\n",
    "\n",
    "cv = cross_validation.KFold(X.shape[0],n_folds = 20,random_state=42)\n",
    "y_pred = np.zeros(len(y))\n",
    "y_pred_prob = np.zeros(len(y))\n",
    "for train, test in cv:\n",
    "    X_train, X_test, y_train, y_test = X[train,:], X[test,:], y[train], y[test]\n",
    "    scaler = StandardScaler()\n",
    "    X_train = scaler.fit_transform(X_train)\n",
    "    X_test = scaler.transform(X_test)\n",
    "    \n",
    "    clf = linear_model.LogisticRegression(class_weight=\"balanced\",penalty='l2')\n",
    "    clf.fit(X_train, y_train)\n",
    "    y_pred[test] = clf.predict(X_test)\n",
    "    y_pred_prob[test] = clf.predict_proba(X_test)[:,1]\n",
    "    \n",
    "print ('Logistic Regression')\n",
    "\n",
    "conf_mat = confusion_matrix(y,y_pred)\n",
    "D = conf_mat[0][0]    # TP\n",
    "B = conf_mat[0][1]    # FP\n",
    "C = conf_mat[1][0]    # FN\n",
    "A = conf_mat[1][1]    # TN\n",
    "\n",
    "print (\"confusion_matrix for test set: \\n\", conf_mat)\n",
    "print (classification_report(y, y_pred, target_names=[\"No Cancer\", \"Cancer\"]))\n",
    "print(\"logloss\",log_loss(y, y_pred_prob))\n",
    "print (\"Specificity: \", D/(B+D))\n",
    "print (\"Recall: \", A/(A+C))\n",
    "print (\"Accuracy: \", (A+D)/(A+B+C+D))\n",
    "\n",
    "plt.hist(y_pred_prob)"
   ]
  },
  {
   "cell_type": "markdown",
   "metadata": {},
   "source": [
    "### 4.2.3 logistic regression with tuned parameter\n",
    "\n",
    "+ Cross-validate, 20 folders\n",
    "+ with class weight\n",
    "+ l1 penalty\n",
    "+ grid search for the value of C, i.e.,Inverse of regularization strength"
   ]
  },
  {
   "cell_type": "code",
   "execution_count": 36,
   "metadata": {
    "collapsed": false,
    "scrolled": false
   },
   "outputs": [
    {
     "name": "stdout",
     "output_type": "stream",
     "text": [
      "\n",
      "confusion_matrix from sklearn: \n",
      " [[1071    0]\n",
      " [ 363    0]]\n",
      "             precision    recall  f1-score   support\n",
      "\n",
      "  No Cancer       0.75      1.00      0.86      1071\n",
      "     Cancer       0.00      0.00      0.00       363\n",
      "\n",
      "avg / total       0.56      0.75      0.64      1434\n",
      "\n",
      "logloss 0.69314718056\n",
      "Specificity:  1.0\n",
      "Recall:  0.0\n",
      "Accuracy:  0.746861924686\n"
     ]
    },
    {
     "name": "stderr",
     "output_type": "stream",
     "text": [
      "/opt/anaconda/lib/python3.5/site-packages/sklearn/metrics/classification.py:1113: UndefinedMetricWarning: Precision and F-score are ill-defined and being set to 0.0 in labels with no predicted samples.\n",
      "  'precision', 'predicted', average, warn_for)\n"
     ]
    },
    {
     "data": {
      "text/plain": [
       "(array([    0.,     0.,     0.,     0.,     0.,  1434.,     0.,     0.,\n",
       "            0.,     0.]),\n",
       " array([ 0. ,  0.1,  0.2,  0.3,  0.4,  0.5,  0.6,  0.7,  0.8,  0.9,  1. ]),\n",
       " <a list of 10 Patch objects>)"
      ]
     },
     "execution_count": 36,
     "metadata": {},
     "output_type": "execute_result"
    },
    {
     "data": {
      "image/png": "[encoded data removed]",
      "text/plain": [
       "<matplotlib.figure.Figure at 0x7f907d45e208>"
      ]
     },
     "metadata": {},
     "output_type": "display_data"
    }
   ],
   "source": [
    "x_cols = df.drop(['id', 'cancer'],1).columns  # using all the features\n",
    "X = df.loc[:][x_cols].values\n",
    "y = df.loc[:]['cancer'].values\n",
    "\n",
    "cv = cross_validation.KFold(X.shape[0],n_folds = 20,random_state=42)\n",
    "Cs = [0.001, 0.0025, 0.005, 0.01, 0.025, 0.05, 0.1, 0.5]\n",
    "# weights = [{0:0.1*x, 1:(1-0.1*x)} for x in range(1,10)]\n",
    "# parameters = {'C': Cs, 'class_weight':weights} \n",
    "parameters = {'C': Cs}\n",
    "\n",
    "acc = np.zeros((20,))\n",
    "yhat = np.zeros(len(y))\n",
    "y_pred_prob = np.zeros(len(y))\n",
    "\n",
    "for train_index, test_index in cv:\n",
    "    X_train, X_test = X[train_index], X[test_index]\n",
    "    y_train, y_test = y[train_index], y[test_index]\n",
    "    scaler = StandardScaler()\n",
    "    X_train = scaler.fit_transform(X_train)\n",
    "    X_test = scaler.transform(X_test)\n",
    "    \n",
    "    clf = linear_model.LogisticRegression(penalty='l1', class_weight='balanced')\n",
    "    \n",
    "    # We can change the scoring \"average_precision\", \"recall\", \"f1\"\n",
    "    grd = GridSearchCV(clf, parameters)  \n",
    "    grd.fit(X_train,y_train.ravel())\n",
    "   \n",
    "    yhat[test_index] = grd.predict(X_test)\n",
    "    y_pred_prob[test_index] = grd.predict_proba(X_test)[:,1]\n",
    "    \n",
    "    conf_mat = confusion_matrix(y,yhat)\n",
    "    D = conf_mat[0][0]    # TP\n",
    "    B = conf_mat[0][1]    # FP\n",
    "    C = conf_mat[1][0]    # FN\n",
    "    A = conf_mat[1][1]    # TN\n",
    "    \n",
    "# print ('Mean accuracy: '+ str(np.mean(acc)))\n",
    "print (\"\\nconfusion_matrix from sklearn: \\n\", conf_mat)\n",
    "print (classification_report(y, yhat, target_names=[\"No Cancer\", \"Cancer\"]))\n",
    "print(\"logloss\",log_loss(y, y_pred_prob))\n",
    "\n",
    "print (\"Specificity: \", D/(B+D))\n",
    "print (\"Recall: \", A/(A+C))\n",
    "print (\"Accuracy: \", (A+D)/(A+B+C+D))\n",
    "\n",
    "plt.hist(y_pred_prob)"
   ]
  },
  {
   "cell_type": "code",
   "execution_count": null,
   "metadata": {
    "collapsed": true
   },
   "outputs": [],
   "source": []
  },
  {
   "cell_type": "markdown",
   "metadata": {
    "collapsed": true
   },
   "source": [
    "### 4.2.4 Random Forest"
   ]
  },
  {
   "cell_type": "code",
   "execution_count": 23,
   "metadata": {
    "collapsed": false
   },
   "outputs": [
    {
     "name": "stdout",
     "output_type": "stream",
     "text": [
      "Random Forest\n",
      "confusion_matrix for test set: \n",
      " [[1069    2]\n",
      " [ 361    2]]\n",
      "             precision    recall  f1-score   support\n",
      "\n",
      "  No Cancer       0.75      1.00      0.85      1071\n",
      "     Cancer       0.50      0.01      0.01       363\n",
      "\n",
      "avg / total       0.68      0.75      0.64      1434\n",
      "\n",
      "logloss 0.587590636862\n",
      "Specificity:  0.998132586368\n",
      "Recall:  0.00550964187328\n",
      "Accuracy:  0.746861924686\n"
     ]
    },
    {
     "data": {
      "text/plain": [
       "(array([   5.,   77.,  242.,  372.,  417.,  205.,   72.,   34.,    8.,    2.]),\n",
       " array([ 0.02 ,  0.077,  0.134,  0.191,  0.248,  0.305,  0.362,  0.419,\n",
       "         0.476,  0.533,  0.59 ]),\n",
       " <a list of 10 Patch objects>)"
      ]
     },
     "execution_count": 23,
     "metadata": {},
     "output_type": "execute_result"
    },
    {
     "data": {
      "image/png": "[encoded data removed]",
      "text/plain": [
       "<matplotlib.figure.Figure at 0x7f2a099d3ef0>"
      ]
     },
     "metadata": {},
     "output_type": "display_data"
    }
   ],
   "source": [
    "#Random Forest\n",
    "\n",
    "x_cols = df.drop(['id', 'cancer'],1).columns  # using all the features\n",
    "X = df.loc[:][x_cols].values\n",
    "y = df.loc[:]['cancer'].values\n",
    "\n",
    "cv = cross_validation.KFold(X.shape[0],n_folds = 20,random_state=42)\n",
    "y_pred = y * 0\n",
    "y_pred_prob = np.zeros(len(y))\n",
    "for train, test in cv:\n",
    "    X_train, X_test, y_train, y_test = X[train,:], X[test,:], y[train], y[test]\n",
    "    \n",
    "    scaler = StandardScaler()\n",
    "    X_train = scaler.fit_transform(X_train)\n",
    "    X_test = scaler.transform(X_test)\n",
    "    \n",
    "    clf = RF(n_estimators=100,class_weight='balanced', n_jobs=-1)\n",
    "    clf.fit(X_train, y_train)\n",
    "    y_pred[test] = clf.predict(X_test)\n",
    "    y_pred_prob[test] = clf.predict_proba(X_test)[:,1]\n",
    "\n",
    "print ('Random Forest')\n",
    "conf_mat = confusion_matrix(y,y_pred)\n",
    "D = conf_mat[0][0]    # TP\n",
    "B = conf_mat[0][1]    # FP\n",
    "C = conf_mat[1][0]    # FN\n",
    "A = conf_mat[1][1]    # TN\n",
    "\n",
    "print (\"confusion_matrix for test set: \\n\", conf_mat)\n",
    "print (classification_report(y, y_pred, target_names=[\"No Cancer\", \"Cancer\"]))\n",
    "print(\"logloss\",log_loss(y, y_pred_prob))\n",
    "print (\"Specificity: \", D/(B+D))\n",
    "print (\"Recall: \", A/(A+C))\n",
    "print (\"Accuracy: \", (A+D)/(A+B+C+D))\n",
    "\n",
    "plt.hist(y_pred_prob)"
   ]
  },
  {
   "cell_type": "code",
   "execution_count": 75,
   "metadata": {
    "collapsed": false,
    "scrolled": false
   },
   "outputs": [
    {
     "name": "stdout",
     "output_type": "stream",
     "text": [
      "Feature ranking:\n",
      "1. feature 7 (0.077006)\n",
      "2. feature 5 (0.075745)\n",
      "3. feature 4 (0.074392)\n",
      "4. feature 10 (0.074104)\n",
      "5. feature 11 (0.073341)\n",
      "6. feature 9 (0.072542)\n",
      "7. feature 1 (0.072501)\n",
      "8. feature 13 (0.071571)\n",
      "9. feature 0 (0.071461)\n",
      "10. feature 8 (0.069223)\n",
      "11. feature 12 (0.069004)\n",
      "12. feature 3 (0.067841)\n",
      "13. feature 6 (0.065905)\n",
      "14. feature 2 (0.065365)\n"
     ]
    },
    {
     "data": {
      "image/png": "[encoded data removed]",
      "text/plain": [
       "<matplotlib.figure.Figure at 0x7f980876dc88>"
      ]
     },
     "metadata": {},
     "output_type": "display_data"
    },
    {
     "data": {
      "text/plain": [
       "<matplotlib.figure.Figure at 0x7f980f0bfba8>"
      ]
     },
     "metadata": {},
     "output_type": "display_data"
    }
   ],
   "source": [
    "from sklearn.ensemble import ExtraTreesClassifier\n",
    "\n",
    "x_cols = df.drop(['id', 'cancer'],1).columns  # using all the features\n",
    "X = df.loc[:][x_cols].values\n",
    "y = df.loc[:]['cancer'].values\n",
    "\n",
    "# Build a forest and compute the feature importances\n",
    "forest = ExtraTreesClassifier(n_estimators=250,\n",
    "                              random_state=0)\n",
    "forest.fit(X, y)\n",
    "importances = forest.feature_importances_\n",
    "std = np.std([tree.feature_importances_ for tree in forest.estimators_],axis=0)\n",
    "indices = np.argsort(importances)[::-1]\n",
    "\n",
    "# Print the feature ranking\n",
    "print(\"Feature ranking:\")\n",
    "for f in range(X.shape[1]):\n",
    "    print(\"%d. feature %d (%f)\" % (f + 1, indices[f], importances[indices[f]]))\n",
    "\n",
    "# Plot the feature importances of the forest\n",
    "plt.figure(figsize=(15,8))\n",
    "plt.title(\"Feature importances\")\n",
    "plt.bar(range(X.shape[1]), importances[indices],\n",
    "       color=\"c\", yerr=std[indices], align=\"center\")\n",
    "plt.xticks(range(X.shape[1]), ('xsd_diameter', 'xsd_spicul',\n",
    "                               'xsd_malig','loc_z',\n",
    "                               'std_locs_x','loc_y',\n",
    "                               'max_spicul','std_locs_z',\n",
    "                               'max_malig','loc_x',\n",
    "                               'std_locs_y','max_diameter',\n",
    "                               'xmax_lob','max_lob'))\n",
    "plt.xlim([-1, X.shape[1]])\n",
    "plt.show()\n",
    "plt.savefig('model2_stage1_feature_importance.png')"
   ]
  },
  {
   "cell_type": "markdown",
   "metadata": {},
   "source": [
    "### 4.2.5 SVM"
   ]
  },
  {
   "cell_type": "code",
   "execution_count": 36,
   "metadata": {
    "collapsed": false,
    "scrolled": true
   },
   "outputs": [
    {
     "name": "stdout",
     "output_type": "stream",
     "text": [
      "\n",
      "confusion_matrix from sklearn: \n",
      " [[1071    0]\n",
      " [ 363    0]]\n",
      "             precision    recall  f1-score   support\n",
      "\n",
      "  No Cancer       0.75      1.00      0.86      1071\n",
      "     Cancer       0.00      0.00      0.00       363\n",
      "\n",
      "avg / total       0.56      0.75      0.64      1434\n",
      "\n",
      "logloss 0.566743600619\n",
      "Specificity:  1.0\n",
      "Recall:  0.0\n",
      "Accuracy:  0.746861924686\n"
     ]
    },
    {
     "name": "stderr",
     "output_type": "stream",
     "text": [
      "/opt/anaconda/lib/python3.5/site-packages/sklearn/metrics/classification.py:1113: UndefinedMetricWarning: Precision and F-score are ill-defined and being set to 0.0 in labels with no predicted samples.\n",
      "  'precision', 'predicted', average, warn_for)\n"
     ]
    },
    {
     "data": {
      "text/plain": [
       "(array([   6.,   48.,  274.,  531.,  353.,  164.,   43.,   10.,    4.,    1.]),\n",
       " array([ 0.18040782,  0.19923801,  0.21806821,  0.2368984 ,  0.25572859,\n",
       "         0.27455878,  0.29338898,  0.31221917,  0.33104936,  0.34987955,\n",
       "         0.36870974]),\n",
       " <a list of 10 Patch objects>)"
      ]
     },
     "execution_count": 36,
     "metadata": {},
     "output_type": "execute_result"
    },
    {
     "data": {
      "image/png": "[encoded data removed]",
      "text/plain": [
       "<matplotlib.figure.Figure at 0x7f2a1bf4f198>"
      ]
     },
     "metadata": {},
     "output_type": "display_data"
    }
   ],
   "source": [
    "x_cols = df.drop(['id', 'cancer'],1).columns  # using all the features\n",
    "X = df.loc[:][x_cols].values\n",
    "y = df.loc[:]['cancer'].values\n",
    "\n",
    "cv = cross_validation.KFold(X.shape[0],n_folds = 20,random_state=42)\n",
    "yhat = y.copy()\n",
    "y_pred_prob = np.zeros(len(y))\n",
    "\n",
    "for train_index, test_index in cv:\n",
    "    X_train, X_test = X[train_index], X[test_index]\n",
    "    y_train, y_test = y[train_index], y[test_index]\n",
    "    \n",
    "    scaler = StandardScaler()\n",
    "    X_train = scaler.fit_transform(X_train)\n",
    "    X_test = scaler.transform(X_test)\n",
    "\n",
    "    clf = svm.LinearSVC(C=0.1,class_weight=\"balanced\")\n",
    "    calibrated_svc = CalibratedClassifierCV(clf,\n",
    "                                        method='sigmoid',  #sigmoid will use Platt's scaling. \n",
    "                                        cv=10) \n",
    "    calibrated_svc.fit(X_train, y_train)\n",
    "\n",
    "    yhat[test_index] = calibrated_svc.predict(X_test)\n",
    "    y_pred_prob[test_index] = calibrated_svc.predict_proba(X_test)[:,1]\n",
    "    \n",
    "    conf_mat = confusion_matrix(y,yhat)\n",
    "    D = conf_mat[0][0]    # TP\n",
    "    B = conf_mat[0][1]    # FP\n",
    "    C = conf_mat[1][0]    # FN\n",
    "    A = conf_mat[1][1]    # TN\n",
    "    \n",
    "# print ('Mean accuracy: '+ str(np.mean(acc)))\n",
    "print (\"\\nconfusion_matrix from sklearn: \\n\", conf_mat)\n",
    "print (classification_report(y, yhat, target_names=[\"No Cancer\", \"Cancer\"]))\n",
    "print(\"logloss\",log_loss(y, y_pred_prob))\n",
    "\n",
    "print (\"Specificity: \", D/(B+D))\n",
    "print (\"Recall: \", A/(A+C))\n",
    "print (\"Accuracy: \", (A+D)/(A+B+C+D))\n",
    "\n",
    "plt.hist(y_pred_prob)"
   ]
  },
  {
   "cell_type": "code",
   "execution_count": null,
   "metadata": {
    "collapsed": true
   },
   "outputs": [],
   "source": []
  },
  {
   "cell_type": "markdown",
   "metadata": {},
   "source": [
    "### 4.2.5 KNN\n",
    "\n",
    "It is not the best classifier for us:\n",
    "\n",
    "- when k is small, we get overfitting. \n",
    "- we have very low recall"
   ]
  },
  {
   "cell_type": "code",
   "execution_count": 25,
   "metadata": {
    "collapsed": false
   },
   "outputs": [
    {
     "name": "stdout",
     "output_type": "stream",
     "text": [
      "\n",
      "confusion_matrix from sklearn: \n",
      " [[1069    2]\n",
      " [ 361    2]]\n",
      "             precision    recall  f1-score   support\n",
      "\n",
      "  No Cancer       0.75      1.00      0.85      1071\n",
      "     Cancer       0.50      0.01      0.01       363\n",
      "\n",
      "avg / total       0.68      0.75      0.64      1434\n",
      "\n",
      "logloss 4.62529507808\n",
      "Specificity:  0.998132586368\n",
      "Recall:  0.00550964187328\n",
      "Accuracy:  0.746861924686\n"
     ]
    }
   ],
   "source": [
    "x_cols = df.drop(['id', 'cancer'],1).columns  # using all the features\n",
    "X = df.loc[:][x_cols].values\n",
    "y = df.loc[:]['cancer'].values\n",
    "\n",
    "cv = cross_validation.KFold(X.shape[0],n_folds = 20,random_state=42)\n",
    "yhat = y.copy()\n",
    "y_pred_prob = np.zeros(len(y))\n",
    "\n",
    "for train_index, test_index in cv:\n",
    "    X_train, X_test = X[train_index], X[test_index]\n",
    "    y_train, y_test = y[train_index], y[test_index]\n",
    "    scaler = StandardScaler()\n",
    "    X_train = scaler.fit_transform(X_train)\n",
    "    X_test = scaler.transform(X_test)\n",
    "\n",
    "    clf = neighbors.KNeighborsClassifier(n_neighbors=3,n_jobs=-1)\n",
    "    clf.fit(X_train, y_train)\n",
    "\n",
    "    yhat[test_index] = clf.predict(X_test)\n",
    "    y_pred_prob[test_index] = clf.predict_proba(X_test)[:,1]\n",
    "    \n",
    "    conf_mat = confusion_matrix(y,y_pred)\n",
    "    D = conf_mat[0][0]    # TP\n",
    "    B = conf_mat[0][1]    # FP\n",
    "    C = conf_mat[1][0]    # FN\n",
    "    A = conf_mat[1][1]    # TN\n",
    "    \n",
    "# print ('Mean accuracy: '+ str(np.mean(acc)))\n",
    "print (\"\\nconfusion_matrix from sklearn: \\n\", conf_mat)\n",
    "print (classification_report(y, y_pred, target_names=[\"No Cancer\", \"Cancer\"]))\n",
    "print(\"logloss\",log_loss(y, y_pred_prob))\n",
    "\n",
    "print (\"Specificity: \", D/(B+D))\n",
    "print (\"Recall: \", A/(A+C))\n",
    "print (\"Accuracy: \", (A+D)/(A+B+C+D))"
   ]
  },
  {
   "cell_type": "markdown",
   "metadata": {},
   "source": [
    "### 4.2.6 What if we predict all 1's or all 0's with confidence 0.5?"
   ]
  },
  {
   "cell_type": "code",
   "execution_count": 35,
   "metadata": {
    "collapsed": false,
    "scrolled": true
   },
   "outputs": [
    {
     "name": "stdout",
     "output_type": "stream",
     "text": [
      "\n",
      "Predicting all positive\n",
      "             precision    recall  f1-score   support\n",
      "\n",
      "  No Cancer       0.00      0.00      0.00      1071\n",
      "     Cancer       0.25      1.00      0.40       363\n",
      "\n",
      "avg / total       0.06      0.25      0.10      1434\n",
      "\n",
      "logloss 25.7962942035\n",
      "\n",
      "confusion_matrix from sklearn: \n",
      " [[   0 1071]\n",
      " [   0  363]]\n",
      "             precision    recall  f1-score   support\n",
      "\n",
      "  No Cancer       0.00      0.00      0.00      1071\n",
      "     Cancer       0.25      1.00      0.40       363\n",
      "\n",
      "avg / total       0.06      0.25      0.10      1434\n",
      "\n",
      "logloss 25.7962942035\n",
      "Specificity:  0.0\n",
      "Recall:  1.0\n",
      "Accuracy:  0.253138075314\n",
      "\n",
      "Predicting all negative\n",
      "             precision    recall  f1-score   support\n",
      "\n",
      "  No Cancer       0.75      1.00      0.86      1071\n",
      "     Cancer       0.00      0.00      0.00       363\n",
      "\n",
      "avg / total       0.56      0.75      0.64      1434\n",
      "\n",
      "logloss 8.7430793803\n",
      "\n",
      "confusion_matrix from sklearn: \n",
      " [[1071    0]\n",
      " [ 363    0]]\n",
      "             precision    recall  f1-score   support\n",
      "\n",
      "  No Cancer       0.75      1.00      0.86      1071\n",
      "     Cancer       0.00      0.00      0.00       363\n",
      "\n",
      "avg / total       0.56      0.75      0.64      1434\n",
      "\n",
      "logloss 0.75839375702\n",
      "Specificity:  1.0\n",
      "Recall:  0.0\n",
      "Accuracy:  0.746861924686\n"
     ]
    },
    {
     "name": "stderr",
     "output_type": "stream",
     "text": [
      "/opt/anaconda/lib/python3.5/site-packages/sklearn/metrics/classification.py:1113: UndefinedMetricWarning: Precision and F-score are ill-defined and being set to 0.0 in labels with no predicted samples.\n",
      "  'precision', 'predicted', average, warn_for)\n"
     ]
    }
   ],
   "source": [
    "# All Cancer\n",
    "print (\"\\nPredicting all positive\")\n",
    "y_pred = np.ones(y.shape)\n",
    "print (classification_report(y, y_pred, target_names=[\"No Cancer\", \"Cancer\"]))\n",
    "print(\"logloss\",log_loss(y, y_pred))\n",
    "\n",
    "# print ('Mean accuracy: '+ str(np.mean(acc)))\n",
    "conf_mat = confusion_matrix(y,y_pred)\n",
    "D = conf_mat[0][0]    # TP\n",
    "B = conf_mat[0][1]    # FP\n",
    "C = conf_mat[1][0]    # FN\n",
    "A = conf_mat[1][1]    # TN\n",
    "print (\"\\nconfusion_matrix from sklearn: \\n\", conf_mat)\n",
    "print (classification_report(y, y_pred, target_names=[\"No Cancer\", \"Cancer\"]))\n",
    "print(\"logloss\",log_loss(y, y_pred))\n",
    "\n",
    "print (\"Specificity: \", D/(B+D))\n",
    "print (\"Recall: \", A/(A+C))\n",
    "print (\"Accuracy: \", (A+D)/(A+B+C+D))\n",
    "\n",
    "# No Cancer\n",
    "print (\"\\nPredicting all negative\")\n",
    "y_pred = np.zeros(len(y))\n",
    "print (classification_report(y, y_pred, target_names=[\"No Cancer\", \"Cancer\"]))\n",
    "print(\"logloss\",log_loss(y, y_pred))\n",
    "\n",
    "# print ('Mean accuracy: '+ str(np.mean(acc)))\n",
    "\n",
    "conf_mat = confusion_matrix(y,y_pred)\n",
    "D = conf_mat[0][0]    # TP\n",
    "B = conf_mat[0][1]    # FP\n",
    "C = conf_mat[1][0]    # FN\n",
    "A = conf_mat[1][1]    # TN\n",
    "print (\"\\nconfusion_matrix from sklearn: \\n\", conf_mat)\n",
    "print (classification_report(y, y_pred, target_names=[\"No Cancer\", \"Cancer\"]))\n",
    "print(\"logloss\",log_loss(y, 0.06* np.ones(len(y_pred))))\n",
    "\n",
    "print (\"Specificity: \", D/(B+D))\n",
    "print (\"Recall: \", A/(A+C))\n",
    "print (\"Accuracy: \", (A+D)/(A+B+C+D))"
   ]
  },
  {
   "cell_type": "code",
   "execution_count": null,
   "metadata": {
    "collapsed": true
   },
   "outputs": [],
   "source": []
  },
  {
   "cell_type": "markdown",
   "metadata": {},
   "source": [
    "### 3.2 More classifiers:  Random Forest, SVC\n",
    "\n",
    "https://www.kaggle.com/c/data-science-bowl-2017#tutorial"
   ]
  },
  {
   "cell_type": "code",
   "execution_count": 22,
   "metadata": {
    "collapsed": false,
    "scrolled": true
   },
   "outputs": [
    {
     "name": "stdout",
     "output_type": "stream",
     "text": [
      "Logistic regression\n",
      "confusion_matrix: \n",
      " [[203 868]\n",
      " [ 67 296]]\n",
      "             precision    recall  f1-score   support\n",
      "\n",
      "  No Cancer       0.75      0.19      0.30      1071\n",
      "     Cancer       0.25      0.82      0.39       363\n",
      "\n",
      "avg / total       0.63      0.35      0.32      1434\n",
      "\n",
      "logloss 0.740974342371\n",
      "\n",
      "Linear Support Vector Classification\n",
      "confusion_matrix: \n",
      " [[1071    0]\n",
      " [ 363    0]]\n",
      "             precision    recall  f1-score   support\n",
      "\n",
      "  No Cancer       0.75      1.00      0.86      1071\n",
      "     Cancer       0.00      0.00      0.00       363\n",
      "\n",
      "avg / total       0.56      0.75      0.64      1434\n",
      "\n",
      "logloss 0.56686691957\n"
     ]
    },
    {
     "name": "stderr",
     "output_type": "stream",
     "text": [
      "/opt/anaconda/lib/python3.5/site-packages/sklearn/metrics/classification.py:1113: UndefinedMetricWarning: Precision and F-score are ill-defined and being set to 0.0 in labels with no predicted samples.\n",
      "  'precision', 'predicted', average, warn_for)\n"
     ]
    }
   ],
   "source": [
    "x_cols = df.drop(['id', 'cancer'],1).columns  # using all the features\n",
    "X = df.loc[:][x_cols].values\n",
    "X = StandardScaler().fit_transform(X)\n",
    "Y = df.loc[:]['cancer'].values\n",
    "\n",
    "#Logistic regression\n",
    "cv = cross_validation.KFold(X.shape[0],n_folds = 10,random_state=42)\n",
    "y_pred = Y * 0\n",
    "y_pred_prob = np.zeros(len(y))\n",
    "for train, test in cv:\n",
    "    X_train, X_test, y_train, y_test = X[train,:], X[test,:], Y[train], Y[test]\n",
    "    clf = linear_model.LogisticRegression(class_weight={0:0.22,1:0.78},penalty='l1') \n",
    "    clf.fit(X_train, y_train)\n",
    "    y_pred[test] = clf.predict(X_test)\n",
    "    y_pred_prob[test] = clf.predict_proba(X_test)[:,1]\n",
    "print ('Logistic regression')\n",
    "print (\"confusion_matrix: \\n\", confusion_matrix(Y, y_pred))\n",
    "print (classification_report(Y, y_pred, target_names=[\"No Cancer\", \"Cancer\"]))\n",
    "print(\"logloss\",log_loss(Y, y_pred_prob))\n",
    "\n",
    "\n",
    "# LinearSVC\n",
    "kf = KFold(Y, n_folds=3)\n",
    "y_pred = Y * 0\n",
    "y_pred_prob = np.zeros(len(y))\n",
    "for train, test in cv:\n",
    "    X_train, X_test, y_train, y_test = X[train,:], X[test,:], Y[train], Y[test]\n",
    "    clf = svm.LinearSVC(C=0.1,class_weight={0:0.22,1:0.78})\n",
    "    # This is the calibrated classifier which can give probabilistic classifier\n",
    "    calibrated_svc = CalibratedClassifierCV(clf,\n",
    "                                            method='sigmoid',  #sigmoid will use Platt's scaling. Refer to documentation for other methods.\n",
    "                                            cv=3) \n",
    "    calibrated_svc.fit(X_train, y_train)\n",
    "    y_pred[test] = calibrated_svc.predict(X_test)\n",
    "    y_pred_prob[test] = calibrated_svc.predict_proba(X_test)[:,1]\n",
    "print ('\\nLinear Support Vector Classification')\n",
    "print (\"confusion_matrix: \\n\", confusion_matrix(Y, y_pred))\n",
    "print (classification_report(Y, y_pred, target_names=[\"No Cancer\", \"Cancer\"]))\n",
    "print(\"logloss\",log_loss(Y, y_pred_prob))\n"
   ]
  },
  {
   "cell_type": "code",
   "execution_count": null,
   "metadata": {
    "collapsed": true
   },
   "outputs": [],
   "source": []
  }
 ],
 "metadata": {
  "kernelspec": {
   "display_name": "Python [default]",
   "language": "python",
   "name": "python3"
  },
  "language_info": {
   "codemirror_mode": {
    "name": "ipython",
    "version": 3
   },
   "file_extension": ".py",
   "mimetype": "text/x-python",
   "name": "python",
   "nbconvert_exporter": "python",
   "pygments_lexer": "ipython3",
   "version": "3.5.2"
  }
 },
 "nbformat": 4,
 "nbformat_minor": 2
}
