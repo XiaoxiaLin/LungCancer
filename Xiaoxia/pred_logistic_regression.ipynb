{
 "cells": [
  {
   "cell_type": "code",
   "execution_count": 1,
   "metadata": {
    "collapsed": false
   },
   "outputs": [],
   "source": [
    "import numpy as np\n",
    "import pandas as pd"
   ]
  },
  {
   "cell_type": "code",
   "execution_count": 14,
   "metadata": {
    "collapsed": false,
    "scrolled": false
   },
   "outputs": [
    {
     "data": {
      "text/html": [
       "<div>\n",
       "<table border=\"1\" class=\"dataframe\">\n",
       "  <thead>\n",
       "    <tr style=\"text-align: right;\">\n",
       "      <th></th>\n",
       "      <th>Unnamed: 0</th>\n",
       "      <th>max_malig</th>\n",
       "      <th>malig_xstd</th>\n",
       "      <th>locs_x</th>\n",
       "      <th>locs_y</th>\n",
       "      <th>locs_z</th>\n",
       "      <th>norm_locs_x</th>\n",
       "      <th>norm_locs_y</th>\n",
       "      <th>norm_locs_z</th>\n",
       "      <th>norm_#cluster</th>\n",
       "      <th>norm_#noise</th>\n",
       "      <th>weighted_mean_malig</th>\n",
       "      <th>norm_maxsize</th>\n",
       "      <th>id</th>\n",
       "    </tr>\n",
       "  </thead>\n",
       "  <tbody>\n",
       "    <tr>\n",
       "      <th>0</th>\n",
       "      <td>d1a20ef45bb03f93a407b492066f6d88.npy</td>\n",
       "      <td>0.678586</td>\n",
       "      <td>0.044287</td>\n",
       "      <td>0.225455</td>\n",
       "      <td>0.733645</td>\n",
       "      <td>0.554348</td>\n",
       "      <td>0.280260</td>\n",
       "      <td>0.148801</td>\n",
       "      <td>0.175844</td>\n",
       "      <td>0.02</td>\n",
       "      <td>0.0</td>\n",
       "      <td>0.543014</td>\n",
       "      <td>0.02</td>\n",
       "      <td>d1a20ef45bb03f93a407b492066f6d88</td>\n",
       "    </tr>\n",
       "    <tr>\n",
       "      <th>1</th>\n",
       "      <td>de4d3724030397e71d2ac2ab16df5fba.npy</td>\n",
       "      <td>0.661753</td>\n",
       "      <td>0.044759</td>\n",
       "      <td>0.091954</td>\n",
       "      <td>0.261062</td>\n",
       "      <td>0.602374</td>\n",
       "      <td>0.277809</td>\n",
       "      <td>0.176895</td>\n",
       "      <td>0.214705</td>\n",
       "      <td>0.02</td>\n",
       "      <td>0.0</td>\n",
       "      <td>0.529888</td>\n",
       "      <td>0.02</td>\n",
       "      <td>de4d3724030397e71d2ac2ab16df5fba</td>\n",
       "    </tr>\n",
       "    <tr>\n",
       "      <th>2</th>\n",
       "      <td>b4db5b96c65a668a2e63f9a3ed36afe7.npy</td>\n",
       "      <td>0.704852</td>\n",
       "      <td>0.052498</td>\n",
       "      <td>0.338290</td>\n",
       "      <td>0.618605</td>\n",
       "      <td>0.376033</td>\n",
       "      <td>0.201939</td>\n",
       "      <td>0.208565</td>\n",
       "      <td>0.224917</td>\n",
       "      <td>0.02</td>\n",
       "      <td>0.0</td>\n",
       "      <td>0.558471</td>\n",
       "      <td>0.02</td>\n",
       "      <td>b4db5b96c65a668a2e63f9a3ed36afe7</td>\n",
       "    </tr>\n",
       "    <tr>\n",
       "      <th>3</th>\n",
       "      <td>9d44fcc8ab801ac9244da4c016d0541e.npy</td>\n",
       "      <td>0.714538</td>\n",
       "      <td>0.039932</td>\n",
       "      <td>0.398230</td>\n",
       "      <td>0.445736</td>\n",
       "      <td>0.497925</td>\n",
       "      <td>0.247482</td>\n",
       "      <td>0.134158</td>\n",
       "      <td>0.196216</td>\n",
       "      <td>0.02</td>\n",
       "      <td>0.0</td>\n",
       "      <td>0.597992</td>\n",
       "      <td>0.02</td>\n",
       "      <td>9d44fcc8ab801ac9244da4c016d0541e</td>\n",
       "    </tr>\n",
       "    <tr>\n",
       "      <th>4</th>\n",
       "      <td>29a2105c99e7677c30c7fd0b2edb9fcd.npy</td>\n",
       "      <td>0.677024</td>\n",
       "      <td>0.042259</td>\n",
       "      <td>0.333333</td>\n",
       "      <td>0.725888</td>\n",
       "      <td>0.876923</td>\n",
       "      <td>0.275379</td>\n",
       "      <td>0.161950</td>\n",
       "      <td>0.189991</td>\n",
       "      <td>0.02</td>\n",
       "      <td>0.0</td>\n",
       "      <td>0.547139</td>\n",
       "      <td>0.02</td>\n",
       "      <td>29a2105c99e7677c30c7fd0b2edb9fcd</td>\n",
       "    </tr>\n",
       "  </tbody>\n",
       "</table>\n",
       "</div>"
      ],
      "text/plain": [
       "                             Unnamed: 0  max_malig  malig_xstd    locs_x  \\\n",
       "0  d1a20ef45bb03f93a407b492066f6d88.npy   0.678586    0.044287  0.225455   \n",
       "1  de4d3724030397e71d2ac2ab16df5fba.npy   0.661753    0.044759  0.091954   \n",
       "2  b4db5b96c65a668a2e63f9a3ed36afe7.npy   0.704852    0.052498  0.338290   \n",
       "3  9d44fcc8ab801ac9244da4c016d0541e.npy   0.714538    0.039932  0.398230   \n",
       "4  29a2105c99e7677c30c7fd0b2edb9fcd.npy   0.677024    0.042259  0.333333   \n",
       "\n",
       "     locs_y    locs_z  norm_locs_x  norm_locs_y  norm_locs_z  norm_#cluster  \\\n",
       "0  0.733645  0.554348     0.280260     0.148801     0.175844           0.02   \n",
       "1  0.261062  0.602374     0.277809     0.176895     0.214705           0.02   \n",
       "2  0.618605  0.376033     0.201939     0.208565     0.224917           0.02   \n",
       "3  0.445736  0.497925     0.247482     0.134158     0.196216           0.02   \n",
       "4  0.725888  0.876923     0.275379     0.161950     0.189991           0.02   \n",
       "\n",
       "   norm_#noise  weighted_mean_malig  norm_maxsize  \\\n",
       "0          0.0             0.543014          0.02   \n",
       "1          0.0             0.529888          0.02   \n",
       "2          0.0             0.558471          0.02   \n",
       "3          0.0             0.597992          0.02   \n",
       "4          0.0             0.547139          0.02   \n",
       "\n",
       "                                 id  \n",
       "0  d1a20ef45bb03f93a407b492066f6d88  \n",
       "1  de4d3724030397e71d2ac2ab16df5fba  \n",
       "2  b4db5b96c65a668a2e63f9a3ed36afe7  \n",
       "3  9d44fcc8ab801ac9244da4c016d0541e  \n",
       "4  29a2105c99e7677c30c7fd0b2edb9fcd  "
      ]
     },
     "execution_count": 14,
     "metadata": {},
     "output_type": "execute_result"
    }
   ],
   "source": [
    "df_feature = pd.read_csv(\"./model_v24_feature_matrix.csv\")\n",
    "df_feature['id'] = df_feature['Unnamed: 0'].apply(lambda x: x.split('.')[0])\n",
    "df_feature.head()"
   ]
  },
  {
   "cell_type": "code",
   "execution_count": 15,
   "metadata": {
    "collapsed": false,
    "scrolled": true
   },
   "outputs": [
    {
     "data": {
      "text/html": [
       "<div>\n",
       "<table border=\"1\" class=\"dataframe\">\n",
       "  <thead>\n",
       "    <tr style=\"text-align: right;\">\n",
       "      <th></th>\n",
       "      <th>id</th>\n",
       "      <th>cancer</th>\n",
       "    </tr>\n",
       "  </thead>\n",
       "  <tbody>\n",
       "    <tr>\n",
       "      <th>0</th>\n",
       "      <td>0015ceb851d7251b8f399e39779d1e7d</td>\n",
       "      <td>1</td>\n",
       "    </tr>\n",
       "    <tr>\n",
       "      <th>1</th>\n",
       "      <td>0030a160d58723ff36d73f41b170ec21</td>\n",
       "      <td>0</td>\n",
       "    </tr>\n",
       "    <tr>\n",
       "      <th>2</th>\n",
       "      <td>003f41c78e6acfa92430a057ac0b306e</td>\n",
       "      <td>0</td>\n",
       "    </tr>\n",
       "    <tr>\n",
       "      <th>3</th>\n",
       "      <td>006b96310a37b36cccb2ab48d10b49a3</td>\n",
       "      <td>1</td>\n",
       "    </tr>\n",
       "    <tr>\n",
       "      <th>4</th>\n",
       "      <td>008464bb8521d09a42985dd8add3d0d2</td>\n",
       "      <td>1</td>\n",
       "    </tr>\n",
       "  </tbody>\n",
       "</table>\n",
       "</div>"
      ],
      "text/plain": [
       "                                 id  cancer\n",
       "0  0015ceb851d7251b8f399e39779d1e7d       1\n",
       "1  0030a160d58723ff36d73f41b170ec21       0\n",
       "2  003f41c78e6acfa92430a057ac0b306e       0\n",
       "3  006b96310a37b36cccb2ab48d10b49a3       1\n",
       "4  008464bb8521d09a42985dd8add3d0d2       1"
      ]
     },
     "execution_count": 15,
     "metadata": {},
     "output_type": "execute_result"
    }
   ],
   "source": [
    "df_labels = pd.read_csv('/home/lin/data/stage1_labels.csv')\n",
    "df_labels.head()"
   ]
  },
  {
   "cell_type": "code",
   "execution_count": 16,
   "metadata": {
    "collapsed": false,
    "scrolled": true
   },
   "outputs": [
    {
     "data": {
      "text/html": [
       "<div>\n",
       "<table border=\"1\" class=\"dataframe\">\n",
       "  <thead>\n",
       "    <tr style=\"text-align: right;\">\n",
       "      <th></th>\n",
       "      <th>Unnamed: 0</th>\n",
       "      <th>max_malig</th>\n",
       "      <th>malig_xstd</th>\n",
       "      <th>locs_x</th>\n",
       "      <th>locs_y</th>\n",
       "      <th>locs_z</th>\n",
       "      <th>norm_locs_x</th>\n",
       "      <th>norm_locs_y</th>\n",
       "      <th>norm_locs_z</th>\n",
       "      <th>norm_#cluster</th>\n",
       "      <th>norm_#noise</th>\n",
       "      <th>weighted_mean_malig</th>\n",
       "      <th>norm_maxsize</th>\n",
       "      <th>id</th>\n",
       "      <th>cancer</th>\n",
       "    </tr>\n",
       "  </thead>\n",
       "  <tbody>\n",
       "    <tr>\n",
       "      <th>1</th>\n",
       "      <td>de4d3724030397e71d2ac2ab16df5fba.npy</td>\n",
       "      <td>0.661753</td>\n",
       "      <td>0.044759</td>\n",
       "      <td>0.091954</td>\n",
       "      <td>0.261062</td>\n",
       "      <td>0.602374</td>\n",
       "      <td>0.277809</td>\n",
       "      <td>0.176895</td>\n",
       "      <td>0.214705</td>\n",
       "      <td>0.02</td>\n",
       "      <td>0.0</td>\n",
       "      <td>0.529888</td>\n",
       "      <td>0.02</td>\n",
       "      <td>de4d3724030397e71d2ac2ab16df5fba</td>\n",
       "      <td>0.0</td>\n",
       "    </tr>\n",
       "    <tr>\n",
       "      <th>3</th>\n",
       "      <td>9d44fcc8ab801ac9244da4c016d0541e.npy</td>\n",
       "      <td>0.714538</td>\n",
       "      <td>0.039932</td>\n",
       "      <td>0.398230</td>\n",
       "      <td>0.445736</td>\n",
       "      <td>0.497925</td>\n",
       "      <td>0.247482</td>\n",
       "      <td>0.134158</td>\n",
       "      <td>0.196216</td>\n",
       "      <td>0.02</td>\n",
       "      <td>0.0</td>\n",
       "      <td>0.597992</td>\n",
       "      <td>0.02</td>\n",
       "      <td>9d44fcc8ab801ac9244da4c016d0541e</td>\n",
       "      <td>0.0</td>\n",
       "    </tr>\n",
       "    <tr>\n",
       "      <th>4</th>\n",
       "      <td>29a2105c99e7677c30c7fd0b2edb9fcd.npy</td>\n",
       "      <td>0.677024</td>\n",
       "      <td>0.042259</td>\n",
       "      <td>0.333333</td>\n",
       "      <td>0.725888</td>\n",
       "      <td>0.876923</td>\n",
       "      <td>0.275379</td>\n",
       "      <td>0.161950</td>\n",
       "      <td>0.189991</td>\n",
       "      <td>0.02</td>\n",
       "      <td>0.0</td>\n",
       "      <td>0.547139</td>\n",
       "      <td>0.02</td>\n",
       "      <td>29a2105c99e7677c30c7fd0b2edb9fcd</td>\n",
       "      <td>0.0</td>\n",
       "    </tr>\n",
       "    <tr>\n",
       "      <th>5</th>\n",
       "      <td>c0f0eb84e70b19544943bed0ea6bd374.npy</td>\n",
       "      <td>0.672394</td>\n",
       "      <td>0.044418</td>\n",
       "      <td>0.330000</td>\n",
       "      <td>0.378601</td>\n",
       "      <td>0.881041</td>\n",
       "      <td>0.234315</td>\n",
       "      <td>0.187273</td>\n",
       "      <td>0.173790</td>\n",
       "      <td>0.02</td>\n",
       "      <td>0.0</td>\n",
       "      <td>0.546177</td>\n",
       "      <td>0.02</td>\n",
       "      <td>c0f0eb84e70b19544943bed0ea6bd374</td>\n",
       "      <td>1.0</td>\n",
       "    </tr>\n",
       "    <tr>\n",
       "      <th>7</th>\n",
       "      <td>252b5fd5c4a5eb77be4fbe41df49bd07.npy</td>\n",
       "      <td>0.673540</td>\n",
       "      <td>0.040951</td>\n",
       "      <td>0.335793</td>\n",
       "      <td>0.614286</td>\n",
       "      <td>0.556738</td>\n",
       "      <td>0.265907</td>\n",
       "      <td>0.185724</td>\n",
       "      <td>0.198324</td>\n",
       "      <td>0.02</td>\n",
       "      <td>0.0</td>\n",
       "      <td>0.556564</td>\n",
       "      <td>0.02</td>\n",
       "      <td>252b5fd5c4a5eb77be4fbe41df49bd07</td>\n",
       "      <td>0.0</td>\n",
       "    </tr>\n",
       "  </tbody>\n",
       "</table>\n",
       "</div>"
      ],
      "text/plain": [
       "                             Unnamed: 0  max_malig  malig_xstd    locs_x  \\\n",
       "1  de4d3724030397e71d2ac2ab16df5fba.npy   0.661753    0.044759  0.091954   \n",
       "3  9d44fcc8ab801ac9244da4c016d0541e.npy   0.714538    0.039932  0.398230   \n",
       "4  29a2105c99e7677c30c7fd0b2edb9fcd.npy   0.677024    0.042259  0.333333   \n",
       "5  c0f0eb84e70b19544943bed0ea6bd374.npy   0.672394    0.044418  0.330000   \n",
       "7  252b5fd5c4a5eb77be4fbe41df49bd07.npy   0.673540    0.040951  0.335793   \n",
       "\n",
       "     locs_y    locs_z  norm_locs_x  norm_locs_y  norm_locs_z  norm_#cluster  \\\n",
       "1  0.261062  0.602374     0.277809     0.176895     0.214705           0.02   \n",
       "3  0.445736  0.497925     0.247482     0.134158     0.196216           0.02   \n",
       "4  0.725888  0.876923     0.275379     0.161950     0.189991           0.02   \n",
       "5  0.378601  0.881041     0.234315     0.187273     0.173790           0.02   \n",
       "7  0.614286  0.556738     0.265907     0.185724     0.198324           0.02   \n",
       "\n",
       "   norm_#noise  weighted_mean_malig  norm_maxsize  \\\n",
       "1          0.0             0.529888          0.02   \n",
       "3          0.0             0.597992          0.02   \n",
       "4          0.0             0.547139          0.02   \n",
       "5          0.0             0.546177          0.02   \n",
       "7          0.0             0.556564          0.02   \n",
       "\n",
       "                                 id  cancer  \n",
       "1  de4d3724030397e71d2ac2ab16df5fba     0.0  \n",
       "3  9d44fcc8ab801ac9244da4c016d0541e     0.0  \n",
       "4  29a2105c99e7677c30c7fd0b2edb9fcd     0.0  \n",
       "5  c0f0eb84e70b19544943bed0ea6bd374     1.0  \n",
       "7  252b5fd5c4a5eb77be4fbe41df49bd07     0.0  "
      ]
     },
     "execution_count": 16,
     "metadata": {},
     "output_type": "execute_result"
    }
   ],
   "source": [
    "df = pd.merge(left=df_feature, right=df_labels,how='outer',on='id').dropna()\n",
    "df.head()"
   ]
  },
  {
   "cell_type": "code",
   "execution_count": 20,
   "metadata": {
    "collapsed": false
   },
   "outputs": [
    {
     "name": "stdout",
     "output_type": "stream",
     "text": [
      "data frame shape (1257, 15)\n",
      "number of cancer patient: 315.0\n",
      "how un-balance is the data: 0.25059665871121717\n"
     ]
    }
   ],
   "source": [
    "print (\"data frame shape\", df.shape)\n",
    "print (\"number of cancer patient:\",df['cancer'].sum() )\n",
    "print (\"how un-balance is the data:\", df['cancer'].sum()/df.shape[0])"
   ]
  },
  {
   "cell_type": "code",
   "execution_count": 25,
   "metadata": {
    "collapsed": false
   },
   "outputs": [
    {
     "name": "stdout",
     "output_type": "stream",
     "text": [
      "(1257, 12) (1257,)\n",
      "training set shape:  (1131, 12) (1131,) \n",
      "test set shape:  (126, 12) (126,)\n"
     ]
    }
   ],
   "source": [
    "from sklearn import neighbors, linear_model\n",
    "\n",
    "x_cols = df.drop(['id', 'cancer', 'Unnamed: 0'],1).columns\n",
    "X = df.loc[:][x_cols].values\n",
    "Y = df.loc[:]['cancer'].values\n",
    "n_samples = len(Y)\n",
    "print (X.shape, Y.shape)\n",
    "X_train = X[ :int(0.9 * n_samples)]\n",
    "Y_train = Y[:int(0.9 * n_samples)]\n",
    "X_test = X[int(0.9 * n_samples):]\n",
    "Y_test = Y[int(0.9 * n_samples):]\n",
    "print (\"training set shape: \", X_train.shape, Y_train.shape, \"\\ntest set shape: \",X_test.shape, Y_test.shape )\n",
    "\n",
    "knn = neighbors.KNeighborsClassifier()\n",
    "logistic = linear_model.LogisticRegression(class_weight={0:0.3,1:0.7})\n",
    "\n",
    "# print('KNN score: %f' % knn.fit(X_train, Y_train).score(X_test, Y_test))\n",
    "# print('LogisticRegression score: %f'% logistic.fit(X_train, Y_train).score(X_test, Y_test))\n"
   ]
  },
  {
   "cell_type": "code",
   "execution_count": 29,
   "metadata": {
    "collapsed": false
   },
   "outputs": [
    {
     "data": {
      "text/plain": [
       "0.0"
      ]
     },
     "execution_count": 29,
     "metadata": {},
     "output_type": "execute_result"
    }
   ],
   "source": [
    "lr = logistic.fit(X_train, Y_train) \n",
    "yHat = lr.predict(X_test)\n",
    "sum(yHat)"
   ]
  },
  {
   "cell_type": "code",
   "execution_count": 27,
   "metadata": {
    "collapsed": false
   },
   "outputs": [
    {
     "name": "stdout",
     "output_type": "stream",
     "text": [
      "LogisticRegression score: 0.746032\n"
     ]
    }
   ],
   "source": [
    "print('LogisticRegression score: %f'% logistic.fit(X_train, Y_train).score(X_test, Y_test))"
   ]
  },
  {
   "cell_type": "code",
   "execution_count": 31,
   "metadata": {
    "collapsed": false
   },
   "outputs": [
    {
     "name": "stdout",
     "output_type": "stream",
     "text": [
      "0.0 0.0\n",
      "0.0 0.0\n",
      "0.0 0.0\n",
      "0.0 1.0\n",
      "0.0 0.0\n",
      "0.0 1.0\n",
      "0.0 1.0\n",
      "0.0 0.0\n",
      "0.0 0.0\n",
      "0.0 0.0\n"
     ]
    }
   ],
   "source": [
    "for i,j in zip (yHat[:10], Y):\n",
    "    print (i,j)"
   ]
  },
  {
   "cell_type": "code",
   "execution_count": null,
   "metadata": {
    "collapsed": true
   },
   "outputs": [],
   "source": []
  },
  {
   "cell_type": "code",
   "execution_count": null,
   "metadata": {
    "collapsed": true
   },
   "outputs": [],
   "source": []
  }
 ],
 "metadata": {
  "kernelspec": {
   "display_name": "Python [default]",
   "language": "python",
   "name": "python3"
  },
  "language_info": {
   "codemirror_mode": {
    "name": "ipython",
    "version": 3
   },
   "file_extension": ".py",
   "mimetype": "text/x-python",
   "name": "python",
   "nbconvert_exporter": "python",
   "pygments_lexer": "ipython3",
   "version": "3.5.2"
  }
 },
 "nbformat": 4,
 "nbformat_minor": 2
}
