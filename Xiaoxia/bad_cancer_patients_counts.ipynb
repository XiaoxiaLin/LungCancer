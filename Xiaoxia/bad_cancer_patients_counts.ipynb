{
 "cells": [
  {
   "cell_type": "markdown",
   "metadata": {},
   "source": [
    "### Issue:\n",
    "\n",
    "We have 219 patients with problem during preprocessing stage. We want to check how many of them have cancer, to decide if we can discard this patients, and move forward to next stage (generating batches, trying different CNN arquitectures, etc.)\n",
    "\n",
    "### Result:  \n",
    "51 patients with cancer. \n",
    "\n",
    "### Desicion:   <font color=\"red\"> to be decided </font>"
   ]
  },
  {
   "cell_type": "code",
   "execution_count": 194,
   "metadata": {
    "collapsed": true
   },
   "outputs": [],
   "source": [
    "import os\n",
    "import numpy as np \n",
    "import pandas as pd"
   ]
  },
  {
   "cell_type": "code",
   "execution_count": 195,
   "metadata": {
    "collapsed": false,
    "scrolled": true
   },
   "outputs": [
    {
     "data": {
      "text/html": [
       "<div>\n",
       "<table border=\"1\" class=\"dataframe\">\n",
       "  <thead>\n",
       "    <tr style=\"text-align: right;\">\n",
       "      <th></th>\n",
       "      <th>cancer</th>\n",
       "    </tr>\n",
       "    <tr>\n",
       "      <th>id</th>\n",
       "      <th></th>\n",
       "    </tr>\n",
       "  </thead>\n",
       "  <tbody>\n",
       "    <tr>\n",
       "      <th>0015ceb851d7251b8f399e39779d1e7d</th>\n",
       "      <td>1</td>\n",
       "    </tr>\n",
       "    <tr>\n",
       "      <th>0030a160d58723ff36d73f41b170ec21</th>\n",
       "      <td>0</td>\n",
       "    </tr>\n",
       "    <tr>\n",
       "      <th>003f41c78e6acfa92430a057ac0b306e</th>\n",
       "      <td>0</td>\n",
       "    </tr>\n",
       "    <tr>\n",
       "      <th>006b96310a37b36cccb2ab48d10b49a3</th>\n",
       "      <td>1</td>\n",
       "    </tr>\n",
       "    <tr>\n",
       "      <th>008464bb8521d09a42985dd8add3d0d2</th>\n",
       "      <td>1</td>\n",
       "    </tr>\n",
       "  </tbody>\n",
       "</table>\n",
       "</div>"
      ],
      "text/plain": [
       "                                  cancer\n",
       "id                                      \n",
       "0015ceb851d7251b8f399e39779d1e7d       1\n",
       "0030a160d58723ff36d73f41b170ec21       0\n",
       "003f41c78e6acfa92430a057ac0b306e       0\n",
       "006b96310a37b36cccb2ab48d10b49a3       1\n",
       "008464bb8521d09a42985dd8add3d0d2       1"
      ]
     },
     "execution_count": 195,
     "metadata": {},
     "output_type": "execute_result"
    }
   ],
   "source": [
    "# Some constants \n",
    "INPUT_FOLDER = '/home/lin/data/stage1/'\n",
    "patients = os.listdir(INPUT_FOLDER)\n",
    "patients.sort()\n",
    "labels = pd.read_csv('/home/lin/data/stage1_labels.csv', index_col=0)\n",
    "labels.head()"
   ]
  },
  {
   "cell_type": "code",
   "execution_count": 208,
   "metadata": {
    "collapsed": false
   },
   "outputs": [
    {
     "name": "stdout",
     "output_type": "stream",
     "text": [
      "1\n",
      "0\n"
     ]
    }
   ],
   "source": [
    "print (labels.cancer['0015ceb851d7251b8f399e39779d1e7d'])\n",
    "print (labels.cancer['0030a160d58723ff36d73f41b170ec21'])"
   ]
  },
  {
   "cell_type": "markdown",
   "metadata": {},
   "source": [
    "### Counts\n",
    "- 51 out of 190 are patients with cancer.\n",
    "- 29 are giving us error."
   ]
  },
  {
   "cell_type": "code",
   "execution_count": 197,
   "metadata": {
    "collapsed": false
   },
   "outputs": [
    {
     "data": {
      "text/plain": [
       "['6cf71f5017945c9dd8bc0f5126eeef5b',\n",
       " '68a1f729eb1e2a791fe8170ac6631828',\n",
       " '4a1391269629d20359325873d11413c9',\n",
       " '313efe2e7ecf18a8d484f8b42f30da3e',\n",
       " '88acee40bb9d8cb06898d1c5de01d3c8']"
      ]
     },
     "execution_count": 197,
     "metadata": {},
     "output_type": "execute_result"
    }
   ],
   "source": [
    "PATH = \"../../data/patients_error.txt\"\n",
    "import pickle\n",
    "with open(PATH,\"rb\") as f:\n",
    "    bad_patients = pickle.load(f)\n",
    "\n",
    "bad_patients[:5]"
   ]
  },
  {
   "cell_type": "code",
   "execution_count": 207,
   "metadata": {
    "collapsed": false,
    "scrolled": true
   },
   "outputs": [
    {
     "name": "stdout",
     "output_type": "stream",
     "text": [
      "error patient 88acee40bb9d8cb06898d1c5de01d3c8\n",
      "error patient a0fc609febe3eef5a4713a22996cf8e5\n",
      "error patient c25876fb40d6f8dafd1ecb243193dd3f\n",
      "error patient cd6be62834c72756738935f904ec9c2c\n",
      "error patient 33387bea2cacf6127035cc7033036a02\n",
      "error patient aa59b7a4aa4dfb2489feea527eda3e4d\n",
      "error patient 519ad4ead3e61d2d71088ac8e46f25b6\n",
      "error patient 649fd56ef9809019b57261fcf9574d76\n",
      "error patient 85d6fb4a08853d370935a75de7495a27\n",
      "error patient be3e35bf8395366d235b8bcfc71a05ee\n",
      "error patient 83728b6eed98845556bfc870b7567883\n",
      "error patient a2a4bc7708f6831470d757cd6f32bffe\n",
      "error patient efcb6def7a2080243052b6046186ab24\n",
      "error patient 2a3e6ecf9499607ef4fd14b436136b0c\n",
      "error patient 9de48cf43611478ffc1fef051b75dc8c\n",
      "error patient 7fd5be8ec9c236c314f801384bd89c0c\n",
      "error patient e6d8ae8c3b0817df994a1ce3b37a7efb\n",
      "error patient 9b871732b3935661e7639e84a6ab9747\n",
      "error patient d4a075768abe7fe43ad1caac92515256\n",
      "error patient 505405b3e70fb24b92e6a8a5b7ed339c\n",
      "error patient fb55849cee6473974612c17f094a38cd\n",
      "error patient aec5a58fea38b77b964007aa6975c049\n",
      "error patient cd68d1a14cc504e3f7434d5cc324744d\n",
      "error patient ac4056071f3cc98489b9db3aebfe2b6a\n",
      "error patient 6c71617e2cee498fd3dd20956bb90a3b\n",
      "error patient e33c25d0dbca5e54385f2100ce523467\n",
      "error patient d1131708024b32032ade1ef48d115915\n",
      "error patient 026470d51482c93efc18b9803159c960\n",
      "error patient 80938b4f531fa2334c13d829339e1356\n",
      "219 bad patients.\n",
      "29 error patient\n",
      "Out of 190 checked patients, 51 patient have cancer\n"
     ]
    }
   ],
   "source": [
    "cancer_no_cancer = []\n",
    "error_patients=[]\n",
    "for idx, patient in enumerate(bad_patients):     \n",
    "    try: \n",
    "        cancer_no_cancer.append(labels.cancer[patient])\n",
    "#         if labels.cancer[patient]==1:\n",
    "#             print (patient)\n",
    "    except:\n",
    "        corrup.append((idx,patient))\n",
    "        print (\"error patient\", patient)\n",
    "        error_patients.append(patient)\n",
    "\n",
    "print (\"%d bad patients.\"%len(bad_patients))\n",
    "print (\"%d error patient\"%len(error_patients))\n",
    "print (\"Out of %d checked patients, %d patient have cancer\"%(len(cancer_no_cancer),sum(cancer_no_cancer)))\n"
   ]
  },
  {
   "cell_type": "markdown",
   "metadata": {
    "collapsed": true
   },
   "source": [
    "### Analysis"
   ]
  },
  {
   "cell_type": "code",
   "execution_count": 200,
   "metadata": {
    "collapsed": false
   },
   "outputs": [
    {
     "data": {
      "text/plain": [
       "0    1035\n",
       "1     362\n",
       "Name: cancer, dtype: int64"
      ]
     },
     "execution_count": 200,
     "metadata": {},
     "output_type": "execute_result"
    }
   ],
   "source": [
    "labels.cancer.value_counts()"
   ]
  },
  {
   "cell_type": "code",
   "execution_count": 201,
   "metadata": {
    "collapsed": false
   },
   "outputs": [
    {
     "data": {
      "text/plain": [
       "0.3497584541062802"
      ]
     },
     "execution_count": 201,
     "metadata": {},
     "output_type": "execute_result"
    }
   ],
   "source": [
    "362/1035"
   ]
  },
  {
   "cell_type": "markdown",
   "metadata": {},
   "source": [
    "In the worst case, if all the \"error patients\" are cancer patients. Then we would have 34.5% cancer  vs  65.5% no cancer, which is similar to the percentage in the original stage1 dataset."
   ]
  },
  {
   "cell_type": "code",
   "execution_count": 206,
   "metadata": {
    "collapsed": false,
    "scrolled": true
   },
   "outputs": [
    {
     "data": {
      "text/plain": [
       "0.34558823529411764"
      ]
     },
     "execution_count": 206,
     "metadata": {},
     "output_type": "execute_result"
    }
   ],
   "source": [
    "(362-51-29)/(1035-219)"
   ]
  },
  {
   "cell_type": "code",
   "execution_count": null,
   "metadata": {
    "collapsed": true
   },
   "outputs": [],
   "source": []
  }
 ],
 "metadata": {
  "kernelspec": {
   "display_name": "Python [default]",
   "language": "python",
   "name": "python3"
  },
  "language_info": {
   "codemirror_mode": {
    "name": "ipython",
    "version": 3
   },
   "file_extension": ".py",
   "mimetype": "text/x-python",
   "name": "python",
   "nbconvert_exporter": "python",
   "pygments_lexer": "ipython3",
   "version": "3.5.2"
  }
 },
 "nbformat": 4,
 "nbformat_minor": 2
}
