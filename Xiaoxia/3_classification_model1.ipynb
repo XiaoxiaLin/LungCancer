{
 "cells": [
  {
   "cell_type": "code",
   "execution_count": null,
   "metadata": {
    "collapsed": true
   },
   "outputs": [],
   "source": [
    "%reset -f"
   ]
  },
  {
   "cell_type": "code",
   "execution_count": 2,
   "metadata": {
    "collapsed": false
   },
   "outputs": [
    {
     "name": "stderr",
     "output_type": "stream",
     "text": [
      "/opt/anaconda/lib/python3.5/site-packages/sklearn/cross_validation.py:44: DeprecationWarning: This module was deprecated in version 0.18 in favor of the model_selection module into which all the refactored classes and functions are moved. Also note that the interface of the new CV iterators are different from that of this module. This module will be removed in 0.20.\n",
      "  \"This module will be removed in 0.20.\", DeprecationWarning)\n"
     ]
    }
   ],
   "source": [
    "# import session\n",
    "import numpy as np\n",
    "import pandas as pd\n",
    "from pandas.tools.plotting import scatter_matrix\n",
    "import matplotlib.pyplot as plt\n",
    "%matplotlib inline\n",
    "\n",
    "from sklearn import neighbors, linear_model, metrics, tree, cross_validation, svm\n",
    "from sklearn.preprocessing import StandardScaler\n",
    "from sklearn.cross_validation import cross_val_score, StratifiedKFold as KFold\n",
    "from sklearn.calibration import CalibratedClassifierCV\n",
    "from sklearn.base import BaseEstimator\n",
    "from sklearn.linear_model import LogisticRegression\n",
    "from sklearn.neural_network import MLPClassifier\n",
    "\n",
    "from sklearn.metrics import confusion_matrix\n",
    "from sklearn.metrics import classification_report\n",
    "from sklearn.metrics import log_loss\n",
    "from sklearn.metrics import roc_auc_score\n",
    "\n",
    "from sklearn.model_selection import train_test_split, cross_val_predict, StratifiedKFold\n",
    "from sklearn.model_selection import GridSearchCV\n",
    "\n",
    "from sklearn.ensemble import ExtraTreesRegressor as XTR\n",
    "from sklearn.ensemble import RandomForestClassifier as RF\n"
   ]
  },
  {
   "cell_type": "markdown",
   "metadata": {},
   "source": [
    "## 1. Preparing data for classification\n",
    "\n",
    "### 1.1 Stage1 data"
   ]
  },
  {
   "cell_type": "code",
   "execution_count": 121,
   "metadata": {
    "collapsed": false
   },
   "outputs": [
    {
     "name": "stdout",
     "output_type": "stream",
     "text": [
      "Total 1595 labels\n",
      "(1434, 16)\n"
     ]
    },
    {
     "data": {
      "text/html": [
       "<div>\n",
       "<table border=\"1\" class=\"dataframe\">\n",
       "  <thead>\n",
       "    <tr style=\"text-align: right;\">\n",
       "      <th></th>\n",
       "      <th>max_malig</th>\n",
       "      <th>max_spiculation</th>\n",
       "      <th>max_lobulation</th>\n",
       "      <th>max_diameter</th>\n",
       "      <th>xsd_malig</th>\n",
       "      <th>xsd_spiculation</th>\n",
       "      <th>xmax_lobulation</th>\n",
       "      <th>xsd_diameter</th>\n",
       "      <th>loc_from_malig_x</th>\n",
       "      <th>loc_from_malig_y</th>\n",
       "      <th>loc_from_malig_z</th>\n",
       "      <th>std_locs_x</th>\n",
       "      <th>std_locs_y</th>\n",
       "      <th>std_locs_z</th>\n",
       "      <th>id</th>\n",
       "      <th>cancer</th>\n",
       "    </tr>\n",
       "  </thead>\n",
       "  <tbody>\n",
       "    <tr>\n",
       "      <th>0</th>\n",
       "      <td>0.697503</td>\n",
       "      <td>0.335968</td>\n",
       "      <td>0.385324</td>\n",
       "      <td>0.339156</td>\n",
       "      <td>0.148894</td>\n",
       "      <td>0.089260</td>\n",
       "      <td>0.385324</td>\n",
       "      <td>0.085551</td>\n",
       "      <td>0.753571</td>\n",
       "      <td>0.528571</td>\n",
       "      <td>0.434028</td>\n",
       "      <td>0.244258</td>\n",
       "      <td>0.163056</td>\n",
       "      <td>0.242655</td>\n",
       "      <td>d777a77cc7a2ec2f1eed68799cc9075c</td>\n",
       "      <td>1</td>\n",
       "    </tr>\n",
       "    <tr>\n",
       "      <th>1</th>\n",
       "      <td>0.666373</td>\n",
       "      <td>0.345718</td>\n",
       "      <td>0.391515</td>\n",
       "      <td>0.359679</td>\n",
       "      <td>0.148370</td>\n",
       "      <td>0.082181</td>\n",
       "      <td>0.391515</td>\n",
       "      <td>0.078761</td>\n",
       "      <td>0.088889</td>\n",
       "      <td>0.416667</td>\n",
       "      <td>0.304487</td>\n",
       "      <td>0.243736</td>\n",
       "      <td>0.159560</td>\n",
       "      <td>0.216008</td>\n",
       "      <td>1631637f08f27347e8f23d7a0e18c100</td>\n",
       "      <td>0</td>\n",
       "    </tr>\n",
       "    <tr>\n",
       "      <th>2</th>\n",
       "      <td>0.701259</td>\n",
       "      <td>0.347774</td>\n",
       "      <td>0.394380</td>\n",
       "      <td>0.360565</td>\n",
       "      <td>0.159877</td>\n",
       "      <td>0.084858</td>\n",
       "      <td>0.394380</td>\n",
       "      <td>0.079833</td>\n",
       "      <td>0.706061</td>\n",
       "      <td>0.418182</td>\n",
       "      <td>0.799363</td>\n",
       "      <td>0.231711</td>\n",
       "      <td>0.155614</td>\n",
       "      <td>0.217998</td>\n",
       "      <td>9065f2b133129c5747d42db18a424749</td>\n",
       "      <td>1</td>\n",
       "    </tr>\n",
       "    <tr>\n",
       "      <th>3</th>\n",
       "      <td>0.690341</td>\n",
       "      <td>0.343430</td>\n",
       "      <td>0.400079</td>\n",
       "      <td>0.354308</td>\n",
       "      <td>0.147548</td>\n",
       "      <td>0.088106</td>\n",
       "      <td>0.400079</td>\n",
       "      <td>0.085576</td>\n",
       "      <td>0.315789</td>\n",
       "      <td>0.112281</td>\n",
       "      <td>0.555556</td>\n",
       "      <td>0.233297</td>\n",
       "      <td>0.183184</td>\n",
       "      <td>0.207843</td>\n",
       "      <td>e3a9a6f8d21c6c459728066bcf18c615</td>\n",
       "      <td>0</td>\n",
       "    </tr>\n",
       "    <tr>\n",
       "      <th>4</th>\n",
       "      <td>0.726764</td>\n",
       "      <td>0.341739</td>\n",
       "      <td>0.396748</td>\n",
       "      <td>0.356204</td>\n",
       "      <td>0.147422</td>\n",
       "      <td>0.088995</td>\n",
       "      <td>0.396748</td>\n",
       "      <td>0.086762</td>\n",
       "      <td>0.885294</td>\n",
       "      <td>0.582353</td>\n",
       "      <td>0.373563</td>\n",
       "      <td>0.249184</td>\n",
       "      <td>0.183342</td>\n",
       "      <td>0.214586</td>\n",
       "      <td>f39a1e54d79731e4417aa8159d19b7d4</td>\n",
       "      <td>0</td>\n",
       "    </tr>\n",
       "  </tbody>\n",
       "</table>\n",
       "</div>"
      ],
      "text/plain": [
       "   max_malig  max_spiculation  max_lobulation  max_diameter  xsd_malig  \\\n",
       "0   0.697503         0.335968        0.385324      0.339156   0.148894   \n",
       "1   0.666373         0.345718        0.391515      0.359679   0.148370   \n",
       "2   0.701259         0.347774        0.394380      0.360565   0.159877   \n",
       "3   0.690341         0.343430        0.400079      0.354308   0.147548   \n",
       "4   0.726764         0.341739        0.396748      0.356204   0.147422   \n",
       "\n",
       "   xsd_spiculation  xmax_lobulation  xsd_diameter  loc_from_malig_x  \\\n",
       "0         0.089260         0.385324      0.085551          0.753571   \n",
       "1         0.082181         0.391515      0.078761          0.088889   \n",
       "2         0.084858         0.394380      0.079833          0.706061   \n",
       "3         0.088106         0.400079      0.085576          0.315789   \n",
       "4         0.088995         0.396748      0.086762          0.885294   \n",
       "\n",
       "   loc_from_malig_y  loc_from_malig_z  std_locs_x  std_locs_y  std_locs_z  \\\n",
       "0          0.528571          0.434028    0.244258    0.163056    0.242655   \n",
       "1          0.416667          0.304487    0.243736    0.159560    0.216008   \n",
       "2          0.418182          0.799363    0.231711    0.155614    0.217998   \n",
       "3          0.112281          0.555556    0.233297    0.183184    0.207843   \n",
       "4          0.582353          0.373563    0.249184    0.183342    0.214586   \n",
       "\n",
       "                                 id  cancer  \n",
       "0  d777a77cc7a2ec2f1eed68799cc9075c       1  \n",
       "1  1631637f08f27347e8f23d7a0e18c100       0  \n",
       "2  9065f2b133129c5747d42db18a424749       1  \n",
       "3  e3a9a6f8d21c6c459728066bcf18c615       0  \n",
       "4  f39a1e54d79731e4417aa8159d19b7d4       0  "
      ]
     },
     "execution_count": 121,
     "metadata": {},
     "output_type": "execute_result"
    }
   ],
   "source": [
    "df_feature = pd.read_csv(\"./feature_matrix_model1_stage1.csv\")\n",
    "df_feature['id'] = df_feature['Unnamed: 0'].apply(lambda x: x.split('.')[0])\n",
    "# print (df_feature.shape)\n",
    "\n",
    "df_labels_1 =pd.read_csv('/home/lin/data/stage1_labels.csv')\n",
    "# print (df_labels_1.shape)\n",
    "\n",
    "df_labels_2 = pd.read_csv('/home/lin/data/stage1_solution.csv')\n",
    "df_labels_2 = df_labels_2.drop(['Usage'],1)\n",
    "# print (df_labels_2.shape)\n",
    "\n",
    "df_labels = df_labels_1.append(df_labels_2)\n",
    "print (\"Total %d labels\"%df_labels.shape[0])\n",
    "\n",
    "df = pd.merge(left=df_feature, right=df_labels,how='outer',on='id').dropna()\n",
    "df = df.drop(['Unnamed: 0'],1)\n",
    "print (df.shape)\n",
    "df.head()"
   ]
  },
  {
   "cell_type": "markdown",
   "metadata": {},
   "source": [
    "## 2. Data exploration\n",
    "\n",
    "### 2.1 Basic estadistics\n",
    "\n",
    "+ How many patients do we have for training-test? --> 1257\n",
    "+ How many cancer patients? --> 315\n",
    "+ What percentage is the cancer patient? --> 25%\n"
   ]
  },
  {
   "cell_type": "code",
   "execution_count": 36,
   "metadata": {
    "collapsed": false
   },
   "outputs": [
    {
     "name": "stdout",
     "output_type": "stream",
     "text": [
      "data frame shape (1434, 16)\n",
      "number of cancer patient: 363\n",
      "how un-balance is the data: 0.25313807531380755\n"
     ]
    }
   ],
   "source": [
    "print (\"data frame shape\", df.shape)\n",
    "print (\"number of cancer patient:\",df['cancer'].sum() )\n",
    "print (\"how un-balance is the data:\", df['cancer'].sum()/df.shape[0])"
   ]
  },
  {
   "cell_type": "markdown",
   "metadata": {},
   "source": [
    "### 2.2 Cancer patient v.s. Non-cancer patients"
   ]
  },
  {
   "cell_type": "code",
   "execution_count": 70,
   "metadata": {
    "collapsed": false
   },
   "outputs": [
    {
     "name": "stdout",
     "output_type": "stream",
     "text": [
      "(363, 16)\n"
     ]
    },
    {
     "data": {
      "text/html": [
       "<div>\n",
       "<table border=\"1\" class=\"dataframe\">\n",
       "  <thead>\n",
       "    <tr style=\"text-align: right;\">\n",
       "      <th></th>\n",
       "      <th>max_malig</th>\n",
       "      <th>max_spiculation</th>\n",
       "      <th>max_lobulation</th>\n",
       "      <th>max_diameter</th>\n",
       "      <th>xsd_malig</th>\n",
       "      <th>xsd_spiculation</th>\n",
       "      <th>xmax_lobulation</th>\n",
       "      <th>xsd_diameter</th>\n",
       "      <th>loc_from_malig_x</th>\n",
       "      <th>loc_from_malig_y</th>\n",
       "      <th>loc_from_malig_z</th>\n",
       "      <th>std_locs_x</th>\n",
       "      <th>std_locs_y</th>\n",
       "      <th>std_locs_z</th>\n",
       "      <th>id</th>\n",
       "      <th>cancer</th>\n",
       "    </tr>\n",
       "  </thead>\n",
       "  <tbody>\n",
       "    <tr>\n",
       "      <th>0</th>\n",
       "      <td>0.697503</td>\n",
       "      <td>0.335968</td>\n",
       "      <td>0.385324</td>\n",
       "      <td>0.339156</td>\n",
       "      <td>0.148894</td>\n",
       "      <td>0.089260</td>\n",
       "      <td>0.385324</td>\n",
       "      <td>0.085551</td>\n",
       "      <td>0.753571</td>\n",
       "      <td>0.528571</td>\n",
       "      <td>0.434028</td>\n",
       "      <td>0.244258</td>\n",
       "      <td>0.163056</td>\n",
       "      <td>0.242655</td>\n",
       "      <td>d777a77cc7a2ec2f1eed68799cc9075c</td>\n",
       "      <td>1</td>\n",
       "    </tr>\n",
       "    <tr>\n",
       "      <th>2</th>\n",
       "      <td>0.701259</td>\n",
       "      <td>0.347774</td>\n",
       "      <td>0.394380</td>\n",
       "      <td>0.360565</td>\n",
       "      <td>0.159877</td>\n",
       "      <td>0.084858</td>\n",
       "      <td>0.394380</td>\n",
       "      <td>0.079833</td>\n",
       "      <td>0.706061</td>\n",
       "      <td>0.418182</td>\n",
       "      <td>0.799363</td>\n",
       "      <td>0.231711</td>\n",
       "      <td>0.155614</td>\n",
       "      <td>0.217998</td>\n",
       "      <td>9065f2b133129c5747d42db18a424749</td>\n",
       "      <td>1</td>\n",
       "    </tr>\n",
       "    <tr>\n",
       "      <th>6</th>\n",
       "      <td>0.668319</td>\n",
       "      <td>0.338826</td>\n",
       "      <td>0.384684</td>\n",
       "      <td>0.337507</td>\n",
       "      <td>0.154942</td>\n",
       "      <td>0.091774</td>\n",
       "      <td>0.384684</td>\n",
       "      <td>0.087845</td>\n",
       "      <td>0.221429</td>\n",
       "      <td>0.385714</td>\n",
       "      <td>0.613475</td>\n",
       "      <td>0.212833</td>\n",
       "      <td>0.155433</td>\n",
       "      <td>0.220319</td>\n",
       "      <td>7c2b72f9e0f5649c22902292febdc89f</td>\n",
       "      <td>1</td>\n",
       "    </tr>\n",
       "    <tr>\n",
       "      <th>10</th>\n",
       "      <td>0.659050</td>\n",
       "      <td>0.350864</td>\n",
       "      <td>0.396342</td>\n",
       "      <td>0.361564</td>\n",
       "      <td>0.149278</td>\n",
       "      <td>0.087901</td>\n",
       "      <td>0.396342</td>\n",
       "      <td>0.083719</td>\n",
       "      <td>0.093023</td>\n",
       "      <td>0.180233</td>\n",
       "      <td>0.553571</td>\n",
       "      <td>0.246453</td>\n",
       "      <td>0.172813</td>\n",
       "      <td>0.243043</td>\n",
       "      <td>f5717f7cbc08d8bd942cd4c1128e3339</td>\n",
       "      <td>1</td>\n",
       "    </tr>\n",
       "    <tr>\n",
       "      <th>13</th>\n",
       "      <td>0.644114</td>\n",
       "      <td>0.341161</td>\n",
       "      <td>0.386432</td>\n",
       "      <td>0.342413</td>\n",
       "      <td>0.152086</td>\n",
       "      <td>0.093578</td>\n",
       "      <td>0.386432</td>\n",
       "      <td>0.091503</td>\n",
       "      <td>0.281553</td>\n",
       "      <td>0.391586</td>\n",
       "      <td>0.602941</td>\n",
       "      <td>0.204743</td>\n",
       "      <td>0.144383</td>\n",
       "      <td>0.161236</td>\n",
       "      <td>882107a204c302e27628f85522baea49</td>\n",
       "      <td>1</td>\n",
       "    </tr>\n",
       "  </tbody>\n",
       "</table>\n",
       "</div>"
      ],
      "text/plain": [
       "    max_malig  max_spiculation  max_lobulation  max_diameter  xsd_malig  \\\n",
       "0    0.697503         0.335968        0.385324      0.339156   0.148894   \n",
       "2    0.701259         0.347774        0.394380      0.360565   0.159877   \n",
       "6    0.668319         0.338826        0.384684      0.337507   0.154942   \n",
       "10   0.659050         0.350864        0.396342      0.361564   0.149278   \n",
       "13   0.644114         0.341161        0.386432      0.342413   0.152086   \n",
       "\n",
       "    xsd_spiculation  xmax_lobulation  xsd_diameter  loc_from_malig_x  \\\n",
       "0          0.089260         0.385324      0.085551          0.753571   \n",
       "2          0.084858         0.394380      0.079833          0.706061   \n",
       "6          0.091774         0.384684      0.087845          0.221429   \n",
       "10         0.087901         0.396342      0.083719          0.093023   \n",
       "13         0.093578         0.386432      0.091503          0.281553   \n",
       "\n",
       "    loc_from_malig_y  loc_from_malig_z  std_locs_x  std_locs_y  std_locs_z  \\\n",
       "0           0.528571          0.434028    0.244258    0.163056    0.242655   \n",
       "2           0.418182          0.799363    0.231711    0.155614    0.217998   \n",
       "6           0.385714          0.613475    0.212833    0.155433    0.220319   \n",
       "10          0.180233          0.553571    0.246453    0.172813    0.243043   \n",
       "13          0.391586          0.602941    0.204743    0.144383    0.161236   \n",
       "\n",
       "                                  id  cancer  \n",
       "0   d777a77cc7a2ec2f1eed68799cc9075c       1  \n",
       "2   9065f2b133129c5747d42db18a424749       1  \n",
       "6   7c2b72f9e0f5649c22902292febdc89f       1  \n",
       "10  f5717f7cbc08d8bd942cd4c1128e3339       1  \n",
       "13  882107a204c302e27628f85522baea49       1  "
      ]
     },
     "execution_count": 70,
     "metadata": {},
     "output_type": "execute_result"
    }
   ],
   "source": [
    "df_cancer = df.loc[df['cancer'] == 1]\n",
    "print (df_cancer.shape)\n",
    "df_cancer.head()"
   ]
  },
  {
   "cell_type": "code",
   "execution_count": 71,
   "metadata": {
    "collapsed": false,
    "scrolled": true
   },
   "outputs": [
    {
     "name": "stdout",
     "output_type": "stream",
     "text": [
      "(1071, 16)\n"
     ]
    },
    {
     "data": {
      "text/html": [
       "<div>\n",
       "<table border=\"1\" class=\"dataframe\">\n",
       "  <thead>\n",
       "    <tr style=\"text-align: right;\">\n",
       "      <th></th>\n",
       "      <th>max_malig</th>\n",
       "      <th>max_spiculation</th>\n",
       "      <th>max_lobulation</th>\n",
       "      <th>max_diameter</th>\n",
       "      <th>xsd_malig</th>\n",
       "      <th>xsd_spiculation</th>\n",
       "      <th>xmax_lobulation</th>\n",
       "      <th>xsd_diameter</th>\n",
       "      <th>loc_from_malig_x</th>\n",
       "      <th>loc_from_malig_y</th>\n",
       "      <th>loc_from_malig_z</th>\n",
       "      <th>std_locs_x</th>\n",
       "      <th>std_locs_y</th>\n",
       "      <th>std_locs_z</th>\n",
       "      <th>id</th>\n",
       "      <th>cancer</th>\n",
       "    </tr>\n",
       "  </thead>\n",
       "  <tbody>\n",
       "    <tr>\n",
       "      <th>1</th>\n",
       "      <td>0.666373</td>\n",
       "      <td>0.345718</td>\n",
       "      <td>0.391515</td>\n",
       "      <td>0.359679</td>\n",
       "      <td>0.148370</td>\n",
       "      <td>0.082181</td>\n",
       "      <td>0.391515</td>\n",
       "      <td>0.078761</td>\n",
       "      <td>0.088889</td>\n",
       "      <td>0.416667</td>\n",
       "      <td>0.304487</td>\n",
       "      <td>0.243736</td>\n",
       "      <td>0.159560</td>\n",
       "      <td>0.216008</td>\n",
       "      <td>1631637f08f27347e8f23d7a0e18c100</td>\n",
       "      <td>0</td>\n",
       "    </tr>\n",
       "    <tr>\n",
       "      <th>3</th>\n",
       "      <td>0.690341</td>\n",
       "      <td>0.343430</td>\n",
       "      <td>0.400079</td>\n",
       "      <td>0.354308</td>\n",
       "      <td>0.147548</td>\n",
       "      <td>0.088106</td>\n",
       "      <td>0.400079</td>\n",
       "      <td>0.085576</td>\n",
       "      <td>0.315789</td>\n",
       "      <td>0.112281</td>\n",
       "      <td>0.555556</td>\n",
       "      <td>0.233297</td>\n",
       "      <td>0.183184</td>\n",
       "      <td>0.207843</td>\n",
       "      <td>e3a9a6f8d21c6c459728066bcf18c615</td>\n",
       "      <td>0</td>\n",
       "    </tr>\n",
       "    <tr>\n",
       "      <th>4</th>\n",
       "      <td>0.726764</td>\n",
       "      <td>0.341739</td>\n",
       "      <td>0.396748</td>\n",
       "      <td>0.356204</td>\n",
       "      <td>0.147422</td>\n",
       "      <td>0.088995</td>\n",
       "      <td>0.396748</td>\n",
       "      <td>0.086762</td>\n",
       "      <td>0.885294</td>\n",
       "      <td>0.582353</td>\n",
       "      <td>0.373563</td>\n",
       "      <td>0.249184</td>\n",
       "      <td>0.183342</td>\n",
       "      <td>0.214586</td>\n",
       "      <td>f39a1e54d79731e4417aa8159d19b7d4</td>\n",
       "      <td>0</td>\n",
       "    </tr>\n",
       "    <tr>\n",
       "      <th>5</th>\n",
       "      <td>0.691301</td>\n",
       "      <td>0.342192</td>\n",
       "      <td>0.395080</td>\n",
       "      <td>0.358410</td>\n",
       "      <td>0.161766</td>\n",
       "      <td>0.087251</td>\n",
       "      <td>0.395080</td>\n",
       "      <td>0.083102</td>\n",
       "      <td>0.574286</td>\n",
       "      <td>0.574286</td>\n",
       "      <td>0.486301</td>\n",
       "      <td>0.219889</td>\n",
       "      <td>0.184321</td>\n",
       "      <td>0.200701</td>\n",
       "      <td>8987df2216ae2ab1a907d52bc9dc540d</td>\n",
       "      <td>0</td>\n",
       "    </tr>\n",
       "    <tr>\n",
       "      <th>7</th>\n",
       "      <td>0.665821</td>\n",
       "      <td>0.336849</td>\n",
       "      <td>0.386759</td>\n",
       "      <td>0.351551</td>\n",
       "      <td>0.157453</td>\n",
       "      <td>0.089670</td>\n",
       "      <td>0.386759</td>\n",
       "      <td>0.085031</td>\n",
       "      <td>0.274011</td>\n",
       "      <td>0.324859</td>\n",
       "      <td>0.735593</td>\n",
       "      <td>0.234608</td>\n",
       "      <td>0.177474</td>\n",
       "      <td>0.225888</td>\n",
       "      <td>e60d99ea9648e1ce859eb0b386365e26</td>\n",
       "      <td>0</td>\n",
       "    </tr>\n",
       "  </tbody>\n",
       "</table>\n",
       "</div>"
      ],
      "text/plain": [
       "   max_malig  max_spiculation  max_lobulation  max_diameter  xsd_malig  \\\n",
       "1   0.666373         0.345718        0.391515      0.359679   0.148370   \n",
       "3   0.690341         0.343430        0.400079      0.354308   0.147548   \n",
       "4   0.726764         0.341739        0.396748      0.356204   0.147422   \n",
       "5   0.691301         0.342192        0.395080      0.358410   0.161766   \n",
       "7   0.665821         0.336849        0.386759      0.351551   0.157453   \n",
       "\n",
       "   xsd_spiculation  xmax_lobulation  xsd_diameter  loc_from_malig_x  \\\n",
       "1         0.082181         0.391515      0.078761          0.088889   \n",
       "3         0.088106         0.400079      0.085576          0.315789   \n",
       "4         0.088995         0.396748      0.086762          0.885294   \n",
       "5         0.087251         0.395080      0.083102          0.574286   \n",
       "7         0.089670         0.386759      0.085031          0.274011   \n",
       "\n",
       "   loc_from_malig_y  loc_from_malig_z  std_locs_x  std_locs_y  std_locs_z  \\\n",
       "1          0.416667          0.304487    0.243736    0.159560    0.216008   \n",
       "3          0.112281          0.555556    0.233297    0.183184    0.207843   \n",
       "4          0.582353          0.373563    0.249184    0.183342    0.214586   \n",
       "5          0.574286          0.486301    0.219889    0.184321    0.200701   \n",
       "7          0.324859          0.735593    0.234608    0.177474    0.225888   \n",
       "\n",
       "                                 id  cancer  \n",
       "1  1631637f08f27347e8f23d7a0e18c100       0  \n",
       "3  e3a9a6f8d21c6c459728066bcf18c615       0  \n",
       "4  f39a1e54d79731e4417aa8159d19b7d4       0  \n",
       "5  8987df2216ae2ab1a907d52bc9dc540d       0  \n",
       "7  e60d99ea9648e1ce859eb0b386365e26       0  "
      ]
     },
     "execution_count": 71,
     "metadata": {},
     "output_type": "execute_result"
    }
   ],
   "source": [
    "df_no_cancer = df.loc[df['cancer'] == 0]\n",
    "print (df_no_cancer.shape)\n",
    "df_no_cancer.head()"
   ]
  },
  {
   "cell_type": "code",
   "execution_count": 109,
   "metadata": {
    "collapsed": false,
    "scrolled": false
   },
   "outputs": [
    {
     "data": {
      "image/png": "[encoded data removed]",
      "text/plain": [
       "<matplotlib.figure.Figure at 0x7facfc55c4e0>"
      ]
     },
     "metadata": {},
     "output_type": "display_data"
    }
   ],
   "source": [
    "# df_no_cancer.reset_index(inplace=True, drop=True)\n",
    "fig, ax = plt.subplots(figsize=[20,12])\n",
    "\n",
    "cancerCount=0\n",
    "nonCancerCount=0\n",
    "\n",
    "for patient in range(100):\n",
    "    if df.iloc[patient].cancer==0:\n",
    "        if nonCancerCount<20:\n",
    "            nonCancerCount+=1\n",
    "            line1, = plt.plot(np.arange(14), df.iloc[patient][:-2],'ok',alpha=0.3,label='Non Cancer')\n",
    "    else:\n",
    "        if cancerCount<20:\n",
    "            cancerCount+=1\n",
    "            line2, = plt.plot(np.arange(14), df.iloc[patient][:-2],'oc',alpha=0.5,label='Cancer')\n",
    "\n",
    "plt.legend((line1,line2),('Non Cancer','Cancer'))\n",
    "plt.xticks([x for x in range(14)])\n",
    "ax.set_xticklabels(df.columns[:-2]);"
   ]
  },
  {
   "cell_type": "code",
   "execution_count": 130,
   "metadata": {
    "collapsed": false,
    "scrolled": true
   },
   "outputs": [
    {
     "name": "stderr",
     "output_type": "stream",
     "text": [
      "/opt/anaconda/lib/python3.5/site-packages/pandas/core/frame.py:5749: UserWarning: When passing multiple axes, sharex and sharey are ignored. These settings must be specified when creating axes\n",
      "  return_type=return_type, **kwds)\n"
     ]
    },
    {
     "data": {
      "image/png": "[encoded data removed]",
      "text/plain": [
       "<matplotlib.figure.Figure at 0x7facf84c6c50>"
      ]
     },
     "metadata": {},
     "output_type": "display_data"
    }
   ],
   "source": [
    "import seaborn\n",
    "seaborn.set(style=\"ticks\")\n",
    "fig, axes = plt.subplots(ncols=14, figsize=(20, 5), sharey=True)\n",
    "df.query(\"cancer in [0, 1]\").boxplot(by='cancer', return_type='axes', ax=axes);"
   ]
  },
  {
   "cell_type": "markdown",
   "metadata": {},
   "source": [
    "#### 2.2.1 Mean\n",
    "\n",
    "Not surprisely, as the box plot above showed, they are extremly similar!! "
   ]
  },
  {
   "cell_type": "code",
   "execution_count": 73,
   "metadata": {
    "collapsed": false
   },
   "outputs": [
    {
     "name": "stdout",
     "output_type": "stream",
     "text": [
      "max_malig          -0.000556\n",
      "max_spiculation     0.000453\n",
      "max_lobulation      0.000310\n",
      "max_diameter        0.000197\n",
      "xsd_malig          -0.000839\n",
      "xsd_spiculation    -0.000009\n",
      "xmax_lobulation     0.000310\n",
      "xsd_diameter       -0.000004\n",
      "loc_from_malig_x   -0.017301\n",
      "loc_from_malig_y   -0.011904\n",
      "loc_from_malig_z    0.006386\n",
      "std_locs_x          0.000371\n",
      "std_locs_y          0.000825\n",
      "std_locs_z          0.001998\n",
      "cancer              1.000000\n",
      "dtype: float64\n"
     ]
    }
   ],
   "source": [
    "df_cancer_mean = df.loc[df['cancer'] == 1].mean()\n",
    "df_no_cancer_mean = df.loc[df['cancer'] == 0].mean()\n",
    "print (df_cancer_mean-df_no_cancer_mean)\n",
    "# print (df_cancer_mean)"
   ]
  },
  {
   "cell_type": "code",
   "execution_count": 58,
   "metadata": {
    "collapsed": false,
    "scrolled": true
   },
   "outputs": [
    {
     "data": {
      "text/plain": [
       "<matplotlib.collections.PathCollection at 0x7fad12459f28>"
      ]
     },
     "execution_count": 58,
     "metadata": {},
     "output_type": "execute_result"
    },
    {
     "data": {
      "image/png": "[encoded data removed]",
      "text/plain": [
       "<matplotlib.figure.Figure at 0x7facfdbd4a58>"
      ]
     },
     "metadata": {},
     "output_type": "display_data"
    }
   ],
   "source": [
    "plt.scatter(np.arange(15),df_no_cancer_mean)\n",
    "plt.scatter(np.arange(15),df_cancer_mean)"
   ]
  },
  {
   "cell_type": "markdown",
   "metadata": {},
   "source": [
    "## 3. Metrics\n",
    "\n",
    "### 3.1 Confusion matrix"
   ]
  },
  {
   "cell_type": "markdown",
   "metadata": {},
   "source": [
    "<div class = \"alert alert-info\">\n",
    "**Unbalanced datasets**\n",
    "<p>\n",
    "In cancer detection because the cost of missing one patient in a trial is very large, we want the predictor to have very large recall/sensitivity (we do not accept false negatives) though it means accepting more false positives. These false positives can be discarded in subsequent tests. \n",
    "\n",
    "<p>\n",
    "$$\\text{sensitivity (recall) }=\\frac{\\text{TP}}{\\text{Real Positives}}=\\frac{\\text{TP}}{\\text{TP}+\\text{FN}}$$\n",
    "\n",
    "\n",
    "</div>\n",
    "\n",
    "Although accuracy is the most normal metric for evaluating classifiers, there are cases when the business value of correctly predicting elements from one class is different from the value for the prediction of elements of another class. In those cases, accuracy is not a good performance metric and more detailed analysis is needed. The **confusion matrix** enables us to define different metrics considering such scenarios. The confusion matrix considers the concepts of the classifier outcome and the actual ground truth or gold standard. In a binary problem, there are four possible cases: \n",
    "\n",
    "\n",
    "+ *True positives (TP):* When the classifier predicts a sample as positive and it really is positive.\n",
    "+ *False positives (FP):* When the classifier predicts a sample as positive but in fact it is negative.\n",
    "+ *True negatives (TN):* When the classifier predicts a sample as negative and it really is negative.\n",
    "+ *False negatives (FN):* When the classifier predicts a sample as negative but in fact it is positive.\n",
    "\n",
    "\n",
    "We can summarize this information in a matrix, namely the confusion matrix, as follows:\n",
    "\n",
    "<img src = \"https://i.stack.imgur.com/OW5Lt.jpg\" width = 400px>"
   ]
  },
  {
   "cell_type": "markdown",
   "metadata": {
    "collapsed": true
   },
   "source": [
    "### 3.2 Evaluation: Logloss\n",
    "\n",
    "https://www.kaggle.com/c/data-science-bowl-2017#evaluation\n",
    "\n",
    "$$\n",
    "\\textrm{LogLoss} = - \\frac{1}{n} \\sum_{i=1}^n \\left[ y_i \\log(\\hat{y}_i) + (1 - y_i) \\log(1 - \\hat{y}_i)\\right],\n",
    "$$\n",
    "\n",
    "where\n",
    "\n",
    "+ n is the number of patients in the test set\n",
    "+ $\\hat{y}_i $ is the predicted probability of the image belonging to a patient with cancer\n",
    "+ $ y_i $ is 1 if the diagnosis is cancer, 0 otherwise\n",
    "+ $ log()$ is the natural (base e) logarithm\n",
    "\n",
    "Note: the actual submitted predicted probabilities are replaced with $(max(min(p,1-10^{-15}),10^{-15}))$ . A smaller log loss is better."
   ]
  },
  {
   "cell_type": "markdown",
   "metadata": {},
   "source": [
    "## 4. Feature selection,  classification, and evaluation"
   ]
  },
  {
   "cell_type": "markdown",
   "metadata": {},
   "source": [
    "### 4.1 Feature selection "
   ]
  },
  {
   "cell_type": "code",
   "execution_count": 156,
   "metadata": {
    "collapsed": false
   },
   "outputs": [
    {
     "name": "stdout",
     "output_type": "stream",
     "text": [
      "Feature space holds 1434 observations and 14 features\n",
      "Unique target labels: [0 1]\n"
     ]
    }
   ],
   "source": [
    "## Feature selection ##\n",
    "x_cols = df.drop(['id', 'cancer'],1).columns  # using all the features\n",
    "# x_cols=['max_malig','max_spiculation','max_lobulation','max_diameter','xsd_malig', 'xsd_spiculation', 'xmax_lobulation','xsd_diameter']\n",
    "X = df.loc[:][x_cols].values\n",
    "y = df.loc[:]['cancer'].values\n",
    "\n",
    "print (\"Feature space holds %d observations and %d features\" % X.shape)\n",
    "print (\"Unique target labels:\", np.unique(y))"
   ]
  },
  {
   "cell_type": "markdown",
   "metadata": {},
   "source": [
    "### 4.2 Clssification\n",
    "\n",
    "### 4.2.1 Logistic regression (LR) with ExtraTreesRegressor (XTR)"
   ]
  },
  {
   "cell_type": "code",
   "execution_count": 111,
   "metadata": {
    "collapsed": true
   },
   "outputs": [],
   "source": [
    "class SlightlyNonlinearClassification(BaseEstimator):\n",
    "\n",
    "    def __init__(self,C=10,step_size=0.7):\n",
    "        self.step_size = step_size\n",
    "        self.C = C\n",
    "\n",
    "    def fit(self, X, y):\n",
    "        lr = LogisticRegression(C=self.C,penalty='l1')\n",
    "        lr_preds = cross_val_predict(lr, X, y, cv=50, method='predict_proba')[:,1]\n",
    "        lr.fit(X,y)\n",
    "        xtr = XTR(n_estimators=500, min_samples_leaf=20, max_features=.8).fit(X, y - lr_preds)\n",
    "        self.lr = lr\n",
    "        self.xtr = xtr\n",
    "\n",
    "        return self\n",
    "\n",
    "    def predict_proba(self, X):\n",
    "        base = self.lr.predict_proba(X)\n",
    "        base[:,1] += self.step_size * self.xtr.predict(X)\n",
    "        base[:,0] = 1 - base[:,1]\n",
    "        return np.clip(base, 1e-3, 1-1e-3)\n",
    "\n",
    "    def predict(self, X):\n",
    "        return self.predict_proba(X)"
   ]
  },
  {
   "cell_type": "code",
   "execution_count": 113,
   "metadata": {
    "collapsed": false
   },
   "outputs": [
    {
     "name": "stdout",
     "output_type": "stream",
     "text": [
      "(1434,)\n",
      "logloss 0.57234386471\n"
     ]
    },
    {
     "data": {
      "text/plain": [
       "(array([  24.,  122.,  280.,  395.,  333.,  188.,   59.,   25.,    7.,    1.]),\n",
       " array([ 0.11377417,  0.15047154,  0.1871689 ,  0.22386626,  0.26056362,\n",
       "         0.29726098,  0.33395835,  0.37065571,  0.40735307,  0.44405043,\n",
       "         0.48074779]),\n",
       " <a list of 10 Patch objects>)"
      ]
     },
     "execution_count": 113,
     "metadata": {},
     "output_type": "execute_result"
    },
    {
     "data": {
      "image/png": "[encoded data removed]",
      "text/plain": [
       "<matplotlib.figure.Figure at 0x7facfca043c8>"
      ]
     },
     "metadata": {},
     "output_type": "display_data"
    }
   ],
   "source": [
    "x_cols = df.drop(['id', 'cancer'],1).columns  # using all the features\n",
    "X = df.loc[:][x_cols].values\n",
    "y = df.loc[:]['cancer'].values\n",
    "\n",
    "X = StandardScaler().fit_transform(X)\n",
    "lr = SlightlyNonlinearClassification(C=1000, step_size=0.9)\n",
    "Yh = cross_val_predict(lr, X, y, cv=10, method='predict_proba',n_jobs=-1)[:,1]\n",
    "\n",
    "print (Yh.shape)\n",
    "print (\"logloss\",log_loss(y, Yh) )\n",
    "plt.hist(Yh)"
   ]
  },
  {
   "cell_type": "code",
   "execution_count": null,
   "metadata": {
    "collapsed": true
   },
   "outputs": [],
   "source": [
    "for threshold in range(0.15, 0.5, 0.05):\n",
    "    if "
   ]
  },
  {
   "cell_type": "code",
   "execution_count": null,
   "metadata": {
    "collapsed": true
   },
   "outputs": [],
   "source": [
    "x_cols = df.drop(['id', 'cancer'],1).columns  # using all the features\n",
    "X = df.loc[:][x_cols].values\n",
    "y = df.loc[:]['cancer'].values\n",
    "\n",
    "cv = cross_validation.KFold(X.shape[0],n_folds = 20,random_state=42)\n",
    "y_pred = y * 0\n",
    "y_pred_prob = np.zeros(len(y))\n",
    "for train, test in cv:\n",
    "    X_train, X_test, y_train, y_test = X[train,:], X[test,:], y[train], y[test]\n",
    "    scaler = StandardScaler()\n",
    "    X_train = scaler.fit_transform(X_train)\n",
    "    X_test = scaler.transform(X_test)\n",
    "\n",
    "    clf = SlightlyNonlinearClassification(C=1000, step_size=0.9)\n",
    "    clf.fit(X_train, y_train)\n",
    "    y_pred[test] = clf.predict(X_test)\n",
    "    y_pred_prob[test] = clf.predict_proba(X_test)[:,1]\n",
    "    \n",
    "print ('Logistic Regression')\n",
    "\n",
    "conf_mat = confusion_matrix(y,y_pred)\n",
    "D = conf_mat[0][0]    # TP\n",
    "B = conf_mat[0][1]    # FP\n",
    "C = conf_mat[1][0]    # FN\n",
    "A = conf_mat[1][1]    # TN\n",
    "\n",
    "print (\"confusion_matrix for test set: \\n\", conf_mat)\n",
    "print (classification_report(y, y_pred, target_names=[\"No Cancer\", \"Cancer\"]))\n",
    "print(\"logloss\",log_loss(y, y_pred_prob))\n",
    "print (\"Specificity: \", D/(B+D))\n",
    "print (\"Recall: \", A/(A+C))\n",
    "print (\"Accuracy: \", (A+D)/(A+B+C+D))"
   ]
  },
  {
   "cell_type": "code",
   "execution_count": null,
   "metadata": {
    "collapsed": true
   },
   "outputs": [],
   "source": []
  },
  {
   "cell_type": "markdown",
   "metadata": {},
   "source": [
    "### 4.2.2 LogisticRegression"
   ]
  },
  {
   "cell_type": "code",
   "execution_count": 117,
   "metadata": {
    "collapsed": false
   },
   "outputs": [
    {
     "name": "stdout",
     "output_type": "stream",
     "text": [
      "Logistic Regression\n",
      "confusion_matrix for test set: \n",
      " [[196 875]\n",
      " [ 74 289]]\n",
      "             precision    recall  f1-score   support\n",
      "\n",
      "  No Cancer       0.73      0.18      0.29      1071\n",
      "     Cancer       0.25      0.80      0.38       363\n",
      "\n",
      "avg / total       0.61      0.34      0.31      1434\n",
      "\n",
      "logloss 0.741827531353\n",
      "Specificity:  0.183006535948\n",
      "Recall:  0.796143250689\n",
      "Accuracy:  0.338214783821\n"
     ]
    }
   ],
   "source": [
    "# LogisticRegression\n",
    "\n",
    "x_cols = df.drop(['id', 'cancer'],1).columns  # using all the features\n",
    "X = df.loc[:][x_cols].values\n",
    "y = df.loc[:]['cancer'].values\n",
    "\n",
    "cv = cross_validation.KFold(X.shape[0],n_folds = 20,random_state=42)\n",
    "y_pred = y * 0\n",
    "y_pred_prob = np.zeros(len(y))\n",
    "for train, test in cv:\n",
    "    X_train, X_test, y_train, y_test = X[train,:], X[test,:], y[train], y[test]\n",
    "    scaler = StandardScaler()\n",
    "    X_train = scaler.fit_transform(X_train)\n",
    "    X_test = scaler.transform(X_test)\n",
    "    \n",
    "    clf = linear_model.LogisticRegression(class_weight={0:0.22,1:0.78},penalty='l1')\n",
    "    clf.fit(X_train, y_train)\n",
    "    y_pred[test] = clf.predict(X_test)\n",
    "    y_pred_prob[test] = clf.predict_proba(X_test)[:,1]\n",
    "    \n",
    "print ('Logistic Regression')\n",
    "\n",
    "conf_mat = confusion_matrix(y,y_pred)\n",
    "D = conf_mat[0][0]    # TP\n",
    "B = conf_mat[0][1]    # FP\n",
    "C = conf_mat[1][0]    # FN\n",
    "A = conf_mat[1][1]    # TN\n",
    "\n",
    "print (\"confusion_matrix for test set: \\n\", conf_mat)\n",
    "print (classification_report(y, y_pred, target_names=[\"No Cancer\", \"Cancer\"]))\n",
    "print(\"logloss\",log_loss(y, y_pred_prob))\n",
    "print (\"Specificity: \", D/(B+D))\n",
    "print (\"Recall: \", A/(A+C))\n",
    "print (\"Accuracy: \", (A+D)/(A+B+C+D))"
   ]
  },
  {
   "cell_type": "markdown",
   "metadata": {},
   "source": [
    "### 4.2.3 logistic regression with tuned parameter\n",
    "\n",
    "+ Cross-validate, 20 folders\n",
    "+ with class weight\n",
    "+ l1 penalty\n",
    "+ grid search for the value of C, i.e.,Inverse of regularization strength"
   ]
  },
  {
   "cell_type": "code",
   "execution_count": 131,
   "metadata": {
    "collapsed": false,
    "scrolled": true
   },
   "outputs": [
    {
     "name": "stdout",
     "output_type": "stream",
     "text": [
      "\n",
      "confusion_matrix from sklearn: \n",
      " [[196 875]\n",
      " [ 74 289]]\n",
      "             precision    recall  f1-score   support\n",
      "\n",
      "  No Cancer       0.73      0.18      0.29      1071\n",
      "     Cancer       0.25      0.80      0.38       363\n",
      "\n",
      "avg / total       0.61      0.34      0.31      1434\n",
      "\n",
      "logloss 0.69314718056\n",
      "Specificity:  0.183006535948\n",
      "Recall:  0.796143250689\n",
      "Accuracy:  0.338214783821\n"
     ]
    }
   ],
   "source": [
    "cv = cross_validation.KFold(X.shape[0],n_folds = 20,random_state=42)\n",
    "\n",
    "# lr = linear_model.LogisticRegression(penalty='l1', class_weight='balanced')\n",
    "Cs = [0.001, 0.0025, 0.005, 0.01, 0.025, 0.05, 0.1, 0.5]\n",
    "parameters = {'C': Cs} \n",
    "\n",
    "acc = np.zeros((20,))\n",
    "yhat = y.copy()\n",
    "y_pred_prob = np.zeros(len(y))\n",
    "\n",
    "for train_index, test_index in cv:\n",
    "    X_train, X_test = X[train_index], X[test_index]\n",
    "    y_train, y_test = y[train_index], y[test_index]\n",
    "    scaler = StandardScaler()\n",
    "    X_train = scaler.fit_transform(X_train)\n",
    "    X_test = scaler.transform(X_test)\n",
    "    \n",
    "    clf = linear_model.LogisticRegression(penalty='l1', class_weight='balanced')\n",
    "    # We can change the scoring \"average_precision\", \"recall\", \"f1\"\n",
    "    grd = GridSearchCV(clf, parameters)  \n",
    "    grd.fit(X_train,y_train.ravel())\n",
    "   \n",
    "    yhat[test_index] = grd.predict(X_test)\n",
    "    y_pred_prob[test_index] = grd.predict_proba(X_test)[:,1]\n",
    "    \n",
    "    conf_mat = confusion_matrix(y,y_pred)\n",
    "    D = conf_mat[0][0]    # TP\n",
    "    B = conf_mat[0][1]    # FP\n",
    "    C = conf_mat[1][0]    # FN\n",
    "    A = conf_mat[1][1]    # TN\n",
    "    \n",
    "# print ('Mean accuracy: '+ str(np.mean(acc)))\n",
    "print (\"\\nconfusion_matrix from sklearn: \\n\", conf_mat)\n",
    "print (classification_report(y, y_pred, target_names=[\"No Cancer\", \"Cancer\"]))\n",
    "print(\"logloss\",log_loss(y, y_pred_prob))\n",
    "\n",
    "print (\"Specificity: \", D/(B+D))\n",
    "print (\"Recall: \", A/(A+C))\n",
    "print (\"Accuracy: \", (A+D)/(A+B+C+D))"
   ]
  },
  {
   "cell_type": "code",
   "execution_count": null,
   "metadata": {
    "collapsed": true
   },
   "outputs": [],
   "source": []
  },
  {
   "cell_type": "code",
   "execution_count": null,
   "metadata": {
    "collapsed": true
   },
   "outputs": [],
   "source": []
  },
  {
   "cell_type": "code",
   "execution_count": 146,
   "metadata": {
    "collapsed": false
   },
   "outputs": [
    {
     "name": "stdout",
     "output_type": "stream",
     "text": [
      "Random Forest\n",
      "confusion_matrix for test set: \n",
      " [[1061   10]\n",
      " [ 361    2]]\n",
      "             precision    recall  f1-score   support\n",
      "\n",
      "  No Cancer       0.75      0.99      0.85      1071\n",
      "     Cancer       0.17      0.01      0.01       363\n",
      "\n",
      "avg / total       0.60      0.74      0.64      1434\n",
      "\n",
      "logloss 0.597425278056\n",
      "Specificity:  0.990662931839\n",
      "Recall:  0.00550964187328\n",
      "Accuracy:  0.741283124128\n"
     ]
    }
   ],
   "source": [
    "#Random Forest\n",
    "cv = cross_validation.KFold(X.shape[0],n_folds = 20,random_state=42)\n",
    "y_pred = y * 0\n",
    "y_pred_prob = np.zeros(len(y))\n",
    "for train, test in cv:\n",
    "    X_train, X_test, y_train, y_test = X[train,:], X[test,:], y[train], y[test]\n",
    "    \n",
    "    scaler = StandardScaler()\n",
    "    X_train = scaler.fit_transform(X_train)\n",
    "    X_test = scaler.transform(X_test)\n",
    "    \n",
    "    clf = RF(n_estimators=100, n_jobs=-1)\n",
    "    clf.fit(X_train, y_train)\n",
    "    y_pred[test] = clf.predict(X_test)\n",
    "    y_pred_prob[test] = clf.predict_proba(X_test)[:,1]\n",
    "\n",
    "print ('Random Forest')\n",
    "conf_mat = confusion_matrix(y,y_pred)\n",
    "D = conf_mat[0][0]    # TP\n",
    "B = conf_mat[0][1]    # FP\n",
    "C = conf_mat[1][0]    # FN\n",
    "A = conf_mat[1][1]    # TN\n",
    "\n",
    "print (\"confusion_matrix for test set: \\n\", conf_mat)\n",
    "print (classification_report(y, y_pred, target_names=[\"No Cancer\", \"Cancer\"]))\n",
    "print(\"logloss\",log_loss(y, y_pred_prob))\n",
    "print (\"Specificity: \", D/(B+D))\n",
    "print (\"Recall: \", A/(A+C))\n",
    "print (\"Accuracy: \", (A+D)/(A+B+C+D))"
   ]
  },
  {
   "cell_type": "code",
   "execution_count": null,
   "metadata": {
    "collapsed": true
   },
   "outputs": [],
   "source": []
  },
  {
   "cell_type": "markdown",
   "metadata": {},
   "source": [
    "#### 4.2.3 SVM with 10-fold cross validation   "
   ]
  },
  {
   "cell_type": "code",
   "execution_count": 140,
   "metadata": {
    "collapsed": false
   },
   "outputs": [
    {
     "name": "stdout",
     "output_type": "stream",
     "text": [
      "\n",
      "confusion_matrix from sklearn: \n",
      " [[196 875]\n",
      " [ 74 289]]\n",
      "             precision    recall  f1-score   support\n",
      "\n",
      "  No Cancer       0.73      0.18      0.29      1071\n",
      "     Cancer       0.25      0.80      0.38       363\n",
      "\n",
      "avg / total       0.61      0.34      0.31      1434\n",
      "\n",
      "logloss 0.566708537192\n",
      "Specificity:  0.183006535948\n",
      "Recall:  0.796143250689\n",
      "Accuracy:  0.338214783821\n"
     ]
    }
   ],
   "source": [
    "x_cols = df.drop(['id', 'cancer'],1).columns  # using all the features\n",
    "X = df.loc[:][x_cols].values\n",
    "y = df.loc[:]['cancer'].values\n",
    "\n",
    "cv = cross_validation.KFold(X.shape[0],n_folds = 20,random_state=42)\n",
    "yhat = y.copy()\n",
    "y_pred_prob = np.zeros(len(y))\n",
    "\n",
    "for train_index, test_index in cv:\n",
    "    X_train, X_test = X[train_index], X[test_index]\n",
    "    y_train, y_test = y[train_index], y[test_index]\n",
    "    scaler = StandardScaler()\n",
    "    X_train = scaler.fit_transform(X_train)\n",
    "    X_test = scaler.transform(X_test)\n",
    "\n",
    "    clf = svm.LinearSVC(C=0.1,class_weight={0:0.22,1:0.78})\n",
    "    calibrated_svc = CalibratedClassifierCV(clf,\n",
    "                                        method='sigmoid',  #sigmoid will use Platt's scaling. \n",
    "                                        cv=10) \n",
    "    calibrated_svc.fit(X_train, y_train)\n",
    "\n",
    "    yhat[test_index] = calibrated_svc.predict(X_test)\n",
    "    y_pred_prob[test_index] = calibrated_svc.predict_proba(X_test)[:,1]\n",
    "    \n",
    "    conf_mat = confusion_matrix(y,y_pred)\n",
    "    D = conf_mat[0][0]    # TP\n",
    "    B = conf_mat[0][1]    # FP\n",
    "    C = conf_mat[1][0]    # FN\n",
    "    A = conf_mat[1][1]    # TN\n",
    "    \n",
    "# print ('Mean accuracy: '+ str(np.mean(acc)))\n",
    "print (\"\\nconfusion_matrix from sklearn: \\n\", conf_mat)\n",
    "print (classification_report(y, y_pred, target_names=[\"No Cancer\", \"Cancer\"]))\n",
    "print(\"logloss\",log_loss(y, y_pred_prob))\n",
    "\n",
    "print (\"Specificity: \", D/(B+D))\n",
    "print (\"Recall: \", A/(A+C))\n",
    "print (\"Accuracy: \", (A+D)/(A+B+C+D))"
   ]
  },
  {
   "cell_type": "code",
   "execution_count": null,
   "metadata": {
    "collapsed": true
   },
   "outputs": [],
   "source": []
  },
  {
   "cell_type": "code",
   "execution_count": null,
   "metadata": {
    "collapsed": true
   },
   "outputs": [],
   "source": []
  },
  {
   "cell_type": "markdown",
   "metadata": {},
   "source": [
    "#### 4.2.4 KNN\n",
    "\n",
    "It is not the best classifier for us:\n",
    "\n",
    "- when k is small, we get overfitting. \n",
    "- we have very low recall"
   ]
  },
  {
   "cell_type": "code",
   "execution_count": 134,
   "metadata": {
    "collapsed": false
   },
   "outputs": [
    {
     "name": "stdout",
     "output_type": "stream",
     "text": [
      "confusion_matrix: \n",
      " [[321   2]\n",
      " [106   2]]\n",
      "             precision    recall  f1-score   support\n",
      "\n",
      "  No Cancer       0.75      0.99      0.86       323\n",
      "     Cancer       0.50      0.02      0.04       108\n",
      "\n",
      "avg / total       0.69      0.75      0.65       431\n",
      "\n",
      "Train logloss 0.50686077074\n",
      "Test  logloss 0.968052654974\n",
      "confusion_matrix: \n",
      " [[317   6]\n",
      " [106   2]]\n",
      "             precision    recall  f1-score   support\n",
      "\n",
      "  No Cancer       0.75      0.98      0.85       323\n",
      "     Cancer       0.25      0.02      0.03       108\n",
      "\n",
      "avg / total       0.62      0.74      0.65       431\n",
      "\n",
      "Train logloss 0.50936399738\n",
      "Test  logloss 0.893202819483\n",
      "[0.50686077074033209, 0.50936399738018856]\n",
      "[0.96805265497420312, 0.89320281948336677]\n"
     ]
    }
   ],
   "source": [
    "train_logloss = []\n",
    "test_logloss = []\n",
    "for k in range(10,12):\n",
    "    clf = neighbors.KNeighborsClassifier(n_neighbors=k,n_jobs=-1)      \n",
    "    clf.fit(X_train,y_train)\n",
    "\n",
    "    yh_train = clf.predict_proba(X_train)[:,1]\n",
    "    yh_test = clf.predict_proba(X_test)[:,1]\n",
    "    yhat = cross_val_predict(clf, X_test,y_test, cv=10)\n",
    "\n",
    "    print (\"confusion_matrix: \\n\", confusion_matrix(y_test,yhat))\n",
    "    print (metrics.classification_report(y_test,yhat, target_names=[\"No Cancer\", \"Cancer\"]))\n",
    "    \n",
    "    train_logloss.append(log_loss(y_train,yh_train))\n",
    "    test_logloss.append(log_loss(y_test,yh_test))\n",
    "    print(\"Train logloss\",log_loss(y_train,yh_train))\n",
    "    print(\"Test  logloss\",log_loss(y_test,yh_test))\n",
    "    \n",
    "print (train_logloss)\n",
    "print (test_logloss)"
   ]
  },
  {
   "cell_type": "markdown",
   "metadata": {},
   "source": [
    "#### 4.2.5 Random Forest\n",
    "\n",
    "No great, as the recall is really low."
   ]
  },
  {
   "cell_type": "code",
   "execution_count": 140,
   "metadata": {
    "collapsed": false
   },
   "outputs": [
    {
     "name": "stdout",
     "output_type": "stream",
     "text": [
      "\n",
      "Random Forest\n",
      "confusion_matrix for test set: \n",
      " [[317   6]\n",
      " [105   3]]\n",
      "             precision    recall  f1-score   support\n",
      "\n",
      "  No Cancer       0.75      0.98      0.85       323\n",
      "     Cancer       0.33      0.03      0.05       108\n",
      "\n",
      "avg / total       0.65      0.74      0.65       431\n",
      "\n",
      "Train logloss 0.155149275014\n",
      "Test  logloss 0.609056490941\n"
     ]
    }
   ],
   "source": [
    "clf = RF(n_estimators=100,class_weight={0:0.2,1:0.8}, n_jobs=-1)\n",
    "clf.fit(X_train, y_train)\n",
    "yh_train = clf.predict_proba(X_train)[:,1]\n",
    "yh_test = clf.predict_proba(X_test)[:,1]\n",
    "yhat = cross_val_predict(clf, X_test,y_test, cv=10)\n",
    "    \n",
    "print ('\\nRandom Forest')\n",
    "print (\"confusion_matrix for test set: \\n\", confusion_matrix(y_test, yhat))\n",
    "print (classification_report(y_test, yhat, target_names=[\"No Cancer\", \"Cancer\"]))\n",
    "print(\"Train logloss\",logloss(y_train, yh_train))\n",
    "print(\"Test  logloss\",logloss(y_test, yh_test))"
   ]
  },
  {
   "cell_type": "markdown",
   "metadata": {},
   "source": [
    "#### 4.2.6 What if we predict all 1's or all 0's with confidence 0.5?"
   ]
  },
  {
   "cell_type": "code",
   "execution_count": 155,
   "metadata": {
    "collapsed": false
   },
   "outputs": [
    {
     "name": "stdout",
     "output_type": "stream",
     "text": [
      "\n",
      "Predicting all positive\n",
      "             precision    recall  f1-score   support\n",
      "\n",
      "  No Cancer       0.00      0.00      0.00      1071\n",
      "     Cancer       0.25      1.00      0.40       363\n",
      "\n",
      "avg / total       0.06      0.25      0.10      1434\n",
      "\n",
      "logloss 25.7962942035\n",
      "\n",
      "Predicting all negative\n",
      "             precision    recall  f1-score   support\n",
      "\n",
      "  No Cancer       0.75      1.00      0.86      1071\n",
      "     Cancer       0.00      0.00      0.00       363\n",
      "\n",
      "avg / total       0.56      0.75      0.64      1434\n",
      "\n",
      "logloss 8.7430793803\n"
     ]
    },
    {
     "name": "stderr",
     "output_type": "stream",
     "text": [
      "/opt/anaconda/lib/python3.5/site-packages/sklearn/metrics/classification.py:1113: UndefinedMetricWarning: Precision and F-score are ill-defined and being set to 0.0 in labels with no predicted samples.\n",
      "  'precision', 'predicted', average, warn_for)\n"
     ]
    }
   ],
   "source": [
    "# All Cancer\n",
    "print (\"\\nPredicting all positive\")\n",
    "y_pred = np.ones(y.shape)\n",
    "print (classification_report(y, y_pred, target_names=[\"No Cancer\", \"Cancer\"]))\n",
    "print(\"logloss\",log_loss(y, y_pred))\n",
    "\n",
    "# No Cancer\n",
    "print (\"\\nPredicting all negative\")\n",
    "y_pred = np.zeros(len(y))\n",
    "print (classification_report(y, y_pred, target_names=[\"No Cancer\", \"Cancer\"]))\n",
    "print(\"logloss\",log_loss(y, y_pred))"
   ]
  },
  {
   "cell_type": "code",
   "execution_count": null,
   "metadata": {
    "collapsed": true
   },
   "outputs": [],
   "source": []
  },
  {
   "cell_type": "code",
   "execution_count": null,
   "metadata": {
    "collapsed": true
   },
   "outputs": [],
   "source": []
  },
  {
   "cell_type": "code",
   "execution_count": null,
   "metadata": {
    "collapsed": true
   },
   "outputs": [],
   "source": []
  },
  {
   "cell_type": "markdown",
   "metadata": {},
   "source": [
    "### 3.2 More classifiers:  Random Forest, SVC\n",
    "\n",
    "https://www.kaggle.com/c/data-science-bowl-2017#tutorial"
   ]
  },
  {
   "cell_type": "code",
   "execution_count": 19,
   "metadata": {
    "collapsed": false,
    "scrolled": false
   },
   "outputs": [
    {
     "name": "stdout",
     "output_type": "stream",
     "text": [
      "Logistic regression\n",
      "confusion_matrix for test set: \n",
      " [[229 842]\n",
      " [ 79 284]]\n",
      "             precision    recall  f1-score   support\n",
      "\n",
      "  No Cancer       0.74      0.21      0.33      1071\n",
      "     Cancer       0.25      0.78      0.38       363\n",
      "\n",
      "avg / total       0.62      0.36      0.34      1434\n",
      "\n",
      "logloss 8.7430793803\n",
      "Random Forest\n",
      "confusion_matrix for test set: \n",
      " [[1067    4]\n",
      " [ 358    5]]\n",
      "             precision    recall  f1-score   support\n",
      "\n",
      "  No Cancer       0.75      1.00      0.85      1071\n",
      "     Cancer       0.56      0.01      0.03       363\n",
      "\n",
      "avg / total       0.70      0.75      0.65      1434\n",
      "\n",
      "logloss 8.7430793803\n",
      "\n",
      "Linear Support Vector Classification\n",
      "confusion_matrix for test set: \n",
      " [[1071    0]\n",
      " [ 363    0]]\n",
      "             precision    recall  f1-score   support\n",
      "\n",
      "  No Cancer       0.75      1.00      0.86      1071\n",
      "     Cancer       0.00      0.00      0.00       363\n",
      "\n",
      "avg / total       0.56      0.75      0.64      1434\n",
      "\n",
      "logloss 8.7430793803\n",
      "\n",
      "Predicting all positive\n",
      "             precision    recall  f1-score   support\n",
      "\n",
      "  No Cancer       0.00      0.00      0.00      1071\n",
      "     Cancer       0.25      1.00      0.40       363\n",
      "\n",
      "avg / total       0.06      0.25      0.10      1434\n",
      "\n",
      "logloss 25.7962942035\n",
      "\n",
      "Predicting all negative\n",
      "             precision    recall  f1-score   support\n",
      "\n",
      "  No Cancer       0.75      1.00      0.86      1071\n",
      "     Cancer       0.00      0.00      0.00       363\n",
      "\n",
      "avg / total       0.56      0.75      0.64      1434\n",
      "\n",
      "logloss 8.7430793803\n"
     ]
    },
    {
     "name": "stderr",
     "output_type": "stream",
     "text": [
      "/opt/anaconda/lib/python3.5/site-packages/sklearn/metrics/classification.py:1113: UndefinedMetricWarning: Precision and F-score are ill-defined and being set to 0.0 in labels with no predicted samples.\n",
      "  'precision', 'predicted', average, warn_for)\n"
     ]
    }
   ],
   "source": [
    "x_cols = df.drop(['id', 'cancer', 'Unnamed: 0'],1).columns  # using all the features\n",
    "X = df.loc[:][x_cols].values\n",
    "X = StandardScaler().fit_transform(X)\n",
    "Y = df.loc[:]['cancer'].values\n",
    "\n",
    "#Logistic regression\n",
    "kf = KFold(Y, n_folds=3)\n",
    "y_pred = Y * 0\n",
    "y_pred_prob = Y * 0\n",
    "for train, test in kf:\n",
    "    X_train, X_test, y_train, y_test = X[train,:], X[test,:], Y[train], Y[test]\n",
    "    clf = linear_model.LogisticRegression(class_weight={0:0.22,1:0.78},penalty='l1') \n",
    "    clf.fit(X_train, y_train)\n",
    "    y_pred[test] = clf.predict(X_test)\n",
    "    y_pred_prob[test] = clf.predict_proba(X_test)[:,1]\n",
    "print ('Logistic regression')\n",
    "print (\"confusion_matrix for test set: \\n\", confusion_matrix(Y, y_pred))\n",
    "print (classification_report(Y, y_pred, target_names=[\"No Cancer\", \"Cancer\"]))\n",
    "print(\"logloss\",logloss(Y, y_pred_prob))\n",
    "\n",
    "#Random Forest\n",
    "kf = KFold(Y, n_folds=3)\n",
    "y_pred = Y * 0\n",
    "y_pred_prob = Y * 0\n",
    "for train, test in kf:\n",
    "    X_train, X_test, y_train, y_test = X[train,:], X[test,:], Y[train], Y[test]\n",
    "    clf = RF(n_estimators=100,class_weight={0:0.2,1:0.8}, n_jobs=-1)\n",
    "    clf.fit(X_train, y_train)\n",
    "    y_pred[test] = clf.predict(X_test)\n",
    "    y_pred_prob[test] = clf.predict_proba(X_test)[:,1]\n",
    "print ('\\nRandom Forest')\n",
    "print (\"confusion_matrix for test set: \\n\", confusion_matrix(Y, y_pred))\n",
    "print (classification_report(Y, y_pred, target_names=[\"No Cancer\", \"Cancer\"]))\n",
    "print(\"logloss\",logloss(Y, y_pred_prob))\n",
    "\n",
    "# LinearSVC\n",
    "kf = KFold(Y, n_folds=3)\n",
    "y_pred = Y * 0\n",
    "y_pred_prob = Y * 0\n",
    "for train, test in kf:\n",
    "    X_train, X_test, y_train, y_test = X[train,:], X[test,:], Y[train], Y[test]\n",
    "    clf = svm.LinearSVC(C=0.1,class_weight={0:0.22,1:0.78})\n",
    "    # This is the calibrated classifier which can give probabilistic classifier\n",
    "    calibrated_svc = CalibratedClassifierCV(clf,\n",
    "                                            method='sigmoid',  #sigmoid will use Platt's scaling. Refer to documentation for other methods.\n",
    "                                            cv=3) \n",
    "    calibrated_svc.fit(X_train, y_train)\n",
    "    y_pred[test] = calibrated_svc.predict(X_test)\n",
    "    y_pred_prob[test] = calibrated_svc.predict_proba(X_test)[:,1]\n",
    "print ('\\nLinear Support Vector Classification')\n",
    "print (\"confusion_matrix for test set: \\n\", confusion_matrix(Y, y_pred))\n",
    "print (classification_report(Y, y_pred, target_names=[\"No Cancer\", \"Cancer\"]))\n",
    "print(\"logloss\",logloss(Y, y_pred_prob))\n"
   ]
  },
  {
   "cell_type": "code",
   "execution_count": null,
   "metadata": {
    "collapsed": true
   },
   "outputs": [],
   "source": []
  }
 ],
 "metadata": {
  "kernelspec": {
   "display_name": "Python [default]",
   "language": "python",
   "name": "python3"
  },
  "language_info": {
   "codemirror_mode": {
    "name": "ipython",
    "version": 3
   },
   "file_extension": ".py",
   "mimetype": "text/x-python",
   "name": "python",
   "nbconvert_exporter": "python",
   "pygments_lexer": "ipython3",
   "version": "3.5.2"
  }
 },
 "nbformat": 4,
 "nbformat_minor": 2
}
