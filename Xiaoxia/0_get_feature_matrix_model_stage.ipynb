{
 "cells": [
  {
   "cell_type": "code",
   "execution_count": 1,
   "metadata": {
    "collapsed": false
   },
   "outputs": [
    {
     "name": "stderr",
     "output_type": "stream",
     "text": [
      "Using TensorFlow backend.\n"
     ]
    }
   ],
   "source": [
    "import tensorflow as tf\n",
    "from keras.backend.tensorflow_backend import set_session\n",
    "config = tf.ConfigProto()\n",
    "config.gpu_options.per_process_gpu_memory_fraction = 0.18\n",
    "set_session(tf.Session(config=config))"
   ]
  },
  {
   "cell_type": "code",
   "execution_count": 2,
   "metadata": {
    "collapsed": false
   },
   "outputs": [],
   "source": [
    "from keras.models import load_model\n",
    "import numpy as np\n",
    "import pandas as pd\n",
    "import os\n",
    "import time"
   ]
  },
  {
   "cell_type": "code",
   "execution_count": 3,
   "metadata": {
    "collapsed": false
   },
   "outputs": [],
   "source": [
    "def feature_vect(model, PATH_VOXELS, patient):          \n",
    "    patient_array = np.load(PATH_VOXELS + patient)\n",
    "    voxels = patient_array['vox']  \n",
    "    preds = np.array(model.predict(x= voxels))\n",
    "    ixs = np.argmax(preds[0])\n",
    "    \n",
    "    xmax_malig = np.max(preds[0], axis=0)\n",
    "    xmax_spiculation = np.max(preds[1], axis=0)\n",
    "    xmax_lobulation = np.max(preds[2], axis=0)\n",
    "    xmax_diameter = np.max(preds[3], axis=0)\n",
    "    \n",
    "    xsd_malig = np.std(preds[0], axis=0)\n",
    "    xsd_spiculation = np.std(preds[1], axis=0)\n",
    "    xsd_lobulation = np.std(preds[2], axis=0)\n",
    "    xsd_diameter = np.std(preds[3], axis=0)\n",
    "    \n",
    "    centroids = patient_array['cents']\n",
    "    shape = patient_array['shape']\n",
    "    normalized_locs = centroids.astype('float32') / shape.astype('float32')\n",
    "    \n",
    "    feats = (np.concatenate([xmax_malig,xmax_spiculation,xmax_lobulation,xmax_diameter,\\\n",
    "               xsd_malig,xsd_spiculation,xmax_lobulation,xsd_diameter,\\\n",
    "               normalized_locs[ixs],normalized_locs.std(axis=0)]))        \n",
    "    return feats\n",
    "\n",
    "def score_model(PATH_MODEL,PATH_VOXELS, file_name):\n",
    "    model_v24 = load_model(PATH_MODEL)\n",
    "    \n",
    "    start = time.time()\n",
    "    patients = [f for f in os.listdir(PATH_VOXELS)]\n",
    "    print (\"patient numbers: \", len(patients))\n",
    "\n",
    "    all_features = []\n",
    "    for num, patient in enumerate(patients):\n",
    "        feats = feature_vect(model_v24,PATH_VOXELS, patient)\n",
    "        all_features.append(feats)\n",
    "        X = np.stack(all_features)\n",
    "        if num%50==0:\n",
    "            print (\"Patient %4d:\" %num, patient[:-4])\n",
    "\n",
    "    col=['max_malig','max_spiculation','max_lobulation','max_diameter',\\\n",
    "         'xsd_malig', 'xsd_spiculation', 'xmax_lobulation','xsd_diameter',\\\n",
    "         'loc_from_malig_x','loc_from_malig_y','loc_from_malig_z','std_locs_x','std_locs_y','std_locs_z',]\n",
    "    df = pd.DataFrame(data=X,index=patients, columns=col)\n",
    "    df.to_csv(file_name + '.csv')\n",
    "    print (\"It took %d seconds\"%(time.time()-start))"
   ]
  },
  {
   "cell_type": "code",
   "execution_count": null,
   "metadata": {
    "collapsed": false
   },
   "outputs": [],
   "source": [
    "def get_feature_matrix(model_num, stage_num):\n",
    "    PATH_MODEL = \"../Models/LUNA_model_v2_%d.h5\"%(model_num)\n",
    "    PATH_VOXELS = '../../data/stage%d_voxels_mask/'%(stage_num)\n",
    "    file_name = 'feature_matrix_model%d_stage%d'%(model_num,stage_num)\n",
    "    score_model(PATH_MODEL,PATH_VOXELS, file_name)"
   ]
  },
  {
   "cell_type": "code",
   "execution_count": null,
   "metadata": {
    "collapsed": false,
    "scrolled": false
   },
   "outputs": [
    {
     "name": "stderr",
     "output_type": "stream",
     "text": [
      "/opt/anaconda/lib/python3.5/site-packages/keras/engine/topology.py:1206: UserWarning: The `Merge` layer is deprecated and will be removed after 08/2017. Use instead layers from `keras.layers.merge`, e.g. `add`, `concatenate`, etc.\n",
      "  return cls(**config)\n"
     ]
    },
    {
     "name": "stdout",
     "output_type": "stream",
     "text": [
      "patient numbers:  210\n",
      "Patient    0: 5a06ebc438b934a360a5e469a6874505\n",
      "Patient   50: 9f6c458b4276ddbc0ebaa374037bb099\n",
      "Patient  100: 97434189865e083f8f553e3a922b927a\n"
     ]
    }
   ],
   "source": [
    "get_feature_matrix(2,2)"
   ]
  },
  {
   "cell_type": "code",
   "execution_count": null,
   "metadata": {
    "collapsed": true
   },
   "outputs": [],
   "source": [
    "get_feature_matrix(model_num=1,stage_num=2)"
   ]
  }
 ],
 "metadata": {
  "kernelspec": {
   "display_name": "Python [default]",
   "language": "python",
   "name": "python3"
  },
  "language_info": {
   "codemirror_mode": {
    "name": "ipython",
    "version": 3
   },
   "file_extension": ".py",
   "mimetype": "text/x-python",
   "name": "python",
   "nbconvert_exporter": "python",
   "pygments_lexer": "ipython3",
   "version": "3.5.2"
  }
 },
 "nbformat": 4,
 "nbformat_minor": 2
}
