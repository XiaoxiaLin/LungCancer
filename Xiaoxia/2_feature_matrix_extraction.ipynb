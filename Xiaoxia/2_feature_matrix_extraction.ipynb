{
 "cells": [
  {
   "cell_type": "code",
   "execution_count": 1,
   "metadata": {
    "collapsed": false,
    "scrolled": true
   },
   "outputs": [
    {
     "name": "stderr",
     "output_type": "stream",
     "text": [
      "Using TensorFlow backend.\n",
      "/opt/anaconda/lib/python3.5/site-packages/keras/engine/topology.py:1206: UserWarning: The `Merge` layer is deprecated and will be removed after 08/2017. Use instead layers from `keras.layers.merge`, e.g. `add`, `concatenate`, etc.\n",
      "  return cls(**config)\n"
     ]
    }
   ],
   "source": [
    "import tensorflow as tf\n",
    "from keras.backend.tensorflow_backend import set_session\n",
    "config = tf.ConfigProto()\n",
    "config.gpu_options.per_process_gpu_memory_fraction = 0.48\n",
    "set_session(tf.Session(config=config))\n",
    "\n",
    "from keras.models import load_model\n",
    "PATH_MODEL = \"../Models/LUNA_model_v2_2.h5\"\n",
    "model_v24 = load_model(PATH_MODEL)"
   ]
  },
  {
   "cell_type": "code",
   "execution_count": 2,
   "metadata": {
    "collapsed": false
   },
   "outputs": [],
   "source": [
    "import numpy as np\n",
    "import pandas as pd\n",
    "import os\n",
    "import time\n",
    "from sklearn.linear_model import LogisticRegression\n",
    "from sklearn.metrics import log_loss\n",
    "import matplotlib.pyplot as plt\n",
    "%matplotlib inline\n",
    "\n",
    "PATH_VOXELS = '../../data/stage1_voxels_mask/'"
   ]
  },
  {
   "cell_type": "code",
   "execution_count": null,
   "metadata": {
    "collapsed": true
   },
   "outputs": [],
   "source": [
    "def feature_vect(patient):          \n",
    "    patient_array = np.load(PATH_VOXELS + patient)\n",
    "    voxels = patient_array['vox']  \n",
    "    preds = np.array(model_v24.predict(x= voxels))\n",
    "    ixs = np.argmax(preds[0])\n",
    "    \n",
    "    xmax_malig = np.max(preds[0], axis=0)\n",
    "    xmax_spiculation = np.max(preds[1], axis=0)\n",
    "    xmax_lobulation = np.max(preds[2], axis=0)\n",
    "    xmax_diameter = np.max(preds[3], axis=0)\n",
    "    \n",
    "    xsd_malig = np.std(preds[0], axis=0)\n",
    "    xsd_spiculation = np.std(preds[1], axis=0)\n",
    "    xsd_lobulation = np.std(preds[2], axis=0)\n",
    "    xsd_diameter = np.std(preds[3], axis=0)\n",
    "    \n",
    "    centroids = patient_array['cents']\n",
    "    shape = patient_array['shape']\n",
    "    normalized_locs = centroids.astype('float32') / shape.astype('float32')\n",
    "    \n",
    "    feats = (np.concatenate([xmax_malig,xmax_spiculation,xmax_lobulation,xmax_diameter,\\\n",
    "               xsd_malig,xsd_spiculation,xmax_lobulation,xsd_diameter,\\\n",
    "               normalized_locs[ixs],normalized_locs.std(axis=0)]))        \n",
    "    return feats"
   ]
  },
  {
   "cell_type": "code",
   "execution_count": null,
   "metadata": {
    "collapsed": false,
    "scrolled": false
   },
   "outputs": [
    {
     "name": "stdout",
     "output_type": "stream",
     "text": [
      "patient numbers:  1434\n",
      "Patient    0: d777a77cc7a2ec2f1eed68799cc9075c\n",
      "Patient  100: 3dfe8e80106f4136d2933ff72a16035c\n",
      "Patient  200: e5cf847e616cc2fe94816ffa547d2614\n",
      "Patient  300: aa594c8968f06fcf374e76bc9a375477\n",
      "Patient  400: fb52dd8152e53a4ca7da5403d6d0db13\n",
      "Patient  500: 4d7df08f074b221eec6311c2617a5ba8\n",
      "Patient  600: c8a82a4e7e76702f5f10ece6508f2bbe\n",
      "Patient  700: f82560aeea0309873716efe3aa71ef0a\n",
      "Patient  800: 25c1c4f008e8addc4d386cab58815052\n"
     ]
    }
   ],
   "source": [
    "start = time.time()\n",
    "patients = [f for f in os.listdir(PATH_VOXELS)]\n",
    "print (\"patient numbers: \", len(patients))\n",
    "\n",
    "all_features = []\n",
    "for num, patient in enumerate(patients):\n",
    "    feats = feature_vect(patient)\n",
    "    all_features.append(feats)\n",
    "    X = np.stack(all_features)\n",
    "    if num%100==0:\n",
    "        print (\"Patient %4d:\" %num, patient[:-4])\n",
    "        \n",
    "col=['max_malig','max_spiculation','max_lobulation','max_diameter',\\\n",
    "     'xsd_malig', 'xsd_spiculation', 'xmax_lobulation','xsd_diameter',\\\n",
    "     'loc_from_malig_x','loc_from_malig_y','loc_from_malig_z','std_locs_x','std_locs_y','std_locs_z',]\n",
    "df = pd.DataFrame(data=X,index=patients, columns=col)\n",
    "df.to_csv('./model_v24_2_feature_matrix_14.csv')\n",
    "print (\"It took %d seconds\"%(time.time()-start))"
   ]
  },
  {
   "cell_type": "code",
   "execution_count": null,
   "metadata": {
    "collapsed": true
   },
   "outputs": [],
   "source": []
  },
  {
   "cell_type": "code",
   "execution_count": null,
   "metadata": {
    "collapsed": true
   },
   "outputs": [],
   "source": []
  }
 ],
 "metadata": {
  "kernelspec": {
   "display_name": "Python [default]",
   "language": "python",
   "name": "python3"
  },
  "language_info": {
   "codemirror_mode": {
    "name": "ipython",
    "version": 3
   },
   "file_extension": ".py",
   "mimetype": "text/x-python",
   "name": "python",
   "nbconvert_exporter": "python",
   "pygments_lexer": "ipython3",
   "version": "3.5.2"
  }
 },
 "nbformat": 4,
 "nbformat_minor": 2
}
