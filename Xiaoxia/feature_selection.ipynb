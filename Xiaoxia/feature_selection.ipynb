{
 "cells": [
  {
   "cell_type": "markdown",
   "metadata": {},
   "source": [
    "https://github.com/dhammack/DSB2017/blob/master/scoring_code/score_ensemble2_final.py\n",
    "\n",
    "Danniel applied data augmentation here, and he actually compute the max, and std on-line. But location features is computed from the Top_voxels files. "
   ]
  },
  {
   "cell_type": "code",
   "execution_count": 3,
   "metadata": {
    "collapsed": true
   },
   "outputs": [],
   "source": [
    "import numpy as np\n",
    "import pandas as pd\n",
    "import os"
   ]
  },
  {
   "cell_type": "code",
   "execution_count": 99,
   "metadata": {
    "collapsed": false
   },
   "outputs": [
    {
     "name": "stdout",
     "output_type": "stream",
     "text": [
      "patient numbers:  222\n"
     ]
    }
   ],
   "source": [
    "PATH_RAW_ARRAY = \"../../data/stage1_arrays/\"\n",
    "PATH_VOXELS = \"../../data/stage1_TOP_voxels/\"\n",
    "\n",
    "patients = [f[4:] for f in os.listdir(PATH_VOXELS) if 'vox_' in f ]\n",
    "print (\"patient numbers: \", len(patients) )    "
   ]
  },
  {
   "cell_type": "code",
   "execution_count": 98,
   "metadata": {
    "collapsed": false,
    "scrolled": false
   },
   "outputs": [
    {
     "name": "stdout",
     "output_type": "stream",
     "text": [
      " num_clusters 1 \tnum_noise: 0\n",
      "\n",
      "Patient: c0f0eb84e70b19544943bed0ea6bd374\n",
      "[ 0.67239404  0.04441824  0.33000001  0.37860084  0.88104087  0.23431544\n",
      "  0.18727314  0.17379019  0.02        0.          0.54617685  0.02      ]\n",
      " num_clusters 1 \tnum_noise: 0\n",
      " num_clusters 1 \tnum_noise: 0\n",
      " num_clusters 1 \tnum_noise: 0\n",
      " num_clusters 1 \tnum_noise: 0\n",
      " num_clusters 1 \tnum_noise: 0\n",
      " num_clusters 1 \tnum_noise: 0\n",
      " num_clusters 1 \tnum_noise: 0\n",
      " num_clusters 1 \tnum_noise: 0\n",
      " num_clusters 1 \tnum_noise: 0\n"
     ]
    }
   ],
   "source": [
    "from sklearn.cluster import DBSCAN\n",
    "max_ct_count = []\n",
    "all_features = []\n",
    "for num, patient in enumerate(patients[:10]):\n",
    "    patient_vox = np.load(os.path.join(PATH_VOXELS, 'vox_' + patient)) #voxels[filter]\n",
    "    patient_locs = np.load(os.path.join(PATH_VOXELS, 'cents_' + patient))#locations[filter]\n",
    "    patient_sizes = np.load(os.path.join(PATH_VOXELS, 'shapes_' + patient))#sizes[filter]\n",
    "    patient_nodule_preds = np.load(os.path.join(PATH_VOXELS, 'preds_' + patient))\n",
    "    max_ct_count.append(len(patient_nodule_preds[0,:]))\n",
    "    \n",
    "    xmax = np.max(patient_nodule_preds[0], axis=0)\n",
    "    xsd = np.std(patient_nodule_preds[0], axis=0)\n",
    "#     print (\"max malignancy:\", xmax)\n",
    "#     print (\"malignancy std:\", xsd)\n",
    "    \n",
    "    normalized_locs = patient_locs.astype('float32') / patient_sizes.astype('float32')\n",
    "#     print (normalized_locs)\n",
    "    loc_from_malig = normalized_locs[ np.argmax(patient_nodule_preds[0],axis=0 )]\n",
    "#     print (\"normalized location from malig:\", loc_from_malig)\n",
    "    \n",
    "    dist_mat = np.zeros((patient_locs.shape[0], patient_locs.shape[0]))\n",
    "    for i,loc_a in enumerate(patient_locs):\n",
    "        for j,loc_b in enumerate(patient_locs):\n",
    "            dist_mat[i,j] = np.mean(np.abs(loc_a - loc_b))\n",
    "#     print (dist_mat)\n",
    "\n",
    "    dbs = DBSCAN(eps=60, min_samples=2, metric='precomputed', leaf_size=2).fit(dist_mat)\n",
    "    num_clusters = np.max(dbs.labels_) + 1\n",
    "    num_noise = (dbs.labels_ == -1).sum()\n",
    "    print (\" num_clusters\", num_clusters, \"\\tnum_noise:\", num_noise)\n",
    "    \n",
    "    #new feature: sum of malig_scores but normalizing by cluster.\n",
    "    cluster_avgs = []\n",
    "    for clusternum in range(num_clusters):\n",
    "        cluster_avgs.append( patient_nodule_preds[0][dbs.labels_ == clusternum].mean())\n",
    "\n",
    "    #now get the -1's\n",
    "    for i,(clusterix,malig) in enumerate(zip(dbs.labels_,patient_nodule_preds[0])):\n",
    "        if clusterix == -1:\n",
    "            cluster_avgs.append(malig)\n",
    "\n",
    "    weighted_sum_malig = np.sum(cluster_avgs)\n",
    "    weighted_mean_malig = np.mean(cluster_avgs)\n",
    "\n",
    "    #size of biggest cluster\n",
    "    sizes = np.bincount(dbs.labels_[dbs.labels_ > 0])\n",
    "    if len(sizes) > 0:\n",
    "        maxsize = np.max(sizes)\n",
    "    else:\n",
    "        maxsize = 1\n",
    "    n_nodules = float(patient_locs.shape[0])\n",
    "    feats = (np.concatenate([(xmax, xsd),loc_from_malig, \\\n",
    "                           normalized_locs.std(axis=0), \\\n",
    "                           [float(num_clusters) / n_nodules, \\\n",
    "                            float(num_noise) / n_nodules, \\\n",
    "                            weighted_mean_malig, \\\n",
    "                            float(maxsize) / n_nodules]]))\n",
    "    all_features.append(feats)\n",
    "    X = np.stack(all_features)\n",
    "    if num%10==0:\n",
    "        print (\"\\nPatient:\", patient[:-4])\n",
    "        print (feats)\n",
    "\n",
    "col=['max_malig', 'malig_xstd', 'locs_x', 'locs_y','locs_z', \n",
    "     'norm_locs_x','norm_locs_y','norm_locs_z','norm_#cluster',\n",
    "     'norm_#noise','weighted_mean_malig', 'norm_maxsize' ]\n",
    "df = pd.DataFrame(data=X,index=patients[:10], columns=col)\n",
    "df.to_csv('feat_mat_v0.csv')\n",
    "\n",
    "# print (max_ct_count)"
   ]
  },
  {
   "cell_type": "code",
   "execution_count": null,
   "metadata": {
    "collapsed": true
   },
   "outputs": [],
   "source": []
  },
  {
   "cell_type": "code",
   "execution_count": 103,
   "metadata": {
    "collapsed": false
   },
   "outputs": [
    {
     "data": {
      "text/html": [
       "<div>\n",
       "<table border=\"1\" class=\"dataframe\">\n",
       "  <thead>\n",
       "    <tr style=\"text-align: right;\">\n",
       "      <th></th>\n",
       "      <th>Unnamed: 0</th>\n",
       "      <th>max_malig</th>\n",
       "      <th>malig_xstd</th>\n",
       "      <th>locs_x</th>\n",
       "      <th>locs_y</th>\n",
       "      <th>locs_z</th>\n",
       "      <th>norm_locs_x</th>\n",
       "      <th>norm_locs_y</th>\n",
       "      <th>norm_locs_z</th>\n",
       "      <th>norm_#cluster</th>\n",
       "      <th>norm_#noise</th>\n",
       "      <th>weighted_mean_malig</th>\n",
       "      <th>norm_maxsize</th>\n",
       "      <th>id</th>\n",
       "    </tr>\n",
       "  </thead>\n",
       "  <tbody>\n",
       "    <tr>\n",
       "      <th>0</th>\n",
       "      <td>c0f0eb84e70b19544943bed0ea6bd374.npy</td>\n",
       "      <td>0.672394</td>\n",
       "      <td>0.044418</td>\n",
       "      <td>0.330000</td>\n",
       "      <td>0.378601</td>\n",
       "      <td>0.881041</td>\n",
       "      <td>0.234315</td>\n",
       "      <td>0.187273</td>\n",
       "      <td>0.173790</td>\n",
       "      <td>0.02</td>\n",
       "      <td>0.0</td>\n",
       "      <td>0.546177</td>\n",
       "      <td>0.02</td>\n",
       "      <td>c0f0eb84e70b19544943bed0ea6bd374</td>\n",
       "    </tr>\n",
       "    <tr>\n",
       "      <th>1</th>\n",
       "      <td>9065f2b133129c5747d42db18a424749.npy</td>\n",
       "      <td>0.701259</td>\n",
       "      <td>0.051872</td>\n",
       "      <td>0.779264</td>\n",
       "      <td>0.618834</td>\n",
       "      <td>0.886926</td>\n",
       "      <td>0.267581</td>\n",
       "      <td>0.142081</td>\n",
       "      <td>0.195229</td>\n",
       "      <td>0.02</td>\n",
       "      <td>0.0</td>\n",
       "      <td>0.542177</td>\n",
       "      <td>0.02</td>\n",
       "      <td>9065f2b133129c5747d42db18a424749</td>\n",
       "    </tr>\n",
       "    <tr>\n",
       "      <th>2</th>\n",
       "      <td>07b1defcfae5873ee1f03c90255eb170.npy</td>\n",
       "      <td>0.688366</td>\n",
       "      <td>0.046750</td>\n",
       "      <td>0.107383</td>\n",
       "      <td>0.379167</td>\n",
       "      <td>0.874016</td>\n",
       "      <td>0.259976</td>\n",
       "      <td>0.200964</td>\n",
       "      <td>0.237116</td>\n",
       "      <td>0.02</td>\n",
       "      <td>0.0</td>\n",
       "      <td>0.547058</td>\n",
       "      <td>0.02</td>\n",
       "      <td>07b1defcfae5873ee1f03c90255eb170</td>\n",
       "    </tr>\n",
       "    <tr>\n",
       "      <th>3</th>\n",
       "      <td>624a34fa8fd36847724e749877343847.npy</td>\n",
       "      <td>0.690876</td>\n",
       "      <td>0.050268</td>\n",
       "      <td>0.332237</td>\n",
       "      <td>0.770115</td>\n",
       "      <td>0.776224</td>\n",
       "      <td>0.285779</td>\n",
       "      <td>0.193638</td>\n",
       "      <td>0.227836</td>\n",
       "      <td>0.02</td>\n",
       "      <td>0.0</td>\n",
       "      <td>0.555996</td>\n",
       "      <td>0.02</td>\n",
       "      <td>624a34fa8fd36847724e749877343847</td>\n",
       "    </tr>\n",
       "    <tr>\n",
       "      <th>4</th>\n",
       "      <td>eb8d5136918d6859ca3cc3abafe369ac.npy</td>\n",
       "      <td>0.632769</td>\n",
       "      <td>0.044882</td>\n",
       "      <td>0.198795</td>\n",
       "      <td>0.660156</td>\n",
       "      <td>0.784810</td>\n",
       "      <td>0.272847</td>\n",
       "      <td>0.158534</td>\n",
       "      <td>0.193080</td>\n",
       "      <td>0.02</td>\n",
       "      <td>0.0</td>\n",
       "      <td>0.535779</td>\n",
       "      <td>0.02</td>\n",
       "      <td>eb8d5136918d6859ca3cc3abafe369ac</td>\n",
       "    </tr>\n",
       "  </tbody>\n",
       "</table>\n",
       "</div>"
      ],
      "text/plain": [
       "                             Unnamed: 0  max_malig  malig_xstd    locs_x  \\\n",
       "0  c0f0eb84e70b19544943bed0ea6bd374.npy   0.672394    0.044418  0.330000   \n",
       "1  9065f2b133129c5747d42db18a424749.npy   0.701259    0.051872  0.779264   \n",
       "2  07b1defcfae5873ee1f03c90255eb170.npy   0.688366    0.046750  0.107383   \n",
       "3  624a34fa8fd36847724e749877343847.npy   0.690876    0.050268  0.332237   \n",
       "4  eb8d5136918d6859ca3cc3abafe369ac.npy   0.632769    0.044882  0.198795   \n",
       "\n",
       "     locs_y    locs_z  norm_locs_x  norm_locs_y  norm_locs_z  norm_#cluster  \\\n",
       "0  0.378601  0.881041     0.234315     0.187273     0.173790           0.02   \n",
       "1  0.618834  0.886926     0.267581     0.142081     0.195229           0.02   \n",
       "2  0.379167  0.874016     0.259976     0.200964     0.237116           0.02   \n",
       "3  0.770115  0.776224     0.285779     0.193638     0.227836           0.02   \n",
       "4  0.660156  0.784810     0.272847     0.158534     0.193080           0.02   \n",
       "\n",
       "   norm_#noise  weighted_mean_malig  norm_maxsize  \\\n",
       "0          0.0             0.546177          0.02   \n",
       "1          0.0             0.542177          0.02   \n",
       "2          0.0             0.547058          0.02   \n",
       "3          0.0             0.555996          0.02   \n",
       "4          0.0             0.535779          0.02   \n",
       "\n",
       "                                 id  \n",
       "0  c0f0eb84e70b19544943bed0ea6bd374  \n",
       "1  9065f2b133129c5747d42db18a424749  \n",
       "2  07b1defcfae5873ee1f03c90255eb170  \n",
       "3  624a34fa8fd36847724e749877343847  \n",
       "4  eb8d5136918d6859ca3cc3abafe369ac  "
      ]
     },
     "execution_count": 103,
     "metadata": {},
     "output_type": "execute_result"
    }
   ],
   "source": [
    "df_feature = pd.read_csv('feat_mat_v0.csv')\n",
    "df_feature['id'] = df_feature['Unnamed: 0'].apply(lambda x: x.split('.')[0])\n",
    "df_feature.head()"
   ]
  },
  {
   "cell_type": "code",
   "execution_count": null,
   "metadata": {
    "collapsed": true
   },
   "outputs": [],
   "source": []
  }
 ],
 "metadata": {
  "kernelspec": {
   "display_name": "Python [default]",
   "language": "python",
   "name": "python3"
  },
  "language_info": {
   "codemirror_mode": {
    "name": "ipython",
    "version": 3
   },
   "file_extension": ".py",
   "mimetype": "text/x-python",
   "name": "python",
   "nbconvert_exporter": "python",
   "pygments_lexer": "ipython3",
   "version": "3.5.2"
  }
 },
 "nbformat": 4,
 "nbformat_minor": 2
}
