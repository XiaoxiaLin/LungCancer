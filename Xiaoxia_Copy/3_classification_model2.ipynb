{
 "cells": [
  {
   "cell_type": "code",
   "execution_count": 1,
   "metadata": {
    "collapsed": true
   },
   "outputs": [],
   "source": [
    "%reset -f"
   ]
  },
  {
   "cell_type": "code",
   "execution_count": 2,
   "metadata": {
    "collapsed": false
   },
   "outputs": [
    {
     "name": "stderr",
     "output_type": "stream",
     "text": [
      "/opt/anaconda/lib/python3.5/site-packages/sklearn/cross_validation.py:44: DeprecationWarning: This module was deprecated in version 0.18 in favor of the model_selection module into which all the refactored classes and functions are moved. Also note that the interface of the new CV iterators are different from that of this module. This module will be removed in 0.20.\n",
      "  \"This module will be removed in 0.20.\", DeprecationWarning)\n"
     ]
    }
   ],
   "source": [
    "# import session\n",
    "import numpy as np\n",
    "import pandas as pd\n",
    "from pandas.tools.plotting import scatter_matrix\n",
    "import matplotlib.pyplot as plt\n",
    "%matplotlib inline\n",
    "\n",
    "from sklearn import neighbors, linear_model, metrics, tree, cross_validation, svm\n",
    "from sklearn.preprocessing import StandardScaler\n",
    "from sklearn.cross_validation import cross_val_score, StratifiedKFold as KFold\n",
    "from sklearn.calibration import CalibratedClassifierCV\n",
    "from sklearn.base import BaseEstimator\n",
    "from sklearn.linear_model import LogisticRegression\n",
    "from sklearn.neural_network import MLPClassifier\n",
    "\n",
    "from sklearn.metrics import confusion_matrix\n",
    "from sklearn.metrics import classification_report\n",
    "from sklearn.metrics import log_loss\n",
    "from sklearn.metrics import roc_auc_score\n",
    "\n",
    "from sklearn.model_selection import train_test_split, cross_val_predict, StratifiedKFold\n",
    "from sklearn.model_selection import GridSearchCV\n",
    "\n",
    "from sklearn.ensemble import ExtraTreesRegressor as XTR\n",
    "from sklearn.ensemble import RandomForestClassifier as RF\n"
   ]
  },
  {
   "cell_type": "markdown",
   "metadata": {},
   "source": [
    "## 1. Preparing data for classification\n",
    "\n",
    "### 1.1 Stage1 data"
   ]
  },
  {
   "cell_type": "code",
   "execution_count": 4,
   "metadata": {
    "collapsed": false
   },
   "outputs": [
    {
     "name": "stdout",
     "output_type": "stream",
     "text": [
      "stage1 data (1434, 16)\n",
      "stage1 solution labels (1397, 2)\n",
      "stage1 labels (198, 2)\n",
      "Total 1595 labels\n",
      "(1434, 16)\n"
     ]
    },
    {
     "data": {
      "text/html": [
       "<div>\n",
       "<table border=\"1\" class=\"dataframe\">\n",
       "  <thead>\n",
       "    <tr style=\"text-align: right;\">\n",
       "      <th></th>\n",
       "      <th>max_malig</th>\n",
       "      <th>max_spiculation</th>\n",
       "      <th>max_lobulation</th>\n",
       "      <th>max_diameter</th>\n",
       "      <th>xsd_malig</th>\n",
       "      <th>xsd_spiculation</th>\n",
       "      <th>xsd_lobulation</th>\n",
       "      <th>xsd_diameter</th>\n",
       "      <th>loc_from_malig_x</th>\n",
       "      <th>loc_from_malig_y</th>\n",
       "      <th>loc_from_malig_z</th>\n",
       "      <th>std_locs_x</th>\n",
       "      <th>std_locs_y</th>\n",
       "      <th>std_locs_z</th>\n",
       "      <th>id</th>\n",
       "      <th>cancer</th>\n",
       "    </tr>\n",
       "  </thead>\n",
       "  <tbody>\n",
       "    <tr>\n",
       "      <th>0</th>\n",
       "      <td>0.117520</td>\n",
       "      <td>0.057713</td>\n",
       "      <td>0.085683</td>\n",
       "      <td>0.124413</td>\n",
       "      <td>0.000077</td>\n",
       "      <td>0.000019</td>\n",
       "      <td>0.085683</td>\n",
       "      <td>0.000035</td>\n",
       "      <td>0.221429</td>\n",
       "      <td>0.528571</td>\n",
       "      <td>0.756944</td>\n",
       "      <td>0.244258</td>\n",
       "      <td>0.163056</td>\n",
       "      <td>0.242655</td>\n",
       "      <td>d777a77cc7a2ec2f1eed68799cc9075c</td>\n",
       "      <td>1</td>\n",
       "    </tr>\n",
       "    <tr>\n",
       "      <th>1</th>\n",
       "      <td>0.117491</td>\n",
       "      <td>0.057710</td>\n",
       "      <td>0.085702</td>\n",
       "      <td>0.124411</td>\n",
       "      <td>0.000068</td>\n",
       "      <td>0.000017</td>\n",
       "      <td>0.085702</td>\n",
       "      <td>0.000033</td>\n",
       "      <td>0.572222</td>\n",
       "      <td>0.416667</td>\n",
       "      <td>0.814103</td>\n",
       "      <td>0.243736</td>\n",
       "      <td>0.159560</td>\n",
       "      <td>0.216008</td>\n",
       "      <td>1631637f08f27347e8f23d7a0e18c100</td>\n",
       "      <td>0</td>\n",
       "    </tr>\n",
       "    <tr>\n",
       "      <th>2</th>\n",
       "      <td>0.117454</td>\n",
       "      <td>0.057718</td>\n",
       "      <td>0.085690</td>\n",
       "      <td>0.124406</td>\n",
       "      <td>0.000065</td>\n",
       "      <td>0.000016</td>\n",
       "      <td>0.085690</td>\n",
       "      <td>0.000030</td>\n",
       "      <td>0.200000</td>\n",
       "      <td>0.418182</td>\n",
       "      <td>0.700637</td>\n",
       "      <td>0.231711</td>\n",
       "      <td>0.155614</td>\n",
       "      <td>0.217998</td>\n",
       "      <td>9065f2b133129c5747d42db18a424749</td>\n",
       "      <td>1</td>\n",
       "    </tr>\n",
       "    <tr>\n",
       "      <th>3</th>\n",
       "      <td>0.117574</td>\n",
       "      <td>0.057717</td>\n",
       "      <td>0.085679</td>\n",
       "      <td>0.124416</td>\n",
       "      <td>0.000086</td>\n",
       "      <td>0.000019</td>\n",
       "      <td>0.085679</td>\n",
       "      <td>0.000036</td>\n",
       "      <td>0.112281</td>\n",
       "      <td>0.203509</td>\n",
       "      <td>0.280864</td>\n",
       "      <td>0.233297</td>\n",
       "      <td>0.183184</td>\n",
       "      <td>0.207843</td>\n",
       "      <td>e3a9a6f8d21c6c459728066bcf18c615</td>\n",
       "      <td>0</td>\n",
       "    </tr>\n",
       "    <tr>\n",
       "      <th>4</th>\n",
       "      <td>0.117502</td>\n",
       "      <td>0.057714</td>\n",
       "      <td>0.085706</td>\n",
       "      <td>0.124407</td>\n",
       "      <td>0.000080</td>\n",
       "      <td>0.000018</td>\n",
       "      <td>0.085706</td>\n",
       "      <td>0.000037</td>\n",
       "      <td>0.194118</td>\n",
       "      <td>0.502941</td>\n",
       "      <td>0.652299</td>\n",
       "      <td>0.249184</td>\n",
       "      <td>0.183342</td>\n",
       "      <td>0.214586</td>\n",
       "      <td>f39a1e54d79731e4417aa8159d19b7d4</td>\n",
       "      <td>0</td>\n",
       "    </tr>\n",
       "    <tr>\n",
       "      <th>5</th>\n",
       "      <td>0.117517</td>\n",
       "      <td>0.057707</td>\n",
       "      <td>0.085698</td>\n",
       "      <td>0.124419</td>\n",
       "      <td>0.000070</td>\n",
       "      <td>0.000015</td>\n",
       "      <td>0.085698</td>\n",
       "      <td>0.000031</td>\n",
       "      <td>0.188571</td>\n",
       "      <td>0.494286</td>\n",
       "      <td>0.582192</td>\n",
       "      <td>0.219889</td>\n",
       "      <td>0.184321</td>\n",
       "      <td>0.200701</td>\n",
       "      <td>8987df2216ae2ab1a907d52bc9dc540d</td>\n",
       "      <td>0</td>\n",
       "    </tr>\n",
       "    <tr>\n",
       "      <th>6</th>\n",
       "      <td>0.117477</td>\n",
       "      <td>0.057707</td>\n",
       "      <td>0.085687</td>\n",
       "      <td>0.124397</td>\n",
       "      <td>0.000070</td>\n",
       "      <td>0.000017</td>\n",
       "      <td>0.085687</td>\n",
       "      <td>0.000030</td>\n",
       "      <td>0.114286</td>\n",
       "      <td>0.203571</td>\n",
       "      <td>0.414894</td>\n",
       "      <td>0.212833</td>\n",
       "      <td>0.155433</td>\n",
       "      <td>0.220319</td>\n",
       "      <td>7c2b72f9e0f5649c22902292febdc89f</td>\n",
       "      <td>1</td>\n",
       "    </tr>\n",
       "    <tr>\n",
       "      <th>7</th>\n",
       "      <td>0.117540</td>\n",
       "      <td>0.057711</td>\n",
       "      <td>0.085708</td>\n",
       "      <td>0.124410</td>\n",
       "      <td>0.000071</td>\n",
       "      <td>0.000019</td>\n",
       "      <td>0.085708</td>\n",
       "      <td>0.000032</td>\n",
       "      <td>0.183616</td>\n",
       "      <td>0.556497</td>\n",
       "      <td>0.423729</td>\n",
       "      <td>0.234608</td>\n",
       "      <td>0.177474</td>\n",
       "      <td>0.225888</td>\n",
       "      <td>e60d99ea9648e1ce859eb0b386365e26</td>\n",
       "      <td>0</td>\n",
       "    </tr>\n",
       "    <tr>\n",
       "      <th>8</th>\n",
       "      <td>0.117506</td>\n",
       "      <td>0.057711</td>\n",
       "      <td>0.085691</td>\n",
       "      <td>0.124401</td>\n",
       "      <td>0.000070</td>\n",
       "      <td>0.000018</td>\n",
       "      <td>0.085691</td>\n",
       "      <td>0.000035</td>\n",
       "      <td>0.273224</td>\n",
       "      <td>0.606557</td>\n",
       "      <td>0.831169</td>\n",
       "      <td>0.238636</td>\n",
       "      <td>0.172919</td>\n",
       "      <td>0.226779</td>\n",
       "      <td>8a2de07f6e9dbb8c6e4bfad7e83b3f0a</td>\n",
       "      <td>0</td>\n",
       "    </tr>\n",
       "    <tr>\n",
       "      <th>9</th>\n",
       "      <td>0.117507</td>\n",
       "      <td>0.057720</td>\n",
       "      <td>0.085685</td>\n",
       "      <td>0.124405</td>\n",
       "      <td>0.000073</td>\n",
       "      <td>0.000018</td>\n",
       "      <td>0.085685</td>\n",
       "      <td>0.000034</td>\n",
       "      <td>0.275281</td>\n",
       "      <td>0.424157</td>\n",
       "      <td>0.742424</td>\n",
       "      <td>0.236521</td>\n",
       "      <td>0.165068</td>\n",
       "      <td>0.206094</td>\n",
       "      <td>eaeebb7a63edc8a329a7c5fbc583a507</td>\n",
       "      <td>0</td>\n",
       "    </tr>\n",
       "    <tr>\n",
       "      <th>10</th>\n",
       "      <td>0.117482</td>\n",
       "      <td>0.057719</td>\n",
       "      <td>0.085683</td>\n",
       "      <td>0.124406</td>\n",
       "      <td>0.000075</td>\n",
       "      <td>0.000020</td>\n",
       "      <td>0.085683</td>\n",
       "      <td>0.000035</td>\n",
       "      <td>0.386628</td>\n",
       "      <td>0.447674</td>\n",
       "      <td>0.332143</td>\n",
       "      <td>0.246453</td>\n",
       "      <td>0.172813</td>\n",
       "      <td>0.243043</td>\n",
       "      <td>f5717f7cbc08d8bd942cd4c1128e3339</td>\n",
       "      <td>1</td>\n",
       "    </tr>\n",
       "    <tr>\n",
       "      <th>11</th>\n",
       "      <td>0.117477</td>\n",
       "      <td>0.057703</td>\n",
       "      <td>0.085671</td>\n",
       "      <td>0.124388</td>\n",
       "      <td>0.000065</td>\n",
       "      <td>0.000017</td>\n",
       "      <td>0.085671</td>\n",
       "      <td>0.000029</td>\n",
       "      <td>0.203226</td>\n",
       "      <td>0.345161</td>\n",
       "      <td>0.801527</td>\n",
       "      <td>0.224791</td>\n",
       "      <td>0.163031</td>\n",
       "      <td>0.207819</td>\n",
       "      <td>20c73e37fc89e007ae5b242480830860</td>\n",
       "      <td>0</td>\n",
       "    </tr>\n",
       "    <tr>\n",
       "      <th>12</th>\n",
       "      <td>0.117573</td>\n",
       "      <td>0.057714</td>\n",
       "      <td>0.085701</td>\n",
       "      <td>0.124412</td>\n",
       "      <td>0.000084</td>\n",
       "      <td>0.000019</td>\n",
       "      <td>0.085701</td>\n",
       "      <td>0.000036</td>\n",
       "      <td>0.118519</td>\n",
       "      <td>0.203704</td>\n",
       "      <td>0.627517</td>\n",
       "      <td>0.232037</td>\n",
       "      <td>0.171648</td>\n",
       "      <td>0.228405</td>\n",
       "      <td>66b7666912e1d469cd9817a1cade694c</td>\n",
       "      <td>0</td>\n",
       "    </tr>\n",
       "    <tr>\n",
       "      <th>13</th>\n",
       "      <td>0.117513</td>\n",
       "      <td>0.057710</td>\n",
       "      <td>0.085709</td>\n",
       "      <td>0.124418</td>\n",
       "      <td>0.000075</td>\n",
       "      <td>0.000018</td>\n",
       "      <td>0.085709</td>\n",
       "      <td>0.000035</td>\n",
       "      <td>0.194175</td>\n",
       "      <td>0.391586</td>\n",
       "      <td>0.522059</td>\n",
       "      <td>0.204743</td>\n",
       "      <td>0.144383</td>\n",
       "      <td>0.161236</td>\n",
       "      <td>882107a204c302e27628f85522baea49</td>\n",
       "      <td>1</td>\n",
       "    </tr>\n",
       "    <tr>\n",
       "      <th>14</th>\n",
       "      <td>0.117545</td>\n",
       "      <td>0.057712</td>\n",
       "      <td>0.085683</td>\n",
       "      <td>0.124409</td>\n",
       "      <td>0.000088</td>\n",
       "      <td>0.000019</td>\n",
       "      <td>0.085683</td>\n",
       "      <td>0.000037</td>\n",
       "      <td>0.118519</td>\n",
       "      <td>0.207407</td>\n",
       "      <td>0.214035</td>\n",
       "      <td>0.244272</td>\n",
       "      <td>0.177735</td>\n",
       "      <td>0.229796</td>\n",
       "      <td>f37d1d5c299d4838b294cf82902675b0</td>\n",
       "      <td>0</td>\n",
       "    </tr>\n",
       "    <tr>\n",
       "      <th>15</th>\n",
       "      <td>0.117498</td>\n",
       "      <td>0.057711</td>\n",
       "      <td>0.085707</td>\n",
       "      <td>0.124415</td>\n",
       "      <td>0.000066</td>\n",
       "      <td>0.000018</td>\n",
       "      <td>0.085707</td>\n",
       "      <td>0.000033</td>\n",
       "      <td>0.270270</td>\n",
       "      <td>0.521622</td>\n",
       "      <td>0.718354</td>\n",
       "      <td>0.231354</td>\n",
       "      <td>0.186502</td>\n",
       "      <td>0.220467</td>\n",
       "      <td>a6f09ff7b85c72ee28a9e725bb1ec652</td>\n",
       "      <td>0</td>\n",
       "    </tr>\n",
       "    <tr>\n",
       "      <th>16</th>\n",
       "      <td>0.117533</td>\n",
       "      <td>0.057717</td>\n",
       "      <td>0.085680</td>\n",
       "      <td>0.124402</td>\n",
       "      <td>0.000069</td>\n",
       "      <td>0.000019</td>\n",
       "      <td>0.085680</td>\n",
       "      <td>0.000034</td>\n",
       "      <td>0.287671</td>\n",
       "      <td>0.408219</td>\n",
       "      <td>0.792763</td>\n",
       "      <td>0.228220</td>\n",
       "      <td>0.157054</td>\n",
       "      <td>0.218111</td>\n",
       "      <td>35b9a3e9871499893f76c8e6c648562c</td>\n",
       "      <td>1</td>\n",
       "    </tr>\n",
       "    <tr>\n",
       "      <th>17</th>\n",
       "      <td>0.117578</td>\n",
       "      <td>0.057704</td>\n",
       "      <td>0.085704</td>\n",
       "      <td>0.124415</td>\n",
       "      <td>0.000087</td>\n",
       "      <td>0.000022</td>\n",
       "      <td>0.085704</td>\n",
       "      <td>0.000040</td>\n",
       "      <td>0.110345</td>\n",
       "      <td>0.310345</td>\n",
       "      <td>0.305882</td>\n",
       "      <td>0.251600</td>\n",
       "      <td>0.195995</td>\n",
       "      <td>0.235718</td>\n",
       "      <td>9660e4a23b8dd7d5056a622ee3568a41</td>\n",
       "      <td>1</td>\n",
       "    </tr>\n",
       "    <tr>\n",
       "      <th>18</th>\n",
       "      <td>0.117436</td>\n",
       "      <td>0.057712</td>\n",
       "      <td>0.085693</td>\n",
       "      <td>0.124406</td>\n",
       "      <td>0.000075</td>\n",
       "      <td>0.000019</td>\n",
       "      <td>0.085693</td>\n",
       "      <td>0.000035</td>\n",
       "      <td>0.206061</td>\n",
       "      <td>0.521212</td>\n",
       "      <td>0.528571</td>\n",
       "      <td>0.250973</td>\n",
       "      <td>0.168230</td>\n",
       "      <td>0.234407</td>\n",
       "      <td>e3423505ef6b43f03c5d7bde52a5a78c</td>\n",
       "      <td>1</td>\n",
       "    </tr>\n",
       "    <tr>\n",
       "      <th>19</th>\n",
       "      <td>0.117482</td>\n",
       "      <td>0.057712</td>\n",
       "      <td>0.085710</td>\n",
       "      <td>0.124401</td>\n",
       "      <td>0.000070</td>\n",
       "      <td>0.000018</td>\n",
       "      <td>0.085710</td>\n",
       "      <td>0.000033</td>\n",
       "      <td>0.313253</td>\n",
       "      <td>0.355422</td>\n",
       "      <td>0.853333</td>\n",
       "      <td>0.248312</td>\n",
       "      <td>0.128035</td>\n",
       "      <td>0.237775</td>\n",
       "      <td>66a92d789e440d3dbef3c69d20e20694</td>\n",
       "      <td>1</td>\n",
       "    </tr>\n",
       "  </tbody>\n",
       "</table>\n",
       "</div>"
      ],
      "text/plain": [
       "    max_malig  max_spiculation  max_lobulation  max_diameter  xsd_malig  \\\n",
       "0    0.117520         0.057713        0.085683      0.124413   0.000077   \n",
       "1    0.117491         0.057710        0.085702      0.124411   0.000068   \n",
       "2    0.117454         0.057718        0.085690      0.124406   0.000065   \n",
       "3    0.117574         0.057717        0.085679      0.124416   0.000086   \n",
       "4    0.117502         0.057714        0.085706      0.124407   0.000080   \n",
       "5    0.117517         0.057707        0.085698      0.124419   0.000070   \n",
       "6    0.117477         0.057707        0.085687      0.124397   0.000070   \n",
       "7    0.117540         0.057711        0.085708      0.124410   0.000071   \n",
       "8    0.117506         0.057711        0.085691      0.124401   0.000070   \n",
       "9    0.117507         0.057720        0.085685      0.124405   0.000073   \n",
       "10   0.117482         0.057719        0.085683      0.124406   0.000075   \n",
       "11   0.117477         0.057703        0.085671      0.124388   0.000065   \n",
       "12   0.117573         0.057714        0.085701      0.124412   0.000084   \n",
       "13   0.117513         0.057710        0.085709      0.124418   0.000075   \n",
       "14   0.117545         0.057712        0.085683      0.124409   0.000088   \n",
       "15   0.117498         0.057711        0.085707      0.124415   0.000066   \n",
       "16   0.117533         0.057717        0.085680      0.124402   0.000069   \n",
       "17   0.117578         0.057704        0.085704      0.124415   0.000087   \n",
       "18   0.117436         0.057712        0.085693      0.124406   0.000075   \n",
       "19   0.117482         0.057712        0.085710      0.124401   0.000070   \n",
       "\n",
       "    xsd_spiculation  xsd_lobulation  xsd_diameter  loc_from_malig_x  \\\n",
       "0          0.000019        0.085683      0.000035          0.221429   \n",
       "1          0.000017        0.085702      0.000033          0.572222   \n",
       "2          0.000016        0.085690      0.000030          0.200000   \n",
       "3          0.000019        0.085679      0.000036          0.112281   \n",
       "4          0.000018        0.085706      0.000037          0.194118   \n",
       "5          0.000015        0.085698      0.000031          0.188571   \n",
       "6          0.000017        0.085687      0.000030          0.114286   \n",
       "7          0.000019        0.085708      0.000032          0.183616   \n",
       "8          0.000018        0.085691      0.000035          0.273224   \n",
       "9          0.000018        0.085685      0.000034          0.275281   \n",
       "10         0.000020        0.085683      0.000035          0.386628   \n",
       "11         0.000017        0.085671      0.000029          0.203226   \n",
       "12         0.000019        0.085701      0.000036          0.118519   \n",
       "13         0.000018        0.085709      0.000035          0.194175   \n",
       "14         0.000019        0.085683      0.000037          0.118519   \n",
       "15         0.000018        0.085707      0.000033          0.270270   \n",
       "16         0.000019        0.085680      0.000034          0.287671   \n",
       "17         0.000022        0.085704      0.000040          0.110345   \n",
       "18         0.000019        0.085693      0.000035          0.206061   \n",
       "19         0.000018        0.085710      0.000033          0.313253   \n",
       "\n",
       "    loc_from_malig_y  loc_from_malig_z  std_locs_x  std_locs_y  std_locs_z  \\\n",
       "0           0.528571          0.756944    0.244258    0.163056    0.242655   \n",
       "1           0.416667          0.814103    0.243736    0.159560    0.216008   \n",
       "2           0.418182          0.700637    0.231711    0.155614    0.217998   \n",
       "3           0.203509          0.280864    0.233297    0.183184    0.207843   \n",
       "4           0.502941          0.652299    0.249184    0.183342    0.214586   \n",
       "5           0.494286          0.582192    0.219889    0.184321    0.200701   \n",
       "6           0.203571          0.414894    0.212833    0.155433    0.220319   \n",
       "7           0.556497          0.423729    0.234608    0.177474    0.225888   \n",
       "8           0.606557          0.831169    0.238636    0.172919    0.226779   \n",
       "9           0.424157          0.742424    0.236521    0.165068    0.206094   \n",
       "10          0.447674          0.332143    0.246453    0.172813    0.243043   \n",
       "11          0.345161          0.801527    0.224791    0.163031    0.207819   \n",
       "12          0.203704          0.627517    0.232037    0.171648    0.228405   \n",
       "13          0.391586          0.522059    0.204743    0.144383    0.161236   \n",
       "14          0.207407          0.214035    0.244272    0.177735    0.229796   \n",
       "15          0.521622          0.718354    0.231354    0.186502    0.220467   \n",
       "16          0.408219          0.792763    0.228220    0.157054    0.218111   \n",
       "17          0.310345          0.305882    0.251600    0.195995    0.235718   \n",
       "18          0.521212          0.528571    0.250973    0.168230    0.234407   \n",
       "19          0.355422          0.853333    0.248312    0.128035    0.237775   \n",
       "\n",
       "                                  id  cancer  \n",
       "0   d777a77cc7a2ec2f1eed68799cc9075c       1  \n",
       "1   1631637f08f27347e8f23d7a0e18c100       0  \n",
       "2   9065f2b133129c5747d42db18a424749       1  \n",
       "3   e3a9a6f8d21c6c459728066bcf18c615       0  \n",
       "4   f39a1e54d79731e4417aa8159d19b7d4       0  \n",
       "5   8987df2216ae2ab1a907d52bc9dc540d       0  \n",
       "6   7c2b72f9e0f5649c22902292febdc89f       1  \n",
       "7   e60d99ea9648e1ce859eb0b386365e26       0  \n",
       "8   8a2de07f6e9dbb8c6e4bfad7e83b3f0a       0  \n",
       "9   eaeebb7a63edc8a329a7c5fbc583a507       0  \n",
       "10  f5717f7cbc08d8bd942cd4c1128e3339       1  \n",
       "11  20c73e37fc89e007ae5b242480830860       0  \n",
       "12  66b7666912e1d469cd9817a1cade694c       0  \n",
       "13  882107a204c302e27628f85522baea49       1  \n",
       "14  f37d1d5c299d4838b294cf82902675b0       0  \n",
       "15  a6f09ff7b85c72ee28a9e725bb1ec652       0  \n",
       "16  35b9a3e9871499893f76c8e6c648562c       1  \n",
       "17  9660e4a23b8dd7d5056a622ee3568a41       1  \n",
       "18  e3423505ef6b43f03c5d7bde52a5a78c       1  \n",
       "19  66a92d789e440d3dbef3c69d20e20694       1  "
      ]
     },
     "execution_count": 4,
     "metadata": {},
     "output_type": "execute_result"
    }
   ],
   "source": [
    "df_feature = pd.read_csv(\"./feature_matrix_model2_stage1.csv\")\n",
    "df_feature['id'] = df_feature['Unnamed: 0'].apply(lambda x: x.split('.')[0])\n",
    "print (\"stage1 data\", df_feature.shape)\n",
    "\n",
    "df_labels_1 =pd.read_csv('/home/lin/data/stage1_labels.csv')\n",
    "print (\"stage1 solution labels\",df_labels_1.shape)\n",
    "\n",
    "df_labels_2 = pd.read_csv('/home/lin/data/stage1_solution.csv')\n",
    "df_labels_2 = df_labels_2.drop(['Usage'],1)\n",
    "print (\"stage1 labels\", df_labels_2.shape)\n",
    "\n",
    "df_labels = df_labels_1.append(df_labels_2)\n",
    "print (\"Total %d labels\"%df_labels.shape[0])\n",
    "\n",
    "df = pd.merge(left=df_feature, right=df_labels,how='outer',on='id').dropna()\n",
    "df = df.drop(['Unnamed: 0'],1)\n",
    "print (df.shape)\n",
    "df.head(20)"
   ]
  },
  {
   "cell_type": "markdown",
   "metadata": {},
   "source": [
    "## 2. Data exploration\n",
    "\n",
    "### 2.1 Basic estadistics\n",
    "\n",
    "+ How many patients do we have for training-test? --> 1257\n",
    "+ How many cancer patients? --> 315\n",
    "+ What percentage is the cancer patient? --> 25%\n"
   ]
  },
  {
   "cell_type": "code",
   "execution_count": 5,
   "metadata": {
    "collapsed": false
   },
   "outputs": [
    {
     "name": "stdout",
     "output_type": "stream",
     "text": [
      "data frame shape (1434, 16)\n",
      "number of cancer patient: 363\n",
      "how un-balance is the data: 0.25313807531380755\n"
     ]
    }
   ],
   "source": [
    "print (\"data frame shape\", df.shape)\n",
    "print (\"number of cancer patient:\",df['cancer'].sum() )\n",
    "print (\"how un-balance is the data:\", df['cancer'].sum()/df.shape[0])"
   ]
  },
  {
   "cell_type": "markdown",
   "metadata": {},
   "source": [
    "### 2.2 Cancer patient v.s. Non-cancer patients"
   ]
  },
  {
   "cell_type": "code",
   "execution_count": 6,
   "metadata": {
    "collapsed": false
   },
   "outputs": [
    {
     "name": "stdout",
     "output_type": "stream",
     "text": [
      "(363, 16)\n"
     ]
    },
    {
     "data": {
      "text/html": [
       "<div>\n",
       "<table border=\"1\" class=\"dataframe\">\n",
       "  <thead>\n",
       "    <tr style=\"text-align: right;\">\n",
       "      <th></th>\n",
       "      <th>max_malig</th>\n",
       "      <th>max_spiculation</th>\n",
       "      <th>max_lobulation</th>\n",
       "      <th>max_diameter</th>\n",
       "      <th>xsd_malig</th>\n",
       "      <th>xsd_spiculation</th>\n",
       "      <th>xsd_lobulation</th>\n",
       "      <th>xsd_diameter</th>\n",
       "      <th>loc_from_malig_x</th>\n",
       "      <th>loc_from_malig_y</th>\n",
       "      <th>loc_from_malig_z</th>\n",
       "      <th>std_locs_x</th>\n",
       "      <th>std_locs_y</th>\n",
       "      <th>std_locs_z</th>\n",
       "      <th>id</th>\n",
       "      <th>cancer</th>\n",
       "    </tr>\n",
       "  </thead>\n",
       "  <tbody>\n",
       "    <tr>\n",
       "      <th>0</th>\n",
       "      <td>0.117520</td>\n",
       "      <td>0.057713</td>\n",
       "      <td>0.085683</td>\n",
       "      <td>0.124413</td>\n",
       "      <td>0.000077</td>\n",
       "      <td>0.000019</td>\n",
       "      <td>0.085683</td>\n",
       "      <td>0.000035</td>\n",
       "      <td>0.221429</td>\n",
       "      <td>0.528571</td>\n",
       "      <td>0.756944</td>\n",
       "      <td>0.244258</td>\n",
       "      <td>0.163056</td>\n",
       "      <td>0.242655</td>\n",
       "      <td>d777a77cc7a2ec2f1eed68799cc9075c</td>\n",
       "      <td>1</td>\n",
       "    </tr>\n",
       "    <tr>\n",
       "      <th>2</th>\n",
       "      <td>0.117454</td>\n",
       "      <td>0.057718</td>\n",
       "      <td>0.085690</td>\n",
       "      <td>0.124406</td>\n",
       "      <td>0.000065</td>\n",
       "      <td>0.000016</td>\n",
       "      <td>0.085690</td>\n",
       "      <td>0.000030</td>\n",
       "      <td>0.200000</td>\n",
       "      <td>0.418182</td>\n",
       "      <td>0.700637</td>\n",
       "      <td>0.231711</td>\n",
       "      <td>0.155614</td>\n",
       "      <td>0.217998</td>\n",
       "      <td>9065f2b133129c5747d42db18a424749</td>\n",
       "      <td>1</td>\n",
       "    </tr>\n",
       "    <tr>\n",
       "      <th>6</th>\n",
       "      <td>0.117477</td>\n",
       "      <td>0.057707</td>\n",
       "      <td>0.085687</td>\n",
       "      <td>0.124397</td>\n",
       "      <td>0.000070</td>\n",
       "      <td>0.000017</td>\n",
       "      <td>0.085687</td>\n",
       "      <td>0.000030</td>\n",
       "      <td>0.114286</td>\n",
       "      <td>0.203571</td>\n",
       "      <td>0.414894</td>\n",
       "      <td>0.212833</td>\n",
       "      <td>0.155433</td>\n",
       "      <td>0.220319</td>\n",
       "      <td>7c2b72f9e0f5649c22902292febdc89f</td>\n",
       "      <td>1</td>\n",
       "    </tr>\n",
       "    <tr>\n",
       "      <th>10</th>\n",
       "      <td>0.117482</td>\n",
       "      <td>0.057719</td>\n",
       "      <td>0.085683</td>\n",
       "      <td>0.124406</td>\n",
       "      <td>0.000075</td>\n",
       "      <td>0.000020</td>\n",
       "      <td>0.085683</td>\n",
       "      <td>0.000035</td>\n",
       "      <td>0.386628</td>\n",
       "      <td>0.447674</td>\n",
       "      <td>0.332143</td>\n",
       "      <td>0.246453</td>\n",
       "      <td>0.172813</td>\n",
       "      <td>0.243043</td>\n",
       "      <td>f5717f7cbc08d8bd942cd4c1128e3339</td>\n",
       "      <td>1</td>\n",
       "    </tr>\n",
       "    <tr>\n",
       "      <th>13</th>\n",
       "      <td>0.117513</td>\n",
       "      <td>0.057710</td>\n",
       "      <td>0.085709</td>\n",
       "      <td>0.124418</td>\n",
       "      <td>0.000075</td>\n",
       "      <td>0.000018</td>\n",
       "      <td>0.085709</td>\n",
       "      <td>0.000035</td>\n",
       "      <td>0.194175</td>\n",
       "      <td>0.391586</td>\n",
       "      <td>0.522059</td>\n",
       "      <td>0.204743</td>\n",
       "      <td>0.144383</td>\n",
       "      <td>0.161236</td>\n",
       "      <td>882107a204c302e27628f85522baea49</td>\n",
       "      <td>1</td>\n",
       "    </tr>\n",
       "  </tbody>\n",
       "</table>\n",
       "</div>"
      ],
      "text/plain": [
       "    max_malig  max_spiculation  max_lobulation  max_diameter  xsd_malig  \\\n",
       "0    0.117520         0.057713        0.085683      0.124413   0.000077   \n",
       "2    0.117454         0.057718        0.085690      0.124406   0.000065   \n",
       "6    0.117477         0.057707        0.085687      0.124397   0.000070   \n",
       "10   0.117482         0.057719        0.085683      0.124406   0.000075   \n",
       "13   0.117513         0.057710        0.085709      0.124418   0.000075   \n",
       "\n",
       "    xsd_spiculation  xsd_lobulation  xsd_diameter  loc_from_malig_x  \\\n",
       "0          0.000019        0.085683      0.000035          0.221429   \n",
       "2          0.000016        0.085690      0.000030          0.200000   \n",
       "6          0.000017        0.085687      0.000030          0.114286   \n",
       "10         0.000020        0.085683      0.000035          0.386628   \n",
       "13         0.000018        0.085709      0.000035          0.194175   \n",
       "\n",
       "    loc_from_malig_y  loc_from_malig_z  std_locs_x  std_locs_y  std_locs_z  \\\n",
       "0           0.528571          0.756944    0.244258    0.163056    0.242655   \n",
       "2           0.418182          0.700637    0.231711    0.155614    0.217998   \n",
       "6           0.203571          0.414894    0.212833    0.155433    0.220319   \n",
       "10          0.447674          0.332143    0.246453    0.172813    0.243043   \n",
       "13          0.391586          0.522059    0.204743    0.144383    0.161236   \n",
       "\n",
       "                                  id  cancer  \n",
       "0   d777a77cc7a2ec2f1eed68799cc9075c       1  \n",
       "2   9065f2b133129c5747d42db18a424749       1  \n",
       "6   7c2b72f9e0f5649c22902292febdc89f       1  \n",
       "10  f5717f7cbc08d8bd942cd4c1128e3339       1  \n",
       "13  882107a204c302e27628f85522baea49       1  "
      ]
     },
     "execution_count": 6,
     "metadata": {},
     "output_type": "execute_result"
    }
   ],
   "source": [
    "df_cancer = df.loc[df['cancer'] == 1]\n",
    "print (df_cancer.shape)\n",
    "df_cancer.head()"
   ]
  },
  {
   "cell_type": "code",
   "execution_count": 7,
   "metadata": {
    "collapsed": false,
    "scrolled": true
   },
   "outputs": [
    {
     "name": "stdout",
     "output_type": "stream",
     "text": [
      "(1071, 16)\n"
     ]
    },
    {
     "data": {
      "text/html": [
       "<div>\n",
       "<table border=\"1\" class=\"dataframe\">\n",
       "  <thead>\n",
       "    <tr style=\"text-align: right;\">\n",
       "      <th></th>\n",
       "      <th>max_malig</th>\n",
       "      <th>max_spiculation</th>\n",
       "      <th>max_lobulation</th>\n",
       "      <th>max_diameter</th>\n",
       "      <th>xsd_malig</th>\n",
       "      <th>xsd_spiculation</th>\n",
       "      <th>xsd_lobulation</th>\n",
       "      <th>xsd_diameter</th>\n",
       "      <th>loc_from_malig_x</th>\n",
       "      <th>loc_from_malig_y</th>\n",
       "      <th>loc_from_malig_z</th>\n",
       "      <th>std_locs_x</th>\n",
       "      <th>std_locs_y</th>\n",
       "      <th>std_locs_z</th>\n",
       "      <th>id</th>\n",
       "      <th>cancer</th>\n",
       "    </tr>\n",
       "  </thead>\n",
       "  <tbody>\n",
       "    <tr>\n",
       "      <th>1</th>\n",
       "      <td>0.117491</td>\n",
       "      <td>0.057710</td>\n",
       "      <td>0.085702</td>\n",
       "      <td>0.124411</td>\n",
       "      <td>0.000068</td>\n",
       "      <td>0.000017</td>\n",
       "      <td>0.085702</td>\n",
       "      <td>0.000033</td>\n",
       "      <td>0.572222</td>\n",
       "      <td>0.416667</td>\n",
       "      <td>0.814103</td>\n",
       "      <td>0.243736</td>\n",
       "      <td>0.159560</td>\n",
       "      <td>0.216008</td>\n",
       "      <td>1631637f08f27347e8f23d7a0e18c100</td>\n",
       "      <td>0</td>\n",
       "    </tr>\n",
       "    <tr>\n",
       "      <th>3</th>\n",
       "      <td>0.117574</td>\n",
       "      <td>0.057717</td>\n",
       "      <td>0.085679</td>\n",
       "      <td>0.124416</td>\n",
       "      <td>0.000086</td>\n",
       "      <td>0.000019</td>\n",
       "      <td>0.085679</td>\n",
       "      <td>0.000036</td>\n",
       "      <td>0.112281</td>\n",
       "      <td>0.203509</td>\n",
       "      <td>0.280864</td>\n",
       "      <td>0.233297</td>\n",
       "      <td>0.183184</td>\n",
       "      <td>0.207843</td>\n",
       "      <td>e3a9a6f8d21c6c459728066bcf18c615</td>\n",
       "      <td>0</td>\n",
       "    </tr>\n",
       "    <tr>\n",
       "      <th>4</th>\n",
       "      <td>0.117502</td>\n",
       "      <td>0.057714</td>\n",
       "      <td>0.085706</td>\n",
       "      <td>0.124407</td>\n",
       "      <td>0.000080</td>\n",
       "      <td>0.000018</td>\n",
       "      <td>0.085706</td>\n",
       "      <td>0.000037</td>\n",
       "      <td>0.194118</td>\n",
       "      <td>0.502941</td>\n",
       "      <td>0.652299</td>\n",
       "      <td>0.249184</td>\n",
       "      <td>0.183342</td>\n",
       "      <td>0.214586</td>\n",
       "      <td>f39a1e54d79731e4417aa8159d19b7d4</td>\n",
       "      <td>0</td>\n",
       "    </tr>\n",
       "    <tr>\n",
       "      <th>5</th>\n",
       "      <td>0.117517</td>\n",
       "      <td>0.057707</td>\n",
       "      <td>0.085698</td>\n",
       "      <td>0.124419</td>\n",
       "      <td>0.000070</td>\n",
       "      <td>0.000015</td>\n",
       "      <td>0.085698</td>\n",
       "      <td>0.000031</td>\n",
       "      <td>0.188571</td>\n",
       "      <td>0.494286</td>\n",
       "      <td>0.582192</td>\n",
       "      <td>0.219889</td>\n",
       "      <td>0.184321</td>\n",
       "      <td>0.200701</td>\n",
       "      <td>8987df2216ae2ab1a907d52bc9dc540d</td>\n",
       "      <td>0</td>\n",
       "    </tr>\n",
       "    <tr>\n",
       "      <th>7</th>\n",
       "      <td>0.117540</td>\n",
       "      <td>0.057711</td>\n",
       "      <td>0.085708</td>\n",
       "      <td>0.124410</td>\n",
       "      <td>0.000071</td>\n",
       "      <td>0.000019</td>\n",
       "      <td>0.085708</td>\n",
       "      <td>0.000032</td>\n",
       "      <td>0.183616</td>\n",
       "      <td>0.556497</td>\n",
       "      <td>0.423729</td>\n",
       "      <td>0.234608</td>\n",
       "      <td>0.177474</td>\n",
       "      <td>0.225888</td>\n",
       "      <td>e60d99ea9648e1ce859eb0b386365e26</td>\n",
       "      <td>0</td>\n",
       "    </tr>\n",
       "  </tbody>\n",
       "</table>\n",
       "</div>"
      ],
      "text/plain": [
       "   max_malig  max_spiculation  max_lobulation  max_diameter  xsd_malig  \\\n",
       "1   0.117491         0.057710        0.085702      0.124411   0.000068   \n",
       "3   0.117574         0.057717        0.085679      0.124416   0.000086   \n",
       "4   0.117502         0.057714        0.085706      0.124407   0.000080   \n",
       "5   0.117517         0.057707        0.085698      0.124419   0.000070   \n",
       "7   0.117540         0.057711        0.085708      0.124410   0.000071   \n",
       "\n",
       "   xsd_spiculation  xsd_lobulation  xsd_diameter  loc_from_malig_x  \\\n",
       "1         0.000017        0.085702      0.000033          0.572222   \n",
       "3         0.000019        0.085679      0.000036          0.112281   \n",
       "4         0.000018        0.085706      0.000037          0.194118   \n",
       "5         0.000015        0.085698      0.000031          0.188571   \n",
       "7         0.000019        0.085708      0.000032          0.183616   \n",
       "\n",
       "   loc_from_malig_y  loc_from_malig_z  std_locs_x  std_locs_y  std_locs_z  \\\n",
       "1          0.416667          0.814103    0.243736    0.159560    0.216008   \n",
       "3          0.203509          0.280864    0.233297    0.183184    0.207843   \n",
       "4          0.502941          0.652299    0.249184    0.183342    0.214586   \n",
       "5          0.494286          0.582192    0.219889    0.184321    0.200701   \n",
       "7          0.556497          0.423729    0.234608    0.177474    0.225888   \n",
       "\n",
       "                                 id  cancer  \n",
       "1  1631637f08f27347e8f23d7a0e18c100       0  \n",
       "3  e3a9a6f8d21c6c459728066bcf18c615       0  \n",
       "4  f39a1e54d79731e4417aa8159d19b7d4       0  \n",
       "5  8987df2216ae2ab1a907d52bc9dc540d       0  \n",
       "7  e60d99ea9648e1ce859eb0b386365e26       0  "
      ]
     },
     "execution_count": 7,
     "metadata": {},
     "output_type": "execute_result"
    }
   ],
   "source": [
    "df_no_cancer = df.loc[df['cancer'] == 0]\n",
    "print (df_no_cancer.shape)\n",
    "df_no_cancer.head()"
   ]
  },
  {
   "cell_type": "code",
   "execution_count": 17,
   "metadata": {
    "collapsed": false,
    "scrolled": true
   },
   "outputs": [
    {
     "data": {
      "image/png": "[encoded data removed]",
      "text/plain": [
       "<matplotlib.figure.Figure at 0x7f1da5ea69e8>"
      ]
     },
     "metadata": {},
     "output_type": "display_data"
    }
   ],
   "source": [
    "# df_no_cancer.reset_index(inplace=True, drop=True)\n",
    "fig, ax = plt.subplots(figsize=[20,12])\n",
    "\n",
    "cancerCount=0\n",
    "nonCancerCount=0\n",
    "\n",
    "for patient in range(300):\n",
    "    if df.iloc[patient].cancer==0:\n",
    "        if nonCancerCount<30:\n",
    "            nonCancerCount+=1\n",
    "            line1, = plt.plot(np.arange(14), df.iloc[patient][:-2],'ok',alpha=0.3,label='Non Cancer')\n",
    "    else:\n",
    "        if cancerCount<30:\n",
    "            cancerCount+=1\n",
    "            line2, = plt.plot(np.arange(14), df.iloc[patient][:-2],'oc',alpha=0.5,label='Cancer')\n",
    "\n",
    "plt.legend((line1,line2),('Non Cancer','Cancer'))\n",
    "plt.xticks([x for x in range(14)])\n",
    "ax.set_xticklabels(df.columns[:-2]);"
   ]
  },
  {
   "cell_type": "code",
   "execution_count": 9,
   "metadata": {
    "collapsed": false,
    "scrolled": true
   },
   "outputs": [
    {
     "name": "stderr",
     "output_type": "stream",
     "text": [
      "/opt/anaconda/lib/python3.5/site-packages/pandas/core/frame.py:5749: UserWarning: When passing multiple axes, sharex and sharey are ignored. These settings must be specified when creating axes\n",
      "  return_type=return_type, **kwds)\n"
     ]
    },
    {
     "data": {
      "image/png": "[encoded data removed]",
      "text/plain": [
       "<matplotlib.figure.Figure at 0x7f1dad607fd0>"
      ]
     },
     "metadata": {},
     "output_type": "display_data"
    }
   ],
   "source": [
    "import seaborn\n",
    "seaborn.set(style=\"ticks\")\n",
    "fig, axes = plt.subplots(ncols=14, figsize=(20, 5), sharey=True)\n",
    "df.query(\"cancer in [0, 1]\").boxplot(by='cancer', return_type='axes', ax=axes);"
   ]
  },
  {
   "cell_type": "markdown",
   "metadata": {},
   "source": [
    "#### 2.2.1 Mean\n",
    "\n",
    "Not surprisely, as the box plot above showed, they are extremly similar!! "
   ]
  },
  {
   "cell_type": "code",
   "execution_count": 18,
   "metadata": {
    "collapsed": false
   },
   "outputs": [
    {
     "name": "stdout",
     "output_type": "stream",
     "text": [
      "max_malig          -5.658090e-07\n",
      "max_spiculation     1.342261e-08\n",
      "max_lobulation     -4.382120e-10\n",
      "max_diameter       -1.463369e-07\n",
      "xsd_malig           6.259386e-07\n",
      "xsd_spiculation     5.586472e-08\n",
      "xsd_lobulation     -4.382120e-10\n",
      "xsd_diameter        1.973557e-07\n",
      "loc_from_malig_x   -6.038072e-03\n",
      "loc_from_malig_y   -1.067516e-02\n",
      "loc_from_malig_z   -1.012301e-02\n",
      "std_locs_x          3.708122e-04\n",
      "std_locs_y          8.245741e-04\n",
      "std_locs_z          1.997735e-03\n",
      "cancer              1.000000e+00\n",
      "dtype: float64\n"
     ]
    }
   ],
   "source": [
    "df_cancer_mean = df.loc[df['cancer'] == 1].mean()\n",
    "df_no_cancer_mean = df.loc[df['cancer'] == 0].mean()\n",
    "print (df_cancer_mean-df_no_cancer_mean)\n",
    "# print (df_cancer_mean)"
   ]
  },
  {
   "cell_type": "code",
   "execution_count": 27,
   "metadata": {
    "collapsed": false,
    "scrolled": true
   },
   "outputs": [
    {
     "data": {
      "image/png": "[encoded data removed]",
      "text/plain": [
       "<matplotlib.figure.Figure at 0x7f1dbe8ae4e0>"
      ]
     },
     "metadata": {},
     "output_type": "display_data"
    }
   ],
   "source": [
    "plt.scatter(np.arange(14),df_no_cancer_mean[:-1], color = 'c', label = 'non-cancer mean')\n",
    "plt.scatter(np.arange(14),df_cancer_mean[:-1], color = 'black', label = 'cancer mean')\n",
    "plt.legend();"
   ]
  },
  {
   "cell_type": "markdown",
   "metadata": {},
   "source": [
    "## 3. Metrics\n",
    "\n",
    "### 3.1 Confusion matrix"
   ]
  },
  {
   "cell_type": "markdown",
   "metadata": {},
   "source": [
    "<div class = \"alert alert-info\">\n",
    "**Unbalanced datasets**\n",
    "<p>\n",
    "In cancer detection because the cost of missing one patient in a trial is very large, we want the predictor to have very large recall/sensitivity (we do not accept false negatives) though it means accepting more false positives. These false positives can be discarded in subsequent tests. \n",
    "\n",
    "<p>\n",
    "$$\\text{sensitivity (recall) }=\\frac{\\text{TP}}{\\text{Real Positives}}=\\frac{\\text{TP}}{\\text{TP}+\\text{FN}}$$\n",
    "\n",
    "\n",
    "</div>\n",
    "\n",
    "Although accuracy is the most normal metric for evaluating classifiers, there are cases when the business value of correctly predicting elements from one class is different from the value for the prediction of elements of another class. In those cases, accuracy is not a good performance metric and more detailed analysis is needed. The **confusion matrix** enables us to define different metrics considering such scenarios. The confusion matrix considers the concepts of the classifier outcome and the actual ground truth or gold standard. In a binary problem, there are four possible cases: \n",
    "\n",
    "\n",
    "+ *True positives (TP):* When the classifier predicts a sample as positive and it really is positive.\n",
    "+ *False positives (FP):* When the classifier predicts a sample as positive but in fact it is negative.\n",
    "+ *True negatives (TN):* When the classifier predicts a sample as negative and it really is negative.\n",
    "+ *False negatives (FN):* When the classifier predicts a sample as negative but in fact it is positive.\n",
    "\n",
    "\n",
    "We can summarize this information in a matrix, namely the confusion matrix, as follows:\n",
    "\n",
    "<img src = \"https://i.stack.imgur.com/OW5Lt.jpg\" width = 400px>"
   ]
  },
  {
   "cell_type": "markdown",
   "metadata": {
    "collapsed": true
   },
   "source": [
    "### 3.2 Evaluation: Logloss\n",
    "\n",
    "https://www.kaggle.com/c/data-science-bowl-2017#evaluation\n",
    "\n",
    "$$\n",
    "\\textrm{LogLoss} = - \\frac{1}{n} \\sum_{i=1}^n \\left[ y_i \\log(\\hat{y}_i) + (1 - y_i) \\log(1 - \\hat{y}_i)\\right],\n",
    "$$\n",
    "\n",
    "where\n",
    "\n",
    "+ n is the number of patients in the test set\n",
    "+ $\\hat{y}_i $ is the predicted probability of the image belonging to a patient with cancer\n",
    "+ $ y_i $ is 1 if the diagnosis is cancer, 0 otherwise\n",
    "+ $ log()$ is the natural (base e) logarithm\n",
    "\n",
    "Note: the actual submitted predicted probabilities are replaced with $(max(min(p,1-10^{-15}),10^{-15}))$ . A smaller log loss is better."
   ]
  },
  {
   "cell_type": "markdown",
   "metadata": {},
   "source": [
    "## 4. Feature selection,  classification, and evaluation"
   ]
  },
  {
   "cell_type": "markdown",
   "metadata": {},
   "source": [
    "### 4.1 Feature selection "
   ]
  },
  {
   "cell_type": "code",
   "execution_count": 20,
   "metadata": {
    "collapsed": false
   },
   "outputs": [
    {
     "name": "stdout",
     "output_type": "stream",
     "text": [
      "Feature space holds 1434 observations and 14 features\n",
      "Unique target labels: [0 1]\n"
     ]
    }
   ],
   "source": [
    "## Feature selection ##\n",
    "x_cols = df.drop(['id', 'cancer'],1).columns  # using all the features\n",
    "# x_cols=['max_malig','max_spiculation','max_lobulation','max_diameter','xsd_malig', 'xsd_spiculation', 'xmax_lobulation','xsd_diameter']\n",
    "X = df.loc[:][x_cols].values\n",
    "y = df.loc[:]['cancer'].values\n",
    "\n",
    "print (\"Feature space holds %d observations and %d features\" % X.shape)\n",
    "print (\"Unique target labels:\", np.unique(y))"
   ]
  },
  {
   "cell_type": "markdown",
   "metadata": {},
   "source": [
    "### 4.2 Clssification\n",
    "\n",
    "### 4.2.1 Logistic regression (LR) with ExtraTreesRegressor (XTR)"
   ]
  },
  {
   "cell_type": "code",
   "execution_count": 21,
   "metadata": {
    "collapsed": true
   },
   "outputs": [],
   "source": [
    "class SlightlyNonlinearClassification(BaseEstimator):\n",
    "\n",
    "    def __init__(self,C=10,step_size=0.7):\n",
    "        self.step_size = step_size\n",
    "        self.C = C\n",
    "\n",
    "    def fit(self, X, y):\n",
    "        lr = LogisticRegression(C=self.C,penalty='l1')\n",
    "        lr_preds = cross_val_predict(lr, X, y, cv=50, method='predict_proba')[:,1]\n",
    "        lr.fit(X,y)\n",
    "        xtr = XTR(n_estimators=500, min_samples_leaf=20, max_features=.8).fit(X, y - lr_preds)\n",
    "        self.lr = lr\n",
    "        self.xtr = xtr\n",
    "\n",
    "        return self\n",
    "\n",
    "    def predict_proba(self, X):\n",
    "        base = self.lr.predict_proba(X)\n",
    "        base[:,1] += self.step_size * self.xtr.predict(X)\n",
    "        base[:,0] = 1 - base[:,1]\n",
    "        return np.clip(base, 1e-3, 1-1e-3)\n",
    "\n",
    "    def predict(self, X):\n",
    "        return self.predict_proba(X)"
   ]
  },
  {
   "cell_type": "code",
   "execution_count": 22,
   "metadata": {
    "collapsed": false
   },
   "outputs": [
    {
     "name": "stdout",
     "output_type": "stream",
     "text": [
      "(1434,)\n",
      "logloss 0.573110515028\n"
     ]
    },
    {
     "data": {
      "text/plain": [
       "(array([   1.,   28.,  152.,  377.,  404.,  325.,   94.,   37.,   13.,    3.]),\n",
       " array([ 0.07734755,  0.11677133,  0.1561951 ,  0.19561887,  0.23504264,\n",
       "         0.27446641,  0.31389018,  0.35331396,  0.39273773,  0.4321615 ,\n",
       "         0.47158527]),\n",
       " <a list of 10 Patch objects>)"
      ]
     },
     "execution_count": 22,
     "metadata": {},
     "output_type": "execute_result"
    },
    {
     "data": {
      "image/png": "[encoded data removed]",
      "text/plain": [
       "<matplotlib.figure.Figure at 0x7f1dad37ec50>"
      ]
     },
     "metadata": {},
     "output_type": "display_data"
    }
   ],
   "source": [
    "x_cols = df.drop(['id', 'cancer'],1).columns  # using all the features\n",
    "X = df.loc[:][x_cols].values\n",
    "y = df.loc[:]['cancer'].values\n",
    "\n",
    "X = StandardScaler().fit_transform(X)\n",
    "lr = SlightlyNonlinearClassification(C=1000, step_size=0.9)\n",
    "Yh = cross_val_predict(lr, X, y, cv=10, method='predict_proba',n_jobs=-1)[:,1]\n",
    "\n",
    "print (Yh.shape)\n",
    "print (\"logloss\",log_loss(y, Yh) )\n",
    "plt.hist(Yh)"
   ]
  },
  {
   "cell_type": "code",
   "execution_count": 23,
   "metadata": {
    "collapsed": false,
    "scrolled": true
   },
   "outputs": [
    {
     "name": "stdout",
     "output_type": "stream",
     "text": [
      "logloss 0.574007210884\n",
      "confusion_matrix: \n",
      " [[896 175]\n",
      " [302  61]]\n",
      "             precision    recall  f1-score   support\n",
      "\n",
      "  No Cancer       0.75      0.84      0.79      1071\n",
      "     Cancer       0.26      0.17      0.20       363\n",
      "\n",
      "avg / total       0.62      0.67      0.64      1434\n",
      "\n",
      "Specificity:  0.83660130719\n",
      "Recall:  0.168044077135\n",
      "Accuracy:  0.667364016736\n"
     ]
    },
    {
     "data": {
      "text/plain": [
       "' \\n    acc = []\\n    threholds = [2,2.5,3,3.5,4]\\n    for threhold in threholds:\\n        y_pred_sub = np.zeros(len(y_train))\\n        for t in test:\\n            if y_pred_prob[t]>=threhold:\\n                y_pred_sub[t]=1\\n        conf_mat_sub = confusion_matrix(y_train,y_pred_sub)\\n        D = conf_mat_sub[0][0]    # TP\\n        B = conf_mat_sub[0][1]    # FP\\n        C = conf_mat_sub[1][0]    # FN\\n        A = conf_mat_sub[1][1]    # TN\\n        acc.append(A/(A+C))\\n    \\n#     print (\"Accuracy: \", acc)     \\n    idx = acc.index(max(acc))\\n    threhold =  threholds[idx]\\n    print (\"best threhold: \",threhold)\\n    if y_pred_prob[t]>=threhold:\\n        y_pred[t]=1\\n \\nprint (\\'Logistic Regression\\')\\nconf_mat = confusion_matrix(y,y_pred)\\nD = conf_mat[0][0]    # TP\\nB = conf_mat[0][1]    # FP\\nC = conf_mat[1][0]    # FN\\nA = conf_mat[1][1]    # TN\\n    \\n# print (\"confusion_matrix: \\n\", conf_mat)\\n# print (classification_report(y, y_pred, target_names=[\"No Cancer\", \"Cancer\"]))\\nprint (\"Specificity: \", D/(B+D))\\nprint (\"Recall: \", A/(A+C))\\nprint (\"Accuracy: \", (A+D)/(A+B+C+D))\\n\\n'"
      ]
     },
     "execution_count": 23,
     "metadata": {},
     "output_type": "execute_result"
    }
   ],
   "source": [
    "x_cols = df.drop(['id', 'cancer'],1).columns  # using all the features\n",
    "X = df.loc[:][x_cols].values\n",
    "y = df.loc[:]['cancer'].values\n",
    "\n",
    "cv = cross_validation.KFold(X.shape[0],n_folds = 20,random_state=42)\n",
    "y_pred = np.zeros(len(y))\n",
    "y_pred_prob = np.zeros(len(y))\n",
    "for train, test in cv:\n",
    "    X_train, X_test, y_train, y_test = X[train,:], X[test,:], y[train], y[test]\n",
    "    scaler = StandardScaler()\n",
    "    X_train = scaler.fit_transform(X_train)\n",
    "    X_test = scaler.transform(X_test)\n",
    "\n",
    "    clf = SlightlyNonlinearClassification(C=1000, step_size=0.9)\n",
    "    clf.fit(X_train, y_train)\n",
    "    y_pred_prob[test] = clf.predict_proba(X_test)[:,1]\n",
    "    for t in test:\n",
    "        if y_pred_prob[t]>=0.3:\n",
    "            y_pred[t]=1\n",
    "    \n",
    "print(\"logloss\",log_loss(y, y_pred_prob))\n",
    "conf_mat = confusion_matrix(y,y_pred)\n",
    "D = conf_mat[0][0]    # TP\n",
    "B = conf_mat[0][1]    # FP\n",
    "C = conf_mat[1][0]    # FN\n",
    "A = conf_mat[1][1]    # TN\n",
    "    \n",
    "print (\"confusion_matrix: \\n\", conf_mat)\n",
    "print (classification_report(y, y_pred, target_names=[\"No Cancer\", \"Cancer\"]))\n",
    "print (\"Specificity: \", D/(B+D))\n",
    "print (\"Recall: \", A/(A+C))\n",
    "print (\"Accuracy: \", (A+D)/(A+B+C+D))\n",
    "\n",
    "''' \n",
    "    acc = []\n",
    "    threholds = [2,2.5,3,3.5,4]\n",
    "    for threhold in threholds:\n",
    "        y_pred_sub = np.zeros(len(y_train))\n",
    "        for t in test:\n",
    "            if y_pred_prob[t]>=threhold:\n",
    "                y_pred_sub[t]=1\n",
    "        conf_mat_sub = confusion_matrix(y_train,y_pred_sub)\n",
    "        D = conf_mat_sub[0][0]    # TP\n",
    "        B = conf_mat_sub[0][1]    # FP\n",
    "        C = conf_mat_sub[1][0]    # FN\n",
    "        A = conf_mat_sub[1][1]    # TN\n",
    "        acc.append(A/(A+C))\n",
    "    \n",
    "#     print (\"Accuracy: \", acc)     \n",
    "    idx = acc.index(max(acc))\n",
    "    threhold =  threholds[idx]\n",
    "    print (\"best threhold: \",threhold)\n",
    "    if y_pred_prob[t]>=threhold:\n",
    "        y_pred[t]=1\n",
    " \n",
    "print ('Logistic Regression')\n",
    "conf_mat = confusion_matrix(y,y_pred)\n",
    "D = conf_mat[0][0]    # TP\n",
    "B = conf_mat[0][1]    # FP\n",
    "C = conf_mat[1][0]    # FN\n",
    "A = conf_mat[1][1]    # TN\n",
    "\n",
    "'''"
   ]
  },
  {
   "cell_type": "markdown",
   "metadata": {},
   "source": [
    "### 4.2.2 LogisticRegression"
   ]
  },
  {
   "cell_type": "code",
   "execution_count": 29,
   "metadata": {
    "collapsed": false
   },
   "outputs": [
    {
     "name": "stdout",
     "output_type": "stream",
     "text": [
      "Logistic sRegression\n",
      "confusion_matrix for test set: \n",
      " [[197 874]\n",
      " [ 74 289]]\n",
      "             precision    recall  f1-score   support\n",
      "\n",
      "  No Cancer       0.73      0.18      0.29      1071\n",
      "     Cancer       0.25      0.80      0.38       363\n",
      "\n",
      "avg / total       0.61      0.34      0.32      1434\n",
      "\n",
      "logloss 0.742882344201\n",
      "Specificity:  0.183940242764\n",
      "Recall:  0.796143250689\n",
      "Accuracy:  0.338912133891\n"
     ]
    },
    {
     "data": {
      "text/plain": [
       "(array([   9.,   28.,   94.,  187.,  325.,  365.,  239.,  128.,   51.,    8.]),\n",
       " array([ 0.38670598,  0.41644423,  0.44618247,  0.47592071,  0.50565896,\n",
       "         0.5353972 ,  0.56513545,  0.59487369,  0.62461193,  0.65435018,\n",
       "         0.68408842]),\n",
       " <a list of 10 Patch objects>)"
      ]
     },
     "execution_count": 29,
     "metadata": {},
     "output_type": "execute_result"
    },
    {
     "data": {
      "image/png": "[encoded data removed]",
      "text/plain": [
       "<matplotlib.figure.Figure at 0x7f1dbe871588>"
      ]
     },
     "metadata": {},
     "output_type": "display_data"
    }
   ],
   "source": [
    "# LogisticRegression\n",
    "\n",
    "x_cols = df.drop(['id', 'cancer'],1).columns  # using all the features\n",
    "X = df.loc[:][x_cols].values\n",
    "y = df.loc[:]['cancer'].values\n",
    "\n",
    "cv = cross_validation.KFold(X.shape[0],n_folds = 20,random_state=42)\n",
    "y_pred = y * 0\n",
    "y_pred_prob = np.zeros(len(y))\n",
    "for train, test in cv:\n",
    "    X_train, X_test, y_train, y_test = X[train,:], X[test,:], y[train], y[test]\n",
    "    scaler = StandardScaler()\n",
    "    X_train = scaler.fit_transform(X_train)\n",
    "    X_test = scaler.transform(X_test)\n",
    "    \n",
    "    clf = linear_model.LogisticRegression(class_weight={0:0.22,1:0.78},penalty='l1')\n",
    "    clf.fit(X_train, y_train)\n",
    "    y_pred[test] = clf.predict(X_test)\n",
    "    y_pred_prob[test] = clf.predict_proba(X_test)[:,1]\n",
    "    \n",
    "print ('Logistic sRegression')\n",
    "\n",
    "conf_mat = confusion_matrix(y,y_pred)\n",
    "D = conf_mat[0][0]    # TP\n",
    "B = conf_mat[0][1]    # FP\n",
    "C = conf_mat[1][0]    # FN\n",
    "A = conf_mat[1][1]    # TN\n",
    "\n",
    "print (\"confusion_matrix for test set: \\n\", conf_mat)\n",
    "print (classification_report(y, y_pred, target_names=[\"No Cancer\", \"Cancer\"]))\n",
    "print(\"logloss\",log_loss(y, y_pred_prob))\n",
    "print (\"Specificity: \", D/(B+D))\n",
    "print (\"Recall: \", A/(A+C))\n",
    "print (\"Accuracy: \", (A+D)/(A+B+C+D))\n",
    "\n",
    "plt.hist(y_pred_prob)"
   ]
  },
  {
   "cell_type": "markdown",
   "metadata": {},
   "source": [
    "### 4.2.3 logistic regression with tuned parameter\n",
    "\n",
    "+ Cross-validate, 20 folders\n",
    "+ with class weight\n",
    "+ l1 penalty\n",
    "+ grid search for the value of C, i.e.,Inverse of regularization strength"
   ]
  },
  {
   "cell_type": "code",
   "execution_count": 31,
   "metadata": {
    "collapsed": false,
    "scrolled": false
   },
   "outputs": [
    {
     "name": "stdout",
     "output_type": "stream",
     "text": [
      "\n",
      "confusion_matrix from sklearn: \n",
      " [[554 517]\n",
      " [189 174]]\n",
      "             precision    recall  f1-score   support\n",
      "\n",
      "  No Cancer       0.75      0.52      0.61      1071\n",
      "     Cancer       0.25      0.48      0.33       363\n",
      "\n",
      "avg / total       0.62      0.51      0.54      1434\n",
      "\n",
      "logloss 0.697684898538\n",
      "Specificity:  0.517273576097\n",
      "Recall:  0.479338842975\n",
      "Accuracy:  0.507670850767\n"
     ]
    },
    {
     "data": {
      "text/plain": [
       "(array([  13.,   52.,  114.,  227.,  463.,  314.,  166.,   59.,   22.,    4.]),\n",
       " array([ 0.34840967,  0.38036616,  0.41232264,  0.44427912,  0.47623561,\n",
       "         0.50819209,  0.54014857,  0.57210506,  0.60406154,  0.63601802,\n",
       "         0.66797451]),\n",
       " <a list of 10 Patch objects>)"
      ]
     },
     "execution_count": 31,
     "metadata": {},
     "output_type": "execute_result"
    },
    {
     "data": {
      "image/png": "[encoded data removed]",
      "text/plain": [
       "<matplotlib.figure.Figure at 0x7f1dbe6ed198>"
      ]
     },
     "metadata": {},
     "output_type": "display_data"
    }
   ],
   "source": [
    "x_cols = df.drop(['id', 'cancer'],1).columns  # using all the features\n",
    "X = df.loc[:][x_cols].values\n",
    "y = df.loc[:]['cancer'].values\n",
    "\n",
    "cv = cross_validation.KFold(X.shape[0],n_folds = 20,random_state=42)\n",
    "Cs = [0.001, 0.0025, 0.005, 0.01, 0.025, 0.05, 0.1, 0.5]\n",
    "# weights = [{0:0.1*x, 1:(1-0.1*x)} for x in range(1,10)]\n",
    "# parameters = {'C': Cs, 'class_weight':weights} \n",
    "parameters = {'C': Cs}\n",
    "\n",
    "acc = np.zeros((20,))\n",
    "yhat = y.copy()\n",
    "y_pred_prob = np.zeros(len(y))\n",
    "\n",
    "for train_index, test_index in cv:\n",
    "    X_train, X_test = X[train_index], X[test_index]\n",
    "    y_train, y_test = y[train_index], y[test_index]\n",
    "    scaler = StandardScaler()\n",
    "    X_train = scaler.fit_transform(X_train)\n",
    "    X_test = scaler.transform(X_test)\n",
    "    \n",
    "    clf = linear_model.LogisticRegression(penalty='l2', class_weight='balanced')\n",
    "    \n",
    "    \n",
    "    # We can change the scoring \"average_precision\", \"recall\", \"f1\"\n",
    "    grd = GridSearchCV(clf, parameters)  \n",
    "    grd.fit(X_train,y_train.ravel())\n",
    "   \n",
    "    yhat[test_index] = grd.predict(X_test)\n",
    "    y_pred_prob[test_index] = grd.predict_proba(X_test)[:,1]\n",
    "    \n",
    "    conf_mat = confusion_matrix(y,yhat)\n",
    "    D = conf_mat[0][0]    # TP\n",
    "    B = conf_mat[0][1]    # FP\n",
    "    C = conf_mat[1][0]    # FN\n",
    "    A = conf_mat[1][1]    # TN\n",
    "    \n",
    "# print ('Mean accuracy: '+ str(np.mean(acc)))\n",
    "print (\"\\nconfusion_matrix from sklearn: \\n\", conf_mat)\n",
    "print (classification_report(y, yhat, target_names=[\"No Cancer\", \"Cancer\"]))\n",
    "print(\"logloss\",log_loss(y, y_pred_prob))\n",
    "\n",
    "print (\"Specificity: \", D/(B+D))\n",
    "print (\"Recall: \", A/(A+C))\n",
    "print (\"Accuracy: \", (A+D)/(A+B+C+D))\n",
    "\n",
    "plt.hist(y_pred_prob)"
   ]
  },
  {
   "cell_type": "code",
   "execution_count": null,
   "metadata": {
    "collapsed": true
   },
   "outputs": [],
   "source": []
  },
  {
   "cell_type": "markdown",
   "metadata": {
    "collapsed": true
   },
   "source": [
    "### 4.2.4 Random Forest"
   ]
  },
  {
   "cell_type": "code",
   "execution_count": 32,
   "metadata": {
    "collapsed": false
   },
   "outputs": [
    {
     "name": "stdout",
     "output_type": "stream",
     "text": [
      "Random Forest\n",
      "confusion_matrix for test set: \n",
      " [[1062    9]\n",
      " [ 358    5]]\n",
      "             precision    recall  f1-score   support\n",
      "\n",
      "  No Cancer       0.75      0.99      0.85      1071\n",
      "     Cancer       0.36      0.01      0.03       363\n",
      "\n",
      "avg / total       0.65      0.74      0.64      1434\n",
      "\n",
      "logloss 0.585059437553\n",
      "Specificity:  0.991596638655\n",
      "Recall:  0.0137741046832\n",
      "Accuracy:  0.744072524407\n"
     ]
    },
    {
     "data": {
      "text/plain": [
       "(array([  44.,  221.,  403.,  377.,  228.,  109.,   32.,   12.,    6.,    2.]),\n",
       " array([ 0.06 ,  0.119,  0.178,  0.237,  0.296,  0.355,  0.414,  0.473,\n",
       "         0.532,  0.591,  0.65 ]),\n",
       " <a list of 10 Patch objects>)"
      ]
     },
     "execution_count": 32,
     "metadata": {},
     "output_type": "execute_result"
    },
    {
     "data": {
      "image/png": "[encoded data removed]",
      "text/plain": [
       "<matplotlib.figure.Figure at 0x7f1dbe9e0e48>"
      ]
     },
     "metadata": {},
     "output_type": "display_data"
    }
   ],
   "source": [
    "#Random Forest\n",
    "\n",
    "x_cols = df.drop(['id', 'cancer'],1).columns  # using all the features\n",
    "X = df.loc[:][x_cols].values\n",
    "y = df.loc[:]['cancer'].values\n",
    "\n",
    "cv = cross_validation.KFold(X.shape[0],n_folds = 20,random_state=42)\n",
    "y_pred = y * 0\n",
    "y_pred_prob = np.zeros(len(y))\n",
    "for train, test in cv:\n",
    "    X_train, X_test, y_train, y_test = X[train,:], X[test,:], y[train], y[test]\n",
    "    \n",
    "    scaler = StandardScaler()\n",
    "    X_train = scaler.fit_transform(X_train)\n",
    "    X_test = scaler.transform(X_test)\n",
    "    \n",
    "    clf = RF(n_estimators=100,class_weight='balanced', n_jobs=-1)\n",
    "    clf.fit(X_train, y_train)\n",
    "    y_pred[test] = clf.predict(X_test)\n",
    "    y_pred_prob[test] = clf.predict_proba(X_test)[:,1]\n",
    "\n",
    "print ('Random Forest')\n",
    "conf_mat = confusion_matrix(y,y_pred)\n",
    "D = conf_mat[0][0]    # TP\n",
    "B = conf_mat[0][1]    # FP\n",
    "C = conf_mat[1][0]    # FN\n",
    "A = conf_mat[1][1]    # TN\n",
    "\n",
    "print (\"confusion_matrix for test set: \\n\", conf_mat)\n",
    "print (classification_report(y, y_pred, target_names=[\"No Cancer\", \"Cancer\"]))\n",
    "print(\"logloss\",log_loss(y, y_pred_prob))\n",
    "print (\"Specificity: \", D/(B+D))\n",
    "print (\"Recall: \", A/(A+C))\n",
    "print (\"Accuracy: \", (A+D)/(A+B+C+D))\n",
    "\n",
    "plt.hist(y_pred_prob)"
   ]
  },
  {
   "cell_type": "code",
   "execution_count": 33,
   "metadata": {
    "collapsed": false,
    "scrolled": false
   },
   "outputs": [
    {
     "name": "stdout",
     "output_type": "stream",
     "text": [
      "Feature ranking:\n",
      "1. feature 0 (0.075470)\n",
      "2. feature 11 (0.074860)\n",
      "3. feature 7 (0.072723)\n",
      "4. feature 10 (0.072457)\n",
      "5. feature 1 (0.072341)\n",
      "6. feature 12 (0.071835)\n",
      "7. feature 13 (0.071753)\n",
      "8. feature 4 (0.071420)\n",
      "9. feature 3 (0.070416)\n",
      "10. feature 5 (0.069990)\n",
      "11. feature 9 (0.069645)\n",
      "12. feature 2 (0.069643)\n",
      "13. feature 6 (0.068757)\n",
      "14. feature 8 (0.068690)\n"
     ]
    },
    {
     "data": {
      "image/png": "[encoded data removed]",
      "text/plain": [
       "<matplotlib.figure.Figure at 0x7f1dbe5bed68>"
      ]
     },
     "metadata": {},
     "output_type": "display_data"
    }
   ],
   "source": [
    "from sklearn.ensemble import ExtraTreesClassifier\n",
    "\n",
    "x_cols = df.drop(['id', 'cancer'],1).columns  # using all the features\n",
    "X = df.loc[:][x_cols].values\n",
    "y = df.loc[:]['cancer'].values\n",
    "\n",
    "# Build a forest and compute the feature importances\n",
    "forest = ExtraTreesClassifier(n_estimators=250,\n",
    "                              random_state=0)\n",
    "forest.fit(X, y)\n",
    "importances = forest.feature_importances_\n",
    "std = np.std([tree.feature_importances_ for tree in forest.estimators_],axis=0)\n",
    "indices = np.argsort(importances)[::-1]\n",
    "\n",
    "# Print the feature ranking\n",
    "print(\"Feature ranking:\")\n",
    "for f in range(X.shape[1]):\n",
    "    print(\"%d. feature %d (%f)\" % (f + 1, indices[f], importances[indices[f]]))\n",
    "\n",
    "# Plot the feature importances of the forest\n",
    "plt.figure()\n",
    "plt.title(\"Feature importances\")\n",
    "plt.bar(range(X.shape[1]), importances[indices],\n",
    "       color=\"r\", yerr=std[indices], align=\"center\")\n",
    "plt.xticks(range(X.shape[1]), indices)\n",
    "plt.xlim([-1, X.shape[1]])\n",
    "plt.show()"
   ]
  },
  {
   "cell_type": "markdown",
   "metadata": {},
   "source": [
    "### 4.2.5 SVM"
   ]
  },
  {
   "cell_type": "code",
   "execution_count": 34,
   "metadata": {
    "collapsed": false
   },
   "outputs": [
    {
     "name": "stdout",
     "output_type": "stream",
     "text": [
      "\n",
      "confusion_matrix from sklearn: \n",
      " [[1071    0]\n",
      " [ 363    0]]\n",
      "             precision    recall  f1-score   support\n",
      "\n",
      "  No Cancer       0.75      1.00      0.86      1071\n",
      "     Cancer       0.00      0.00      0.00       363\n",
      "\n",
      "avg / total       0.56      0.75      0.64      1434\n",
      "\n",
      "logloss 0.569905822105\n",
      "Specificity:  1.0\n",
      "Recall:  0.0\n",
      "Accuracy:  0.746861924686\n"
     ]
    },
    {
     "name": "stderr",
     "output_type": "stream",
     "text": [
      "/opt/anaconda/lib/python3.5/site-packages/sklearn/metrics/classification.py:1113: UndefinedMetricWarning: Precision and F-score are ill-defined and being set to 0.0 in labels with no predicted samples.\n",
      "  'precision', 'predicted', average, warn_for)\n"
     ]
    },
    {
     "data": {
      "text/plain": [
       "(array([   1.,    5.,   58.,  372.,  611.,  268.,   78.,   33.,    5.,    3.]),\n",
       " array([ 0.2076187 ,  0.21812668,  0.22863466,  0.23914264,  0.24965062,\n",
       "         0.2601586 ,  0.27066658,  0.28117456,  0.29168254,  0.30219052,\n",
       "         0.3126985 ]),\n",
       " <a list of 10 Patch objects>)"
      ]
     },
     "execution_count": 34,
     "metadata": {},
     "output_type": "execute_result"
    },
    {
     "data": {
      "image/png": "[encoded data removed]",
      "text/plain": [
       "<matplotlib.figure.Figure at 0x7f1dcb7ea240>"
      ]
     },
     "metadata": {},
     "output_type": "display_data"
    }
   ],
   "source": [
    "x_cols = df.drop(['id', 'cancer'],1).columns  # using all the features\n",
    "X = df.loc[:][x_cols].values\n",
    "y = df.loc[:]['cancer'].values\n",
    "\n",
    "cv = cross_validation.KFold(X.shape[0],n_folds = 20,random_state=42)\n",
    "yhat = y.copy()\n",
    "y_pred_prob = np.zeros(len(y))\n",
    "\n",
    "for train_index, test_index in cv:\n",
    "    X_train, X_test = X[train_index], X[test_index]\n",
    "    y_train, y_test = y[train_index], y[test_index]\n",
    "    \n",
    "    scaler = StandardScaler()\n",
    "    X_train = scaler.fit_transform(X_train)\n",
    "    X_test = scaler.transform(X_test)\n",
    "\n",
    "    clf = svm.LinearSVC(C=0.1,class_weight=\"balanced\")\n",
    "    calibrated_svc = CalibratedClassifierCV(clf,\n",
    "                                        method='sigmoid',  #sigmoid will use Platt's scaling. \n",
    "                                        cv=10) \n",
    "    calibrated_svc.fit(X_train, y_train)\n",
    "\n",
    "    yhat[test_index] = calibrated_svc.predict(X_test)\n",
    "    y_pred_prob[test_index] = calibrated_svc.predict_proba(X_test)[:,1]\n",
    "    \n",
    "    conf_mat = confusion_matrix(y,yhat)\n",
    "    D = conf_mat[0][0]    # TP\n",
    "    B = conf_mat[0][1]    # FP\n",
    "    C = conf_mat[1][0]    # FN\n",
    "    A = conf_mat[1][1]    # TN\n",
    "    \n",
    "# print ('Mean accuracy: '+ str(np.mean(acc)))\n",
    "print (\"\\nconfusion_matrix from sklearn: \\n\", conf_mat)\n",
    "print (classification_report(y, yhat, target_names=[\"No Cancer\", \"Cancer\"]))\n",
    "print(\"logloss\",log_loss(y, y_pred_prob))\n",
    "\n",
    "print (\"Specificity: \", D/(B+D))\n",
    "print (\"Recall: \", A/(A+C))\n",
    "print (\"Accuracy: \", (A+D)/(A+B+C+D))\n",
    "\n",
    "plt.hist(y_pred_prob)"
   ]
  },
  {
   "cell_type": "code",
   "execution_count": null,
   "metadata": {
    "collapsed": true
   },
   "outputs": [],
   "source": []
  },
  {
   "cell_type": "markdown",
   "metadata": {},
   "source": [
    "### 4.2.5 KNN\n",
    "\n",
    "It is not the best classifier for us:\n",
    "\n",
    "- when k is small, we get overfitting. \n",
    "- we have very low recall"
   ]
  },
  {
   "cell_type": "code",
   "execution_count": 23,
   "metadata": {
    "collapsed": false
   },
   "outputs": [
    {
     "name": "stdout",
     "output_type": "stream",
     "text": [
      "\n",
      "confusion_matrix from sklearn: \n",
      " [[1071    0]\n",
      " [ 363    0]]\n"
     ]
    },
    {
     "name": "stderr",
     "output_type": "stream",
     "text": [
      "/opt/anaconda/lib/python3.5/site-packages/sklearn/metrics/classification.py:1113: UndefinedMetricWarning: Precision and F-score are ill-defined and being set to 0.0 in labels with no predicted samples.\n",
      "  'precision', 'predicted', average, warn_for)\n"
     ]
    },
    {
     "name": "stdout",
     "output_type": "stream",
     "text": [
      "             precision    recall  f1-score   support\n",
      "\n",
      "  No Cancer       0.75      1.00      0.86      1071\n",
      "     Cancer       0.00      0.00      0.00       363\n",
      "\n",
      "avg / total       0.56      0.75      0.64      1434\n",
      "\n",
      "logloss 4.5743892189\n",
      "Specificity:  1.0\n",
      "Recall:  0.0\n",
      "Accuracy:  0.746861924686\n"
     ]
    }
   ],
   "source": [
    "x_cols = df.drop(['id', 'cancer'],1).columns  # using all the features\n",
    "X = df.loc[:][x_cols].values\n",
    "y = df.loc[:]['cancer'].values\n",
    "\n",
    "cv = cross_validation.KFold(X.shape[0],n_folds = 20,random_state=42)\n",
    "yhat = y.copy()\n",
    "y_pred_prob = np.zeros(len(y))\n",
    "\n",
    "for train_index, test_index in cv:\n",
    "    X_train, X_test = X[train_index], X[test_index]\n",
    "    y_train, y_test = y[train_index], y[test_index]\n",
    "    scaler = StandardScaler()\n",
    "    X_train = scaler.fit_transform(X_train)\n",
    "    X_test = scaler.transform(X_test)\n",
    "\n",
    "    clf = neighbors.KNeighborsClassifier(n_neighbors=3,n_jobs=-1)\n",
    "    clf.fit(X_train, y_train)\n",
    "\n",
    "    yhat[test_index] = clf.predict(X_test)\n",
    "    y_pred_prob[test_index] = clf.predict_proba(X_test)[:,1]\n",
    "    \n",
    "    conf_mat = confusion_matrix(y,y_pred)\n",
    "    D = conf_mat[0][0]    # TP\n",
    "    B = conf_mat[0][1]    # FP\n",
    "    C = conf_mat[1][0]    # FN\n",
    "    A = conf_mat[1][1]    # TN\n",
    "    \n",
    "# print ('Mean accuracy: '+ str(np.mean(acc)))\n",
    "print (\"\\nconfusion_matrix from sklearn: \\n\", conf_mat)\n",
    "print (classification_report(y, y_pred, target_names=[\"No Cancer\", \"Cancer\"]))\n",
    "print(\"logloss\",log_loss(y, y_pred_prob))\n",
    "\n",
    "print (\"Specificity: \", D/(B+D))\n",
    "print (\"Recall: \", A/(A+C))\n",
    "print (\"Accuracy: \", (A+D)/(A+B+C+D))"
   ]
  },
  {
   "cell_type": "markdown",
   "metadata": {},
   "source": [
    "### 4.2.6 What if we predict all 1's or all 0's with confidence 0.5?"
   ]
  },
  {
   "cell_type": "code",
   "execution_count": 155,
   "metadata": {
    "collapsed": false,
    "scrolled": true
   },
   "outputs": [
    {
     "name": "stdout",
     "output_type": "stream",
     "text": [
      "\n",
      "Predicting all positive\n",
      "             precision    recall  f1-score   support\n",
      "\n",
      "  No Cancer       0.00      0.00      0.00      1071\n",
      "     Cancer       0.25      1.00      0.40       363\n",
      "\n",
      "avg / total       0.06      0.25      0.10      1434\n",
      "\n",
      "logloss 25.7962942035\n",
      "\n",
      "Predicting all negative\n",
      "             precision    recall  f1-score   support\n",
      "\n",
      "  No Cancer       0.75      1.00      0.86      1071\n",
      "     Cancer       0.00      0.00      0.00       363\n",
      "\n",
      "avg / total       0.56      0.75      0.64      1434\n",
      "\n",
      "logloss 8.7430793803\n"
     ]
    },
    {
     "name": "stderr",
     "output_type": "stream",
     "text": [
      "/opt/anaconda/lib/python3.5/site-packages/sklearn/metrics/classification.py:1113: UndefinedMetricWarning: Precision and F-score are ill-defined and being set to 0.0 in labels with no predicted samples.\n",
      "  'precision', 'predicted', average, warn_for)\n"
     ]
    }
   ],
   "source": [
    "# All Cancer\n",
    "print (\"\\nPredicting all positive\")\n",
    "y_pred = np.ones(y.shape)\n",
    "print (classification_report(y, y_pred, target_names=[\"No Cancer\", \"Cancer\"]))\n",
    "print(\"logloss\",log_loss(y, y_pred))\n",
    "\n",
    "# No Cancer\n",
    "print (\"\\nPredicting all negative\")\n",
    "y_pred = np.zeros(len(y))\n",
    "print (classification_report(y, y_pred, target_names=[\"No Cancer\", \"Cancer\"]))\n",
    "print(\"logloss\",log_loss(y, y_pred))"
   ]
  },
  {
   "cell_type": "code",
   "execution_count": null,
   "metadata": {
    "collapsed": true
   },
   "outputs": [],
   "source": []
  },
  {
   "cell_type": "markdown",
   "metadata": {},
   "source": [
    "### 3.2 More classifiers:  Random Forest, SVC\n",
    "\n",
    "https://www.kaggle.com/c/data-science-bowl-2017#tutorial"
   ]
  },
  {
   "cell_type": "code",
   "execution_count": 22,
   "metadata": {
    "collapsed": false,
    "scrolled": true
   },
   "outputs": [
    {
     "name": "stdout",
     "output_type": "stream",
     "text": [
      "Logistic regression\n",
      "confusion_matrix: \n",
      " [[203 868]\n",
      " [ 67 296]]\n",
      "             precision    recall  f1-score   support\n",
      "\n",
      "  No Cancer       0.75      0.19      0.30      1071\n",
      "     Cancer       0.25      0.82      0.39       363\n",
      "\n",
      "avg / total       0.63      0.35      0.32      1434\n",
      "\n",
      "logloss 0.740974342371\n",
      "\n",
      "Linear Support Vector Classification\n",
      "confusion_matrix: \n",
      " [[1071    0]\n",
      " [ 363    0]]\n",
      "             precision    recall  f1-score   support\n",
      "\n",
      "  No Cancer       0.75      1.00      0.86      1071\n",
      "     Cancer       0.00      0.00      0.00       363\n",
      "\n",
      "avg / total       0.56      0.75      0.64      1434\n",
      "\n",
      "logloss 0.56686691957\n"
     ]
    },
    {
     "name": "stderr",
     "output_type": "stream",
     "text": [
      "/opt/anaconda/lib/python3.5/site-packages/sklearn/metrics/classification.py:1113: UndefinedMetricWarning: Precision and F-score are ill-defined and being set to 0.0 in labels with no predicted samples.\n",
      "  'precision', 'predicted', average, warn_for)\n"
     ]
    }
   ],
   "source": [
    "x_cols = df.drop(['id', 'cancer'],1).columns  # using all the features\n",
    "X = df.loc[:][x_cols].values\n",
    "X = StandardScaler().fit_transform(X)\n",
    "Y = df.loc[:]['cancer'].values\n",
    "\n",
    "#Logistic regression\n",
    "cv = cross_validation.KFold(X.shape[0],n_folds = 10,random_state=42)\n",
    "y_pred = Y * 0\n",
    "y_pred_prob = np.zeros(len(y))\n",
    "for train, test in cv:\n",
    "    X_train, X_test, y_train, y_test = X[train,:], X[test,:], Y[train], Y[test]\n",
    "    clf = linear_model.LogisticRegression(class_weight={0:0.22,1:0.78},penalty='l1') \n",
    "    clf.fit(X_train, y_train)\n",
    "    y_pred[test] = clf.predict(X_test)\n",
    "    y_pred_prob[test] = clf.predict_proba(X_test)[:,1]\n",
    "print ('Logistic regression')\n",
    "print (\"confusion_matrix: \\n\", confusion_matrix(Y, y_pred))\n",
    "print (classification_report(Y, y_pred, target_names=[\"No Cancer\", \"Cancer\"]))\n",
    "print(\"logloss\",log_loss(Y, y_pred_prob))\n",
    "\n",
    "\n",
    "# LinearSVC\n",
    "kf = KFold(Y, n_folds=3)\n",
    "y_pred = Y * 0\n",
    "y_pred_prob = np.zeros(len(y))\n",
    "for train, test in cv:\n",
    "    X_train, X_test, y_train, y_test = X[train,:], X[test,:], Y[train], Y[test]\n",
    "    clf = svm.LinearSVC(C=0.1,class_weight={0:0.22,1:0.78})\n",
    "    # This is the calibrated classifier which can give probabilistic classifier\n",
    "    calibrated_svc = CalibratedClassifierCV(clf,\n",
    "                                            method='sigmoid',  #sigmoid will use Platt's scaling. Refer to documentation for other methods.\n",
    "                                            cv=3) \n",
    "    calibrated_svc.fit(X_train, y_train)\n",
    "    y_pred[test] = calibrated_svc.predict(X_test)\n",
    "    y_pred_prob[test] = calibrated_svc.predict_proba(X_test)[:,1]\n",
    "print ('\\nLinear Support Vector Classification')\n",
    "print (\"confusion_matrix: \\n\", confusion_matrix(Y, y_pred))\n",
    "print (classification_report(Y, y_pred, target_names=[\"No Cancer\", \"Cancer\"]))\n",
    "print(\"logloss\",log_loss(Y, y_pred_prob))\n"
   ]
  },
  {
   "cell_type": "code",
   "execution_count": null,
   "metadata": {
    "collapsed": true
   },
   "outputs": [],
   "source": []
  }
 ],
 "metadata": {
  "kernelspec": {
   "display_name": "Python [default]",
   "language": "python",
   "name": "python3"
  },
  "language_info": {
   "codemirror_mode": {
    "name": "ipython",
    "version": 3
   },
   "file_extension": ".py",
   "mimetype": "text/x-python",
   "name": "python",
   "nbconvert_exporter": "python",
   "pygments_lexer": "ipython3",
   "version": "3.5.2"
  }
 },
 "nbformat": 4,
 "nbformat_minor": 2
}
