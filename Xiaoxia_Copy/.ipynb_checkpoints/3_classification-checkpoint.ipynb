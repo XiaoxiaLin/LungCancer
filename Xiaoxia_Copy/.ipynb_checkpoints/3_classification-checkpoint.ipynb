{
 "cells": [
  {
   "cell_type": "code",
   "execution_count": 146,
   "metadata": {
    "collapsed": false
   },
   "outputs": [],
   "source": [
    "# import session\n",
    "\n",
    "import numpy as np\n",
    "import pandas as pd\n",
    "from pandas.tools.plotting import scatter_matrix\n",
    "import matplotlib.pyplot as plt\n",
    "%matplotlib inline\n",
    "\n",
    "from sklearn import neighbors, linear_model, metrics, tree, cross_validation, svm\n",
    "from sklearn.preprocessing import StandardScaler\n",
    "from sklearn.cross_validation import cross_val_score, StratifiedKFold as KFold\n",
    "from sklearn.calibration import CalibratedClassifierCV\n",
    "from sklearn.base import BaseEstimator\n",
    "from sklearn.linear_model import LogisticRegression\n",
    "from sklearn.neural_network import MLPClassifier\n",
    "\n",
    "from sklearn.metrics import confusion_matrix\n",
    "from sklearn.metrics import classification_report\n",
    "from sklearn.metrics import log_loss as logloss\n",
    "\n",
    "from sklearn.model_selection import train_test_split, cross_val_predict, StratifiedKFold\n",
    "from sklearn.model_selection import GridSearchCV\n",
    "\n",
    "from sklearn.ensemble import ExtraTreesRegressor as XTR\n",
    "from sklearn.ensemble import RandomForestClassifier as RF"
   ]
  },
  {
   "cell_type": "markdown",
   "metadata": {},
   "source": [
    "## 1. Preparing data for classification\n",
    "\n",
    "### 1.1 Stage1 data"
   ]
  },
  {
   "cell_type": "code",
   "execution_count": 73,
   "metadata": {
    "collapsed": false
   },
   "outputs": [
    {
     "name": "stdout",
     "output_type": "stream",
     "text": [
      "(1434, 16)\n"
     ]
    }
   ],
   "source": [
    "df_feature = pd.read_csv(\"./feature_matrix_model1_stage1.csv\")\n",
    "df_feature['id'] = df_feature['Unnamed: 0'].apply(lambda x: x.split('.')[0])\n",
    "print (df_feature.shape)\n",
    "# df_feature.head()"
   ]
  },
  {
   "cell_type": "code",
   "execution_count": 78,
   "metadata": {
    "collapsed": false,
    "scrolled": false
   },
   "outputs": [
    {
     "name": "stdout",
     "output_type": "stream",
     "text": [
      "(1397, 2)\n",
      "(198, 2)\n",
      "Total 1595 labels\n"
     ]
    }
   ],
   "source": [
    "df_labels_1 =pd.read_csv('/home/lin/data/stage1_labels.csv')\n",
    "print (df_labels_1.shape)\n",
    "# df_labels_1.head()\n",
    "\n",
    "df_labels_2 = pd.read_csv('/home/lin/data/stage1_solution.csv')\n",
    "df_labels_2 = df_labels_2.drop(['Usage'],1)\n",
    "print (df_labels_2.shape)\n",
    "# df_labels_2.head()\n",
    "\n",
    "df_labels = df_labels_1.append(df_labels_2)\n",
    "print (\"Total %d labels\"%df_labels.shape[0])"
   ]
  },
  {
   "cell_type": "code",
   "execution_count": 79,
   "metadata": {
    "collapsed": false,
    "scrolled": true
   },
   "outputs": [
    {
     "name": "stdout",
     "output_type": "stream",
     "text": [
      "(1434, 17)\n"
     ]
    },
    {
     "data": {
      "text/html": [
       "<div>\n",
       "<table border=\"1\" class=\"dataframe\">\n",
       "  <thead>\n",
       "    <tr style=\"text-align: right;\">\n",
       "      <th></th>\n",
       "      <th>Unnamed: 0</th>\n",
       "      <th>max_malig</th>\n",
       "      <th>max_spiculation</th>\n",
       "      <th>max_lobulation</th>\n",
       "      <th>max_diameter</th>\n",
       "      <th>xsd_malig</th>\n",
       "      <th>xsd_spiculation</th>\n",
       "      <th>xmax_lobulation</th>\n",
       "      <th>xsd_diameter</th>\n",
       "      <th>loc_from_malig_x</th>\n",
       "      <th>loc_from_malig_y</th>\n",
       "      <th>loc_from_malig_z</th>\n",
       "      <th>std_locs_x</th>\n",
       "      <th>std_locs_y</th>\n",
       "      <th>std_locs_z</th>\n",
       "      <th>id</th>\n",
       "      <th>cancer</th>\n",
       "    </tr>\n",
       "  </thead>\n",
       "  <tbody>\n",
       "    <tr>\n",
       "      <th>0</th>\n",
       "      <td>d777a77cc7a2ec2f1eed68799cc9075c.npz</td>\n",
       "      <td>0.697503</td>\n",
       "      <td>0.335968</td>\n",
       "      <td>0.385324</td>\n",
       "      <td>0.339156</td>\n",
       "      <td>0.148894</td>\n",
       "      <td>0.089260</td>\n",
       "      <td>0.385324</td>\n",
       "      <td>0.085551</td>\n",
       "      <td>0.753571</td>\n",
       "      <td>0.528571</td>\n",
       "      <td>0.434028</td>\n",
       "      <td>0.244258</td>\n",
       "      <td>0.163056</td>\n",
       "      <td>0.242655</td>\n",
       "      <td>d777a77cc7a2ec2f1eed68799cc9075c</td>\n",
       "      <td>1</td>\n",
       "    </tr>\n",
       "    <tr>\n",
       "      <th>1</th>\n",
       "      <td>1631637f08f27347e8f23d7a0e18c100.npz</td>\n",
       "      <td>0.666373</td>\n",
       "      <td>0.345718</td>\n",
       "      <td>0.391515</td>\n",
       "      <td>0.359679</td>\n",
       "      <td>0.148370</td>\n",
       "      <td>0.082181</td>\n",
       "      <td>0.391515</td>\n",
       "      <td>0.078761</td>\n",
       "      <td>0.088889</td>\n",
       "      <td>0.416667</td>\n",
       "      <td>0.304487</td>\n",
       "      <td>0.243736</td>\n",
       "      <td>0.159560</td>\n",
       "      <td>0.216008</td>\n",
       "      <td>1631637f08f27347e8f23d7a0e18c100</td>\n",
       "      <td>0</td>\n",
       "    </tr>\n",
       "    <tr>\n",
       "      <th>2</th>\n",
       "      <td>9065f2b133129c5747d42db18a424749.npz</td>\n",
       "      <td>0.701259</td>\n",
       "      <td>0.347774</td>\n",
       "      <td>0.394380</td>\n",
       "      <td>0.360565</td>\n",
       "      <td>0.159877</td>\n",
       "      <td>0.084858</td>\n",
       "      <td>0.394380</td>\n",
       "      <td>0.079833</td>\n",
       "      <td>0.706061</td>\n",
       "      <td>0.418182</td>\n",
       "      <td>0.799363</td>\n",
       "      <td>0.231711</td>\n",
       "      <td>0.155614</td>\n",
       "      <td>0.217998</td>\n",
       "      <td>9065f2b133129c5747d42db18a424749</td>\n",
       "      <td>1</td>\n",
       "    </tr>\n",
       "    <tr>\n",
       "      <th>3</th>\n",
       "      <td>e3a9a6f8d21c6c459728066bcf18c615.npz</td>\n",
       "      <td>0.690341</td>\n",
       "      <td>0.343430</td>\n",
       "      <td>0.400079</td>\n",
       "      <td>0.354308</td>\n",
       "      <td>0.147548</td>\n",
       "      <td>0.088106</td>\n",
       "      <td>0.400079</td>\n",
       "      <td>0.085576</td>\n",
       "      <td>0.315789</td>\n",
       "      <td>0.112281</td>\n",
       "      <td>0.555556</td>\n",
       "      <td>0.233297</td>\n",
       "      <td>0.183184</td>\n",
       "      <td>0.207843</td>\n",
       "      <td>e3a9a6f8d21c6c459728066bcf18c615</td>\n",
       "      <td>0</td>\n",
       "    </tr>\n",
       "    <tr>\n",
       "      <th>4</th>\n",
       "      <td>f39a1e54d79731e4417aa8159d19b7d4.npz</td>\n",
       "      <td>0.726764</td>\n",
       "      <td>0.341739</td>\n",
       "      <td>0.396748</td>\n",
       "      <td>0.356204</td>\n",
       "      <td>0.147422</td>\n",
       "      <td>0.088995</td>\n",
       "      <td>0.396748</td>\n",
       "      <td>0.086762</td>\n",
       "      <td>0.885294</td>\n",
       "      <td>0.582353</td>\n",
       "      <td>0.373563</td>\n",
       "      <td>0.249184</td>\n",
       "      <td>0.183342</td>\n",
       "      <td>0.214586</td>\n",
       "      <td>f39a1e54d79731e4417aa8159d19b7d4</td>\n",
       "      <td>0</td>\n",
       "    </tr>\n",
       "  </tbody>\n",
       "</table>\n",
       "</div>"
      ],
      "text/plain": [
       "                             Unnamed: 0  max_malig  max_spiculation  \\\n",
       "0  d777a77cc7a2ec2f1eed68799cc9075c.npz   0.697503         0.335968   \n",
       "1  1631637f08f27347e8f23d7a0e18c100.npz   0.666373         0.345718   \n",
       "2  9065f2b133129c5747d42db18a424749.npz   0.701259         0.347774   \n",
       "3  e3a9a6f8d21c6c459728066bcf18c615.npz   0.690341         0.343430   \n",
       "4  f39a1e54d79731e4417aa8159d19b7d4.npz   0.726764         0.341739   \n",
       "\n",
       "   max_lobulation  max_diameter  xsd_malig  xsd_spiculation  xmax_lobulation  \\\n",
       "0        0.385324      0.339156   0.148894         0.089260         0.385324   \n",
       "1        0.391515      0.359679   0.148370         0.082181         0.391515   \n",
       "2        0.394380      0.360565   0.159877         0.084858         0.394380   \n",
       "3        0.400079      0.354308   0.147548         0.088106         0.400079   \n",
       "4        0.396748      0.356204   0.147422         0.088995         0.396748   \n",
       "\n",
       "   xsd_diameter  loc_from_malig_x  loc_from_malig_y  loc_from_malig_z  \\\n",
       "0      0.085551          0.753571          0.528571          0.434028   \n",
       "1      0.078761          0.088889          0.416667          0.304487   \n",
       "2      0.079833          0.706061          0.418182          0.799363   \n",
       "3      0.085576          0.315789          0.112281          0.555556   \n",
       "4      0.086762          0.885294          0.582353          0.373563   \n",
       "\n",
       "   std_locs_x  std_locs_y  std_locs_z                                id  \\\n",
       "0    0.244258    0.163056    0.242655  d777a77cc7a2ec2f1eed68799cc9075c   \n",
       "1    0.243736    0.159560    0.216008  1631637f08f27347e8f23d7a0e18c100   \n",
       "2    0.231711    0.155614    0.217998  9065f2b133129c5747d42db18a424749   \n",
       "3    0.233297    0.183184    0.207843  e3a9a6f8d21c6c459728066bcf18c615   \n",
       "4    0.249184    0.183342    0.214586  f39a1e54d79731e4417aa8159d19b7d4   \n",
       "\n",
       "   cancer  \n",
       "0       1  \n",
       "1       0  \n",
       "2       1  \n",
       "3       0  \n",
       "4       0  "
      ]
     },
     "execution_count": 79,
     "metadata": {},
     "output_type": "execute_result"
    }
   ],
   "source": [
    "df = pd.merge(left=df_feature, right=df_labels,how='outer',on='id').dropna()\n",
    "print (df.shape)\n",
    "df.head()"
   ]
  },
  {
   "cell_type": "markdown",
   "metadata": {},
   "source": [
    "## 2. Data exploration\n",
    "\n",
    "### 2.1 Basic estadistics\n",
    "\n",
    "+ How many patients do we have for training-test? --> 1257\n",
    "+ How many cancer patients? --> 315\n",
    "+ What percentage is the cancer patient? --> 25%\n"
   ]
  },
  {
   "cell_type": "code",
   "execution_count": 45,
   "metadata": {
    "collapsed": false
   },
   "outputs": [
    {
     "name": "stdout",
     "output_type": "stream",
     "text": [
      "data frame shape (1434, 17)\n",
      "number of cancer patient: 363\n",
      "how un-balance is the data: 0.25313807531380755\n"
     ]
    }
   ],
   "source": [
    "print (\"data frame shape\", df.shape)\n",
    "print (\"number of cancer patient:\",df['cancer'].sum() )\n",
    "print (\"how un-balance is the data:\", df['cancer'].sum()/df.shape[0])"
   ]
  },
  {
   "cell_type": "code",
   "execution_count": 57,
   "metadata": {
    "collapsed": false,
    "scrolled": true
   },
   "outputs": [
    {
     "data": {
      "image/png": "[encoded data removed]",
      "text/plain": [
       "<matplotlib.figure.Figure at 0x7f7af5d7c198>"
      ]
     },
     "metadata": {},
     "output_type": "display_data"
    }
   ],
   "source": [
    "%matplotlib inline\n",
    "import matplotlib.pyplot as plt\n",
    "plt.pie(np.c_[df_no_cancer.shape[0],df_cancer.shape[0]][0],labels=['No cancer','Cancer'],colors=['g','r'],shadow=False,autopct ='%.2f' )\n",
    "fig = plt.gcf()\n",
    "fig.set_size_inches(6,6)"
   ]
  },
  {
   "cell_type": "markdown",
   "metadata": {},
   "source": [
    "### 2.2 Cancer patient v.s. Non-cancer patients"
   ]
  },
  {
   "cell_type": "code",
   "execution_count": 46,
   "metadata": {
    "collapsed": false
   },
   "outputs": [
    {
     "name": "stdout",
     "output_type": "stream",
     "text": [
      "(363, 17)\n"
     ]
    },
    {
     "data": {
      "text/html": [
       "<div>\n",
       "<table border=\"1\" class=\"dataframe\">\n",
       "  <thead>\n",
       "    <tr style=\"text-align: right;\">\n",
       "      <th></th>\n",
       "      <th>Unnamed: 0</th>\n",
       "      <th>max_malig</th>\n",
       "      <th>max_spiculation</th>\n",
       "      <th>max_lobulation</th>\n",
       "      <th>max_diameter</th>\n",
       "      <th>xsd_malig</th>\n",
       "      <th>xsd_spiculation</th>\n",
       "      <th>xmax_lobulation</th>\n",
       "      <th>xsd_diameter</th>\n",
       "      <th>loc_from_malig_x</th>\n",
       "      <th>loc_from_malig_y</th>\n",
       "      <th>loc_from_malig_z</th>\n",
       "      <th>std_locs_x</th>\n",
       "      <th>std_locs_y</th>\n",
       "      <th>std_locs_z</th>\n",
       "      <th>id</th>\n",
       "      <th>cancer</th>\n",
       "    </tr>\n",
       "  </thead>\n",
       "  <tbody>\n",
       "    <tr>\n",
       "      <th>0</th>\n",
       "      <td>d777a77cc7a2ec2f1eed68799cc9075c.npz</td>\n",
       "      <td>0.697503</td>\n",
       "      <td>0.335968</td>\n",
       "      <td>0.385324</td>\n",
       "      <td>0.339156</td>\n",
       "      <td>0.148894</td>\n",
       "      <td>0.089260</td>\n",
       "      <td>0.385324</td>\n",
       "      <td>0.085551</td>\n",
       "      <td>0.753571</td>\n",
       "      <td>0.528571</td>\n",
       "      <td>0.434028</td>\n",
       "      <td>0.244258</td>\n",
       "      <td>0.163056</td>\n",
       "      <td>0.242655</td>\n",
       "      <td>d777a77cc7a2ec2f1eed68799cc9075c</td>\n",
       "      <td>1</td>\n",
       "    </tr>\n",
       "    <tr>\n",
       "      <th>2</th>\n",
       "      <td>9065f2b133129c5747d42db18a424749.npz</td>\n",
       "      <td>0.701259</td>\n",
       "      <td>0.347774</td>\n",
       "      <td>0.394380</td>\n",
       "      <td>0.360565</td>\n",
       "      <td>0.159877</td>\n",
       "      <td>0.084858</td>\n",
       "      <td>0.394380</td>\n",
       "      <td>0.079833</td>\n",
       "      <td>0.706061</td>\n",
       "      <td>0.418182</td>\n",
       "      <td>0.799363</td>\n",
       "      <td>0.231711</td>\n",
       "      <td>0.155614</td>\n",
       "      <td>0.217998</td>\n",
       "      <td>9065f2b133129c5747d42db18a424749</td>\n",
       "      <td>1</td>\n",
       "    </tr>\n",
       "    <tr>\n",
       "      <th>6</th>\n",
       "      <td>7c2b72f9e0f5649c22902292febdc89f.npz</td>\n",
       "      <td>0.668319</td>\n",
       "      <td>0.338826</td>\n",
       "      <td>0.384684</td>\n",
       "      <td>0.337507</td>\n",
       "      <td>0.154942</td>\n",
       "      <td>0.091774</td>\n",
       "      <td>0.384684</td>\n",
       "      <td>0.087845</td>\n",
       "      <td>0.221429</td>\n",
       "      <td>0.385714</td>\n",
       "      <td>0.613475</td>\n",
       "      <td>0.212833</td>\n",
       "      <td>0.155433</td>\n",
       "      <td>0.220319</td>\n",
       "      <td>7c2b72f9e0f5649c22902292febdc89f</td>\n",
       "      <td>1</td>\n",
       "    </tr>\n",
       "    <tr>\n",
       "      <th>10</th>\n",
       "      <td>f5717f7cbc08d8bd942cd4c1128e3339.npz</td>\n",
       "      <td>0.659050</td>\n",
       "      <td>0.350864</td>\n",
       "      <td>0.396342</td>\n",
       "      <td>0.361564</td>\n",
       "      <td>0.149278</td>\n",
       "      <td>0.087901</td>\n",
       "      <td>0.396342</td>\n",
       "      <td>0.083719</td>\n",
       "      <td>0.093023</td>\n",
       "      <td>0.180233</td>\n",
       "      <td>0.553571</td>\n",
       "      <td>0.246453</td>\n",
       "      <td>0.172813</td>\n",
       "      <td>0.243043</td>\n",
       "      <td>f5717f7cbc08d8bd942cd4c1128e3339</td>\n",
       "      <td>1</td>\n",
       "    </tr>\n",
       "    <tr>\n",
       "      <th>13</th>\n",
       "      <td>882107a204c302e27628f85522baea49.npz</td>\n",
       "      <td>0.644114</td>\n",
       "      <td>0.341161</td>\n",
       "      <td>0.386432</td>\n",
       "      <td>0.342413</td>\n",
       "      <td>0.152086</td>\n",
       "      <td>0.093578</td>\n",
       "      <td>0.386432</td>\n",
       "      <td>0.091503</td>\n",
       "      <td>0.281553</td>\n",
       "      <td>0.391586</td>\n",
       "      <td>0.602941</td>\n",
       "      <td>0.204743</td>\n",
       "      <td>0.144383</td>\n",
       "      <td>0.161236</td>\n",
       "      <td>882107a204c302e27628f85522baea49</td>\n",
       "      <td>1</td>\n",
       "    </tr>\n",
       "  </tbody>\n",
       "</table>\n",
       "</div>"
      ],
      "text/plain": [
       "                              Unnamed: 0  max_malig  max_spiculation  \\\n",
       "0   d777a77cc7a2ec2f1eed68799cc9075c.npz   0.697503         0.335968   \n",
       "2   9065f2b133129c5747d42db18a424749.npz   0.701259         0.347774   \n",
       "6   7c2b72f9e0f5649c22902292febdc89f.npz   0.668319         0.338826   \n",
       "10  f5717f7cbc08d8bd942cd4c1128e3339.npz   0.659050         0.350864   \n",
       "13  882107a204c302e27628f85522baea49.npz   0.644114         0.341161   \n",
       "\n",
       "    max_lobulation  max_diameter  xsd_malig  xsd_spiculation  xmax_lobulation  \\\n",
       "0         0.385324      0.339156   0.148894         0.089260         0.385324   \n",
       "2         0.394380      0.360565   0.159877         0.084858         0.394380   \n",
       "6         0.384684      0.337507   0.154942         0.091774         0.384684   \n",
       "10        0.396342      0.361564   0.149278         0.087901         0.396342   \n",
       "13        0.386432      0.342413   0.152086         0.093578         0.386432   \n",
       "\n",
       "    xsd_diameter  loc_from_malig_x  loc_from_malig_y  loc_from_malig_z  \\\n",
       "0       0.085551          0.753571          0.528571          0.434028   \n",
       "2       0.079833          0.706061          0.418182          0.799363   \n",
       "6       0.087845          0.221429          0.385714          0.613475   \n",
       "10      0.083719          0.093023          0.180233          0.553571   \n",
       "13      0.091503          0.281553          0.391586          0.602941   \n",
       "\n",
       "    std_locs_x  std_locs_y  std_locs_z                                id  \\\n",
       "0     0.244258    0.163056    0.242655  d777a77cc7a2ec2f1eed68799cc9075c   \n",
       "2     0.231711    0.155614    0.217998  9065f2b133129c5747d42db18a424749   \n",
       "6     0.212833    0.155433    0.220319  7c2b72f9e0f5649c22902292febdc89f   \n",
       "10    0.246453    0.172813    0.243043  f5717f7cbc08d8bd942cd4c1128e3339   \n",
       "13    0.204743    0.144383    0.161236  882107a204c302e27628f85522baea49   \n",
       "\n",
       "    cancer  \n",
       "0        1  \n",
       "2        1  \n",
       "6        1  \n",
       "10       1  \n",
       "13       1  "
      ]
     },
     "execution_count": 46,
     "metadata": {},
     "output_type": "execute_result"
    }
   ],
   "source": [
    "df_cancer = df.loc[df['cancer'] == 1]\n",
    "print (df_cancer.shape)\n",
    "df_cancer.head()"
   ]
  },
  {
   "cell_type": "code",
   "execution_count": 47,
   "metadata": {
    "collapsed": false,
    "scrolled": true
   },
   "outputs": [
    {
     "name": "stdout",
     "output_type": "stream",
     "text": [
      "(1071, 17)\n"
     ]
    },
    {
     "data": {
      "text/html": [
       "<div>\n",
       "<table border=\"1\" class=\"dataframe\">\n",
       "  <thead>\n",
       "    <tr style=\"text-align: right;\">\n",
       "      <th></th>\n",
       "      <th>Unnamed: 0</th>\n",
       "      <th>max_malig</th>\n",
       "      <th>max_spiculation</th>\n",
       "      <th>max_lobulation</th>\n",
       "      <th>max_diameter</th>\n",
       "      <th>xsd_malig</th>\n",
       "      <th>xsd_spiculation</th>\n",
       "      <th>xmax_lobulation</th>\n",
       "      <th>xsd_diameter</th>\n",
       "      <th>loc_from_malig_x</th>\n",
       "      <th>loc_from_malig_y</th>\n",
       "      <th>loc_from_malig_z</th>\n",
       "      <th>std_locs_x</th>\n",
       "      <th>std_locs_y</th>\n",
       "      <th>std_locs_z</th>\n",
       "      <th>id</th>\n",
       "      <th>cancer</th>\n",
       "    </tr>\n",
       "  </thead>\n",
       "  <tbody>\n",
       "    <tr>\n",
       "      <th>1</th>\n",
       "      <td>1631637f08f27347e8f23d7a0e18c100.npz</td>\n",
       "      <td>0.666373</td>\n",
       "      <td>0.345718</td>\n",
       "      <td>0.391515</td>\n",
       "      <td>0.359679</td>\n",
       "      <td>0.148370</td>\n",
       "      <td>0.082181</td>\n",
       "      <td>0.391515</td>\n",
       "      <td>0.078761</td>\n",
       "      <td>0.088889</td>\n",
       "      <td>0.416667</td>\n",
       "      <td>0.304487</td>\n",
       "      <td>0.243736</td>\n",
       "      <td>0.159560</td>\n",
       "      <td>0.216008</td>\n",
       "      <td>1631637f08f27347e8f23d7a0e18c100</td>\n",
       "      <td>0</td>\n",
       "    </tr>\n",
       "    <tr>\n",
       "      <th>3</th>\n",
       "      <td>e3a9a6f8d21c6c459728066bcf18c615.npz</td>\n",
       "      <td>0.690341</td>\n",
       "      <td>0.343430</td>\n",
       "      <td>0.400079</td>\n",
       "      <td>0.354308</td>\n",
       "      <td>0.147548</td>\n",
       "      <td>0.088106</td>\n",
       "      <td>0.400079</td>\n",
       "      <td>0.085576</td>\n",
       "      <td>0.315789</td>\n",
       "      <td>0.112281</td>\n",
       "      <td>0.555556</td>\n",
       "      <td>0.233297</td>\n",
       "      <td>0.183184</td>\n",
       "      <td>0.207843</td>\n",
       "      <td>e3a9a6f8d21c6c459728066bcf18c615</td>\n",
       "      <td>0</td>\n",
       "    </tr>\n",
       "    <tr>\n",
       "      <th>4</th>\n",
       "      <td>f39a1e54d79731e4417aa8159d19b7d4.npz</td>\n",
       "      <td>0.726764</td>\n",
       "      <td>0.341739</td>\n",
       "      <td>0.396748</td>\n",
       "      <td>0.356204</td>\n",
       "      <td>0.147422</td>\n",
       "      <td>0.088995</td>\n",
       "      <td>0.396748</td>\n",
       "      <td>0.086762</td>\n",
       "      <td>0.885294</td>\n",
       "      <td>0.582353</td>\n",
       "      <td>0.373563</td>\n",
       "      <td>0.249184</td>\n",
       "      <td>0.183342</td>\n",
       "      <td>0.214586</td>\n",
       "      <td>f39a1e54d79731e4417aa8159d19b7d4</td>\n",
       "      <td>0</td>\n",
       "    </tr>\n",
       "    <tr>\n",
       "      <th>5</th>\n",
       "      <td>8987df2216ae2ab1a907d52bc9dc540d.npz</td>\n",
       "      <td>0.691301</td>\n",
       "      <td>0.342192</td>\n",
       "      <td>0.395080</td>\n",
       "      <td>0.358410</td>\n",
       "      <td>0.161766</td>\n",
       "      <td>0.087251</td>\n",
       "      <td>0.395080</td>\n",
       "      <td>0.083102</td>\n",
       "      <td>0.574286</td>\n",
       "      <td>0.574286</td>\n",
       "      <td>0.486301</td>\n",
       "      <td>0.219889</td>\n",
       "      <td>0.184321</td>\n",
       "      <td>0.200701</td>\n",
       "      <td>8987df2216ae2ab1a907d52bc9dc540d</td>\n",
       "      <td>0</td>\n",
       "    </tr>\n",
       "    <tr>\n",
       "      <th>7</th>\n",
       "      <td>e60d99ea9648e1ce859eb0b386365e26.npz</td>\n",
       "      <td>0.665821</td>\n",
       "      <td>0.336849</td>\n",
       "      <td>0.386759</td>\n",
       "      <td>0.351551</td>\n",
       "      <td>0.157453</td>\n",
       "      <td>0.089670</td>\n",
       "      <td>0.386759</td>\n",
       "      <td>0.085031</td>\n",
       "      <td>0.274011</td>\n",
       "      <td>0.324859</td>\n",
       "      <td>0.735593</td>\n",
       "      <td>0.234608</td>\n",
       "      <td>0.177474</td>\n",
       "      <td>0.225888</td>\n",
       "      <td>e60d99ea9648e1ce859eb0b386365e26</td>\n",
       "      <td>0</td>\n",
       "    </tr>\n",
       "  </tbody>\n",
       "</table>\n",
       "</div>"
      ],
      "text/plain": [
       "                             Unnamed: 0  max_malig  max_spiculation  \\\n",
       "1  1631637f08f27347e8f23d7a0e18c100.npz   0.666373         0.345718   \n",
       "3  e3a9a6f8d21c6c459728066bcf18c615.npz   0.690341         0.343430   \n",
       "4  f39a1e54d79731e4417aa8159d19b7d4.npz   0.726764         0.341739   \n",
       "5  8987df2216ae2ab1a907d52bc9dc540d.npz   0.691301         0.342192   \n",
       "7  e60d99ea9648e1ce859eb0b386365e26.npz   0.665821         0.336849   \n",
       "\n",
       "   max_lobulation  max_diameter  xsd_malig  xsd_spiculation  xmax_lobulation  \\\n",
       "1        0.391515      0.359679   0.148370         0.082181         0.391515   \n",
       "3        0.400079      0.354308   0.147548         0.088106         0.400079   \n",
       "4        0.396748      0.356204   0.147422         0.088995         0.396748   \n",
       "5        0.395080      0.358410   0.161766         0.087251         0.395080   \n",
       "7        0.386759      0.351551   0.157453         0.089670         0.386759   \n",
       "\n",
       "   xsd_diameter  loc_from_malig_x  loc_from_malig_y  loc_from_malig_z  \\\n",
       "1      0.078761          0.088889          0.416667          0.304487   \n",
       "3      0.085576          0.315789          0.112281          0.555556   \n",
       "4      0.086762          0.885294          0.582353          0.373563   \n",
       "5      0.083102          0.574286          0.574286          0.486301   \n",
       "7      0.085031          0.274011          0.324859          0.735593   \n",
       "\n",
       "   std_locs_x  std_locs_y  std_locs_z                                id  \\\n",
       "1    0.243736    0.159560    0.216008  1631637f08f27347e8f23d7a0e18c100   \n",
       "3    0.233297    0.183184    0.207843  e3a9a6f8d21c6c459728066bcf18c615   \n",
       "4    0.249184    0.183342    0.214586  f39a1e54d79731e4417aa8159d19b7d4   \n",
       "5    0.219889    0.184321    0.200701  8987df2216ae2ab1a907d52bc9dc540d   \n",
       "7    0.234608    0.177474    0.225888  e60d99ea9648e1ce859eb0b386365e26   \n",
       "\n",
       "   cancer  \n",
       "1       0  \n",
       "3       0  \n",
       "4       0  \n",
       "5       0  \n",
       "7       0  "
      ]
     },
     "execution_count": 47,
     "metadata": {},
     "output_type": "execute_result"
    }
   ],
   "source": [
    "df_no_cancer = df.loc[df['cancer'] == 0]\n",
    "print (df_no_cancer.shape)\n",
    "df_no_cancer.head()"
   ]
  },
  {
   "cell_type": "code",
   "execution_count": 48,
   "metadata": {
    "collapsed": false,
    "scrolled": true
   },
   "outputs": [
    {
     "data": {
      "text/plain": [
       "<matplotlib.axes._subplots.AxesSubplot at 0x7f7af5f2e518>"
      ]
     },
     "execution_count": 48,
     "metadata": {},
     "output_type": "execute_result"
    },
    {
     "data": {
      "image/png": "[encoded data removed]",
      "text/plain": [
       "<matplotlib.figure.Figure at 0x7f7af7232ac8>"
      ]
     },
     "metadata": {},
     "output_type": "display_data"
    },
    {
     "data": {
      "image/png": "[encoded data removed]",
      "text/plain": [
       "<matplotlib.figure.Figure at 0x7f7af7232940>"
      ]
     },
     "metadata": {},
     "output_type": "display_data"
    }
   ],
   "source": [
    "df_cancer.plot(kind='box',figsize=(18,5))\n",
    "df_no_cancer.plot(kind='box',figsize=(18,5))"
   ]
  },
  {
   "cell_type": "markdown",
   "metadata": {},
   "source": [
    "#### 2.2.1 Mean\n",
    "\n",
    "Not surprisely, as the box plot above showed, they are extremly similar!! "
   ]
  },
  {
   "cell_type": "code",
   "execution_count": 49,
   "metadata": {
    "collapsed": false
   },
   "outputs": [
    {
     "name": "stdout",
     "output_type": "stream",
     "text": [
      "max_malig          -0.000556\n",
      "max_spiculation     0.000453\n",
      "max_lobulation      0.000310\n",
      "max_diameter        0.000197\n",
      "xsd_malig          -0.000839\n",
      "xsd_spiculation    -0.000009\n",
      "xmax_lobulation     0.000310\n",
      "xsd_diameter       -0.000004\n",
      "loc_from_malig_x   -0.017301\n",
      "loc_from_malig_y   -0.011904\n",
      "loc_from_malig_z    0.006386\n",
      "std_locs_x          0.000371\n",
      "std_locs_y          0.000825\n",
      "std_locs_z          0.001998\n",
      "cancer              1.000000\n",
      "dtype: float64\n"
     ]
    }
   ],
   "source": [
    "df_cancer_mean = df.loc[df['cancer'] == 1].mean()\n",
    "df_no_cancer_mean = df.loc[df['cancer'] == 0].mean()\n",
    "print (df_cancer_mean-df_no_cancer_mean)\n",
    "# print (df_cancer_mean)"
   ]
  },
  {
   "cell_type": "code",
   "execution_count": 50,
   "metadata": {
    "collapsed": false,
    "scrolled": true
   },
   "outputs": [
    {
     "data": {
      "text/plain": [
       "<matplotlib.collections.PathCollection at 0x7f7af5caf9e8>"
      ]
     },
     "execution_count": 50,
     "metadata": {},
     "output_type": "execute_result"
    },
    {
     "data": {
      "image/png": "[encoded data removed]",
      "text/plain": [
       "<matplotlib.figure.Figure at 0x7f7af929b6a0>"
      ]
     },
     "metadata": {},
     "output_type": "display_data"
    }
   ],
   "source": [
    "plt.scatter(np.arange(15),df_no_cancer_mean)\n",
    "plt.scatter(np.arange(15),df_cancer_mean)"
   ]
  },
  {
   "cell_type": "markdown",
   "metadata": {},
   "source": [
    "## 3. Metrics\n",
    "\n",
    "### 3.1 Confusion matrix"
   ]
  },
  {
   "cell_type": "markdown",
   "metadata": {},
   "source": [
    "<div class = \"alert alert-info\">\n",
    "**Unbalanced datasets**\n",
    "<p>\n",
    "In cancer detection because the cost of missing one patient in a trial is very large, we want the predictor to have very large recall/sensitivity (we do not accept false negatives) though it means accepting more false positives. These false positives can be discarded in subsequent tests. \n",
    "\n",
    "<p>\n",
    "$$\\text{sensitivity (recall) }=\\frac{\\text{TP}}{\\text{Real Positives}}=\\frac{\\text{TP}}{\\text{TP}+\\text{FN}}$$\n",
    "\n",
    "\n",
    "</div>\n",
    "\n",
    "Although accuracy is the most normal metric for evaluating classifiers, there are cases when the business value of correctly predicting elements from one class is different from the value for the prediction of elements of another class. In those cases, accuracy is not a good performance metric and more detailed analysis is needed. The **confusion matrix** enables us to define different metrics considering such scenarios. The confusion matrix considers the concepts of the classifier outcome and the actual ground truth or gold standard. In a binary problem, there are four possible cases: \n",
    "\n",
    "\n",
    "+ *True positives (TP):* When the classifier predicts a sample as positive and it really is positive.\n",
    "+ *False positives (FP):* When the classifier predicts a sample as positive but in fact it is negative.\n",
    "+ *True negatives (TN):* When the classifier predicts a sample as negative and it really is negative.\n",
    "+ *False negatives (FN):* When the classifier predicts a sample as negative but in fact it is positive.\n",
    "\n",
    "\n",
    "We can summarize this information in a matrix, namely the confusion matrix, as follows:\n",
    "\n",
    "<img src = \"https://i.stack.imgur.com/OW5Lt.jpg\" width = 400px>"
   ]
  },
  {
   "cell_type": "markdown",
   "metadata": {
    "collapsed": true
   },
   "source": [
    "### 3.2 Evaluation: Logloss\n",
    "\n",
    "https://www.kaggle.com/c/data-science-bowl-2017#evaluation\n",
    "\n",
    "$$\n",
    "\\textrm{LogLoss} = - \\frac{1}{n} \\sum_{i=1}^n \\left[ y_i \\log(\\hat{y}_i) + (1 - y_i) \\log(1 - \\hat{y}_i)\\right],\n",
    "$$\n",
    "\n",
    "where\n",
    "\n",
    "+ n is the number of patients in the test set\n",
    "+ $\\hat{y}_i $ is the predicted probability of the image belonging to a patient with cancer\n",
    "+ $ y_i $ is 1 if the diagnosis is cancer, 0 otherwise\n",
    "+ $ log()$ is the natural (base e) logarithm\n",
    "\n",
    "Note: the actual submitted predicted probabilities are replaced with $(max(min(p,1-10^{-15}),10^{-15}))$ . A smaller log loss is better."
   ]
  },
  {
   "cell_type": "markdown",
   "metadata": {},
   "source": [
    "## 4. Feature selection, training-test splitting, classification, and evaluation"
   ]
  },
  {
   "cell_type": "markdown",
   "metadata": {},
   "source": [
    "### 4.1 Feature selection & Train_test_split"
   ]
  },
  {
   "cell_type": "code",
   "execution_count": 90,
   "metadata": {
    "collapsed": false
   },
   "outputs": [
    {
     "name": "stdout",
     "output_type": "stream",
     "text": [
      "Feature space holds 1434 observations and 14 features\n",
      "Unique target labels: [0 1]\n",
      "training samples: 1003\n",
      "test samples    : 431\n"
     ]
    }
   ],
   "source": [
    "## Feature selection ##\n",
    "x_cols = df.drop(['id', 'cancer', 'Unnamed: 0'],1).columns  # using all the features\n",
    "# x_cols=['max_malig','max_spiculation','max_lobulation','max_diameter','xsd_malig', 'xsd_spiculation', 'xmax_lobulation','xsd_diameter']\n",
    "X = df.loc[:][x_cols].values\n",
    "y = df.loc[:]['cancer'].values\n",
    "\n",
    "print (\"Feature space holds %d observations and %d features\" % X.shape)\n",
    "print (\"Unique target labels:\", np.unique(y))\n",
    "\n",
    "## Train test split ##\n",
    "X = StandardScaler().fit_transform(X)\n",
    "X_train, X_test, y_train, y_test = cross_validation.train_test_split(X, y, train_size=0.7, random_state=r_state[i])\n",
    "\n",
    "# scaler = StandardScaler()\n",
    "# X_train=scaler.fit_transform(X_train)\n",
    "# X_test=scaler.transform(X_test)\n",
    "\n",
    "print (\"training samples:\", len(y_train))\n",
    "print (\"test samples    :\", len(y_test))"
   ]
  },
  {
   "cell_type": "markdown",
   "metadata": {},
   "source": [
    "### 4.2 Clssification\n",
    "\n",
    "#### 4.2.1 Logistic regression (LR) with ExtraTreesRegressor (XTR)"
   ]
  },
  {
   "cell_type": "code",
   "execution_count": 86,
   "metadata": {
    "collapsed": true
   },
   "outputs": [],
   "source": [
    "class SlightlyNonlinearClassification(BaseEstimator):\n",
    "\n",
    "    def __init__(self,C=10,step_size=0.7):\n",
    "        self.step_size = step_size\n",
    "        self.C = C\n",
    "\n",
    "    def fit(self, X, y):\n",
    "        lr = LogisticRegression(C=self.C,penalty='l1')\n",
    "        lr_preds = cross_val_predict(lr, X, y, cv=50, method='predict_proba')[:,1]\n",
    "        lr.fit(X,y)\n",
    "        xtr = XTR(n_estimators=500, min_samples_leaf=20, max_features=.8).fit(X, y - lr_preds)\n",
    "        self.lr = lr\n",
    "        self.xtr = xtr\n",
    "\n",
    "        return self\n",
    "\n",
    "    def predict_proba(self, X):\n",
    "        base = self.lr.predict_proba(X)\n",
    "        base[:,1] += self.step_size * self.xtr.predict(X)\n",
    "        base[:,0] = 1 - base[:,1]\n",
    "        return np.clip(base, 1e-3, 1-1e-3)\n",
    "\n",
    "    def predict(self, X):\n",
    "        return self.predict_proba(X)"
   ]
  },
  {
   "cell_type": "code",
   "execution_count": 136,
   "metadata": {
    "collapsed": false
   },
   "outputs": [
    {
     "name": "stdout",
     "output_type": "stream",
     "text": [
      "Train logloss 0.57640579165\n",
      "Test  logloss 0.570305074851\n"
     ]
    }
   ],
   "source": [
    "lr = SlightlyNonlinearClassification(C=1000, step_size=0.9)\n",
    "lr.fit(X_train,y_train)\n",
    "\n",
    "Yh_train = cross_val_predict(lr, X_train, y_train, cv=10, method='predict_proba',n_jobs=5)[:,1]\n",
    "Yh_test = cross_val_predict(lr, X_test, y_test, cv=10, method='predict_proba',n_jobs=5)[:,1]\n",
    "\n",
    "print(\"Train logloss\",log_loss(y_train, Yh_train))\n",
    "print(\"Test  logloss\",log_loss(y_test, Yh_test))"
   ]
  },
  {
   "cell_type": "markdown",
   "metadata": {},
   "source": [
    "#### 4.2.2 logistic regression with tuned parameter\n",
    "\n",
    "+ Cross-validate, 10 folders\n",
    "+ with class weight\n",
    "+ l1 penalty\n",
    "+ grid search for the value of C, i.e.,Inverse of regularization strength"
   ]
  },
  {
   "cell_type": "code",
   "execution_count": 109,
   "metadata": {
    "collapsed": false,
    "scrolled": true
   },
   "outputs": [
    {
     "name": "stdout",
     "output_type": "stream",
     "text": [
      "training recall: 0.8311 , with average confident for the cancer class: 0.5180\n",
      "test recall    : 0.6318 , with average confident for the cancer class: 0.5171\n",
      "Best parameter: {'C': 0.1}\n",
      "confusion_matrix for test set: \n",
      " [[160 163]\n",
      " [ 40  68]]\n",
      "             precision    recall  f1-score   support\n",
      "\n",
      "  No Cancer       0.80      0.50      0.61       323\n",
      "     Cancer       0.29      0.63      0.40       108\n",
      "\n",
      "avg / total       0.67      0.53      0.56       431\n",
      "\n",
      "Train logloss 0.708511433389\n",
      "Test  logloss 0.713504447157\n"
     ]
    }
   ],
   "source": [
    "lr = linear_model.LogisticRegression(class_weight={0:0.22,1:0.78},penalty='l1')\n",
    "Cs = [0.001, 0.0025, 0.005, 0.01, 0.025, 0.05, 0.1, 0.5]\n",
    "param_grid = {'C': Cs} \n",
    "grid = GridSearchCV(lr,param_grid, cv=10, scoring='recall', verbose=0, n_jobs=-1)\n",
    "grid.fit(X_train,y_train)\n",
    "\n",
    "yh_train = grid.predict_proba(X_train)[:,1]\n",
    "average_yh_train = grid.predict_proba(X_train)[:,1].mean()\n",
    "score_val = cross_val_score(grid,X_train,y_train,cv=10,scoring='recall')\n",
    "print (\"training recall: %.4f\"%score_val.mean(), \", with average confident for the cancer class: %.4f\"%average_yh_train)\n",
    "\n",
    "yh_test = grid.predict_proba(X_test)[:,1]\n",
    "average_yh_test = grid.predict_proba(X_test)[:,1].mean()\n",
    "score_test = cross_val_score(grid,X_test,y_test,cv=10,scoring='recall')\n",
    "print (\"test recall    : %.4f\"%score_test.mean(), \", with average confident for the cancer class: %.4f\"%average_yh_test)\n",
    "\n",
    "yhat = cross_val_predict(grid, X_test,y_test, cv=10)\n",
    "\n",
    "print (\"Best parameter:\", str(grid.best_params_))\n",
    "print (\"confusion_matrix for test set: \\n\", confusion_matrix(y_test,yhat))\n",
    "print (metrics.classification_report(y_test,yhat, target_names=[\"No Cancer\", \"Cancer\"]))\n",
    "print(\"Train logloss\",log_loss(y_train,yh_train))\n",
    "print(\"Test  logloss\",log_loss(y_test,yh_test))"
   ]
  },
  {
   "cell_type": "code",
   "execution_count": 119,
   "metadata": {
    "collapsed": false
   },
   "outputs": [
    {
     "data": {
      "text/plain": [
       "<matplotlib.legend.Legend at 0x7f7af7533320>"
      ]
     },
     "execution_count": 119,
     "metadata": {},
     "output_type": "execute_result"
    },
    {
     "data": {
      "image/png": "[encoded data removed]",
      "text/plain": [
       "<matplotlib.figure.Figure at 0x7f7af75ec7b8>"
      ]
     },
     "metadata": {},
     "output_type": "display_data"
    }
   ],
   "source": [
    "fig = plt.figure()\n",
    "plt.boxplot([score_val, score_test])\n",
    "plt.scatter(np.tile(np.array([1]),(10,1))+0.01*np.random.normal(size=(10,1)),score_val,alpha = 0.5,color='r',label='train recall')\n",
    "plt.scatter(np.tile(np.array([2]),(10,1))+0.01*np.random.normal(size=(10,1)),score_test,alpha = 0.5,color='b', label = 'test recall')\n",
    "plt.legend(loc=0)\n"
   ]
  },
  {
   "cell_type": "markdown",
   "metadata": {},
   "source": [
    "#### 4.2.3 SVM with 10-fold cross validation     <font color='red'> NO!! wrong?</font>"
   ]
  },
  {
   "cell_type": "code",
   "execution_count": 95,
   "metadata": {
    "collapsed": false
   },
   "outputs": [
    {
     "name": "stdout",
     "output_type": "stream",
     "text": [
      "confusion_matrix: \n",
      " [[323   0]\n",
      " [108   0]]\n",
      "             precision    recall  f1-score   support\n",
      "\n",
      "  No Cancer       0.75      1.00      0.86       323\n",
      "     Cancer       0.00      0.00      0.00       108\n",
      "\n",
      "avg / total       0.56      0.75      0.64       431\n",
      "\n",
      "Train logloss 0.563200245049\n",
      "Test  logloss 0.565304519453\n"
     ]
    },
    {
     "name": "stderr",
     "output_type": "stream",
     "text": [
      "/opt/anaconda/lib/python3.5/site-packages/sklearn/metrics/classification.py:1113: UndefinedMetricWarning: Precision and F-score are ill-defined and being set to 0.0 in labels with no predicted samples.\n",
      "  'precision', 'predicted', average, warn_for)\n"
     ]
    }
   ],
   "source": [
    "svm_clf = svm.LinearSVC(C=0.1,class_weight={0:0.22,1:0.78})\n",
    "calibrated_svc = CalibratedClassifierCV(svm_clf,\n",
    "                                        method='sigmoid',  #sigmoid will use Platt's scaling. \n",
    "                                        cv=10) \n",
    "calibrated_svc.fit(X_train, y_train)\n",
    "\n",
    "yh_train = calibrated_svc.predict_proba(X_train)[:,1]\n",
    "yh_test = calibrated_svc.predict_proba(X_test)[:,1]\n",
    "yhat = cross_val_predict(calibrated_svc, X_test,y_test, cv=10)\n",
    "\n",
    "print (\"confusion_matrix: \\n\", confusion_matrix(y_test,yhat))\n",
    "print (metrics.classification_report(y_test,yhat, target_names=[\"No Cancer\", \"Cancer\"]))\n",
    "\n",
    "print(\"Train logloss\",log_loss(y_train,yh_train))\n",
    "print(\"Test  logloss\",log_loss(y_test,yh_test))"
   ]
  },
  {
   "cell_type": "markdown",
   "metadata": {},
   "source": [
    "#### 4.2.4 KNN\n",
    "\n",
    "It is not the best classifier for us:\n",
    "\n",
    "- when k is small, we get overfitting. \n",
    "- we have very low recall"
   ]
  },
  {
   "cell_type": "code",
   "execution_count": 134,
   "metadata": {
    "collapsed": false
   },
   "outputs": [
    {
     "name": "stdout",
     "output_type": "stream",
     "text": [
      "confusion_matrix: \n",
      " [[321   2]\n",
      " [106   2]]\n",
      "             precision    recall  f1-score   support\n",
      "\n",
      "  No Cancer       0.75      0.99      0.86       323\n",
      "     Cancer       0.50      0.02      0.04       108\n",
      "\n",
      "avg / total       0.69      0.75      0.65       431\n",
      "\n",
      "Train logloss 0.50686077074\n",
      "Test  logloss 0.968052654974\n",
      "confusion_matrix: \n",
      " [[317   6]\n",
      " [106   2]]\n",
      "             precision    recall  f1-score   support\n",
      "\n",
      "  No Cancer       0.75      0.98      0.85       323\n",
      "     Cancer       0.25      0.02      0.03       108\n",
      "\n",
      "avg / total       0.62      0.74      0.65       431\n",
      "\n",
      "Train logloss 0.50936399738\n",
      "Test  logloss 0.893202819483\n",
      "[0.50686077074033209, 0.50936399738018856]\n",
      "[0.96805265497420312, 0.89320281948336677]\n"
     ]
    }
   ],
   "source": [
    "train_logloss = []\n",
    "test_logloss = []\n",
    "for k in range(10,12):\n",
    "    clf = neighbors.KNeighborsClassifier(n_neighbors=k,n_jobs=-1)      \n",
    "    clf.fit(X_train,y_train)\n",
    "\n",
    "    yh_train = clf.predict_proba(X_train)[:,1]\n",
    "    yh_test = clf.predict_proba(X_test)[:,1]\n",
    "    yhat = cross_val_predict(clf, X_test,y_test, cv=10)\n",
    "\n",
    "    print (\"confusion_matrix: \\n\", confusion_matrix(y_test,yhat))\n",
    "    print (metrics.classification_report(y_test,yhat, target_names=[\"No Cancer\", \"Cancer\"]))\n",
    "    \n",
    "    train_logloss.append(log_loss(y_train,yh_train))\n",
    "    test_logloss.append(log_loss(y_test,yh_test))\n",
    "    print(\"Train logloss\",log_loss(y_train,yh_train))\n",
    "    print(\"Test  logloss\",log_loss(y_test,yh_test))\n",
    "    \n",
    "print (train_logloss)\n",
    "print (test_logloss)"
   ]
  },
  {
   "cell_type": "markdown",
   "metadata": {},
   "source": [
    "#### 4.2.5 Random Forest\n",
    "\n",
    "No great, as the recall is really low."
   ]
  },
  {
   "cell_type": "code",
   "execution_count": 140,
   "metadata": {
    "collapsed": false
   },
   "outputs": [
    {
     "name": "stdout",
     "output_type": "stream",
     "text": [
      "\n",
      "Random Forest\n",
      "confusion_matrix for test set: \n",
      " [[317   6]\n",
      " [105   3]]\n",
      "             precision    recall  f1-score   support\n",
      "\n",
      "  No Cancer       0.75      0.98      0.85       323\n",
      "     Cancer       0.33      0.03      0.05       108\n",
      "\n",
      "avg / total       0.65      0.74      0.65       431\n",
      "\n",
      "Train logloss 0.155149275014\n",
      "Test  logloss 0.609056490941\n"
     ]
    }
   ],
   "source": [
    "clf = RF(n_estimators=100,class_weight={0:0.2,1:0.8}, n_jobs=-1)\n",
    "clf.fit(X_train, y_train)\n",
    "yh_train = clf.predict_proba(X_train)[:,1]\n",
    "yh_test = clf.predict_proba(X_test)[:,1]\n",
    "yhat = cross_val_predict(clf, X_test,y_test, cv=10)\n",
    "    \n",
    "print ('\\nRandom Forest')\n",
    "print (\"confusion_matrix for test set: \\n\", confusion_matrix(y_test, yhat))\n",
    "print (classification_report(y_test, yhat, target_names=[\"No Cancer\", \"Cancer\"]))\n",
    "print(\"Train logloss\",logloss(y_train, yh_train))\n",
    "print(\"Test  logloss\",logloss(y_test, yh_test))"
   ]
  },
  {
   "cell_type": "markdown",
   "metadata": {},
   "source": [
    "#### 4.2.6 What if we predict all 1's or all 0's with confidence 0.5?"
   ]
  },
  {
   "cell_type": "code",
   "execution_count": 145,
   "metadata": {
    "collapsed": false
   },
   "outputs": [
    {
     "name": "stdout",
     "output_type": "stream",
     "text": [
      "confusion_matrix: \n",
      " [[  0 323]\n",
      " [  0 108]]\n",
      "             precision    recall  f1-score   support\n",
      "\n",
      "  No Cancer       0.00      0.00      0.00       323\n",
      "     Cancer       0.25      1.00      0.40       108\n",
      "\n",
      "avg / total       0.06      0.25      0.10       431\n",
      "\n",
      "logloss 0.69314718056\n",
      "confusion_matrix: \n",
      " [[323   0]\n",
      " [108   0]]\n",
      "             precision    recall  f1-score   support\n",
      "\n",
      "  No Cancer       0.75      1.00      0.86       323\n",
      "     Cancer       0.00      0.00      0.00       108\n",
      "\n",
      "avg / total       0.56      0.75      0.64       431\n",
      "\n",
      "logloss 8.65472819176\n"
     ]
    },
    {
     "name": "stderr",
     "output_type": "stream",
     "text": [
      "/opt/anaconda/lib/python3.5/site-packages/sklearn/metrics/classification.py:1113: UndefinedMetricWarning: Precision and F-score are ill-defined and being set to 0.0 in labels with no predicted samples.\n",
      "  'precision', 'predicted', average, warn_for)\n"
     ]
    }
   ],
   "source": [
    "# All Cancer\n",
    "# print (\"\\nPredicting all positive\")\n",
    "# y_pred = np.ones(Y.shape)\n",
    "# print (classification_report(Y, y_pred, target_names=[\"No Cancer\", \"Cancer\"]))\n",
    "# print(\"logloss\",logloss(Y, y_pred))\n",
    "\n",
    "yhat = np.ones(y_test.shape)\n",
    "yh_test = yhat*0.5\n",
    "print (\"confusion_matrix: \\n\", confusion_matrix(y_test,yhat))\n",
    "print (classification_report(y_test, yhat, target_names=[\"No Cancer\", \"Cancer\"]))\n",
    "print(\"logloss\",logloss(y_test, yh_test))\n",
    "\n",
    "# No Cancer\n",
    "# print (\"\\nPredicting all negative\")\n",
    "# y_pred = Y*0\n",
    "# print (classification_report(Y, y_pred, target_names=[\"No Cancer\", \"Cancer\"]))\n",
    "# print(\"logloss\",logloss(Y, y_pred))\n",
    "\n",
    "yhat = np.zeros(y_test.shape)\n",
    "yh_test = yhat*0.5\n",
    "print (\"confusion_matrix: \\n\", confusion_matrix(y_test,yhat))\n",
    "print (classification_report(y_test, yhat, target_names=[\"No Cancer\", \"Cancer\"]))\n",
    "print(\"logloss\",logloss(y_test, yh_test))"
   ]
  },
  {
   "cell_type": "code",
   "execution_count": null,
   "metadata": {
    "collapsed": true
   },
   "outputs": [],
   "source": []
  },
  {
   "cell_type": "code",
   "execution_count": null,
   "metadata": {
    "collapsed": true
   },
   "outputs": [],
   "source": []
  },
  {
   "cell_type": "code",
   "execution_count": null,
   "metadata": {
    "collapsed": true
   },
   "outputs": [],
   "source": []
  },
  {
   "cell_type": "markdown",
   "metadata": {},
   "source": [
    "### 3.2 More classifiers:  Random Forest, SVC\n",
    "\n",
    "https://www.kaggle.com/c/data-science-bowl-2017#tutorial"
   ]
  },
  {
   "cell_type": "code",
   "execution_count": 19,
   "metadata": {
    "collapsed": false,
    "scrolled": false
   },
   "outputs": [
    {
     "name": "stdout",
     "output_type": "stream",
     "text": [
      "Logistic regression\n",
      "confusion_matrix for test set: \n",
      " [[229 842]\n",
      " [ 79 284]]\n",
      "             precision    recall  f1-score   support\n",
      "\n",
      "  No Cancer       0.74      0.21      0.33      1071\n",
      "     Cancer       0.25      0.78      0.38       363\n",
      "\n",
      "avg / total       0.62      0.36      0.34      1434\n",
      "\n",
      "logloss 8.7430793803\n",
      "Random Forest\n",
      "confusion_matrix for test set: \n",
      " [[1067    4]\n",
      " [ 358    5]]\n",
      "             precision    recall  f1-score   support\n",
      "\n",
      "  No Cancer       0.75      1.00      0.85      1071\n",
      "     Cancer       0.56      0.01      0.03       363\n",
      "\n",
      "avg / total       0.70      0.75      0.65      1434\n",
      "\n",
      "logloss 8.7430793803\n",
      "\n",
      "Linear Support Vector Classification\n",
      "confusion_matrix for test set: \n",
      " [[1071    0]\n",
      " [ 363    0]]\n",
      "             precision    recall  f1-score   support\n",
      "\n",
      "  No Cancer       0.75      1.00      0.86      1071\n",
      "     Cancer       0.00      0.00      0.00       363\n",
      "\n",
      "avg / total       0.56      0.75      0.64      1434\n",
      "\n",
      "logloss 8.7430793803\n",
      "\n",
      "Predicting all positive\n",
      "             precision    recall  f1-score   support\n",
      "\n",
      "  No Cancer       0.00      0.00      0.00      1071\n",
      "     Cancer       0.25      1.00      0.40       363\n",
      "\n",
      "avg / total       0.06      0.25      0.10      1434\n",
      "\n",
      "logloss 25.7962942035\n",
      "\n",
      "Predicting all negative\n",
      "             precision    recall  f1-score   support\n",
      "\n",
      "  No Cancer       0.75      1.00      0.86      1071\n",
      "     Cancer       0.00      0.00      0.00       363\n",
      "\n",
      "avg / total       0.56      0.75      0.64      1434\n",
      "\n",
      "logloss 8.7430793803\n"
     ]
    },
    {
     "name": "stderr",
     "output_type": "stream",
     "text": [
      "/opt/anaconda/lib/python3.5/site-packages/sklearn/metrics/classification.py:1113: UndefinedMetricWarning: Precision and F-score are ill-defined and being set to 0.0 in labels with no predicted samples.\n",
      "  'precision', 'predicted', average, warn_for)\n"
     ]
    }
   ],
   "source": [
    "x_cols = df.drop(['id', 'cancer', 'Unnamed: 0'],1).columns  # using all the features\n",
    "X = df.loc[:][x_cols].values\n",
    "X = StandardScaler().fit_transform(X)\n",
    "Y = df.loc[:]['cancer'].values\n",
    "\n",
    "#Logistic regression\n",
    "kf = KFold(Y, n_folds=3)\n",
    "y_pred = Y * 0\n",
    "y_pred_prob = Y * 0\n",
    "for train, test in kf:\n",
    "    X_train, X_test, y_train, y_test = X[train,:], X[test,:], Y[train], Y[test]\n",
    "    clf = linear_model.LogisticRegression(class_weight={0:0.22,1:0.78},penalty='l1') \n",
    "    clf.fit(X_train, y_train)\n",
    "    y_pred[test] = clf.predict(X_test)\n",
    "    y_pred_prob[test] = clf.predict_proba(X_test)[:,1]\n",
    "print ('Logistic regression')\n",
    "print (\"confusion_matrix for test set: \\n\", confusion_matrix(Y, y_pred))\n",
    "print (classification_report(Y, y_pred, target_names=[\"No Cancer\", \"Cancer\"]))\n",
    "print(\"logloss\",logloss(Y, y_pred_prob))\n",
    "\n",
    "#Random Forest\n",
    "kf = KFold(Y, n_folds=3)\n",
    "y_pred = Y * 0\n",
    "y_pred_prob = Y * 0\n",
    "for train, test in kf:\n",
    "    X_train, X_test, y_train, y_test = X[train,:], X[test,:], Y[train], Y[test]\n",
    "    clf = RF(n_estimators=100,class_weight={0:0.2,1:0.8}, n_jobs=-1)\n",
    "    clf.fit(X_train, y_train)\n",
    "    y_pred[test] = clf.predict(X_test)\n",
    "    y_pred_prob[test] = clf.predict_proba(X_test)[:,1]\n",
    "print ('\\nRandom Forest')\n",
    "print (\"confusion_matrix for test set: \\n\", confusion_matrix(Y, y_pred))\n",
    "print (classification_report(Y, y_pred, target_names=[\"No Cancer\", \"Cancer\"]))\n",
    "print(\"logloss\",logloss(Y, y_pred_prob))\n",
    "\n",
    "# LinearSVC\n",
    "kf = KFold(Y, n_folds=3)\n",
    "y_pred = Y * 0\n",
    "y_pred_prob = Y * 0\n",
    "for train, test in kf:\n",
    "    X_train, X_test, y_train, y_test = X[train,:], X[test,:], Y[train], Y[test]\n",
    "    clf = svm.LinearSVC(C=0.1,class_weight={0:0.22,1:0.78})\n",
    "    # This is the calibrated classifier which can give probabilistic classifier\n",
    "    calibrated_svc = CalibratedClassifierCV(clf,\n",
    "                                            method='sigmoid',  #sigmoid will use Platt's scaling. Refer to documentation for other methods.\n",
    "                                            cv=3) \n",
    "    calibrated_svc.fit(X_train, y_train)\n",
    "    y_pred[test] = calibrated_svc.predict(X_test)\n",
    "    y_pred_prob[test] = calibrated_svc.predict_proba(X_test)[:,1]\n",
    "print ('\\nLinear Support Vector Classification')\n",
    "print (\"confusion_matrix for test set: \\n\", confusion_matrix(Y, y_pred))\n",
    "print (classification_report(Y, y_pred, target_names=[\"No Cancer\", \"Cancer\"]))\n",
    "print(\"logloss\",logloss(Y, y_pred_prob))\n"
   ]
  },
  {
   "cell_type": "markdown",
   "metadata": {
    "collapsed": true
   },
   "source": [
    "# <font color = 'red'> Is it necessary the for loop, why the results are so different </font>"
   ]
  },
  {
   "cell_type": "code",
   "execution_count": 31,
   "metadata": {
    "collapsed": false,
    "scrolled": false
   },
   "outputs": [
    {
     "name": "stdout",
     "output_type": "stream",
     "text": [
      "0.95375 0.639285714286 0.953424657534\n",
      "0.957575757576 0.428571428571 0.953424657534\n",
      "0.881118881119 0.410714285714 0.953424657534\n",
      "0.990769230769 0.510714285714 0.953424657534\n",
      "0.945454545455 0.525 0.953424657534\n",
      "0.850673076923 0.766666666667 0.953424657534\n",
      "0.985074626866 0.66 0.953424657534\n",
      "0.966802351877 0.490476190476 0.953424657534\n",
      "0.966386946387 0.55 0.953424657534\n",
      "0.885625 0.575 0.953424657534\n",
      "\n",
      "lr\n",
      "confusion_matrix for test set: \n",
      " [[  51 1020]\n",
      " [  23  340]]\n",
      "             precision    recall  f1-score   support\n",
      "\n",
      "  No Cancer       0.69      0.05      0.09      1071\n",
      "     Cancer       0.25      0.94      0.39       363\n",
      "\n",
      "avg / total       0.58      0.27      0.17      1434\n",
      "\n",
      "logloss 8.7430793803\n"
     ]
    }
   ],
   "source": [
    "x_cols = df.drop(['id', 'cancer', 'Unnamed: 0'],1).columns  # using all the features\n",
    "X = df.loc[:][x_cols].values\n",
    "X = StandardScaler().fit_transform(X)\n",
    "y = df.loc[:]['cancer'].values\n",
    "\n",
    "cv = cross_validation.KFold(X.shape[0],n_folds = 10,shuffle=True)\n",
    "yhat = np.zeros((X.shape[0],))\n",
    "acc = np.zeros((10,))\n",
    "i = 0\n",
    "y_pred = y * 0\n",
    "y_pred_prob = y * 0\n",
    "for train_idx, test_idx in cv:\n",
    "    X_train,y_train = X[train_idx,:],y[train_idx]\n",
    "    X_test,y_test = X[test_idx,:],y[test_idx]\n",
    "    \n",
    "    scaler = StandardScaler()\n",
    "    X_train=scaler.fit_transform(X_train)\n",
    "    X_test=scaler.transform(X_test)\n",
    "    \n",
    "    lr = linear_model.LogisticRegression(class_weight={0:0.22,1:0.78},penalty='l1')\n",
    "    Cs = [0.0001, 0.00025, 0.0005,  0.00075, 0.001, 0.0025, 0.005, 0.01, 0.025, 0.05, 0.1, 0.5]\n",
    "    param_grid = {'C': Cs} \n",
    "    grid = GridSearchCV(lr,param_grid, cv=10, scoring='recall', verbose=0, n_jobs=4)\n",
    "    grid.fit(X_train,y_train)\n",
    "\n",
    "    y_pred[test_idx] = grid.predict(X_test)\n",
    "    y_pred_prob[test_idx] = grid.predict_proba(X_test)[:,1]\n",
    "#     print (\"Best parameter:\", str(grid.best_params_))    \n",
    "\n",
    "print ('\\nlr')\n",
    "print (\"confusion_matrix for test set: \\n\", confusion_matrix(y, y_pred))\n",
    "print (classification_report(Y, y_pred, target_names=[\"No Cancer\", \"Cancer\"]))\n",
    "print(\"logloss\",log_loss(Y, y_pred_prob))"
   ]
  },
  {
   "cell_type": "code",
   "execution_count": null,
   "metadata": {
    "collapsed": true
   },
   "outputs": [],
   "source": []
  }
 ],
 "metadata": {
  "kernelspec": {
   "display_name": "Python [default]",
   "language": "python",
   "name": "python3"
  },
  "language_info": {
   "codemirror_mode": {
    "name": "ipython",
    "version": 3
   },
   "file_extension": ".py",
   "mimetype": "text/x-python",
   "name": "python",
   "nbconvert_exporter": "python",
   "pygments_lexer": "ipython3",
   "version": "3.5.2"
  }
 },
 "nbformat": 4,
 "nbformat_minor": 2
}
