{
 "cells": [
  {
   "cell_type": "code",
   "execution_count": 1,
   "metadata": {
    "collapsed": false
   },
   "outputs": [
    {
     "name": "stderr",
     "output_type": "stream",
     "text": [
      "Using TensorFlow backend.\n"
     ]
    },
    {
     "name": "stdout",
     "output_type": "stream",
     "text": [
      "CPU times: user 992 ms, sys: 548 ms, total: 1.54 s\n",
      "Wall time: 1.28 s\n"
     ]
    }
   ],
   "source": [
    "%%time\n",
    "import tensorflow as tf\n",
    "from keras.backend.tensorflow_backend import set_session\n",
    "config = tf.ConfigProto()\n",
    "config.gpu_options.per_process_gpu_memory_fraction = 0.18\n",
    "set_session(tf.Session(config=config))"
   ]
  },
  {
   "cell_type": "code",
   "execution_count": 2,
   "metadata": {
    "collapsed": false
   },
   "outputs": [
    {
     "name": "stdout",
     "output_type": "stream",
     "text": [
      "CPU times: user 132 ms, sys: 20 ms, total: 152 ms\n",
      "Wall time: 154 ms\n"
     ]
    }
   ],
   "source": [
    "%%time\n",
    "from keras.models import load_model\n",
    "import numpy as np\n",
    "import pandas as pd\n",
    "import os\n",
    "import time\n",
    "\n",
    "model_num =1\n",
    "stage_num =1\n",
    "PATH_MODEL = \"../Models/LUNA_model_v2_%d.h5\"%(model_num)\n",
    "PATH_VOXELS = '../../data/stage%d_voxels_mask/'%(stage_num)\n",
    "file_name = 'feature_matrix_model%d_stage%d'%(model_num,stage_num)\n",
    "\n",
    "# model_v24 = load_model(PATH_MODEL)"
   ]
  },
  {
   "cell_type": "code",
   "execution_count": 25,
   "metadata": {
    "collapsed": false
   },
   "outputs": [
    {
     "name": "stdout",
     "output_type": "stream",
     "text": [
      "patient numbers:  1434\n"
     ]
    },
    {
     "ename": "TypeError",
     "evalue": "only integer scalar arrays can be converted to a scalar index",
     "output_type": "error",
     "traceback": [
      "\u001b[0;31m---------------------------------------------------------------------------\u001b[0m",
      "\u001b[0;31mTypeError\u001b[0m                                 Traceback (most recent call last)",
      "\u001b[0;32m<ipython-input-25-6b3eb3c0d120>\u001b[0m in \u001b[0;36m<module>\u001b[0;34m()\u001b[0m\n\u001b[0;32m----> 1\u001b[0;31m \u001b[0mget_ipython\u001b[0m\u001b[0;34m(\u001b[0m\u001b[0;34m)\u001b[0m\u001b[0;34m.\u001b[0m\u001b[0mrun_cell_magic\u001b[0m\u001b[0;34m(\u001b[0m\u001b[0;34m'time'\u001b[0m\u001b[0;34m,\u001b[0m \u001b[0;34m''\u001b[0m\u001b[0;34m,\u001b[0m \u001b[0;34m'\\nimport time\\npatients = [f for f in os.listdir(PATH_VOXELS)]\\nprint (\"patient numbers: \", len(patients))\\n\\nstart = time.time()\\nall_features = []\\n# concate_patients = []\\nconcate_patients = np.load(PATH_VOXELS + patients[0])\\nfor num, p in enumerate(patients[1:3]):\\n    patient_array = np.load(PATH_VOXELS + p)\\n    concate_patients = np.concatenate(concate_patients[\\'vox\\'], patient_array[\\'vox\\'])\\n\\nprint (concate_patients.shape)\\npreds = np.array(model_v24.predict(x= concate_patients))\\nprint (preds.shape)\\nprint (\"It took %d seconds\"%(time.time()-start))'\u001b[0m\u001b[0;34m)\u001b[0m\u001b[0;34m\u001b[0m\u001b[0m\n\u001b[0m",
      "\u001b[0;32m/opt/anaconda/lib/python3.5/site-packages/IPython/core/interactiveshell.py\u001b[0m in \u001b[0;36mrun_cell_magic\u001b[0;34m(self, magic_name, line, cell)\u001b[0m\n\u001b[1;32m   2113\u001b[0m             \u001b[0mmagic_arg_s\u001b[0m \u001b[0;34m=\u001b[0m \u001b[0mself\u001b[0m\u001b[0;34m.\u001b[0m\u001b[0mvar_expand\u001b[0m\u001b[0;34m(\u001b[0m\u001b[0mline\u001b[0m\u001b[0;34m,\u001b[0m \u001b[0mstack_depth\u001b[0m\u001b[0;34m)\u001b[0m\u001b[0;34m\u001b[0m\u001b[0m\n\u001b[1;32m   2114\u001b[0m             \u001b[0;32mwith\u001b[0m \u001b[0mself\u001b[0m\u001b[0;34m.\u001b[0m\u001b[0mbuiltin_trap\u001b[0m\u001b[0;34m:\u001b[0m\u001b[0;34m\u001b[0m\u001b[0m\n\u001b[0;32m-> 2115\u001b[0;31m                 \u001b[0mresult\u001b[0m \u001b[0;34m=\u001b[0m \u001b[0mfn\u001b[0m\u001b[0;34m(\u001b[0m\u001b[0mmagic_arg_s\u001b[0m\u001b[0;34m,\u001b[0m \u001b[0mcell\u001b[0m\u001b[0;34m)\u001b[0m\u001b[0;34m\u001b[0m\u001b[0m\n\u001b[0m\u001b[1;32m   2116\u001b[0m             \u001b[0;32mreturn\u001b[0m \u001b[0mresult\u001b[0m\u001b[0;34m\u001b[0m\u001b[0m\n\u001b[1;32m   2117\u001b[0m \u001b[0;34m\u001b[0m\u001b[0m\n",
      "\u001b[0;32m<decorator-gen-59>\u001b[0m in \u001b[0;36mtime\u001b[0;34m(self, line, cell, local_ns)\u001b[0m\n",
      "\u001b[0;32m/opt/anaconda/lib/python3.5/site-packages/IPython/core/magic.py\u001b[0m in \u001b[0;36m<lambda>\u001b[0;34m(f, *a, **k)\u001b[0m\n\u001b[1;32m    186\u001b[0m     \u001b[0;31m# but it's overkill for just that one bit of state.\u001b[0m\u001b[0;34m\u001b[0m\u001b[0;34m\u001b[0m\u001b[0m\n\u001b[1;32m    187\u001b[0m     \u001b[0;32mdef\u001b[0m \u001b[0mmagic_deco\u001b[0m\u001b[0;34m(\u001b[0m\u001b[0marg\u001b[0m\u001b[0;34m)\u001b[0m\u001b[0;34m:\u001b[0m\u001b[0;34m\u001b[0m\u001b[0m\n\u001b[0;32m--> 188\u001b[0;31m         \u001b[0mcall\u001b[0m \u001b[0;34m=\u001b[0m \u001b[0;32mlambda\u001b[0m \u001b[0mf\u001b[0m\u001b[0;34m,\u001b[0m \u001b[0;34m*\u001b[0m\u001b[0ma\u001b[0m\u001b[0;34m,\u001b[0m \u001b[0;34m**\u001b[0m\u001b[0mk\u001b[0m\u001b[0;34m:\u001b[0m \u001b[0mf\u001b[0m\u001b[0;34m(\u001b[0m\u001b[0;34m*\u001b[0m\u001b[0ma\u001b[0m\u001b[0;34m,\u001b[0m \u001b[0;34m**\u001b[0m\u001b[0mk\u001b[0m\u001b[0;34m)\u001b[0m\u001b[0;34m\u001b[0m\u001b[0m\n\u001b[0m\u001b[1;32m    189\u001b[0m \u001b[0;34m\u001b[0m\u001b[0m\n\u001b[1;32m    190\u001b[0m         \u001b[0;32mif\u001b[0m \u001b[0mcallable\u001b[0m\u001b[0;34m(\u001b[0m\u001b[0marg\u001b[0m\u001b[0;34m)\u001b[0m\u001b[0;34m:\u001b[0m\u001b[0;34m\u001b[0m\u001b[0m\n",
      "\u001b[0;32m/opt/anaconda/lib/python3.5/site-packages/IPython/core/magics/execution.py\u001b[0m in \u001b[0;36mtime\u001b[0;34m(self, line, cell, local_ns)\u001b[0m\n\u001b[1;32m   1178\u001b[0m         \u001b[0;32melse\u001b[0m\u001b[0;34m:\u001b[0m\u001b[0;34m\u001b[0m\u001b[0m\n\u001b[1;32m   1179\u001b[0m             \u001b[0mst\u001b[0m \u001b[0;34m=\u001b[0m \u001b[0mclock2\u001b[0m\u001b[0;34m(\u001b[0m\u001b[0;34m)\u001b[0m\u001b[0;34m\u001b[0m\u001b[0m\n\u001b[0;32m-> 1180\u001b[0;31m             \u001b[0mexec\u001b[0m\u001b[0;34m(\u001b[0m\u001b[0mcode\u001b[0m\u001b[0;34m,\u001b[0m \u001b[0mglob\u001b[0m\u001b[0;34m,\u001b[0m \u001b[0mlocal_ns\u001b[0m\u001b[0;34m)\u001b[0m\u001b[0;34m\u001b[0m\u001b[0m\n\u001b[0m\u001b[1;32m   1181\u001b[0m             \u001b[0mend\u001b[0m \u001b[0;34m=\u001b[0m \u001b[0mclock2\u001b[0m\u001b[0;34m(\u001b[0m\u001b[0;34m)\u001b[0m\u001b[0;34m\u001b[0m\u001b[0m\n\u001b[1;32m   1182\u001b[0m             \u001b[0mout\u001b[0m \u001b[0;34m=\u001b[0m \u001b[0;32mNone\u001b[0m\u001b[0;34m\u001b[0m\u001b[0m\n",
      "\u001b[0;32m<timed exec>\u001b[0m in \u001b[0;36m<module>\u001b[0;34m()\u001b[0m\n",
      "\u001b[0;31mTypeError\u001b[0m: only integer scalar arrays can be converted to a scalar index"
     ]
    }
   ],
   "source": [
    "%%time\n",
    "\n",
    "import time\n",
    "patients = [f for f in os.listdir(PATH_VOXELS)]\n",
    "print (\"patient numbers: \", len(patients))\n",
    "\n",
    "start = time.time()\n",
    "all_features = []\n",
    "# concate_patients = []\n",
    "concate_patients = np.load(PATH_VOXELS + patients[0])\n",
    "for num, p in enumerate(patients[1:3]):\n",
    "    patient_array = np.load(PATH_VOXELS + p)\n",
    "    concate_patients = np.concatenate(concate_patients['vox'], patient_array['vox'])\n",
    "\n",
    "print (concate_patients.shape)\n",
    "preds = np.array(model_v24.predict(x= concate_patients))\n",
    "print (preds.shape)\n",
    "print (\"It took %d seconds\"%(time.time()-start))"
   ]
  },
  {
   "cell_type": "code",
   "execution_count": 3,
   "metadata": {
    "collapsed": false
   },
   "outputs": [
    {
     "name": "stderr",
     "output_type": "stream",
     "text": [
      "/opt/anaconda/lib/python3.5/site-packages/keras/engine/topology.py:1206: UserWarning: The `Merge` layer is deprecated and will be removed after 08/2017. Use instead layers from `keras.layers.merge`, e.g. `add`, `concatenate`, etc.\n",
      "  return cls(**config)\n"
     ]
    },
    {
     "name": "stdout",
     "output_type": "stream",
     "text": [
      "patient numbers:  1434\n",
      "(4, 436, 1)\n",
      "It took 57 seconds\n"
     ]
    },
    {
     "ename": "AttributeError",
     "evalue": "'numpy.ndarray' object has no attribute 'device'",
     "output_type": "error",
     "traceback": [
      "\u001b[0;31m---------------------------------------------------------------------------\u001b[0m",
      "\u001b[0;31mAttributeError\u001b[0m                            Traceback (most recent call last)",
      "\u001b[0;32m<ipython-input-3-5db4468007b7>\u001b[0m in \u001b[0;36m<module>\u001b[0;34m()\u001b[0m\n\u001b[0;32m----> 1\u001b[0;31m \u001b[0mget_ipython\u001b[0m\u001b[0;34m(\u001b[0m\u001b[0;34m)\u001b[0m\u001b[0;34m.\u001b[0m\u001b[0mrun_cell_magic\u001b[0m\u001b[0;34m(\u001b[0m\u001b[0;34m'time'\u001b[0m\u001b[0;34m,\u001b[0m \u001b[0;34m''\u001b[0m\u001b[0;34m,\u001b[0m \u001b[0;34m'import time\\nstart = time.time()\\n\\nmodel_v24 = load_model(PATH_MODEL)\\n\\npatients = [f for f in os.listdir(PATH_VOXELS)]\\nprint (\"patient numbers: \", len(patients))\\n\\nall_features = []\\npatient_array0 = np.load(PATH_VOXELS + patients[0])\\npreds = np.array(model_v24.predict(x= patient_array0[\\'vox\\']))\\nprint (preds.shape)\\nprint (\"It took %d seconds\"%(time.time()-start))\\n\\nprint(preds.device)'\u001b[0m\u001b[0;34m)\u001b[0m\u001b[0;34m\u001b[0m\u001b[0m\n\u001b[0m",
      "\u001b[0;32m/opt/anaconda/lib/python3.5/site-packages/IPython/core/interactiveshell.py\u001b[0m in \u001b[0;36mrun_cell_magic\u001b[0;34m(self, magic_name, line, cell)\u001b[0m\n\u001b[1;32m   2113\u001b[0m             \u001b[0mmagic_arg_s\u001b[0m \u001b[0;34m=\u001b[0m \u001b[0mself\u001b[0m\u001b[0;34m.\u001b[0m\u001b[0mvar_expand\u001b[0m\u001b[0;34m(\u001b[0m\u001b[0mline\u001b[0m\u001b[0;34m,\u001b[0m \u001b[0mstack_depth\u001b[0m\u001b[0;34m)\u001b[0m\u001b[0;34m\u001b[0m\u001b[0m\n\u001b[1;32m   2114\u001b[0m             \u001b[0;32mwith\u001b[0m \u001b[0mself\u001b[0m\u001b[0;34m.\u001b[0m\u001b[0mbuiltin_trap\u001b[0m\u001b[0;34m:\u001b[0m\u001b[0;34m\u001b[0m\u001b[0m\n\u001b[0;32m-> 2115\u001b[0;31m                 \u001b[0mresult\u001b[0m \u001b[0;34m=\u001b[0m \u001b[0mfn\u001b[0m\u001b[0;34m(\u001b[0m\u001b[0mmagic_arg_s\u001b[0m\u001b[0;34m,\u001b[0m \u001b[0mcell\u001b[0m\u001b[0;34m)\u001b[0m\u001b[0;34m\u001b[0m\u001b[0m\n\u001b[0m\u001b[1;32m   2116\u001b[0m             \u001b[0;32mreturn\u001b[0m \u001b[0mresult\u001b[0m\u001b[0;34m\u001b[0m\u001b[0m\n\u001b[1;32m   2117\u001b[0m \u001b[0;34m\u001b[0m\u001b[0m\n",
      "\u001b[0;32m<decorator-gen-59>\u001b[0m in \u001b[0;36mtime\u001b[0;34m(self, line, cell, local_ns)\u001b[0m\n",
      "\u001b[0;32m/opt/anaconda/lib/python3.5/site-packages/IPython/core/magic.py\u001b[0m in \u001b[0;36m<lambda>\u001b[0;34m(f, *a, **k)\u001b[0m\n\u001b[1;32m    186\u001b[0m     \u001b[0;31m# but it's overkill for just that one bit of state.\u001b[0m\u001b[0;34m\u001b[0m\u001b[0;34m\u001b[0m\u001b[0m\n\u001b[1;32m    187\u001b[0m     \u001b[0;32mdef\u001b[0m \u001b[0mmagic_deco\u001b[0m\u001b[0;34m(\u001b[0m\u001b[0marg\u001b[0m\u001b[0;34m)\u001b[0m\u001b[0;34m:\u001b[0m\u001b[0;34m\u001b[0m\u001b[0m\n\u001b[0;32m--> 188\u001b[0;31m         \u001b[0mcall\u001b[0m \u001b[0;34m=\u001b[0m \u001b[0;32mlambda\u001b[0m \u001b[0mf\u001b[0m\u001b[0;34m,\u001b[0m \u001b[0;34m*\u001b[0m\u001b[0ma\u001b[0m\u001b[0;34m,\u001b[0m \u001b[0;34m**\u001b[0m\u001b[0mk\u001b[0m\u001b[0;34m:\u001b[0m \u001b[0mf\u001b[0m\u001b[0;34m(\u001b[0m\u001b[0;34m*\u001b[0m\u001b[0ma\u001b[0m\u001b[0;34m,\u001b[0m \u001b[0;34m**\u001b[0m\u001b[0mk\u001b[0m\u001b[0;34m)\u001b[0m\u001b[0;34m\u001b[0m\u001b[0m\n\u001b[0m\u001b[1;32m    189\u001b[0m \u001b[0;34m\u001b[0m\u001b[0m\n\u001b[1;32m    190\u001b[0m         \u001b[0;32mif\u001b[0m \u001b[0mcallable\u001b[0m\u001b[0;34m(\u001b[0m\u001b[0marg\u001b[0m\u001b[0;34m)\u001b[0m\u001b[0;34m:\u001b[0m\u001b[0;34m\u001b[0m\u001b[0m\n",
      "\u001b[0;32m/opt/anaconda/lib/python3.5/site-packages/IPython/core/magics/execution.py\u001b[0m in \u001b[0;36mtime\u001b[0;34m(self, line, cell, local_ns)\u001b[0m\n\u001b[1;32m   1178\u001b[0m         \u001b[0;32melse\u001b[0m\u001b[0;34m:\u001b[0m\u001b[0;34m\u001b[0m\u001b[0m\n\u001b[1;32m   1179\u001b[0m             \u001b[0mst\u001b[0m \u001b[0;34m=\u001b[0m \u001b[0mclock2\u001b[0m\u001b[0;34m(\u001b[0m\u001b[0;34m)\u001b[0m\u001b[0;34m\u001b[0m\u001b[0m\n\u001b[0;32m-> 1180\u001b[0;31m             \u001b[0mexec\u001b[0m\u001b[0;34m(\u001b[0m\u001b[0mcode\u001b[0m\u001b[0;34m,\u001b[0m \u001b[0mglob\u001b[0m\u001b[0;34m,\u001b[0m \u001b[0mlocal_ns\u001b[0m\u001b[0;34m)\u001b[0m\u001b[0;34m\u001b[0m\u001b[0m\n\u001b[0m\u001b[1;32m   1181\u001b[0m             \u001b[0mend\u001b[0m \u001b[0;34m=\u001b[0m \u001b[0mclock2\u001b[0m\u001b[0;34m(\u001b[0m\u001b[0;34m)\u001b[0m\u001b[0;34m\u001b[0m\u001b[0m\n\u001b[1;32m   1182\u001b[0m             \u001b[0mout\u001b[0m \u001b[0;34m=\u001b[0m \u001b[0;32mNone\u001b[0m\u001b[0;34m\u001b[0m\u001b[0m\n",
      "\u001b[0;32m<timed exec>\u001b[0m in \u001b[0;36m<module>\u001b[0;34m()\u001b[0m\n",
      "\u001b[0;31mAttributeError\u001b[0m: 'numpy.ndarray' object has no attribute 'device'"
     ]
    }
   ],
   "source": [
    "%%time \n",
    "import time\n",
    "start = time.time()\n",
    "\n",
    "model_v24 = load_model(PATH_MODEL)\n",
    "\n",
    "patients = [f for f in os.listdir(PATH_VOXELS)]\n",
    "print (\"patient numbers: \", len(patients))\n",
    "\n",
    "all_features = []\n",
    "patient_array0 = np.load(PATH_VOXELS + patients[0])\n",
    "preds = np.array(model_v24.predict(x= patient_array0['vox']))\n",
    "print (preds.shape)\n",
    "print (\"It took %d seconds\"%(time.time()-start))\n",
    "\n",
    "print(preds.device)"
   ]
  },
  {
   "cell_type": "code",
   "execution_count": null,
   "metadata": {
    "collapsed": true
   },
   "outputs": [],
   "source": []
  },
  {
   "cell_type": "code",
   "execution_count": null,
   "metadata": {
    "collapsed": true
   },
   "outputs": [],
   "source": []
  },
  {
   "cell_type": "code",
   "execution_count": null,
   "metadata": {
    "collapsed": true
   },
   "outputs": [],
   "source": [
    "model_num =1\n",
    "stage_num =1\n",
    "PATH_MODEL = \"../Models/LUNA_model_v2_%d.h5\"%(model_num)\n",
    "PATH_VOXELS = '../../data/stage%d_voxels_mask/'%(stage_num)\n",
    "file_name = 'feature_matrix_model%d_stage%d'%(model_num,stage_num)\n",
    "\n",
    "model_v24 = load_model(PATH_MODEL)\n",
    "\n",
    "start = time.time()\n",
    "patients = [f for f in os.listdir(PATH_VOXELS)]\n",
    "print (\"patient numbers: \", len(patients))\n",
    "\n",
    "all_features = []\n",
    "patient_array0 = np.load(PATH_VOXELS + patient[0])\n",
    "patient_array1 = np.load(PATH_VOXELS + patient[1])\n",
    "patients = np.concatenate((a, b), axis=0)\n",
    "    \n",
    "    feats = feature_vect(model_v24,PATH_VOXELS, patient)\n",
    "    all_features.append(feats)\n",
    "    X = np.stack(all_features)\n",
    "    if num%50==0:\n",
    "        print (\"Patient %4d:\" %num, patient[:-4])\n",
    "\n",
    "col=['max_malig','max_spiculation','max_lobulation','max_diameter',\\\n",
    "     'xsd_malig', 'xsd_spiculation', 'xmax_lobulation','xsd_diameter',\\\n",
    "     'loc_from_malig_x','loc_from_malig_y','loc_from_malig_z','std_locs_x','std_locs_y','std_locs_z',]\n",
    "df = pd.DataFrame(data=X,index=patients, columns=col)\n",
    "df.to_csv(file_name + '.csv')\n",
    "print (\"It took %d seconds\"%(time.time()-start))\n"
   ]
  },
  {
   "cell_type": "code",
   "execution_count": null,
   "metadata": {
    "collapsed": true
   },
   "outputs": [],
   "source": []
  },
  {
   "cell_type": "code",
   "execution_count": 3,
   "metadata": {
    "collapsed": false
   },
   "outputs": [],
   "source": [
    "def feature_vect(model, PATH_VOXELS, patient):          \n",
    "    patient_array = np.load(PATH_VOXELS + patient)\n",
    "    voxels = patient_array['vox']  \n",
    "    preds = np.array(model.predict(x= voxels))\n",
    "    ixs = np.argmax(preds[0])\n",
    "    \n",
    "    xmax_malig = np.max(preds[0], axis=0)\n",
    "    xmax_spiculation = np.max(preds[1], axis=0)\n",
    "    xmax_lobulation = np.max(preds[2], axis=0)\n",
    "    xmax_diameter = np.max(preds[3], axis=0)\n",
    "    \n",
    "    xsd_malig = np.std(preds[0], axis=0)\n",
    "    xsd_spiculation = np.std(preds[1], axis=0)\n",
    "    xsd_lobulation = np.std(preds[2], axis=0)\n",
    "    xsd_diameter = np.std(preds[3], axis=0)\n",
    "    \n",
    "    centroids = patient_array['cents']\n",
    "    shape = patient_array['shape']\n",
    "    normalized_locs = centroids.astype('float32') / shape.astype('float32')\n",
    "    \n",
    "    feats = (np.concatenate([xmax_malig,xmax_spiculation,xmax_lobulation,xmax_diameter,\\\n",
    "               xsd_malig,xsd_spiculation,xmax_lobulation,xsd_diameter,\\\n",
    "               normalized_locs[ixs],normalized_locs.std(axis=0)]))        \n",
    "    return feats\n",
    "\n",
    "def score_model(PATH_MODEL,PATH_VOXELS, file_name):\n",
    "    model_v24 = load_model(PATH_MODEL)\n",
    "    \n",
    "    start = time.time()\n",
    "    patients = [f for f in os.listdir(PATH_VOXELS)]\n",
    "    print (\"patient numbers: \", len(patients))\n",
    "\n",
    "    all_features = []\n",
    "    for num, patient in enumerate(patients):\n",
    "        feats = feature_vect(model_v24,PATH_VOXELS, patient)\n",
    "        all_features.append(feats)\n",
    "        X = np.stack(all_features)\n",
    "        if num%50==0:\n",
    "            print (\"Patient %4d:\" %num, patient[:-4])\n",
    "\n",
    "    col=['max_malig','max_spiculation','max_lobulation','max_diameter',\\\n",
    "         'xsd_malig', 'xsd_spiculation', 'xmax_lobulation','xsd_diameter',\\\n",
    "         'loc_from_malig_x','loc_from_malig_y','loc_from_malig_z','std_locs_x','std_locs_y','std_locs_z',]\n",
    "    df = pd.DataFrame(data=X,index=patients, columns=col)\n",
    "    df.to_csv(file_name + '.csv')\n",
    "    print (\"It took %d seconds\"%(time.time()-start))"
   ]
  },
  {
   "cell_type": "code",
   "execution_count": 4,
   "metadata": {
    "collapsed": false
   },
   "outputs": [],
   "source": [
    "def get_feature_matrix(model_num, stage_num):\n",
    "    PATH_MODEL = \"../Models/LUNA_model_v2_%d.h5\"%(model_num)\n",
    "    PATH_VOXELS = '../../data/stage%d_voxels_mask/'%(stage_num)\n",
    "    file_name = 'feature_matrix_model%d_stage%d'%(model_num,stage_num)\n",
    "    score_model(PATH_MODEL,PATH_VOXELS, file_name)"
   ]
  },
  {
   "cell_type": "code",
   "execution_count": 5,
   "metadata": {
    "collapsed": false,
    "scrolled": false
   },
   "outputs": [
    {
     "name": "stderr",
     "output_type": "stream",
     "text": [
      "/opt/anaconda/lib/python3.5/site-packages/keras/engine/topology.py:1206: UserWarning: The `Merge` layer is deprecated and will be removed after 08/2017. Use instead layers from `keras.layers.merge`, e.g. `add`, `concatenate`, etc.\n",
      "  return cls(**config)\n"
     ]
    },
    {
     "name": "stdout",
     "output_type": "stream",
     "text": [
      "patient numbers:  210\n",
      "Patient    0: 5a06ebc438b934a360a5e469a6874505\n",
      "Patient   50: 9f6c458b4276ddbc0ebaa374037bb099\n",
      "Patient  100: 97434189865e083f8f553e3a922b927a\n",
      "Patient  150: d7fc3c406dae05d72a3d932944cd4a39\n",
      "Patient  200: 0b8afe447b5f1a2c405f41cf2fb1198e\n",
      "It took 5483 seconds\n"
     ]
    }
   ],
   "source": [
    "get_feature_matrix(2,2)"
   ]
  },
  {
   "cell_type": "code",
   "execution_count": 5,
   "metadata": {
    "collapsed": false,
    "scrolled": true
   },
   "outputs": [
    {
     "name": "stderr",
     "output_type": "stream",
     "text": [
      "/opt/anaconda/lib/python3.5/site-packages/keras/engine/topology.py:1206: UserWarning: The `Merge` layer is deprecated and will be removed after 08/2017. Use instead layers from `keras.layers.merge`, e.g. `add`, `concatenate`, etc.\n",
      "  return cls(**config)\n"
     ]
    },
    {
     "name": "stdout",
     "output_type": "stream",
     "text": [
      "patient numbers:  210\n",
      "Patient    0: 5a06ebc438b934a360a5e469a6874505\n",
      "Patient   50: 9f6c458b4276ddbc0ebaa374037bb099\n",
      "Patient  100: 97434189865e083f8f553e3a922b927a\n",
      "Patient  150: d7fc3c406dae05d72a3d932944cd4a39\n",
      "Patient  200: 0b8afe447b5f1a2c405f41cf2fb1198e\n",
      "It took 5284 seconds\n"
     ]
    }
   ],
   "source": [
    "get_feature_matrix(model_num=1,stage_num=2)"
   ]
  },
  {
   "cell_type": "code",
   "execution_count": null,
   "metadata": {
    "collapsed": true
   },
   "outputs": [],
   "source": [
    "def main():\n",
    "    get_feature_matrix(model_num=1,stage_num=1)\n",
    "    get_feature_matrix(model_num=1,stage_num=2)\n",
    "    get_feature_matrix(model_num=2,stage_num=1)\n",
    "    get_feature_matrix(model_num=2,stage_num=2)"
   ]
  }
 ],
 "metadata": {
  "kernelspec": {
   "display_name": "Python [default]",
   "language": "python",
   "name": "python3"
  },
  "language_info": {
   "codemirror_mode": {
    "name": "ipython",
    "version": 3
   },
   "file_extension": ".py",
   "mimetype": "text/x-python",
   "name": "python",
   "nbconvert_exporter": "python",
   "pygments_lexer": "ipython3",
   "version": "3.5.2"
  }
 },
 "nbformat": 4,
 "nbformat_minor": 2
}
