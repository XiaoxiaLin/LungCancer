{
 "cells": [
  {
   "cell_type": "code",
   "execution_count": 1,
   "metadata": {
    "collapsed": false
   },
   "outputs": [],
   "source": [
    "import numpy as np\n",
    "import pandas as pd\n",
    "from pandas.tools.plotting import scatter_matrix\n",
    "from sklearn import neighbors, linear_model\n",
    "import matplotlib.pyplot as plt\n",
    "from sklearn.model_selection import train_test_split\n",
    "from sklearn.metrics import confusion_matrix\n",
    "from sklearn.model_selection import cross_val_predict, StratifiedKFold\n",
    "%matplotlib inline"
   ]
  },
  {
   "cell_type": "markdown",
   "metadata": {},
   "source": [
    "## 1. Preparing data for classification"
   ]
  },
  {
   "cell_type": "code",
   "execution_count": 22,
   "metadata": {
    "collapsed": false
   },
   "outputs": [
    {
     "name": "stdout",
     "output_type": "stream",
     "text": [
      "(1434, 16)\n"
     ]
    },
    {
     "data": {
      "text/html": [
       "<div>\n",
       "<table border=\"1\" class=\"dataframe\">\n",
       "  <thead>\n",
       "    <tr style=\"text-align: right;\">\n",
       "      <th></th>\n",
       "      <th>Unnamed: 0</th>\n",
       "      <th>max_malig</th>\n",
       "      <th>max_spiculation</th>\n",
       "      <th>max_lobulation</th>\n",
       "      <th>max_diameter</th>\n",
       "      <th>xsd_malig</th>\n",
       "      <th>xsd_spiculation</th>\n",
       "      <th>xmax_lobulation</th>\n",
       "      <th>xsd_diameter</th>\n",
       "      <th>loc_from_malig_x</th>\n",
       "      <th>loc_from_malig_y</th>\n",
       "      <th>loc_from_malig_z</th>\n",
       "      <th>std_locs_x</th>\n",
       "      <th>std_locs_y</th>\n",
       "      <th>std_locs_z</th>\n",
       "      <th>id</th>\n",
       "    </tr>\n",
       "  </thead>\n",
       "  <tbody>\n",
       "    <tr>\n",
       "      <th>0</th>\n",
       "      <td>d777a77cc7a2ec2f1eed68799cc9075c.npz</td>\n",
       "      <td>0.521839</td>\n",
       "      <td>0.373247</td>\n",
       "      <td>0.372914</td>\n",
       "      <td>0.349160</td>\n",
       "      <td>0.103659</td>\n",
       "      <td>0.076975</td>\n",
       "      <td>0.372914</td>\n",
       "      <td>0.061591</td>\n",
       "      <td>0.539286</td>\n",
       "      <td>0.528571</td>\n",
       "      <td>0.434028</td>\n",
       "      <td>0.244258</td>\n",
       "      <td>0.163056</td>\n",
       "      <td>0.242655</td>\n",
       "      <td>d777a77cc7a2ec2f1eed68799cc9075c</td>\n",
       "    </tr>\n",
       "    <tr>\n",
       "      <th>1</th>\n",
       "      <td>1631637f08f27347e8f23d7a0e18c100.npz</td>\n",
       "      <td>0.531258</td>\n",
       "      <td>0.376680</td>\n",
       "      <td>0.376645</td>\n",
       "      <td>0.349927</td>\n",
       "      <td>0.122501</td>\n",
       "      <td>0.079592</td>\n",
       "      <td>0.376645</td>\n",
       "      <td>0.062194</td>\n",
       "      <td>0.088889</td>\n",
       "      <td>0.172222</td>\n",
       "      <td>0.205128</td>\n",
       "      <td>0.243736</td>\n",
       "      <td>0.159560</td>\n",
       "      <td>0.216008</td>\n",
       "      <td>1631637f08f27347e8f23d7a0e18c100</td>\n",
       "    </tr>\n",
       "    <tr>\n",
       "      <th>2</th>\n",
       "      <td>9065f2b133129c5747d42db18a424749.npz</td>\n",
       "      <td>0.528440</td>\n",
       "      <td>0.375415</td>\n",
       "      <td>0.376739</td>\n",
       "      <td>0.351881</td>\n",
       "      <td>0.114865</td>\n",
       "      <td>0.077483</td>\n",
       "      <td>0.376739</td>\n",
       "      <td>0.059155</td>\n",
       "      <td>0.300000</td>\n",
       "      <td>0.339394</td>\n",
       "      <td>0.700637</td>\n",
       "      <td>0.231711</td>\n",
       "      <td>0.155614</td>\n",
       "      <td>0.217998</td>\n",
       "      <td>9065f2b133129c5747d42db18a424749</td>\n",
       "    </tr>\n",
       "    <tr>\n",
       "      <th>3</th>\n",
       "      <td>e3a9a6f8d21c6c459728066bcf18c615.npz</td>\n",
       "      <td>0.527394</td>\n",
       "      <td>0.379579</td>\n",
       "      <td>0.376450</td>\n",
       "      <td>0.354797</td>\n",
       "      <td>0.096239</td>\n",
       "      <td>0.078583</td>\n",
       "      <td>0.376450</td>\n",
       "      <td>0.062853</td>\n",
       "      <td>0.214035</td>\n",
       "      <td>0.385965</td>\n",
       "      <td>0.462963</td>\n",
       "      <td>0.233297</td>\n",
       "      <td>0.183184</td>\n",
       "      <td>0.207843</td>\n",
       "      <td>e3a9a6f8d21c6c459728066bcf18c615</td>\n",
       "    </tr>\n",
       "    <tr>\n",
       "      <th>4</th>\n",
       "      <td>f39a1e54d79731e4417aa8159d19b7d4.npz</td>\n",
       "      <td>0.533726</td>\n",
       "      <td>0.376004</td>\n",
       "      <td>0.377995</td>\n",
       "      <td>0.352379</td>\n",
       "      <td>0.110376</td>\n",
       "      <td>0.077679</td>\n",
       "      <td>0.377995</td>\n",
       "      <td>0.060632</td>\n",
       "      <td>0.688235</td>\n",
       "      <td>0.094118</td>\n",
       "      <td>0.091954</td>\n",
       "      <td>0.249184</td>\n",
       "      <td>0.183342</td>\n",
       "      <td>0.214586</td>\n",
       "      <td>f39a1e54d79731e4417aa8159d19b7d4</td>\n",
       "    </tr>\n",
       "  </tbody>\n",
       "</table>\n",
       "</div>"
      ],
      "text/plain": [
       "                             Unnamed: 0  max_malig  max_spiculation  \\\n",
       "0  d777a77cc7a2ec2f1eed68799cc9075c.npz   0.521839         0.373247   \n",
       "1  1631637f08f27347e8f23d7a0e18c100.npz   0.531258         0.376680   \n",
       "2  9065f2b133129c5747d42db18a424749.npz   0.528440         0.375415   \n",
       "3  e3a9a6f8d21c6c459728066bcf18c615.npz   0.527394         0.379579   \n",
       "4  f39a1e54d79731e4417aa8159d19b7d4.npz   0.533726         0.376004   \n",
       "\n",
       "   max_lobulation  max_diameter  xsd_malig  xsd_spiculation  xmax_lobulation  \\\n",
       "0        0.372914      0.349160   0.103659         0.076975         0.372914   \n",
       "1        0.376645      0.349927   0.122501         0.079592         0.376645   \n",
       "2        0.376739      0.351881   0.114865         0.077483         0.376739   \n",
       "3        0.376450      0.354797   0.096239         0.078583         0.376450   \n",
       "4        0.377995      0.352379   0.110376         0.077679         0.377995   \n",
       "\n",
       "   xsd_diameter  loc_from_malig_x  loc_from_malig_y  loc_from_malig_z  \\\n",
       "0      0.061591          0.539286          0.528571          0.434028   \n",
       "1      0.062194          0.088889          0.172222          0.205128   \n",
       "2      0.059155          0.300000          0.339394          0.700637   \n",
       "3      0.062853          0.214035          0.385965          0.462963   \n",
       "4      0.060632          0.688235          0.094118          0.091954   \n",
       "\n",
       "   std_locs_x  std_locs_y  std_locs_z                                id  \n",
       "0    0.244258    0.163056    0.242655  d777a77cc7a2ec2f1eed68799cc9075c  \n",
       "1    0.243736    0.159560    0.216008  1631637f08f27347e8f23d7a0e18c100  \n",
       "2    0.231711    0.155614    0.217998  9065f2b133129c5747d42db18a424749  \n",
       "3    0.233297    0.183184    0.207843  e3a9a6f8d21c6c459728066bcf18c615  \n",
       "4    0.249184    0.183342    0.214586  f39a1e54d79731e4417aa8159d19b7d4  "
      ]
     },
     "execution_count": 22,
     "metadata": {},
     "output_type": "execute_result"
    }
   ],
   "source": [
    "df_feature = pd.read_csv(\"./model_v24_2_feature_matrix_14.csv\")\n",
    "df_feature['id'] = df_feature['Unnamed: 0'].apply(lambda x: x.split('.')[0])\n",
    "print (df_feature.shape)\n",
    "df_feature.head()"
   ]
  },
  {
   "cell_type": "code",
   "execution_count": 23,
   "metadata": {
    "collapsed": false,
    "scrolled": false
   },
   "outputs": [
    {
     "name": "stdout",
     "output_type": "stream",
     "text": [
      "(1397, 2)\n"
     ]
    },
    {
     "data": {
      "text/html": [
       "<div>\n",
       "<table border=\"1\" class=\"dataframe\">\n",
       "  <thead>\n",
       "    <tr style=\"text-align: right;\">\n",
       "      <th></th>\n",
       "      <th>id</th>\n",
       "      <th>cancer</th>\n",
       "    </tr>\n",
       "  </thead>\n",
       "  <tbody>\n",
       "    <tr>\n",
       "      <th>0</th>\n",
       "      <td>0015ceb851d7251b8f399e39779d1e7d</td>\n",
       "      <td>1</td>\n",
       "    </tr>\n",
       "    <tr>\n",
       "      <th>1</th>\n",
       "      <td>0030a160d58723ff36d73f41b170ec21</td>\n",
       "      <td>0</td>\n",
       "    </tr>\n",
       "    <tr>\n",
       "      <th>2</th>\n",
       "      <td>003f41c78e6acfa92430a057ac0b306e</td>\n",
       "      <td>0</td>\n",
       "    </tr>\n",
       "    <tr>\n",
       "      <th>3</th>\n",
       "      <td>006b96310a37b36cccb2ab48d10b49a3</td>\n",
       "      <td>1</td>\n",
       "    </tr>\n",
       "    <tr>\n",
       "      <th>4</th>\n",
       "      <td>008464bb8521d09a42985dd8add3d0d2</td>\n",
       "      <td>1</td>\n",
       "    </tr>\n",
       "  </tbody>\n",
       "</table>\n",
       "</div>"
      ],
      "text/plain": [
       "                                 id  cancer\n",
       "0  0015ceb851d7251b8f399e39779d1e7d       1\n",
       "1  0030a160d58723ff36d73f41b170ec21       0\n",
       "2  003f41c78e6acfa92430a057ac0b306e       0\n",
       "3  006b96310a37b36cccb2ab48d10b49a3       1\n",
       "4  008464bb8521d09a42985dd8add3d0d2       1"
      ]
     },
     "execution_count": 23,
     "metadata": {},
     "output_type": "execute_result"
    }
   ],
   "source": [
    "df_labels_1 =pd.read_csv('/home/lin/data/stage1_labels.csv')\n",
    "print (df_labels_1.shape)\n",
    "df_labels_1.head()"
   ]
  },
  {
   "cell_type": "code",
   "execution_count": 24,
   "metadata": {
    "collapsed": false
   },
   "outputs": [
    {
     "name": "stdout",
     "output_type": "stream",
     "text": [
      "(198, 2)\n"
     ]
    }
   ],
   "source": [
    "df_labels_2 = pd.read_csv('/home/lin/data/stage1_solution.csv')\n",
    "df_labels_2 = df_labels_2.drop(['Usage'],1)\n",
    "print (df_labels_2.shape)\n",
    "# df_labels_2.head()"
   ]
  },
  {
   "cell_type": "code",
   "execution_count": 25,
   "metadata": {
    "collapsed": false
   },
   "outputs": [
    {
     "data": {
      "text/plain": [
       "(1595, 2)"
      ]
     },
     "execution_count": 25,
     "metadata": {},
     "output_type": "execute_result"
    }
   ],
   "source": [
    "df_labels = df_labels_1.append(df_labels_2)\n",
    "df_labels.shape"
   ]
  },
  {
   "cell_type": "code",
   "execution_count": 26,
   "metadata": {
    "collapsed": false,
    "scrolled": true
   },
   "outputs": [
    {
     "name": "stdout",
     "output_type": "stream",
     "text": [
      "(1434, 17)\n"
     ]
    },
    {
     "data": {
      "text/html": [
       "<div>\n",
       "<table border=\"1\" class=\"dataframe\">\n",
       "  <thead>\n",
       "    <tr style=\"text-align: right;\">\n",
       "      <th></th>\n",
       "      <th>Unnamed: 0</th>\n",
       "      <th>max_malig</th>\n",
       "      <th>max_spiculation</th>\n",
       "      <th>max_lobulation</th>\n",
       "      <th>max_diameter</th>\n",
       "      <th>xsd_malig</th>\n",
       "      <th>xsd_spiculation</th>\n",
       "      <th>xmax_lobulation</th>\n",
       "      <th>xsd_diameter</th>\n",
       "      <th>loc_from_malig_x</th>\n",
       "      <th>loc_from_malig_y</th>\n",
       "      <th>loc_from_malig_z</th>\n",
       "      <th>std_locs_x</th>\n",
       "      <th>std_locs_y</th>\n",
       "      <th>std_locs_z</th>\n",
       "      <th>id</th>\n",
       "      <th>cancer</th>\n",
       "    </tr>\n",
       "  </thead>\n",
       "  <tbody>\n",
       "    <tr>\n",
       "      <th>0</th>\n",
       "      <td>d777a77cc7a2ec2f1eed68799cc9075c.npz</td>\n",
       "      <td>0.521839</td>\n",
       "      <td>0.373247</td>\n",
       "      <td>0.372914</td>\n",
       "      <td>0.349160</td>\n",
       "      <td>0.103659</td>\n",
       "      <td>0.076975</td>\n",
       "      <td>0.372914</td>\n",
       "      <td>0.061591</td>\n",
       "      <td>0.539286</td>\n",
       "      <td>0.528571</td>\n",
       "      <td>0.434028</td>\n",
       "      <td>0.244258</td>\n",
       "      <td>0.163056</td>\n",
       "      <td>0.242655</td>\n",
       "      <td>d777a77cc7a2ec2f1eed68799cc9075c</td>\n",
       "      <td>1</td>\n",
       "    </tr>\n",
       "    <tr>\n",
       "      <th>1</th>\n",
       "      <td>1631637f08f27347e8f23d7a0e18c100.npz</td>\n",
       "      <td>0.531258</td>\n",
       "      <td>0.376680</td>\n",
       "      <td>0.376645</td>\n",
       "      <td>0.349927</td>\n",
       "      <td>0.122501</td>\n",
       "      <td>0.079592</td>\n",
       "      <td>0.376645</td>\n",
       "      <td>0.062194</td>\n",
       "      <td>0.088889</td>\n",
       "      <td>0.172222</td>\n",
       "      <td>0.205128</td>\n",
       "      <td>0.243736</td>\n",
       "      <td>0.159560</td>\n",
       "      <td>0.216008</td>\n",
       "      <td>1631637f08f27347e8f23d7a0e18c100</td>\n",
       "      <td>0</td>\n",
       "    </tr>\n",
       "    <tr>\n",
       "      <th>2</th>\n",
       "      <td>9065f2b133129c5747d42db18a424749.npz</td>\n",
       "      <td>0.528440</td>\n",
       "      <td>0.375415</td>\n",
       "      <td>0.376739</td>\n",
       "      <td>0.351881</td>\n",
       "      <td>0.114865</td>\n",
       "      <td>0.077483</td>\n",
       "      <td>0.376739</td>\n",
       "      <td>0.059155</td>\n",
       "      <td>0.300000</td>\n",
       "      <td>0.339394</td>\n",
       "      <td>0.700637</td>\n",
       "      <td>0.231711</td>\n",
       "      <td>0.155614</td>\n",
       "      <td>0.217998</td>\n",
       "      <td>9065f2b133129c5747d42db18a424749</td>\n",
       "      <td>1</td>\n",
       "    </tr>\n",
       "    <tr>\n",
       "      <th>3</th>\n",
       "      <td>e3a9a6f8d21c6c459728066bcf18c615.npz</td>\n",
       "      <td>0.527394</td>\n",
       "      <td>0.379579</td>\n",
       "      <td>0.376450</td>\n",
       "      <td>0.354797</td>\n",
       "      <td>0.096239</td>\n",
       "      <td>0.078583</td>\n",
       "      <td>0.376450</td>\n",
       "      <td>0.062853</td>\n",
       "      <td>0.214035</td>\n",
       "      <td>0.385965</td>\n",
       "      <td>0.462963</td>\n",
       "      <td>0.233297</td>\n",
       "      <td>0.183184</td>\n",
       "      <td>0.207843</td>\n",
       "      <td>e3a9a6f8d21c6c459728066bcf18c615</td>\n",
       "      <td>0</td>\n",
       "    </tr>\n",
       "    <tr>\n",
       "      <th>4</th>\n",
       "      <td>f39a1e54d79731e4417aa8159d19b7d4.npz</td>\n",
       "      <td>0.533726</td>\n",
       "      <td>0.376004</td>\n",
       "      <td>0.377995</td>\n",
       "      <td>0.352379</td>\n",
       "      <td>0.110376</td>\n",
       "      <td>0.077679</td>\n",
       "      <td>0.377995</td>\n",
       "      <td>0.060632</td>\n",
       "      <td>0.688235</td>\n",
       "      <td>0.094118</td>\n",
       "      <td>0.091954</td>\n",
       "      <td>0.249184</td>\n",
       "      <td>0.183342</td>\n",
       "      <td>0.214586</td>\n",
       "      <td>f39a1e54d79731e4417aa8159d19b7d4</td>\n",
       "      <td>0</td>\n",
       "    </tr>\n",
       "  </tbody>\n",
       "</table>\n",
       "</div>"
      ],
      "text/plain": [
       "                             Unnamed: 0  max_malig  max_spiculation  \\\n",
       "0  d777a77cc7a2ec2f1eed68799cc9075c.npz   0.521839         0.373247   \n",
       "1  1631637f08f27347e8f23d7a0e18c100.npz   0.531258         0.376680   \n",
       "2  9065f2b133129c5747d42db18a424749.npz   0.528440         0.375415   \n",
       "3  e3a9a6f8d21c6c459728066bcf18c615.npz   0.527394         0.379579   \n",
       "4  f39a1e54d79731e4417aa8159d19b7d4.npz   0.533726         0.376004   \n",
       "\n",
       "   max_lobulation  max_diameter  xsd_malig  xsd_spiculation  xmax_lobulation  \\\n",
       "0        0.372914      0.349160   0.103659         0.076975         0.372914   \n",
       "1        0.376645      0.349927   0.122501         0.079592         0.376645   \n",
       "2        0.376739      0.351881   0.114865         0.077483         0.376739   \n",
       "3        0.376450      0.354797   0.096239         0.078583         0.376450   \n",
       "4        0.377995      0.352379   0.110376         0.077679         0.377995   \n",
       "\n",
       "   xsd_diameter  loc_from_malig_x  loc_from_malig_y  loc_from_malig_z  \\\n",
       "0      0.061591          0.539286          0.528571          0.434028   \n",
       "1      0.062194          0.088889          0.172222          0.205128   \n",
       "2      0.059155          0.300000          0.339394          0.700637   \n",
       "3      0.062853          0.214035          0.385965          0.462963   \n",
       "4      0.060632          0.688235          0.094118          0.091954   \n",
       "\n",
       "   std_locs_x  std_locs_y  std_locs_z                                id  \\\n",
       "0    0.244258    0.163056    0.242655  d777a77cc7a2ec2f1eed68799cc9075c   \n",
       "1    0.243736    0.159560    0.216008  1631637f08f27347e8f23d7a0e18c100   \n",
       "2    0.231711    0.155614    0.217998  9065f2b133129c5747d42db18a424749   \n",
       "3    0.233297    0.183184    0.207843  e3a9a6f8d21c6c459728066bcf18c615   \n",
       "4    0.249184    0.183342    0.214586  f39a1e54d79731e4417aa8159d19b7d4   \n",
       "\n",
       "   cancer  \n",
       "0       1  \n",
       "1       0  \n",
       "2       1  \n",
       "3       0  \n",
       "4       0  "
      ]
     },
     "execution_count": 26,
     "metadata": {},
     "output_type": "execute_result"
    }
   ],
   "source": [
    "df = pd.merge(left=df_feature, right=df_labels,how='outer',on='id').dropna()\n",
    "print (df.shape)\n",
    "df.head()"
   ]
  },
  {
   "cell_type": "markdown",
   "metadata": {},
   "source": [
    "## 2. Data exploration\n",
    "\n",
    "### 2.1 Basic estadistics\n",
    "\n",
    "+ How many patients do we have for training-test? --> 1257\n",
    "+ How many cancer patients? --> 315\n",
    "+ What percentage is the cancer patient? --> 25%\n"
   ]
  },
  {
   "cell_type": "code",
   "execution_count": 27,
   "metadata": {
    "collapsed": false
   },
   "outputs": [
    {
     "name": "stdout",
     "output_type": "stream",
     "text": [
      "data frame shape (1434, 17)\n",
      "number of cancer patient: 363\n",
      "how un-balance is the data: 0.25313807531380755\n"
     ]
    }
   ],
   "source": [
    "print (\"data frame shape\", df.shape)\n",
    "print (\"number of cancer patient:\",df['cancer'].sum() )\n",
    "print (\"how un-balance is the data:\", df['cancer'].sum()/df.shape[0])"
   ]
  },
  {
   "cell_type": "code",
   "execution_count": 28,
   "metadata": {
    "collapsed": false
   },
   "outputs": [
    {
     "name": "stdout",
     "output_type": "stream",
     "text": [
      "(363, 17)\n"
     ]
    },
    {
     "data": {
      "text/html": [
       "<div>\n",
       "<table border=\"1\" class=\"dataframe\">\n",
       "  <thead>\n",
       "    <tr style=\"text-align: right;\">\n",
       "      <th></th>\n",
       "      <th>Unnamed: 0</th>\n",
       "      <th>max_malig</th>\n",
       "      <th>max_spiculation</th>\n",
       "      <th>max_lobulation</th>\n",
       "      <th>max_diameter</th>\n",
       "      <th>xsd_malig</th>\n",
       "      <th>xsd_spiculation</th>\n",
       "      <th>xmax_lobulation</th>\n",
       "      <th>xsd_diameter</th>\n",
       "      <th>loc_from_malig_x</th>\n",
       "      <th>loc_from_malig_y</th>\n",
       "      <th>loc_from_malig_z</th>\n",
       "      <th>std_locs_x</th>\n",
       "      <th>std_locs_y</th>\n",
       "      <th>std_locs_z</th>\n",
       "      <th>id</th>\n",
       "      <th>cancer</th>\n",
       "    </tr>\n",
       "  </thead>\n",
       "  <tbody>\n",
       "    <tr>\n",
       "      <th>0</th>\n",
       "      <td>d777a77cc7a2ec2f1eed68799cc9075c.npz</td>\n",
       "      <td>0.521839</td>\n",
       "      <td>0.373247</td>\n",
       "      <td>0.372914</td>\n",
       "      <td>0.349160</td>\n",
       "      <td>0.103659</td>\n",
       "      <td>0.076975</td>\n",
       "      <td>0.372914</td>\n",
       "      <td>0.061591</td>\n",
       "      <td>0.539286</td>\n",
       "      <td>0.528571</td>\n",
       "      <td>0.434028</td>\n",
       "      <td>0.244258</td>\n",
       "      <td>0.163056</td>\n",
       "      <td>0.242655</td>\n",
       "      <td>d777a77cc7a2ec2f1eed68799cc9075c</td>\n",
       "      <td>1</td>\n",
       "    </tr>\n",
       "    <tr>\n",
       "      <th>2</th>\n",
       "      <td>9065f2b133129c5747d42db18a424749.npz</td>\n",
       "      <td>0.528440</td>\n",
       "      <td>0.375415</td>\n",
       "      <td>0.376739</td>\n",
       "      <td>0.351881</td>\n",
       "      <td>0.114865</td>\n",
       "      <td>0.077483</td>\n",
       "      <td>0.376739</td>\n",
       "      <td>0.059155</td>\n",
       "      <td>0.300000</td>\n",
       "      <td>0.339394</td>\n",
       "      <td>0.700637</td>\n",
       "      <td>0.231711</td>\n",
       "      <td>0.155614</td>\n",
       "      <td>0.217998</td>\n",
       "      <td>9065f2b133129c5747d42db18a424749</td>\n",
       "      <td>1</td>\n",
       "    </tr>\n",
       "    <tr>\n",
       "      <th>6</th>\n",
       "      <td>7c2b72f9e0f5649c22902292febdc89f.npz</td>\n",
       "      <td>0.528324</td>\n",
       "      <td>0.380913</td>\n",
       "      <td>0.363574</td>\n",
       "      <td>0.347679</td>\n",
       "      <td>0.125991</td>\n",
       "      <td>0.082383</td>\n",
       "      <td>0.363574</td>\n",
       "      <td>0.064464</td>\n",
       "      <td>0.328571</td>\n",
       "      <td>0.296429</td>\n",
       "      <td>0.414894</td>\n",
       "      <td>0.212833</td>\n",
       "      <td>0.155433</td>\n",
       "      <td>0.220319</td>\n",
       "      <td>7c2b72f9e0f5649c22902292febdc89f</td>\n",
       "      <td>1</td>\n",
       "    </tr>\n",
       "    <tr>\n",
       "      <th>10</th>\n",
       "      <td>f5717f7cbc08d8bd942cd4c1128e3339.npz</td>\n",
       "      <td>0.531307</td>\n",
       "      <td>0.377150</td>\n",
       "      <td>0.377138</td>\n",
       "      <td>0.352112</td>\n",
       "      <td>0.113400</td>\n",
       "      <td>0.078252</td>\n",
       "      <td>0.377138</td>\n",
       "      <td>0.063339</td>\n",
       "      <td>0.581395</td>\n",
       "      <td>0.534884</td>\n",
       "      <td>0.442857</td>\n",
       "      <td>0.246453</td>\n",
       "      <td>0.172813</td>\n",
       "      <td>0.243043</td>\n",
       "      <td>f5717f7cbc08d8bd942cd4c1128e3339</td>\n",
       "      <td>1</td>\n",
       "    </tr>\n",
       "    <tr>\n",
       "      <th>13</th>\n",
       "      <td>882107a204c302e27628f85522baea49.npz</td>\n",
       "      <td>0.533147</td>\n",
       "      <td>0.382097</td>\n",
       "      <td>0.377770</td>\n",
       "      <td>0.352228</td>\n",
       "      <td>0.112834</td>\n",
       "      <td>0.079999</td>\n",
       "      <td>0.377770</td>\n",
       "      <td>0.059919</td>\n",
       "      <td>0.459547</td>\n",
       "      <td>0.537217</td>\n",
       "      <td>0.441176</td>\n",
       "      <td>0.204743</td>\n",
       "      <td>0.144383</td>\n",
       "      <td>0.161236</td>\n",
       "      <td>882107a204c302e27628f85522baea49</td>\n",
       "      <td>1</td>\n",
       "    </tr>\n",
       "  </tbody>\n",
       "</table>\n",
       "</div>"
      ],
      "text/plain": [
       "                              Unnamed: 0  max_malig  max_spiculation  \\\n",
       "0   d777a77cc7a2ec2f1eed68799cc9075c.npz   0.521839         0.373247   \n",
       "2   9065f2b133129c5747d42db18a424749.npz   0.528440         0.375415   \n",
       "6   7c2b72f9e0f5649c22902292febdc89f.npz   0.528324         0.380913   \n",
       "10  f5717f7cbc08d8bd942cd4c1128e3339.npz   0.531307         0.377150   \n",
       "13  882107a204c302e27628f85522baea49.npz   0.533147         0.382097   \n",
       "\n",
       "    max_lobulation  max_diameter  xsd_malig  xsd_spiculation  xmax_lobulation  \\\n",
       "0         0.372914      0.349160   0.103659         0.076975         0.372914   \n",
       "2         0.376739      0.351881   0.114865         0.077483         0.376739   \n",
       "6         0.363574      0.347679   0.125991         0.082383         0.363574   \n",
       "10        0.377138      0.352112   0.113400         0.078252         0.377138   \n",
       "13        0.377770      0.352228   0.112834         0.079999         0.377770   \n",
       "\n",
       "    xsd_diameter  loc_from_malig_x  loc_from_malig_y  loc_from_malig_z  \\\n",
       "0       0.061591          0.539286          0.528571          0.434028   \n",
       "2       0.059155          0.300000          0.339394          0.700637   \n",
       "6       0.064464          0.328571          0.296429          0.414894   \n",
       "10      0.063339          0.581395          0.534884          0.442857   \n",
       "13      0.059919          0.459547          0.537217          0.441176   \n",
       "\n",
       "    std_locs_x  std_locs_y  std_locs_z                                id  \\\n",
       "0     0.244258    0.163056    0.242655  d777a77cc7a2ec2f1eed68799cc9075c   \n",
       "2     0.231711    0.155614    0.217998  9065f2b133129c5747d42db18a424749   \n",
       "6     0.212833    0.155433    0.220319  7c2b72f9e0f5649c22902292febdc89f   \n",
       "10    0.246453    0.172813    0.243043  f5717f7cbc08d8bd942cd4c1128e3339   \n",
       "13    0.204743    0.144383    0.161236  882107a204c302e27628f85522baea49   \n",
       "\n",
       "    cancer  \n",
       "0        1  \n",
       "2        1  \n",
       "6        1  \n",
       "10       1  \n",
       "13       1  "
      ]
     },
     "execution_count": 28,
     "metadata": {},
     "output_type": "execute_result"
    }
   ],
   "source": [
    "df_cancer = df.loc[df['cancer'] == 1]\n",
    "print (df_cancer.shape)\n",
    "df_cancer.head()"
   ]
  },
  {
   "cell_type": "code",
   "execution_count": 29,
   "metadata": {
    "collapsed": false,
    "scrolled": true
   },
   "outputs": [
    {
     "name": "stdout",
     "output_type": "stream",
     "text": [
      "(1071, 17)\n"
     ]
    },
    {
     "data": {
      "text/html": [
       "<div>\n",
       "<table border=\"1\" class=\"dataframe\">\n",
       "  <thead>\n",
       "    <tr style=\"text-align: right;\">\n",
       "      <th></th>\n",
       "      <th>Unnamed: 0</th>\n",
       "      <th>max_malig</th>\n",
       "      <th>max_spiculation</th>\n",
       "      <th>max_lobulation</th>\n",
       "      <th>max_diameter</th>\n",
       "      <th>xsd_malig</th>\n",
       "      <th>xsd_spiculation</th>\n",
       "      <th>xmax_lobulation</th>\n",
       "      <th>xsd_diameter</th>\n",
       "      <th>loc_from_malig_x</th>\n",
       "      <th>loc_from_malig_y</th>\n",
       "      <th>loc_from_malig_z</th>\n",
       "      <th>std_locs_x</th>\n",
       "      <th>std_locs_y</th>\n",
       "      <th>std_locs_z</th>\n",
       "      <th>id</th>\n",
       "      <th>cancer</th>\n",
       "    </tr>\n",
       "  </thead>\n",
       "  <tbody>\n",
       "    <tr>\n",
       "      <th>1</th>\n",
       "      <td>1631637f08f27347e8f23d7a0e18c100.npz</td>\n",
       "      <td>0.531258</td>\n",
       "      <td>0.376680</td>\n",
       "      <td>0.376645</td>\n",
       "      <td>0.349927</td>\n",
       "      <td>0.122501</td>\n",
       "      <td>0.079592</td>\n",
       "      <td>0.376645</td>\n",
       "      <td>0.062194</td>\n",
       "      <td>0.088889</td>\n",
       "      <td>0.172222</td>\n",
       "      <td>0.205128</td>\n",
       "      <td>0.243736</td>\n",
       "      <td>0.159560</td>\n",
       "      <td>0.216008</td>\n",
       "      <td>1631637f08f27347e8f23d7a0e18c100</td>\n",
       "      <td>0</td>\n",
       "    </tr>\n",
       "    <tr>\n",
       "      <th>3</th>\n",
       "      <td>e3a9a6f8d21c6c459728066bcf18c615.npz</td>\n",
       "      <td>0.527394</td>\n",
       "      <td>0.379579</td>\n",
       "      <td>0.376450</td>\n",
       "      <td>0.354797</td>\n",
       "      <td>0.096239</td>\n",
       "      <td>0.078583</td>\n",
       "      <td>0.376450</td>\n",
       "      <td>0.062853</td>\n",
       "      <td>0.214035</td>\n",
       "      <td>0.385965</td>\n",
       "      <td>0.462963</td>\n",
       "      <td>0.233297</td>\n",
       "      <td>0.183184</td>\n",
       "      <td>0.207843</td>\n",
       "      <td>e3a9a6f8d21c6c459728066bcf18c615</td>\n",
       "      <td>0</td>\n",
       "    </tr>\n",
       "    <tr>\n",
       "      <th>4</th>\n",
       "      <td>f39a1e54d79731e4417aa8159d19b7d4.npz</td>\n",
       "      <td>0.533726</td>\n",
       "      <td>0.376004</td>\n",
       "      <td>0.377995</td>\n",
       "      <td>0.352379</td>\n",
       "      <td>0.110376</td>\n",
       "      <td>0.077679</td>\n",
       "      <td>0.377995</td>\n",
       "      <td>0.060632</td>\n",
       "      <td>0.688235</td>\n",
       "      <td>0.094118</td>\n",
       "      <td>0.091954</td>\n",
       "      <td>0.249184</td>\n",
       "      <td>0.183342</td>\n",
       "      <td>0.214586</td>\n",
       "      <td>f39a1e54d79731e4417aa8159d19b7d4</td>\n",
       "      <td>0</td>\n",
       "    </tr>\n",
       "    <tr>\n",
       "      <th>5</th>\n",
       "      <td>8987df2216ae2ab1a907d52bc9dc540d.npz</td>\n",
       "      <td>0.526695</td>\n",
       "      <td>0.382140</td>\n",
       "      <td>0.378211</td>\n",
       "      <td>0.353556</td>\n",
       "      <td>0.127330</td>\n",
       "      <td>0.086327</td>\n",
       "      <td>0.378211</td>\n",
       "      <td>0.063054</td>\n",
       "      <td>0.285714</td>\n",
       "      <td>0.414286</td>\n",
       "      <td>0.770548</td>\n",
       "      <td>0.219889</td>\n",
       "      <td>0.184321</td>\n",
       "      <td>0.200701</td>\n",
       "      <td>8987df2216ae2ab1a907d52bc9dc540d</td>\n",
       "      <td>0</td>\n",
       "    </tr>\n",
       "    <tr>\n",
       "      <th>7</th>\n",
       "      <td>e60d99ea9648e1ce859eb0b386365e26.npz</td>\n",
       "      <td>0.533799</td>\n",
       "      <td>0.380297</td>\n",
       "      <td>0.377883</td>\n",
       "      <td>0.352167</td>\n",
       "      <td>0.122152</td>\n",
       "      <td>0.081530</td>\n",
       "      <td>0.377883</td>\n",
       "      <td>0.065381</td>\n",
       "      <td>0.734463</td>\n",
       "      <td>0.635593</td>\n",
       "      <td>0.525424</td>\n",
       "      <td>0.234608</td>\n",
       "      <td>0.177474</td>\n",
       "      <td>0.225888</td>\n",
       "      <td>e60d99ea9648e1ce859eb0b386365e26</td>\n",
       "      <td>0</td>\n",
       "    </tr>\n",
       "  </tbody>\n",
       "</table>\n",
       "</div>"
      ],
      "text/plain": [
       "                             Unnamed: 0  max_malig  max_spiculation  \\\n",
       "1  1631637f08f27347e8f23d7a0e18c100.npz   0.531258         0.376680   \n",
       "3  e3a9a6f8d21c6c459728066bcf18c615.npz   0.527394         0.379579   \n",
       "4  f39a1e54d79731e4417aa8159d19b7d4.npz   0.533726         0.376004   \n",
       "5  8987df2216ae2ab1a907d52bc9dc540d.npz   0.526695         0.382140   \n",
       "7  e60d99ea9648e1ce859eb0b386365e26.npz   0.533799         0.380297   \n",
       "\n",
       "   max_lobulation  max_diameter  xsd_malig  xsd_spiculation  xmax_lobulation  \\\n",
       "1        0.376645      0.349927   0.122501         0.079592         0.376645   \n",
       "3        0.376450      0.354797   0.096239         0.078583         0.376450   \n",
       "4        0.377995      0.352379   0.110376         0.077679         0.377995   \n",
       "5        0.378211      0.353556   0.127330         0.086327         0.378211   \n",
       "7        0.377883      0.352167   0.122152         0.081530         0.377883   \n",
       "\n",
       "   xsd_diameter  loc_from_malig_x  loc_from_malig_y  loc_from_malig_z  \\\n",
       "1      0.062194          0.088889          0.172222          0.205128   \n",
       "3      0.062853          0.214035          0.385965          0.462963   \n",
       "4      0.060632          0.688235          0.094118          0.091954   \n",
       "5      0.063054          0.285714          0.414286          0.770548   \n",
       "7      0.065381          0.734463          0.635593          0.525424   \n",
       "\n",
       "   std_locs_x  std_locs_y  std_locs_z                                id  \\\n",
       "1    0.243736    0.159560    0.216008  1631637f08f27347e8f23d7a0e18c100   \n",
       "3    0.233297    0.183184    0.207843  e3a9a6f8d21c6c459728066bcf18c615   \n",
       "4    0.249184    0.183342    0.214586  f39a1e54d79731e4417aa8159d19b7d4   \n",
       "5    0.219889    0.184321    0.200701  8987df2216ae2ab1a907d52bc9dc540d   \n",
       "7    0.234608    0.177474    0.225888  e60d99ea9648e1ce859eb0b386365e26   \n",
       "\n",
       "   cancer  \n",
       "1       0  \n",
       "3       0  \n",
       "4       0  \n",
       "5       0  \n",
       "7       0  "
      ]
     },
     "execution_count": 29,
     "metadata": {},
     "output_type": "execute_result"
    }
   ],
   "source": [
    "df_no_cancer = df.loc[df['cancer'] == 0]\n",
    "print (df_no_cancer.shape)\n",
    "df_no_cancer.head()"
   ]
  },
  {
   "cell_type": "code",
   "execution_count": 30,
   "metadata": {
    "collapsed": false,
    "scrolled": false
   },
   "outputs": [
    {
     "data": {
      "text/plain": [
       "<matplotlib.axes._subplots.AxesSubplot at 0x7fa8315942b0>"
      ]
     },
     "execution_count": 30,
     "metadata": {},
     "output_type": "execute_result"
    },
    {
     "data": {
      "image/png": "[encoded data removed]",
      "text/plain": [
       "<matplotlib.figure.Figure at 0x7fa83263b5f8>"
      ]
     },
     "metadata": {},
     "output_type": "display_data"
    },
    {
     "data": {
      "image/png": "[encoded data removed]",
      "text/plain": [
       "<matplotlib.figure.Figure at 0x7fa838d225c0>"
      ]
     },
     "metadata": {},
     "output_type": "display_data"
    }
   ],
   "source": [
    "df_cancer.plot(kind='box',figsize=(18,5))\n",
    "df_no_cancer.plot(kind='box',figsize=(18,5))"
   ]
  },
  {
   "cell_type": "markdown",
   "metadata": {},
   "source": [
    "### 2.2 Cancer patient v.s. Non-cancer patients"
   ]
  },
  {
   "cell_type": "markdown",
   "metadata": {},
   "source": [
    "#### 2.2.1 Mean\n",
    "\n",
    "<font color='red'> Does it make sense?? shouldn't be so similar!! </font>"
   ]
  },
  {
   "cell_type": "code",
   "execution_count": 31,
   "metadata": {
    "collapsed": false
   },
   "outputs": [
    {
     "name": "stdout",
     "output_type": "stream",
     "text": [
      "max_malig          -0.000180\n",
      "max_spiculation    -0.000039\n",
      "max_lobulation      0.000152\n",
      "max_diameter        0.000013\n",
      "xsd_malig          -0.001098\n",
      "xsd_spiculation    -0.000411\n",
      "xmax_lobulation     0.000152\n",
      "xsd_diameter       -0.000164\n",
      "loc_from_malig_x    0.010641\n",
      "loc_from_malig_y   -0.017872\n",
      "loc_from_malig_z    0.011166\n",
      "std_locs_x          0.000371\n",
      "std_locs_y          0.000825\n",
      "std_locs_z          0.001998\n",
      "cancer              1.000000\n",
      "dtype: float64\n"
     ]
    }
   ],
   "source": [
    "df_cancer_mean = df.loc[df['cancer'] == 1].mean()\n",
    "df_no_cancer_mean = df.loc[df['cancer'] == 0].mean()\n",
    "print (df_cancer_mean-df_no_cancer_mean)\n",
    "# print (df_cancer_mean)\n",
    "# plt.bar(y_pos, df_cancer_mean, align='center', alpha=0.5)"
   ]
  },
  {
   "cell_type": "code",
   "execution_count": 32,
   "metadata": {
    "collapsed": false,
    "scrolled": true
   },
   "outputs": [
    {
     "data": {
      "text/plain": [
       "<matplotlib.collections.PathCollection at 0x7fa8314465c0>"
      ]
     },
     "execution_count": 32,
     "metadata": {},
     "output_type": "execute_result"
    },
    {
     "data": {
      "image/png": "[encoded data removed]",
      "text/plain": [
       "<matplotlib.figure.Figure at 0x7fa838da5e48>"
      ]
     },
     "metadata": {},
     "output_type": "display_data"
    }
   ],
   "source": [
    "plt.scatter(np.arange(15),df_no_cancer_mean)\n",
    "plt.scatter(np.arange(15),df_cancer_mean)"
   ]
  },
  {
   "cell_type": "code",
   "execution_count": null,
   "metadata": {
    "collapsed": true
   },
   "outputs": [],
   "source": []
  },
  {
   "cell_type": "markdown",
   "metadata": {},
   "source": [
    "## 3. Feature selection, training-test splitting"
   ]
  },
  {
   "cell_type": "code",
   "execution_count": 33,
   "metadata": {
    "collapsed": false
   },
   "outputs": [
    {
     "name": "stdout",
     "output_type": "stream",
     "text": [
      "Feature space holds 1434 observations and 14 features\n",
      "Unique target labels: [0 1]\n"
     ]
    }
   ],
   "source": [
    "from sklearn.preprocessing import StandardScaler\n",
    "\n",
    "x_cols = df.drop(['id', 'cancer', 'Unnamed: 0'],1).columns  # using all the features\n",
    "# x_cols=['max_malig','max_spiculation','max_lobulation','max_diameter',\\\n",
    "#      'xsd_malig', 'xsd_spiculation', 'xmax_lobulation','xsd_diameter']\n",
    "X = df.loc[:][x_cols].values\n",
    "y = df.loc[:]['cancer'].values\n",
    "\n",
    "print (\"Feature space holds %d observations and %d features\" % X.shape)\n",
    "print (\"Unique target labels:\", np.unique(y))"
   ]
  },
  {
   "cell_type": "code",
   "execution_count": 34,
   "metadata": {
    "collapsed": false,
    "scrolled": true
   },
   "outputs": [
    {
     "data": {
      "image/png": "[encoded data removed]",
      "text/plain": [
       "<matplotlib.figure.Figure at 0x7fa83339c390>"
      ]
     },
     "metadata": {},
     "output_type": "display_data"
    }
   ],
   "source": [
    "%matplotlib inline\n",
    "import matplotlib.pyplot as plt\n",
    "plt.pie(np.c_[len(y)-np.sum(y),np.sum(y)][0],labels=['No cancer','Cancer'],colors=['g','r'],shadow=False,autopct ='%.2f' )\n",
    "fig = plt.gcf()\n",
    "fig.set_size_inches(6,6)"
   ]
  },
  {
   "cell_type": "markdown",
   "metadata": {},
   "source": [
    "<div class = \"alert alert-info\">\n",
    "**Unbalanced datasets**\n",
    "<p>\n",
    "In cancer detection because the cost of missing one patient in a trial is very large, we want the predictor to have very large recall/sensitivity (we do not accept false negatives) though it means accepting more false positives. These false positives can be discarded in subsequent tests. \n",
    "\n",
    "<p>\n",
    "$$\\text{sensitivity (recall) }=\\frac{\\text{TP}}{\\text{Real Positives}}=\\frac{\\text{TP}}{\\text{TP}+\\text{FN}}$$\n",
    "\n",
    "\n",
    "</div>\n",
    "\n",
    "Although accuracy is the most normal metric for evaluating classifiers, there are cases when the business value of correctly predicting elements from one class is different from the value for the prediction of elements of another class. In those cases, accuracy is not a good performance metric and more detailed analysis is needed. The **confusion matrix** enables us to define different metrics considering such scenarios. The confusion matrix considers the concepts of the classifier outcome and the actual ground truth or gold standard. In a binary problem, there are four possible cases: \n",
    "\n",
    "\n",
    "+ *True positives (TP):* When the classifier predicts a sample as positive and it really is positive.\n",
    "+ *False positives (FP):* When the classifier predicts a sample as positive but in fact it is negative.\n",
    "+ *True negatives (TN):* When the classifier predicts a sample as negative and it really is negative.\n",
    "+ *False negatives (FN):* When the classifier predicts a sample as negative but in fact it is positive.\n",
    "\n",
    "\n",
    "We can summarize this information in a matrix, namely the confusion matrix, as follows:\n",
    "\n",
    "<img src = \"https://i.stack.imgur.com/OW5Lt.jpg\" width = 400px>"
   ]
  },
  {
   "cell_type": "markdown",
   "metadata": {},
   "source": [
    "### 3.1 Different classifiers"
   ]
  },
  {
   "cell_type": "code",
   "execution_count": 35,
   "metadata": {
    "collapsed": false,
    "scrolled": true
   },
   "outputs": [
    {
     "name": "stderr",
     "output_type": "stream",
     "text": [
      "/opt/anaconda/lib/python3.5/site-packages/sklearn/neural_network/multilayer_perceptron.py:563: ConvergenceWarning: Stochastic Optimizer: Maximum iterations reached and the optimization hasn't converged yet.\n",
      "  % (), ConvergenceWarning)\n"
     ]
    }
   ],
   "source": [
    "from sklearn import metrics\n",
    "from sklearn import tree\n",
    "from sklearn import neighbors\n",
    "from sklearn import cross_validation\n",
    "from sklearn.metrics import confusion_matrix\n",
    "from sklearn.ensemble import ExtraTreesRegressor as XTR\n",
    "from sklearn.ensemble import RandomForestClassifier\n",
    "from sklearn.neural_network import MLPClassifier\n",
    "\n",
    "r_state = [0, 1,2,3,4,5,42,43,44,45]\n",
    "acc = np.zeros((len(r_state),4))\n",
    "recall = np.zeros((len(r_state),4))\n",
    "\n",
    "for i in range(len(r_state)):\n",
    "\n",
    "    X = StandardScaler().fit_transform(X)\n",
    "    X_train, X_test, y_train, y_test = cross_validation.train_test_split(X, y, train_size=0.7, random_state=r_state[i])\n",
    "    \n",
    "    # 1.decision tree\n",
    "    clf_tr = tree.DecisionTreeClassifier() \n",
    "    clf_tr.fit(X_train,y_train)\n",
    "    yhat_tr = clf_tr.predict(X_test)\n",
    "    \n",
    "    # 2.KNN1\n",
    "    clf_nn1 = neighbors.KNeighborsClassifier(n_neighbors=1)      \n",
    "    clf_nn1.fit(X_train,y_train)\n",
    "    yhat_nn1 = clf_nn1.predict(X_test)\n",
    "    \n",
    "    # 3.Logistic regression\n",
    "    lr = linear_model.LogisticRegression(class_weight={0:0.25,1:0.75},penalty='l1')\n",
    "    lr.fit(X_train,y_train)\n",
    "    yhat_lr = lr.predict(X_test)\n",
    "    \n",
    "    # 4.MLP\n",
    "    mlp = MLPClassifier(hidden_layer_sizes=(50,50), max_iter=50, alpha=1e-4,\n",
    "                    solver='adam', verbose=0, tol=1e-4, random_state=1,\n",
    "                    learning_rate_init=.001)\n",
    "    mlp.fit(X_train, y_train)\n",
    "    yhat_mlp = mlp.predict(X_test)\n",
    "    \n",
    "    # accuracy score\n",
    "    acc[i,0] = metrics.accuracy_score(y_test,yhat_tr)\n",
    "    acc[i,1] = metrics.accuracy_score(y_test,yhat_nn1)\n",
    "    acc[i,2] = metrics.accuracy_score(y_test,yhat_lr)\n",
    "    acc[i,3] = metrics.accuracy_score(y_test,yhat_mlp)\n",
    "    \n",
    "    # recall score\n",
    "    recall[i,0] = metrics.recall_score(y_test,yhat_tr)\n",
    "    recall[i,1] = metrics.recall_score(y_test,yhat_nn1)\n",
    "    recall[i,2] = metrics.recall_score(y_test,yhat_lr)\n",
    "    recall[i,3] = metrics.recall_score(y_test,yhat_mlp)\n",
    "    \n",
    "    '''     \n",
    "    TP = np.sum(np.logical_and(yhat_lr==y_test,yhat_lr==1))\n",
    "    TN = np.sum(np.logical_and(yhat_lr==y_test,yhat_lr==0))\n",
    "    FP = np.sum(np.logical_and(yhat_lr!=y_test,yhat_lr==1))\n",
    "    FN = np.sum(np.logical_and(yhat_lr!=y_test,yhat_lr==0))\n",
    "\n",
    "    print (TP,FP)\n",
    "    print (FN,TN)\n",
    "    \n",
    "    print (\"recall: \", TP/(TP+FN) )            \n",
    "    print (\"precision: \", TP/(TP+FP))         \n",
    "    print (\"F1-score: \", 2*TP/(TP+FN+TP+FP))\n",
    "    '''"
   ]
  },
  {
   "cell_type": "code",
   "execution_count": 38,
   "metadata": {
    "collapsed": false,
    "scrolled": false
   },
   "outputs": [
    {
     "name": "stdout",
     "output_type": "stream",
     "text": [
      "[ 0.28850657  0.25688396  0.56629324  0.00973158]\n"
     ]
    },
    {
     "data": {
      "text/plain": [
       "<matplotlib.collections.PathCollection at 0x7fa89719b320>"
      ]
     },
     "execution_count": 38,
     "metadata": {},
     "output_type": "execute_result"
    },
    {
     "data": {
      "image/png": "[encoded data removed]",
      "text/plain": [
       "<matplotlib.figure.Figure at 0x7fa8313fff60>"
      ]
     },
     "metadata": {},
     "output_type": "display_data"
    }
   ],
   "source": [
    "import matplotlib.pyplot as plt\n",
    "fig = plt.figure()\n",
    "# print (recall)\n",
    "print (recall.mean(axis=0))\n",
    "plt.boxplot(recall)\n",
    "plt.scatter(np.tile(np.array([1,2,3,4]),(10,1))+0.01*np.random.normal(size=(10,4)),recall,alpha = 0.5,color='r')"
   ]
  },
  {
   "cell_type": "markdown",
   "metadata": {},
   "source": [
    "We see the best result so far is Logistic regression, and we also see that the result could vary a lot depending on the data splitting. \n",
    "\n",
    "### 3.2 Let us implement kfold cross validation on the logistic regression, with 10 folders. "
   ]
  },
  {
   "cell_type": "code",
   "execution_count": 39,
   "metadata": {
    "collapsed": false
   },
   "outputs": [
    {
     "name": "stdout",
     "output_type": "stream",
     "text": [
      "recall:  0.741516516517\n",
      "confusion_matrix: \n",
      " [[291 780]\n",
      " [ 94 269]]\n",
      "             precision    recall  f1-score   support\n",
      "\n",
      "          0       0.76      0.27      0.40      1071\n",
      "          1       0.26      0.74      0.38       363\n",
      "\n",
      "avg / total       0.63      0.39      0.39      1434\n",
      "\n"
     ]
    }
   ],
   "source": [
    "from sklearn.cross_validation import cross_val_score\n",
    "lr = linear_model.LogisticRegression(class_weight={0:0.22,1:0.78},penalty='l1')\n",
    "X = StandardScaler().fit_transform(X)\n",
    "score = cross_val_score(lr,X,y,cv=10,scoring='recall').mean()\n",
    "print (\"recall: \", score)\n",
    "\n",
    "yhat = cross_val_predict(lr, X,y, cv=10)\n",
    "print (\"confusion_matrix: \\n\", confusion_matrix(y,yhat))\n",
    "print (metrics.classification_report(y,yhat))"
   ]
  },
  {
   "cell_type": "markdown",
   "metadata": {},
   "source": [
    "### 3.3 SVM with 10 fold cross validation"
   ]
  },
  {
   "cell_type": "code",
   "execution_count": 41,
   "metadata": {
    "collapsed": false,
    "scrolled": true
   },
   "outputs": [
    {
     "name": "stdout",
     "output_type": "stream",
     "text": [
      "recall:  0.735960960961\n",
      "confusion_matrix: \n",
      " [[301 770]\n",
      " [ 96 267]]\n",
      "             precision    recall  f1-score   support\n",
      "\n",
      "          0       0.76      0.28      0.41      1071\n",
      "          1       0.26      0.74      0.38       363\n",
      "\n",
      "avg / total       0.63      0.40      0.40      1434\n",
      "\n"
     ]
    }
   ],
   "source": [
    "from sklearn.cross_validation import cross_val_score\n",
    "from sklearn import svm\n",
    "\n",
    "svm_clf = svm.LinearSVC(C=0.1,class_weight={0:0.22,1:0.78})\n",
    "X = StandardScaler().fit_transform(X)\n",
    "score = cross_val_score(svm_clf,X,y,cv=10,scoring='recall').mean()\n",
    "print (\"recall: \", score)\n",
    "\n",
    "yhat = cross_val_predict(svm_clf, X,y, cv=10)\n",
    "# print (yhat.shape)\n",
    "print (\"confusion_matrix: \\n\", confusion_matrix(y,yhat))\n",
    "print (metrics.classification_report(y,yhat))"
   ]
  },
  {
   "cell_type": "markdown",
   "metadata": {
    "collapsed": true
   },
   "source": [
    "### 3.3 Random forest\n",
    "\n",
    "??"
   ]
  },
  {
   "cell_type": "code",
   "execution_count": 40,
   "metadata": {
    "collapsed": false,
    "scrolled": true
   },
   "outputs": [
    {
     "name": "stdout",
     "output_type": "stream",
     "text": [
      "recall:  0.0690690690691\n",
      "confusion_matrix: \n",
      " [[985  86]\n",
      " [338  25]]\n",
      "             precision    recall  f1-score   support\n",
      "\n",
      "          0       0.74      0.92      0.82      1071\n",
      "          1       0.23      0.07      0.11       363\n",
      "\n",
      "avg / total       0.61      0.70      0.64      1434\n",
      "\n"
     ]
    }
   ],
   "source": [
    "from sklearn.ensemble import RandomForestClassifier\n",
    "\n",
    "rf = RandomForestClassifier(max_depth=15,class_weight={0:0.2,1:0.8}, n_estimators=14,n_jobs=4,random_state=False)\n",
    "X = StandardScaler().fit_transform(X)\n",
    "score = cross_val_score(rf,X,y,cv=10,scoring='recall').mean()\n",
    "print (\"recall: \", score)\n",
    "\n",
    "yhat = cross_val_predict(rf, X,y, cv=10)\n",
    "# print (yhat.shape)\n",
    "print (\"confusion_matrix: \\n\", confusion_matrix(y,yhat))\n",
    "print (metrics.classification_report(y,yhat))"
   ]
  },
  {
   "cell_type": "code",
   "execution_count": null,
   "metadata": {
    "collapsed": true
   },
   "outputs": [],
   "source": []
  },
  {
   "cell_type": "code",
   "execution_count": null,
   "metadata": {
    "collapsed": true
   },
   "outputs": [],
   "source": []
  }
 ],
 "metadata": {
  "kernelspec": {
   "display_name": "Python [default]",
   "language": "python",
   "name": "python3"
  },
  "language_info": {
   "codemirror_mode": {
    "name": "ipython",
    "version": 3
   },
   "file_extension": ".py",
   "mimetype": "text/x-python",
   "name": "python",
   "nbconvert_exporter": "python",
   "pygments_lexer": "ipython3",
   "version": "3.5.2"
  }
 },
 "nbformat": 4,
 "nbformat_minor": 2
}
