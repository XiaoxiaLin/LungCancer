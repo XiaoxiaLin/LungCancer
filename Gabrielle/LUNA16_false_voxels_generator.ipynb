{
 "cells": [
  {
   "cell_type": "code",
   "execution_count": 1,
   "metadata": {
    "collapsed": false
   },
   "outputs": [],
   "source": [
    "import numpy as np \n",
    "import pandas as pd \n",
    "import os\n",
    "from joblib import Parallel, delayed\n",
    "import SimpleITK as sitk\n",
    "from scipy import ndimage"
   ]
  },
  {
   "cell_type": "code",
   "execution_count": 2,
   "metadata": {
    "collapsed": false
   },
   "outputs": [],
   "source": [
    "def load_itk_image(filename):\n",
    "    itkimage = sitk.ReadImage(filename)\n",
    "    numpyImage = sitk.GetArrayFromImage(itkimage)\n",
    "    numpyOrigin = np.array(list(reversed(itkimage.GetOrigin())))\n",
    "    numpySpacing = np.array(list(reversed(itkimage.GetSpacing())))\n",
    "    return numpyImage, numpyOrigin, numpySpacing"
   ]
  },
  {
   "cell_type": "code",
   "execution_count": 3,
   "metadata": {
    "collapsed": true
   },
   "outputs": [],
   "source": [
    "def worldToVoxelCoord(worldCoord, origin, spacing):\n",
    "    stretchedVoxelCoord = np.absolute(worldCoord - origin)\n",
    "    voxelCoord = stretchedVoxelCoord / spacing\n",
    "    return voxelCoord"
   ]
  },
  {
   "cell_type": "code",
   "execution_count": 4,
   "metadata": {
    "collapsed": true
   },
   "outputs": [],
   "source": [
    "def resize_voxel(x, desired_shape):\n",
    "    factors = np.array(x.shape).astype('float32') / np.array(desired_shape).astype('float32')\n",
    "    assert all(s > 1 for s in x.shape)\n",
    "    output= ndimage.interpolation.zoom(x,1.0 / factors,order=1)\n",
    "    assert output.shape == desired_shape,'resize error'\n",
    "    return output"
   ]
  },
  {
   "cell_type": "code",
   "execution_count": 5,
   "metadata": {
    "collapsed": false
   },
   "outputs": [],
   "source": [
    "def sample_random_candidates(patient,df,n_sample,VOXEL_SIZE,dfcandidates,fp_only,PATH,rotate=False):\n",
    "    #choose random voxels from this id,\n",
    "    #if they contain a nodule, return the index of this nodule in the dataframe\n",
    "    #from that we can determine size, attributes\n",
    "    #TODO: TRIM IMAGE\n",
    "\n",
    "    df['ix'] = range(df.shape[0])\n",
    "    dfcandidates = dfcandidates[dfcandidates['seriesuid'] == patient]\n",
    "    dfsub = df[df['seriesuid']==patient]\n",
    "    nodule_coords = []\n",
    "    nodule_sizes = []\n",
    "    nodule_ixs = []\n",
    "\n",
    "    if len(dfsub) > 0:\n",
    "        for i in range(dfsub.shape[0]):\n",
    "            row = dfsub.iloc[i]\n",
    "            nodule_coords.append((row['coordZ'], row['coordY'], row['coordX']))\n",
    "            nodule_sizes.append(row['diameter_mm'])\n",
    "\n",
    "\n",
    "    img,origin,spacing = load_itk_image(PATH + patient + '.mhd')\n",
    "    voxel_coords = [worldToVoxelCoord(c,origin,spacing) for c in nodule_coords]\n",
    "\n",
    "\n",
    "    # zoom = np.random.uniform(.99,1.01)\n",
    "    numZpix = np.round(np.random.uniform(.99,1.01) *float(VOXEL_SIZE) / spacing[0])\n",
    "    # assert numZpix > 10, 'too few z pixels'\n",
    "    numYpix = np.round(np.random.uniform(.99,1.01) *float(VOXEL_SIZE) / spacing[1])\n",
    "    # assert numYpix > 10, 'too few y pixels'\n",
    "    numXpix = np.round(np.random.uniform(.99,1.01) *float(VOXEL_SIZE) / spacing[2])\n",
    "    # assert numXpix > 10, 'too few x pixels'\n",
    "\n",
    "    voxels = []\n",
    "    ixs = []\n",
    "    for i in range(int(n_sample)):\n",
    "\n",
    "        #choose a random row from the candidates file\n",
    "        #OR choose a random voxel. 50-50.\n",
    "\n",
    "        if dfcandidates.shape[0] > 0 and (np.random.randint(0,2) == 0 or fp_only):\n",
    "            row = dfcandidates.iloc[np.random.choice(dfcandidates.shape[0])]\n",
    "            x_center_raw = row['coordX'] * np.random.uniform(.9,1.1)\n",
    "            y_center_raw = row['coordY'] * np.random.uniform(.9,1.1)\n",
    "            z_center_raw = row['coordZ'] * np.random.uniform(.9,1.1)\n",
    "            vcords = worldToVoxelCoord((z_center_raw, y_center_raw, x_center_raw), origin, spacing)\n",
    "            x_center = vcords[2]\n",
    "            y_center = vcords[1]\n",
    "            z_center = vcords[0]\n",
    "            ix = -2\n",
    "            #now - if the coordinates are too close to an edge just default to random ones\n",
    "            if x_center < numXpix/2 or x_center > img.shape[2]-numXpix/2 or \\\n",
    "                y_center < numYpix/2 or y_center > img.shape[1]-numYpix/2 or \\\n",
    "                z_center < numZpix/2 or z_center > img.shape[0]-numZpix/2:\n",
    "                x_center = np.random.randint(low=numXpix/2,high=img.shape[2]-numXpix/2)\n",
    "                y_center = np.random.randint(low=numYpix/2,high=img.shape[1]-numYpix/2)\n",
    "                z_center = np.random.randint(low=numZpix/2,high=img.shape[0]-numZpix/2)\n",
    "                ix = -1\n",
    "        else:\n",
    "            #print 'no candidates for id', id\n",
    "            x_center = np.random.randint(low=numXpix/2,high=img.shape[2]-numXpix/2)\n",
    "            y_center = np.random.randint(low=numYpix/2,high=img.shape[1]-numYpix/2)\n",
    "            z_center = np.random.randint(low=numZpix/2,high=img.shape[0]-numZpix/2)\n",
    "            ix = -1\n",
    "\n",
    "        z_start = np.clip(z_center-numZpix/2, 0, img.shape[0])\n",
    "        z_end = np.clip(z_center+numZpix/2, 0, img.shape[0])\n",
    "        y_start = np.clip(y_center-numYpix/2, 0, img.shape[1])\n",
    "        y_end = np.clip(y_center+numYpix/2, 0, img.shape[1])\n",
    "        x_start = np.clip(x_center-numXpix/2, 0, img.shape[2])\n",
    "        x_end = np.clip(x_center+numXpix/2, 0, img.shape[2])\n",
    "\n",
    "        voxel = img[int(z_start):int(z_end),int(y_start):int(y_end),int(x_start):int(x_end)]\n",
    "\n",
    "        voxel_norm = resize_voxel(voxel, (VOXEL_SIZE, VOXEL_SIZE, VOXEL_SIZE))\n",
    "\n",
    "        voxel_norm = np.clip(voxel_norm, -1000, 400)\n",
    "        if rotate:\n",
    "            voxel_norm = ndimage.interpolation.rotate(voxel_norm, np.random.uniform(-10, 10), axes=(1,0), order=1,reshape=False,cval=-1000,mode='nearest')\n",
    "            voxel_norm = ndimage.interpolation.rotate(voxel_norm, np.random.uniform(-10, 10), axes=(2,1), order=1,reshape=False,cval=-1000,mode='nearest')\n",
    "\n",
    "        #apply a random rotation\n",
    "\n",
    "        #determine index (if applicable)\n",
    "        #if no match put -1.\n",
    "        largest_diam = 0\n",
    "        for i,(coord,size) in enumerate(zip(voxel_coords,nodule_sizes)):\n",
    "            if (x_start  < coord[2] < x_end) and (y_start < coord[1] < y_end ) and (z_start < coord[0] < z_end):\n",
    "                #we got one\n",
    "                if dfsub.iloc[i]['diameter_mm'] > largest_diam:\n",
    "                    largest_diam = dfsub.iloc[i]['diameter_mm']\n",
    "                    ix = dfsub.iloc[i]['ix']\n",
    "                #target = size\n",
    "        voxels.append(np.transpose(voxel_norm, (2,1,0)))\n",
    "        ixs.append(ix)\n",
    "\n",
    "    return np.stack(voxels),np.stack(ixs)"
   ]
  },
  {
   "cell_type": "code",
   "execution_count": 6,
   "metadata": {
    "collapsed": false
   },
   "outputs": [],
   "source": [
    "def get_Xfalse_new(VOXEL_SIZE,multiplier=12,fp_only=True):\n",
    "\n",
    "    path_raw = '../data/'\n",
    "    path_save = '../voxels_false32/'\n",
    "    \n",
    "    df = pd.read_csv(path_raw+'CSVFILES/annotations_enhanced.csv')\n",
    "    dfc = pd.read_csv(path_raw+'CSVFILES/candidates.csv')\n",
    "    n_views = np.around(multiplier*(64**3)/(VOXEL_SIZE**3))\n",
    "    \n",
    "    for directory in [d for d in os.listdir(path_raw) if 'subset' in d]:\n",
    "        path_directory = path_raw+directory+'/'\n",
    "        luna_ids = [f.replace('.mhd','') for f in os.listdir(path_directory) if '.mhd' in f]\n",
    "        print (directory,'contains',len(luna_ids),'patients')\n",
    "        args = [(id,df,n_views) for id in luna_ids]\n",
    "        results = Parallel(n_jobs=2,verbose=0)(delayed(sample_random_candidates)(arg[0], arg[1],arg[2],VOXEL_SIZE,dfc,fp_only,path_directory,True) for arg in args )\n",
    "\n",
    "        #results is a list of (voxels, ixs)\n",
    "        voxels = np.concatenate([r[0] for r in results if r is not None])\n",
    "        ixs = np.concatenate([r[1] for r in results if r is not None])\n",
    "        np.save(path_save+directory+'Xfalse.npy', voxels)\n",
    "        np.save(path_save+directory+'IXfalse.npy', ixs)"
   ]
  },
  {
   "cell_type": "code",
   "execution_count": 7,
   "metadata": {
    "collapsed": true
   },
   "outputs": [],
   "source": [
    "def main(stage,rs):\n",
    "    np.random.seed(rs)\n",
    "    get_Xfalse_new(stage)\n",
    "    exit()"
   ]
  },
  {
   "cell_type": "code",
   "execution_count": 8,
   "metadata": {
    "collapsed": false
   },
   "outputs": [
    {
     "name": "stdout",
     "output_type": "stream",
     "text": [
      "subset2 contains 89 patients\n"
     ]
    },
    {
     "name": "stderr",
     "output_type": "stream",
     "text": [
      "/home/gantos/.local/lib/python3.5/site-packages/scipy/ndimage/interpolation.py:600: UserWarning: From scipy 0.13.0, the output shape of zoom() is calculated with round() instead of int() - for these inputs the size of the returned array has changed.\n",
      "  \"the returned array has changed.\", UserWarning)\n",
      "/home/gantos/.local/lib/python3.5/site-packages/scipy/ndimage/interpolation.py:600: UserWarning: From scipy 0.13.0, the output shape of zoom() is calculated with round() instead of int() - for these inputs the size of the returned array has changed.\n",
      "  \"the returned array has changed.\", UserWarning)\n"
     ]
    },
    {
     "name": "stdout",
     "output_type": "stream",
     "text": [
      "subset9 contains 88 patients\n"
     ]
    },
    {
     "name": "stderr",
     "output_type": "stream",
     "text": [
      "/home/gantos/.local/lib/python3.5/site-packages/scipy/ndimage/interpolation.py:600: UserWarning: From scipy 0.13.0, the output shape of zoom() is calculated with round() instead of int() - for these inputs the size of the returned array has changed.\n",
      "  \"the returned array has changed.\", UserWarning)\n",
      "/home/gantos/.local/lib/python3.5/site-packages/scipy/ndimage/interpolation.py:600: UserWarning: From scipy 0.13.0, the output shape of zoom() is calculated with round() instead of int() - for these inputs the size of the returned array has changed.\n",
      "  \"the returned array has changed.\", UserWarning)\n"
     ]
    },
    {
     "name": "stdout",
     "output_type": "stream",
     "text": [
      "subset5 contains 89 patients\n"
     ]
    },
    {
     "name": "stderr",
     "output_type": "stream",
     "text": [
      "/home/gantos/.local/lib/python3.5/site-packages/scipy/ndimage/interpolation.py:600: UserWarning: From scipy 0.13.0, the output shape of zoom() is calculated with round() instead of int() - for these inputs the size of the returned array has changed.\n",
      "  \"the returned array has changed.\", UserWarning)\n",
      "/home/gantos/.local/lib/python3.5/site-packages/scipy/ndimage/interpolation.py:600: UserWarning: From scipy 0.13.0, the output shape of zoom() is calculated with round() instead of int() - for these inputs the size of the returned array has changed.\n",
      "  \"the returned array has changed.\", UserWarning)\n"
     ]
    },
    {
     "name": "stdout",
     "output_type": "stream",
     "text": [
      "subset3 contains 89 patients\n"
     ]
    },
    {
     "name": "stderr",
     "output_type": "stream",
     "text": [
      "/home/gantos/.local/lib/python3.5/site-packages/scipy/ndimage/interpolation.py:600: UserWarning: From scipy 0.13.0, the output shape of zoom() is calculated with round() instead of int() - for these inputs the size of the returned array has changed.\n",
      "  \"the returned array has changed.\", UserWarning)\n",
      "/home/gantos/.local/lib/python3.5/site-packages/scipy/ndimage/interpolation.py:600: UserWarning: From scipy 0.13.0, the output shape of zoom() is calculated with round() instead of int() - for these inputs the size of the returned array has changed.\n",
      "  \"the returned array has changed.\", UserWarning)\n"
     ]
    },
    {
     "name": "stdout",
     "output_type": "stream",
     "text": [
      "subset4 contains 89 patients\n"
     ]
    },
    {
     "name": "stderr",
     "output_type": "stream",
     "text": [
      "/home/gantos/.local/lib/python3.5/site-packages/scipy/ndimage/interpolation.py:600: UserWarning: From scipy 0.13.0, the output shape of zoom() is calculated with round() instead of int() - for these inputs the size of the returned array has changed.\n",
      "  \"the returned array has changed.\", UserWarning)\n",
      "/home/gantos/.local/lib/python3.5/site-packages/scipy/ndimage/interpolation.py:600: UserWarning: From scipy 0.13.0, the output shape of zoom() is calculated with round() instead of int() - for these inputs the size of the returned array has changed.\n",
      "  \"the returned array has changed.\", UserWarning)\n"
     ]
    },
    {
     "name": "stdout",
     "output_type": "stream",
     "text": [
      "subset6 contains 89 patients\n"
     ]
    },
    {
     "name": "stderr",
     "output_type": "stream",
     "text": [
      "/home/gantos/.local/lib/python3.5/site-packages/scipy/ndimage/interpolation.py:600: UserWarning: From scipy 0.13.0, the output shape of zoom() is calculated with round() instead of int() - for these inputs the size of the returned array has changed.\n",
      "  \"the returned array has changed.\", UserWarning)\n",
      "/home/gantos/.local/lib/python3.5/site-packages/scipy/ndimage/interpolation.py:600: UserWarning: From scipy 0.13.0, the output shape of zoom() is calculated with round() instead of int() - for these inputs the size of the returned array has changed.\n",
      "  \"the returned array has changed.\", UserWarning)\n"
     ]
    },
    {
     "name": "stdout",
     "output_type": "stream",
     "text": [
      "subset0 contains 89 patients\n"
     ]
    },
    {
     "name": "stderr",
     "output_type": "stream",
     "text": [
      "/home/gantos/.local/lib/python3.5/site-packages/scipy/ndimage/interpolation.py:600: UserWarning: From scipy 0.13.0, the output shape of zoom() is calculated with round() instead of int() - for these inputs the size of the returned array has changed.\n",
      "  \"the returned array has changed.\", UserWarning)\n",
      "/home/gantos/.local/lib/python3.5/site-packages/scipy/ndimage/interpolation.py:600: UserWarning: From scipy 0.13.0, the output shape of zoom() is calculated with round() instead of int() - for these inputs the size of the returned array has changed.\n",
      "  \"the returned array has changed.\", UserWarning)\n"
     ]
    },
    {
     "name": "stdout",
     "output_type": "stream",
     "text": [
      "subset8 contains 88 patients\n"
     ]
    },
    {
     "name": "stderr",
     "output_type": "stream",
     "text": [
      "/home/gantos/.local/lib/python3.5/site-packages/scipy/ndimage/interpolation.py:600: UserWarning: From scipy 0.13.0, the output shape of zoom() is calculated with round() instead of int() - for these inputs the size of the returned array has changed.\n",
      "  \"the returned array has changed.\", UserWarning)\n",
      "/home/gantos/.local/lib/python3.5/site-packages/scipy/ndimage/interpolation.py:600: UserWarning: From scipy 0.13.0, the output shape of zoom() is calculated with round() instead of int() - for these inputs the size of the returned array has changed.\n",
      "  \"the returned array has changed.\", UserWarning)\n"
     ]
    },
    {
     "name": "stdout",
     "output_type": "stream",
     "text": [
      "subset1 contains 89 patients\n"
     ]
    },
    {
     "name": "stderr",
     "output_type": "stream",
     "text": [
      "/home/gantos/.local/lib/python3.5/site-packages/scipy/ndimage/interpolation.py:600: UserWarning: From scipy 0.13.0, the output shape of zoom() is calculated with round() instead of int() - for these inputs the size of the returned array has changed.\n",
      "  \"the returned array has changed.\", UserWarning)\n",
      "/home/gantos/.local/lib/python3.5/site-packages/scipy/ndimage/interpolation.py:600: UserWarning: From scipy 0.13.0, the output shape of zoom() is calculated with round() instead of int() - for these inputs the size of the returned array has changed.\n",
      "  \"the returned array has changed.\", UserWarning)\n"
     ]
    },
    {
     "name": "stdout",
     "output_type": "stream",
     "text": [
      "subset7 contains 89 patients\n"
     ]
    },
    {
     "name": "stderr",
     "output_type": "stream",
     "text": [
      "/home/gantos/.local/lib/python3.5/site-packages/scipy/ndimage/interpolation.py:600: UserWarning: From scipy 0.13.0, the output shape of zoom() is calculated with round() instead of int() - for these inputs the size of the returned array has changed.\n",
      "  \"the returned array has changed.\", UserWarning)\n",
      "/home/gantos/.local/lib/python3.5/site-packages/scipy/ndimage/interpolation.py:600: UserWarning: From scipy 0.13.0, the output shape of zoom() is calculated with round() instead of int() - for these inputs the size of the returned array has changed.\n",
      "  \"the returned array has changed.\", UserWarning)\n"
     ]
    }
   ],
   "source": [
    "main(64,42)"
   ]
  },
  {
   "cell_type": "code",
   "execution_count": null,
   "metadata": {
    "collapsed": true
   },
   "outputs": [],
   "source": []
  }
 ],
 "metadata": {
  "kernelspec": {
   "display_name": "Python [default]",
   "language": "python",
   "name": "python3"
  },
  "language_info": {
   "codemirror_mode": {
    "name": "ipython",
    "version": 3
   },
   "file_extension": ".py",
   "mimetype": "text/x-python",
   "name": "python",
   "nbconvert_exporter": "python",
   "pygments_lexer": "ipython3",
   "version": "3.5.2"
  }
 },
 "nbformat": 4,
 "nbformat_minor": 2
}
