{
 "cells": [
  {
   "cell_type": "code",
   "execution_count": 1,
   "metadata": {
    "collapsed": false
   },
   "outputs": [],
   "source": [
    "import numpy as np \n",
    "import pandas as pd \n",
    "import os\n",
    "from joblib import Parallel, delayed\n",
    "import SimpleITK as sitk\n",
    "from scipy import ndimage"
   ]
  },
  {
   "cell_type": "code",
   "execution_count": 2,
   "metadata": {
    "collapsed": false
   },
   "outputs": [],
   "source": [
    "def load_itk_image(filename):\n",
    "    itkimage = sitk.ReadImage(filename)\n",
    "    numpyImage = sitk.GetArrayFromImage(itkimage)\n",
    "    numpyOrigin = np.array(list(reversed(itkimage.GetOrigin())))\n",
    "    numpySpacing = np.array(list(reversed(itkimage.GetSpacing())))\n",
    "    return numpyImage, numpyOrigin, numpySpacing"
   ]
  },
  {
   "cell_type": "code",
   "execution_count": 3,
   "metadata": {
    "collapsed": true
   },
   "outputs": [],
   "source": [
    "def worldToVoxelCoord(worldCoord, origin, spacing):\n",
    "    stretchedVoxelCoord = np.absolute(worldCoord - origin)\n",
    "    voxelCoord = stretchedVoxelCoord / spacing\n",
    "    return voxelCoord"
   ]
  },
  {
   "cell_type": "code",
   "execution_count": 4,
   "metadata": {
    "collapsed": true
   },
   "outputs": [],
   "source": [
    "def resize_voxel(x, desired_shape):\n",
    "    factors = np.array(x.shape).astype('float32') / np.array(desired_shape).astype('float32')\n",
    "    assert all(s > 1 for s in x.shape)\n",
    "    output= ndimage.interpolation.zoom(x,1.0 / factors,order=1)\n",
    "    assert output.shape == desired_shape,'resize error'\n",
    "    return output"
   ]
  },
  {
   "cell_type": "code",
   "execution_count": 5,
   "metadata": {
    "collapsed": false
   },
   "outputs": [],
   "source": [
    "def sample_random_voxels(patient, df, n_sample,VOXEL_SIZE,PATH):\n",
    "    #choose random voxels from this id,\n",
    "    #if they contain a nodule, return the index of this nodule in the dataframe\n",
    "    #from that we can determine size, attributes\n",
    "    #TODO: TRIM IMAGE\n",
    "\n",
    "    df['ix'] = range(df.shape[0])\n",
    "    dfsub = df[df['seriesuid']==patient]\n",
    "    nodule_coords = []\n",
    "    nodule_sizes = []\n",
    "    nodule_ixs = []\n",
    "\n",
    "    if len(dfsub) > 0:\n",
    "        for i in range(dfsub.shape[0]):\n",
    "            row = dfsub.iloc[i]\n",
    "            nodule_coords.append((row['coordZ'], row['coordY'], row['coordX']))\n",
    "            nodule_sizes.append(row['diameter_mm'])\n",
    "\n",
    "\n",
    "    img,origin,spacing = load_itk_image(PATH + patient + '.mhd')\n",
    "    voxel_coords = [worldToVoxelCoord(c,origin,spacing) for c in nodule_coords]\n",
    "\n",
    "\n",
    "    # zoom = np.random.uniform(.99,1.01)\n",
    "    numZpix = np.round(np.random.uniform(.99,1.01) *float(VOXEL_SIZE) / spacing[0])\n",
    "    # assert numZpix > 10, 'too few z pixels'\n",
    "    numYpix = np.round(np.random.uniform(.99,1.01) *float(VOXEL_SIZE) / spacing[1])\n",
    "    # assert numYpix > 10, 'too few y pixels'\n",
    "    numXpix = np.round(np.random.uniform(.99,1.01) *float(VOXEL_SIZE) / spacing[2])\n",
    "    # assert numXpix > 10, 'too few x pixels'\n",
    "\n",
    "    voxels = []\n",
    "    ixs = []\n",
    "    for i in range(int(n_sample)):\n",
    "\n",
    "        x_center = np.random.randint(low=numXpix/2,high=img.shape[2]-numXpix/2)\n",
    "        y_center = np.random.randint(low=numYpix/2,high=img.shape[1]-numYpix/2)\n",
    "        z_center = np.random.randint(low=numZpix/2,high=img.shape[0]-numZpix/2)\n",
    "\n",
    "        z_start = np.clip(z_center-numZpix/2, 0, img.shape[0])\n",
    "        z_end = np.clip(z_center+numZpix/2, 0, img.shape[0])\n",
    "        y_start = np.clip(y_center-numYpix/2, 0, img.shape[1])\n",
    "        y_end = np.clip(y_center+numYpix/2, 0, img.shape[1])\n",
    "        x_start = np.clip(x_center-numXpix/2, 0, img.shape[2])\n",
    "        x_end = np.clip(x_center+numXpix/2, 0, img.shape[2])\n",
    "\n",
    "        voxel = img[int(z_start):int(z_end),int(y_start):int(y_end),int(x_start):int(x_end)]\n",
    "        \n",
    "        voxel_norm = resize_voxel(voxel, (VOXEL_SIZE, VOXEL_SIZE, VOXEL_SIZE))\n",
    "\n",
    "        voxel_norm = np.clip(voxel_norm, -1000, 400)\n",
    "\n",
    "        #determine index (if applicable)\n",
    "        #if no match put -1.\n",
    "        ix = -1\n",
    "        for i,(coord,size) in enumerate(zip(voxel_coords,nodule_sizes)):\n",
    "            if (x_start + size*1.5 <= coord[2] <= x_end - size*1.5) and (y_start + size*1.5 <= coord[1] <= y_end - size*1.5) and (z_start + size*1.5 <= coord[0] <= z_end - size*1.5):\n",
    "                #we got one\n",
    "                ix = dfsub.iloc[i]['ix']\n",
    "                # pdb.set_trace()\n",
    "                #target = size\n",
    "        voxels.append(np.transpose(voxel_norm, (2,1,0)))\n",
    "        ixs.append(ix)\n",
    "\n",
    "    return np.stack(voxels),np.stack(ixs)"
   ]
  },
  {
   "cell_type": "code",
   "execution_count": 6,
   "metadata": {
    "collapsed": true
   },
   "outputs": [],
   "source": [
    "def get_Xrandom_new(VOXEL_SIZE):\n",
    "\n",
    "    path_raw = '../data/'\n",
    "    path_save = '../voxels_random64/'\n",
    "    \n",
    "    df = pd.read_csv(path_raw+'CSVFILES/annotations_enhanced.csv')\n",
    "    n_views = np.around(6*(64**3)/(VOXEL_SIZE**3))\n",
    "    \n",
    "    for directory in [d for d in os.listdir(path_raw) if 'subset' in d]:\n",
    "        path_directory = path_raw+directory+'/'\n",
    "        luna_ids = [f.replace('.mhd','') for f in os.listdir(path_directory) if '.mhd' in f]\n",
    "        print (directory,'contains',len(luna_ids),'patients')\n",
    "        args = [(id,df,n_views) for id in luna_ids]\n",
    "        results = Parallel(n_jobs=2,verbose=0)(delayed(sample_random_voxels)(arg[0], arg[1],arg[2],VOXEL_SIZE,path_directory) for arg in args )\n",
    "\n",
    "        #results is a list of (voxels, ixs)\n",
    "        voxels = np.concatenate([r[0] for r in results if r is not None])\n",
    "        ixs = np.concatenate([r[1] for r in results if r is not None])\n",
    "        np.save(path_save+directory+'Xrandom.npy', voxels)\n",
    "        np.save(path_save+directory+'IXrandom.npy', ixs)"
   ]
  },
  {
   "cell_type": "code",
   "execution_count": 7,
   "metadata": {
    "collapsed": true
   },
   "outputs": [],
   "source": [
    "def main(stage,rs):\n",
    "    np.random.seed(rs)\n",
    "    get_Xpositive_new(stage)\n",
    "    exit()"
   ]
  },
  {
   "cell_type": "code",
   "execution_count": 8,
   "metadata": {
    "collapsed": false
   },
   "outputs": [
    {
     "name": "stdout",
     "output_type": "stream",
     "text": [
      "subset2 contains 89 patients\n"
     ]
    },
    {
     "name": "stderr",
     "output_type": "stream",
     "text": [
      "/home/gantos/.local/lib/python3.5/site-packages/scipy/ndimage/interpolation.py:600: UserWarning: From scipy 0.13.0, the output shape of zoom() is calculated with round() instead of int() - for these inputs the size of the returned array has changed.\n",
      "  \"the returned array has changed.\", UserWarning)\n"
     ]
    },
    {
     "name": "stdout",
     "output_type": "stream",
     "text": [
      "subset9 contains 88 patients\n",
      "subset5 contains 89 patients\n",
      "subset3 contains 89 patients\n",
      "subset4 contains 89 patients\n",
      "subset6 contains 89 patients\n",
      "subset0 contains 89 patients\n",
      "subset8 contains 88 patients\n",
      "subset1 contains 89 patients\n",
      "subset7 contains 89 patients\n"
     ]
    }
   ],
   "source": [
    "main(64,42)"
   ]
  },
  {
   "cell_type": "code",
   "execution_count": null,
   "metadata": {
    "collapsed": true
   },
   "outputs": [],
   "source": []
  }
 ],
 "metadata": {
  "kernelspec": {
   "display_name": "Python [default]",
   "language": "python",
   "name": "python3"
  },
  "language_info": {
   "codemirror_mode": {
    "name": "ipython",
    "version": 3
   },
   "file_extension": ".py",
   "mimetype": "text/x-python",
   "name": "python",
   "nbconvert_exporter": "python",
   "pygments_lexer": "ipython3",
   "version": "3.5.2"
  }
 },
 "nbformat": 4,
 "nbformat_minor": 2
}
