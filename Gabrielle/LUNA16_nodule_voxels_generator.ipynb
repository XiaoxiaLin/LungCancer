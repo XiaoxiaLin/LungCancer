{
 "cells": [
  {
   "cell_type": "code",
   "execution_count": 1,
   "metadata": {
    "collapsed": false
   },
   "outputs": [],
   "source": [
    "import numpy as np \n",
    "import pandas as pd \n",
    "import os\n",
    "from joblib import Parallel, delayed\n",
    "import SimpleITK as sitk\n",
    "from scipy import ndimage"
   ]
  },
  {
   "cell_type": "code",
   "execution_count": 2,
   "metadata": {
    "collapsed": false
   },
   "outputs": [],
   "source": [
    "def load_itk_image(filename):\n",
    "    itkimage = sitk.ReadImage(filename)\n",
    "    numpyImage = sitk.GetArrayFromImage(itkimage)\n",
    "    numpyOrigin = np.array(list(reversed(itkimage.GetOrigin())))\n",
    "    numpySpacing = np.array(list(reversed(itkimage.GetSpacing())))\n",
    "    return numpyImage, numpyOrigin, numpySpacing"
   ]
  },
  {
   "cell_type": "code",
   "execution_count": 3,
   "metadata": {
    "collapsed": true
   },
   "outputs": [],
   "source": [
    "def worldToVoxelCoord(worldCoord, origin, spacing):\n",
    "    stretchedVoxelCoord = np.absolute(worldCoord - origin)\n",
    "    voxelCoord = stretchedVoxelCoord / spacing\n",
    "    return voxelCoord"
   ]
  },
  {
   "cell_type": "code",
   "execution_count": 4,
   "metadata": {
    "collapsed": true
   },
   "outputs": [],
   "source": [
    "def resize_voxel(x, desired_shape):\n",
    "    factors = np.array(x.shape).astype('float32') / np.array(desired_shape).astype('float32')\n",
    "    output= ndimage.interpolation.zoom(x,1.0 / factors,order=1)\n",
    "    assert output.shape == desired_shape, 'resize error'\n",
    "    return output"
   ]
  },
  {
   "cell_type": "code",
   "execution_count": 5,
   "metadata": {
    "collapsed": false
   },
   "outputs": [],
   "source": [
    "def get_bounding_voxels_new(patient, df, n, VOXEL_SIZE,PATH):\n",
    "    #given the nodule index and the nodule dataframe\n",
    "    #return n jittered views of the nodule and n copies of the row index\n",
    "    #from the row index we can look up the nodule size, malignancy, etc.\n",
    "    df['ix'] = range(df.shape[0])\n",
    "    dfsub = df[df['seriesuid']==patient]\n",
    "    if dfsub.shape[0] == 0:\n",
    "        return None\n",
    "    # loading patient into array from mhd\n",
    "    img,origin,spacing = load_itk_image(PATH + patient  + '.mhd')\n",
    "\n",
    "    #now pick out VOXEL_SIZE mm of pixels in each dimension.\n",
    "    numZpix = np.round(float(VOXEL_SIZE) / spacing[0])\n",
    "    assert numZpix > 10, 'too few z pixels'\n",
    "    numYpix = np.round(float(VOXEL_SIZE) / spacing[1])\n",
    "    assert numYpix > 10, 'too few y pixels'\n",
    "    numXpix = np.round(float(VOXEL_SIZE) / spacing[2])\n",
    "    assert numXpix > 10, 'too few x pixels'\n",
    "\n",
    "\n",
    "    voxels = []\n",
    "    indices = []\n",
    "    for i in range(int(n)):\n",
    "\n",
    "        #choose a random nodule from this patient\n",
    "        row = dfsub.iloc[ np.random.choice(dfsub.shape[0]) ]\n",
    "        coords = (row['coordZ'], row['coordY'], row['coordX'])\n",
    "        diameter_mm = row['diameter_mm']\n",
    "\n",
    "        voxel_coords = worldToVoxelCoord(coords, origin, spacing)\n",
    "        voxel_coords = np.round(voxel_coords)\n",
    "\n",
    "        #fuzz \n",
    "        max_z_fuzz = int((numZpix/2) * (1 - diameter_mm / VOXEL_SIZE))\n",
    "        max_y_fuzz = int((numYpix/2) * (1 - diameter_mm / VOXEL_SIZE))\n",
    "        max_x_fuzz = int((numXpix/2) * (1 - diameter_mm / VOXEL_SIZE))\n",
    "        zfuzz = np.random.randint(-max_z_fuzz, max_z_fuzz+1)\n",
    "        yfuzz = np.random.randint(-max_y_fuzz, max_y_fuzz+1)\n",
    "        xfuzz = np.random.randint(-max_x_fuzz, max_x_fuzz+1)\n",
    "\n",
    "        z_start = np.clip(voxel_coords[0] + zfuzz - numZpix/2, 0, img.shape[0])\n",
    "        z_end = np.clip(voxel_coords[0] + zfuzz +numZpix/2, 0, img.shape[0])\n",
    "        y_start = np.clip(voxel_coords[1]+ yfuzz -numYpix/2, 0, img.shape[1])\n",
    "        y_end = np.clip(voxel_coords[1] + yfuzz +numYpix/2, 0, img.shape[1])\n",
    "        x_start = np.clip(voxel_coords[2]+xfuzz-numXpix/2, 0, img.shape[2])\n",
    "        x_end = np.clip(voxel_coords[2]+xfuzz +numXpix/2, 0, img.shape[2])\n",
    "\n",
    "        #now let's see if this voxel contains more than one nodule\n",
    "        num_nodules = 0\n",
    "        maxdiam_ix = -1\n",
    "        maxdiam = 0\n",
    "        for j in range(dfsub.shape[0]):\n",
    "            row_j = dfsub.iloc[j]\n",
    "            row_coords = (row_j['coordZ'], row_j['coordY'], row_j['coordX'])\n",
    "            row_voxel_coords = worldToVoxelCoord(row_coords, origin, spacing)\n",
    "\n",
    "            if (row_voxel_coords[2] > x_start+0 and row_voxel_coords[2] < x_end-0) and \\\n",
    "                (row_voxel_coords[1] > y_start+0 and row_voxel_coords[1] < y_end-0) and \\\n",
    "                (row_voxel_coords[0] > z_start+0 and row_voxel_coords[0] < z_end-0):\n",
    "\n",
    "                #found one\n",
    "                num_nodules += 1\n",
    "                if row_j['diameter_mm'] > maxdiam:\n",
    "                    maxdiam_ix = row_j['ix']\n",
    "                    maxdiam = row_j['diameter_mm']\n",
    "\n",
    "        if num_nodules == 0:\n",
    "            print ('no nodules in region!')\n",
    "            print (x_start, x_end, y_start, y_end, z_start, z_end)\n",
    "            print (voxel_coords)\n",
    "\n",
    "        assert num_nodules > 0, 'no nodules in region'\n",
    "        # if num_nodules > 1:\n",
    "            # print 'multiple nodules found in voxel. choosing largest'\n",
    "\n",
    "        indices.append(maxdiam_ix)\n",
    "\n",
    "        voxel = img[int(z_start):int(z_end),int(y_start):int(y_end),int(x_start):int(x_end)]\n",
    "\n",
    "\n",
    "        # print voxel.shape, spacing\n",
    "        voxel_norm = resize_voxel(voxel, (VOXEL_SIZE, VOXEL_SIZE, VOXEL_SIZE))\n",
    "\n",
    "        # halfsize = size/2\n",
    "        voxel_norm = np.clip(voxel_norm, -1000, 400)\n",
    "        voxel_norm = np.transpose(voxel_norm, (2,1,0)) #X,Y,Z \n",
    "        voxels.append(voxel_norm)\n",
    "\n",
    "    return np.stack(voxels), np.array(indices).astype('int32')"
   ]
  },
  {
   "cell_type": "code",
   "execution_count": 6,
   "metadata": {
    "collapsed": false
   },
   "outputs": [],
   "source": [
    "# def get_Xpositive_new(VOXEL_SIZE):\n",
    "    \n",
    "#     path_save = '../voxels/'\n",
    "#     path_raw = '../data/'\n",
    "    \n",
    "#     df = pd.read_csv(path_raw+'annotations_enhanced.csv')\n",
    "#     n_views = np.around(6*(64**3)/(VOXEL_SIZE**3))\n",
    "    \n",
    "#     for directory in [d for d in os.listdir(path_raw) if 'subset' in d]:\n",
    "#         path_directory = path_raw+directory+'/'\n",
    "#         luna_ids = [f.replace('.mhd','') for f in os.listdir(path_directory) if '.mhd' in f]\n",
    "#         print (directory,'contains',len(luna_ids),'patients')\n",
    "#         counter = 0\n",
    "#         for patient in luna_ids:\n",
    "#             results = get_bounding_voxels_new(path_directory,patient,df,n_views,VOXEL_SIZE)\n",
    "#             counter +=1\n",
    "#             if counter%20==0:\n",
    "#                 print ('\\t..completed',counter,'out of',len(luna_ids),'in this subset directory')\n",
    "#             if results==None:\n",
    "#                 continue\n",
    "#             print ([r[0].shape for r in results if r is not None])\n",
    "#             voxels = np.concatenate([r[0] for r in results if r is not None])\n",
    "#             ixs = np.concatenate([r[1] for r in results if r is not None])\n",
    "#             np.save(path_save+patient+'Xpositive.npy', voxels)\n",
    "#             np.save(path_save+patient+'IXpositive.npy', ixs)"
   ]
  },
  {
   "cell_type": "code",
   "execution_count": 7,
   "metadata": {
    "collapsed": true
   },
   "outputs": [],
   "source": [
    "def get_Xpositive_new(VOXEL_SIZE):\n",
    "\n",
    "    path_raw = '../data/'\n",
    "    path_save = '../voxels/'\n",
    "    \n",
    "    df = pd.read_csv(path_raw+'annotations_enhanced.csv')\n",
    "    n_views = np.around(6*(64**3)/(VOXEL_SIZE**3))\n",
    "    \n",
    "    for directory in [d for d in os.listdir(path_raw) if 'subset' in d]:\n",
    "        path_directory = path_raw+directory+'/'\n",
    "        luna_ids = [f.replace('.mhd','') for f in os.listdir(path_directory) if '.mhd' in f]\n",
    "        print (directory,'contains',len(luna_ids),'patients')\n",
    "        args = [(id,df,n_views) for id in luna_ids]\n",
    "        results = Parallel(n_jobs=2,verbose=0)(delayed(get_bounding_voxels_new)(arg[0], arg[1],arg[2],VOXEL_SIZE,path_directory) for arg in args )\n",
    "\n",
    "        #results is a list of (voxels, ixs)\n",
    "        voxels = np.concatenate([r[0] for r in results if r is not None])\n",
    "        ixs = np.concatenate([r[1] for r in results if r is not None])\n",
    "        np.save(path_save+directory+'Xpositive.npy', voxels)\n",
    "        np.save(path_save+directory+'IXpositive.npy', ixs)"
   ]
  },
  {
   "cell_type": "code",
   "execution_count": 8,
   "metadata": {
    "collapsed": true
   },
   "outputs": [],
   "source": [
    "def main(stage,rs):\n",
    "    np.random.seed(rs)\n",
    "    get_Xpositive_new(stage)\n",
    "    exit()"
   ]
  },
  {
   "cell_type": "code",
   "execution_count": 9,
   "metadata": {
    "collapsed": false
   },
   "outputs": [
    {
     "name": "stdout",
     "output_type": "stream",
     "text": [
      "subset2 contains 89 patients\n"
     ]
    },
    {
     "name": "stderr",
     "output_type": "stream",
     "text": [
      "/home/gantos/.local/lib/python3.5/site-packages/scipy/ndimage/interpolation.py:600: UserWarning: From scipy 0.13.0, the output shape of zoom() is calculated with round() instead of int() - for these inputs the size of the returned array has changed.\n",
      "  \"the returned array has changed.\", UserWarning)\n",
      "/home/gantos/.local/lib/python3.5/site-packages/scipy/ndimage/interpolation.py:600: UserWarning: From scipy 0.13.0, the output shape of zoom() is calculated with round() instead of int() - for these inputs the size of the returned array has changed.\n",
      "  \"the returned array has changed.\", UserWarning)\n"
     ]
    },
    {
     "name": "stdout",
     "output_type": "stream",
     "text": [
      "subset9 contains 88 patients\n"
     ]
    },
    {
     "name": "stderr",
     "output_type": "stream",
     "text": [
      "/home/gantos/.local/lib/python3.5/site-packages/scipy/ndimage/interpolation.py:600: UserWarning: From scipy 0.13.0, the output shape of zoom() is calculated with round() instead of int() - for these inputs the size of the returned array has changed.\n",
      "  \"the returned array has changed.\", UserWarning)\n",
      "/home/gantos/.local/lib/python3.5/site-packages/scipy/ndimage/interpolation.py:600: UserWarning: From scipy 0.13.0, the output shape of zoom() is calculated with round() instead of int() - for these inputs the size of the returned array has changed.\n",
      "  \"the returned array has changed.\", UserWarning)\n"
     ]
    },
    {
     "name": "stdout",
     "output_type": "stream",
     "text": [
      "subset5 contains 89 patients\n"
     ]
    },
    {
     "name": "stderr",
     "output_type": "stream",
     "text": [
      "/home/gantos/.local/lib/python3.5/site-packages/scipy/ndimage/interpolation.py:600: UserWarning: From scipy 0.13.0, the output shape of zoom() is calculated with round() instead of int() - for these inputs the size of the returned array has changed.\n",
      "  \"the returned array has changed.\", UserWarning)\n",
      "/home/gantos/.local/lib/python3.5/site-packages/scipy/ndimage/interpolation.py:600: UserWarning: From scipy 0.13.0, the output shape of zoom() is calculated with round() instead of int() - for these inputs the size of the returned array has changed.\n",
      "  \"the returned array has changed.\", UserWarning)\n"
     ]
    },
    {
     "name": "stdout",
     "output_type": "stream",
     "text": [
      "subset3 contains 89 patients\n"
     ]
    },
    {
     "name": "stderr",
     "output_type": "stream",
     "text": [
      "/home/gantos/.local/lib/python3.5/site-packages/scipy/ndimage/interpolation.py:600: UserWarning: From scipy 0.13.0, the output shape of zoom() is calculated with round() instead of int() - for these inputs the size of the returned array has changed.\n",
      "  \"the returned array has changed.\", UserWarning)\n",
      "/home/gantos/.local/lib/python3.5/site-packages/scipy/ndimage/interpolation.py:600: UserWarning: From scipy 0.13.0, the output shape of zoom() is calculated with round() instead of int() - for these inputs the size of the returned array has changed.\n",
      "  \"the returned array has changed.\", UserWarning)\n"
     ]
    },
    {
     "name": "stdout",
     "output_type": "stream",
     "text": [
      "subset4 contains 89 patients\n"
     ]
    },
    {
     "name": "stderr",
     "output_type": "stream",
     "text": [
      "/home/gantos/.local/lib/python3.5/site-packages/scipy/ndimage/interpolation.py:600: UserWarning: From scipy 0.13.0, the output shape of zoom() is calculated with round() instead of int() - for these inputs the size of the returned array has changed.\n",
      "  \"the returned array has changed.\", UserWarning)\n",
      "/home/gantos/.local/lib/python3.5/site-packages/scipy/ndimage/interpolation.py:600: UserWarning: From scipy 0.13.0, the output shape of zoom() is calculated with round() instead of int() - for these inputs the size of the returned array has changed.\n",
      "  \"the returned array has changed.\", UserWarning)\n"
     ]
    },
    {
     "name": "stdout",
     "output_type": "stream",
     "text": [
      "subset6 contains 89 patients\n"
     ]
    },
    {
     "name": "stderr",
     "output_type": "stream",
     "text": [
      "/home/gantos/.local/lib/python3.5/site-packages/scipy/ndimage/interpolation.py:600: UserWarning: From scipy 0.13.0, the output shape of zoom() is calculated with round() instead of int() - for these inputs the size of the returned array has changed.\n",
      "  \"the returned array has changed.\", UserWarning)\n",
      "/home/gantos/.local/lib/python3.5/site-packages/scipy/ndimage/interpolation.py:600: UserWarning: From scipy 0.13.0, the output shape of zoom() is calculated with round() instead of int() - for these inputs the size of the returned array has changed.\n",
      "  \"the returned array has changed.\", UserWarning)\n"
     ]
    },
    {
     "name": "stdout",
     "output_type": "stream",
     "text": [
      "subset0 contains 89 patients\n"
     ]
    },
    {
     "name": "stderr",
     "output_type": "stream",
     "text": [
      "/home/gantos/.local/lib/python3.5/site-packages/scipy/ndimage/interpolation.py:600: UserWarning: From scipy 0.13.0, the output shape of zoom() is calculated with round() instead of int() - for these inputs the size of the returned array has changed.\n",
      "  \"the returned array has changed.\", UserWarning)\n",
      "/home/gantos/.local/lib/python3.5/site-packages/scipy/ndimage/interpolation.py:600: UserWarning: From scipy 0.13.0, the output shape of zoom() is calculated with round() instead of int() - for these inputs the size of the returned array has changed.\n",
      "  \"the returned array has changed.\", UserWarning)\n"
     ]
    },
    {
     "name": "stdout",
     "output_type": "stream",
     "text": [
      "subset8 contains 88 patients\n"
     ]
    },
    {
     "name": "stderr",
     "output_type": "stream",
     "text": [
      "/home/gantos/.local/lib/python3.5/site-packages/scipy/ndimage/interpolation.py:600: UserWarning: From scipy 0.13.0, the output shape of zoom() is calculated with round() instead of int() - for these inputs the size of the returned array has changed.\n",
      "  \"the returned array has changed.\", UserWarning)\n",
      "/home/gantos/.local/lib/python3.5/site-packages/scipy/ndimage/interpolation.py:600: UserWarning: From scipy 0.13.0, the output shape of zoom() is calculated with round() instead of int() - for these inputs the size of the returned array has changed.\n",
      "  \"the returned array has changed.\", UserWarning)\n"
     ]
    },
    {
     "name": "stdout",
     "output_type": "stream",
     "text": [
      "subset1 contains 89 patients\n"
     ]
    },
    {
     "name": "stderr",
     "output_type": "stream",
     "text": [
      "/home/gantos/.local/lib/python3.5/site-packages/scipy/ndimage/interpolation.py:600: UserWarning: From scipy 0.13.0, the output shape of zoom() is calculated with round() instead of int() - for these inputs the size of the returned array has changed.\n",
      "  \"the returned array has changed.\", UserWarning)\n",
      "/home/gantos/.local/lib/python3.5/site-packages/scipy/ndimage/interpolation.py:600: UserWarning: From scipy 0.13.0, the output shape of zoom() is calculated with round() instead of int() - for these inputs the size of the returned array has changed.\n",
      "  \"the returned array has changed.\", UserWarning)\n"
     ]
    },
    {
     "name": "stdout",
     "output_type": "stream",
     "text": [
      "subset7 contains 89 patients\n"
     ]
    },
    {
     "name": "stderr",
     "output_type": "stream",
     "text": [
      "/home/gantos/.local/lib/python3.5/site-packages/scipy/ndimage/interpolation.py:600: UserWarning: From scipy 0.13.0, the output shape of zoom() is calculated with round() instead of int() - for these inputs the size of the returned array has changed.\n",
      "  \"the returned array has changed.\", UserWarning)\n",
      "/home/gantos/.local/lib/python3.5/site-packages/scipy/ndimage/interpolation.py:600: UserWarning: From scipy 0.13.0, the output shape of zoom() is calculated with round() instead of int() - for these inputs the size of the returned array has changed.\n",
      "  \"the returned array has changed.\", UserWarning)\n"
     ]
    }
   ],
   "source": [
    "main(32,42)"
   ]
  },
  {
   "cell_type": "code",
   "execution_count": null,
   "metadata": {
    "collapsed": true
   },
   "outputs": [],
   "source": []
  }
 ],
 "metadata": {
  "kernelspec": {
   "display_name": "Python [conda root]",
   "language": "python",
   "name": "conda-root-py"
  },
  "language_info": {
   "codemirror_mode": {
    "name": "ipython",
    "version": 3
   },
   "file_extension": ".py",
   "mimetype": "text/x-python",
   "name": "python",
   "nbconvert_exporter": "python",
   "pygments_lexer": "ipython3",
   "version": "3.5.2"
  }
 },
 "nbformat": 4,
 "nbformat_minor": 2
}
