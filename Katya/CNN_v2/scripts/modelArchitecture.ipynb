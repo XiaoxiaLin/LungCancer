{
 "cells": [
  {
   "cell_type": "code",
   "execution_count": 2,
   "metadata": {
    "collapsed": true
   },
   "outputs": [],
   "source": [
    "from keras.layers.pooling import AveragePooling3D, GlobalMaxPooling3D\n",
    "from keras.layers import Input, merge, Activation, Dropout\n",
    "from keras.optimizers import Adamax, Adam, Nadam"
   ]
  },
  {
   "cell_type": "code",
   "execution_count": null,
   "metadata": {
    "collapsed": true
   },
   "outputs": [],
   "source": [
    "def compileModel(inputShape, dropRate):\n",
    "    \n",
    "    x = Input(inputShape)\n",
    "    \n",
    "    x1 = convCNNBlock(x, 8, dropRate=dropRate)\n",
    "    x1Pool = AveragePooling3D(dim_ordering=\"th\")(x)\n",
    "    x1Merged = merge([x1, x1Pool], mode='concat', concat_axis=1)\n",
    "    \n",
    "    x2 = convCNNBlock(x1Merged, 24, dropRate=dropRate)\n",
    "    x2Pool = AveragePooling3D(dim_ordering=\"th\")(x1Pool)\n",
    "    x2Merged = merge([x2, x2Pool], mode='concat', concat_axis=1)\n",
    "    \n",
    "    x3 = convCNNBlock(x2Merged, 64, dropRate=dropRate)\n",
    "    x3Pool = AveragePooling3D(dim_ordering=\"th\")(x2Pool)\n",
    "    x3Merged = merge([x3,x3Pool], mode='concat', concat_axis=1)\n",
    "\n",
    "    x4 = convCNNBlock(x3Merged, 72, dropRate=dropRate)\n",
    "    x4Pool = AveragePooling3D(dim_ordering=\"th\")(x3Pool)\n",
    "    x4Merged = merge([x4, x4Pool], mode='concat', concat_axis=1)\n",
    "\n",
    "    x5 = convCNNBlock(x4Merged, 72, dropRate=dropRate)\n",
    "    \n",
    "    xMaxPool = GlobalMaxPooling3D()(x5)\n",
    "    xMaxPoolNorm = BatchNormalization()(xMaxPool) \n",
    "    \n",
    "    xMalig = denseCNNBlock(xMaxPoolNorm, name='Malignancy', outSize=1, activation='sigmoid')\n",
    "    xDiam = denseCNNBlock(xMaxPoolNorm, name='Diameter', outSize=1, activation='sigmoid')\n",
    "    xLob = denseCNNBlock(xMaxPoolNorm, name='Lobulation', outSize=1, activation='sigmoid')\n",
    "    xSpic = denseCNNBlock(xMaxPoolNorm, name='Spiculation', outSize=1, activation='sigmoid')\n",
    "#     xCalc = denseCNNBlock(xMaxPoolNorm, name='Calcification', outSize=1, activation='sigmoid')\n",
    "#     xSpher = denseCNNBlock(xMaxPoolNorm, name='Sphericity', outSize=1, activation='sigmoid')\n",
    "    \n",
    "    model = Model(input=x, output=[xMalig, xDiam, xLob, xSpic])\n",
    "    \n",
    "    opt = Nadam(0.01, clipvalue=1.0)\n",
    "    \n",
    "    print ('Compiling model...')\n",
    "    \n",
    "    model.compile(optimizer=opt,\n",
    "                  loss={'Malignancy':'mse', 'Diameter':'mse', 'Lobulation':'mse',\n",
    "                       'Spiculation':'mse'},\n",
    "                  loss_weights={'Malignancy':5, 'Diameter':1, 'Lobulation':1,\n",
    "                       'Spiculation':3})\n",
    "    \n",
    "    return model"
   ]
  }
 ],
 "metadata": {
  "kernelspec": {
   "display_name": "Python [conda root]",
   "language": "python",
   "name": "conda-root-py"
  },
  "language_info": {
   "codemirror_mode": {
    "name": "ipython",
    "version": 3
   },
   "file_extension": ".py",
   "mimetype": "text/x-python",
   "name": "python",
   "nbconvert_exporter": "python",
   "pygments_lexer": "ipython3",
   "version": "3.5.2"
  }
 },
 "nbformat": 4,
 "nbformat_minor": 2
}
