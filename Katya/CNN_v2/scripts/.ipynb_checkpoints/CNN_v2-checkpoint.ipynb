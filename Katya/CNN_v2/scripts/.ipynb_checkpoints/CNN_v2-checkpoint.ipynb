{
 "cells": [
  {
   "cell_type": "code",
   "execution_count": 118,
   "metadata": {
    "collapsed": false
   },
   "outputs": [],
   "source": [
    "import pandas as pd\n",
    "import pdb\n",
    "import numpy as np\n",
    "from keras.models import Model, load_model\n",
    "from keras.layers import Input, Lambda, Dense, Flatten, Reshape, merge, Highway, Activation,Dropout\n",
    "from keras.layers.convolutional import Conv3D\n",
    "from keras.layers.pooling import GlobalMaxPooling3D, MaxPooling3D, AveragePooling3D,GlobalAveragePooling3D\n",
    "from keras.layers.normalization import BatchNormalization\n",
    "from keras.layers.noise import GaussianDropout\n",
    "from keras.optimizers import Adamax, Adam, Nadam\n",
    "from keras.layers.advanced_activations import ELU,PReLU,LeakyReLU\n",
    "from keras import backend as K\n",
    "from sklearn.preprocessing import LabelBinarizer\n",
    "from keras.regularizers import l2\n",
    "from pylab import imshow, show\n",
    "from keras.preprocessing.image import ImageDataGenerator\n",
    "from keras.models import load_model\n",
    "import os\n",
    "from keras.callbacks import ModelCheckpoint,ReduceLROnPlateau,LearningRateScheduler\n",
    "from sklearn.metrics import accuracy_score, log_loss,roc_auc_score\n",
    "from sklearn.linear_model import LogisticRegression\n",
    "import numpy as np # linear algebra\n",
    "import pandas as pd # data processing, CSV file I/O (e.g. pd.read_csv)\n",
    "import os\n",
    "from sklearn.model_selection import train_test_split\n",
    "import scipy.ndimage\n",
    "import matplotlib.pyplot as plt\n",
    "from joblib import Parallel, delayed\n",
    "from skimage import measure, morphology\n",
    "import SimpleITK as sitk\n",
    "from PIL import Image\n",
    "from scipy import ndimage\n",
    "import threading\n",
    "from multiprocessing import Process\n",
    "from keras.regularizers import l2\n",
    "\n",
    "import tensorflow as tf\n",
    "from keras.backend.tensorflow_backend import set_session\n",
    "config = tf.ConfigProto()\n",
    "config.gpu_options.per_process_gpu_memory_fraction = 0.3\n",
    "set_session(tf.Session(config=config))\n",
    "\n",
    "%matplotlib inline"
   ]
  },
  {
   "cell_type": "code",
   "execution_count": 119,
   "metadata": {
    "collapsed": true
   },
   "outputs": [],
   "source": [
    "def conv_block(x_input, num_filters, pool=True, norm=True, drop_rate=0.0):\n",
    "\n",
    "    x1 = Conv3D(num_filters,3,3,3,border_mode='same', W_regularizer=l2(1e-4), data_format='channels_first')(x_input)\n",
    "    \n",
    "    if norm:\n",
    "        x1 = BatchNormalization(axis=1)(x1)\n",
    "    \n",
    "    x1 = GaussianDropout(drop_rate)(x1)\n",
    "    x1 = LeakyReLU(.1)(x1)\n",
    "    \n",
    "    if pool:\n",
    "        x1 = MaxPooling3D(dim_ordering=\"th\")(x1)\n",
    "        \n",
    "    x_out = x1\n",
    "    \n",
    "    return x_out"
   ]
  },
  {
   "cell_type": "code",
   "execution_count": 120,
   "metadata": {
    "collapsed": true
   },
   "outputs": [],
   "source": [
    "def dense_branch(xstart, name, outSize=1, activation='sigmoid'):\n",
    "    \n",
    "    xdense = Dense(32, W_regularizer=l2(1e-4))(xstart)\n",
    "    xdense = BatchNormalization()(xdense)\n",
    "    xdense = GaussianDropout(0.1)(xdense)\n",
    "    xdense = LeakyReLU(.1)(xdense)\n",
    "    xout = Dense(outSize, activation=activation, name=name, W_regularizer=l2(1e-3))(xdense)\n",
    "    \n",
    "    return xout"
   ]
  },
  {
   "cell_type": "code",
   "execution_count": 121,
   "metadata": {
    "collapsed": false
   },
   "outputs": [],
   "source": [
    "def build_model(input_shape, drop_rate):\n",
    "\n",
    "    xin = Input(input_shape)\n",
    "\n",
    "    x1 = conv_block(xin, 8, drop_rate=drop_rate) #outputs 9 ch\n",
    "    x1_ident = AveragePooling3D(dim_ordering=\"th\")(xin)\n",
    "    x1_merged = merge([x1, x1_ident], mode='concat', concat_axis=1)\n",
    "    \n",
    "    x2_1 = conv_block(x1_merged, 24, drop_rate=drop_rate) #outputs 16+9 ch  = 25\n",
    "    x2_ident = AveragePooling3D(dim_ordering=\"th\")(x1_ident)\n",
    "    x2_merged = merge([x2_1, x2_ident], mode='concat', concat_axis=1)\n",
    "    \n",
    "    #by branching we reduce the #params\n",
    "    x3_1 = conv_block(x2_merged,64,norm=True,drop_rate=drop_rate) #outputs 25 + 16 ch = 41\n",
    "    x3_ident = AveragePooling3D(dim_ordering=\"th\")(x2_ident)\n",
    "    x3_merged = merge([x3_1,x3_ident],mode='concat', concat_axis=1)\n",
    "\n",
    "    x4_1 = conv_block(x3_merged,72,norm=True,drop_rate=drop_rate) #outputs 25 + 16 ch = 41\n",
    "    x4_ident = AveragePooling3D(dim_ordering=\"th\")(x3_ident)\n",
    "    x4_merged = merge([x4_1,x4_ident],mode='concat', concat_axis=1)\n",
    "    \n",
    "\n",
    "    x5_1 = conv_block(x4_merged, 72, norm=True, pool=False, drop_rate=drop_rate) #outputs 25 + 16 ch = 41\n",
    "\n",
    "    xpool = GlobalMaxPooling3D()(x5_1)\n",
    "    xpool_norm = BatchNormalization()(xpool)\n",
    "\n",
    "    xout_malig = dense_branch(xpool_norm,name='o_mal',outSize=1,activation='sigmoid')\n",
    "    \n",
    "    model = Model(input=xin, output=[xout_malig])\n",
    "\n",
    "    \n",
    "    if input_shape[1] == 32:\n",
    "        lr_start = .005\n",
    "    elif input_shape[1] == 64:\n",
    "        lr_start = .001\n",
    "    elif input_shape[1] == 128:\n",
    "        lr_start = 1e-4\n",
    "    elif input_shape[1] == 96:\n",
    "        lr_start = 5e-4\n",
    "    \n",
    "    opt = Nadam(lr_start, clipvalue=1.0)\n",
    "    print ('compiling model')\n",
    "\n",
    "    model.compile(optimizer=opt,\\\n",
    "                  loss={'o_mal':'mean_squared_error'})\n",
    "    return model"
   ]
  },
  {
   "cell_type": "code",
   "execution_count": 129,
   "metadata": {
    "collapsed": true
   },
   "outputs": [
    {
     "name": "stderr",
     "output_type": "stream",
     "text": [
      "/opt/anaconda/lib/python3.5/site-packages/ipykernel/__main__.py:3: UserWarning: Update your `Conv3D` call to the Keras 2 API: `Conv3D(8, (3, 3, 3), data_format=\"channels_first\", padding=\"same\", kernel_regularizer=<keras.reg...)`\n",
      "  app.launch_new_instance()\n",
      "/opt/anaconda/lib/python3.5/site-packages/ipykernel/__main__.py:12: UserWarning: Update your `MaxPooling3D` call to the Keras 2 API: `MaxPooling3D(data_format=\"channels_first\")`\n",
      "/opt/anaconda/lib/python3.5/site-packages/ipykernel/__main__.py:6: UserWarning: Update your `AveragePooling3D` call to the Keras 2 API: `AveragePooling3D(data_format=\"channels_first\")`\n",
      "/opt/anaconda/lib/python3.5/site-packages/ipykernel/__main__.py:7: UserWarning: The `merge` function is deprecated and will be removed after 08/2017. Use instead layers from `keras.layers.merge`, e.g. `add`, `concatenate`, etc.\n",
      "/opt/anaconda/lib/python3.5/site-packages/keras/legacy/layers.py:456: UserWarning: The `Merge` layer is deprecated and will be removed after 08/2017. Use instead layers from `keras.layers.merge`, e.g. `add`, `concatenate`, etc.\n",
      "  name=name)\n",
      "/opt/anaconda/lib/python3.5/site-packages/ipykernel/__main__.py:3: UserWarning: Update your `Conv3D` call to the Keras 2 API: `Conv3D(24, (3, 3, 3), data_format=\"channels_first\", padding=\"same\", kernel_regularizer=<keras.reg...)`\n",
      "  app.launch_new_instance()\n",
      "/opt/anaconda/lib/python3.5/site-packages/ipykernel/__main__.py:10: UserWarning: Update your `AveragePooling3D` call to the Keras 2 API: `AveragePooling3D(data_format=\"channels_first\")`\n",
      "/opt/anaconda/lib/python3.5/site-packages/ipykernel/__main__.py:11: UserWarning: The `merge` function is deprecated and will be removed after 08/2017. Use instead layers from `keras.layers.merge`, e.g. `add`, `concatenate`, etc.\n",
      "/opt/anaconda/lib/python3.5/site-packages/ipykernel/__main__.py:3: UserWarning: Update your `Conv3D` call to the Keras 2 API: `Conv3D(64, (3, 3, 3), data_format=\"channels_first\", padding=\"same\", kernel_regularizer=<keras.reg...)`\n",
      "  app.launch_new_instance()\n",
      "/opt/anaconda/lib/python3.5/site-packages/ipykernel/__main__.py:15: UserWarning: Update your `AveragePooling3D` call to the Keras 2 API: `AveragePooling3D(data_format=\"channels_first\")`\n",
      "/opt/anaconda/lib/python3.5/site-packages/ipykernel/__main__.py:16: UserWarning: The `merge` function is deprecated and will be removed after 08/2017. Use instead layers from `keras.layers.merge`, e.g. `add`, `concatenate`, etc.\n",
      "/opt/anaconda/lib/python3.5/site-packages/ipykernel/__main__.py:3: UserWarning: Update your `Conv3D` call to the Keras 2 API: `Conv3D(72, (3, 3, 3), data_format=\"channels_first\", padding=\"same\", kernel_regularizer=<keras.reg...)`\n",
      "  app.launch_new_instance()\n",
      "/opt/anaconda/lib/python3.5/site-packages/ipykernel/__main__.py:19: UserWarning: Update your `AveragePooling3D` call to the Keras 2 API: `AveragePooling3D(data_format=\"channels_first\")`\n",
      "/opt/anaconda/lib/python3.5/site-packages/ipykernel/__main__.py:20: UserWarning: The `merge` function is deprecated and will be removed after 08/2017. Use instead layers from `keras.layers.merge`, e.g. `add`, `concatenate`, etc.\n",
      "/opt/anaconda/lib/python3.5/site-packages/ipykernel/__main__.py:3: UserWarning: Update your `Dense` call to the Keras 2 API: `Dense(32, kernel_regularizer=<keras.reg...)`\n",
      "  app.launch_new_instance()\n"
     ]
    },
    {
     "name": "stdout",
     "output_type": "stream",
     "text": [
      "compiling model\n"
     ]
    },
    {
     "name": "stderr",
     "output_type": "stream",
     "text": [
      "/opt/anaconda/lib/python3.5/site-packages/ipykernel/__main__.py:7: UserWarning: Update your `Dense` call to the Keras 2 API: `Dense(1, activation=\"sigmoid\", kernel_regularizer=<keras.reg..., name=\"o_mal\")`\n",
      "/opt/anaconda/lib/python3.5/site-packages/ipykernel/__main__.py:30: UserWarning: Update your `Model` call to the Keras 2 API: `Model(outputs=[<tf.Tenso..., inputs=Tensor(\"in...)`\n"
     ]
    }
   ],
   "source": [
    "model_64 = build_model((1,64,64,64),0.0001)"
   ]
  },
  {
   "cell_type": "code",
   "execution_count": 122,
   "metadata": {
    "collapsed": true
   },
   "outputs": [],
   "source": [
    "def str_to_arr(arr_str,length):\n",
    "    while '  ' in arr_str:\n",
    "        arr_str = arr_str.replace('  ', ' ')\n",
    "    result = eval(arr_str.replace('[ ', '[').replace(' ]', ']').replace(' ', ','))\n",
    "    assert len(result) == length\n",
    "    return np.array(result)"
   ]
  },
  {
   "cell_type": "code",
   "execution_count": 123,
   "metadata": {
    "collapsed": true
   },
   "outputs": [],
   "source": [
    "def batchGenerator(X1,X2,IX1,IX2,batch_size,augment=False,current_frac=.5):\n",
    "\n",
    "    df = pd.read_csv('/home/katya/data/CSVFILES/annotations_enhanced.csv')\n",
    "    \n",
    "    #3 categories - [nodule, cad false positive, random subvoxel]\n",
    "\n",
    "    df['malignancy'] /= 5.\n",
    "\n",
    "    Ymalig = df['malignancy'].values\n",
    "\n",
    "    while True:\n",
    "        \n",
    "        n1 = int(current_frac * batch_size)\n",
    "        n2 = batch_size - n1\n",
    "        \n",
    "        ixs1 = np.random.choice(range(X1.shape[0]), size=n1, replace=False)\n",
    "        ixs2 = np.random.choice(range(X2.shape[0]), size=n2, replace=False)\n",
    "        Xbatch1, IXbatch1 = X1[ixs1], IX1[ixs1]\n",
    "        Xbatch2, IXbatch2 = X2[ixs2], IX2[ixs2]\n",
    "        \n",
    "        Xbatch = np.concatenate([Xbatch1, Xbatch2], axis=0)\n",
    "        IXbatch = np.concatenate([IXbatch1, IXbatch2], axis=0)\n",
    "        IXbatch_eq_neg2 = (IXbatch == -2)\n",
    "        IXbatch[IXbatch_eq_neg2] = -1\n",
    "        #this way things that are -2 (cad false positives)\n",
    "        #get labeled as non-nodules for everything else.\n",
    "        #but we still know where they are.\n",
    "        IXbatch_eq_neg1 = (IXbatch == -1)\n",
    "        \n",
    "        #making sure we don't use these.\n",
    "        #row 32 is a big tumor so it should be obvious\n",
    "        \n",
    "        #normalize\n",
    "        Xbatch = np.expand_dims(Xbatch, 1)\n",
    "        if augment:\n",
    "            Xbatch = random_perturb(Xbatch)\n",
    "        Xbatch = Xbatch.astype('float32')\n",
    "        Xbatch = (Xbatch + 1000.) / (400. + 1000.)\n",
    "        Xbatch = np.clip(Xbatch,0,1)\n",
    "        \n",
    "        Ybatch_malig = Ymalig[IXbatch]\n",
    "        Ybatch_malig[IXbatch_eq_neg1] = 0.0\n",
    "        \n",
    "        yield Xbatch, {'o_mal':Ybatch_malig}        "
   ]
  },
  {
   "cell_type": "code",
   "execution_count": 124,
   "metadata": {
    "collapsed": false
   },
   "outputs": [],
   "source": [
    "def stage_1_lr_schedule(i):\n",
    "    if i < 10:\n",
    "        return np.float32(.004)\n",
    "    if i < 15:\n",
    "        return np.float32(.002)\n",
    "    if i < 20:\n",
    "        return np.float32(.0005)\n",
    "    if i < 23:\n",
    "        return np.float32(.0001)\n",
    "    return np.float32(3e-5)\n",
    "\n",
    "def stage_2_lr_schedule(i):\n",
    "    if i == 0:\n",
    "        return np.float32(.001)\n",
    "    if i < 5:\n",
    "        return np.float32(.0004)\n",
    "    if i < 10:\n",
    "        return np.float32(.0002)\n",
    "    return np.float32(3e-5)"
   ]
  },
  {
   "cell_type": "code",
   "execution_count": 133,
   "metadata": {
    "collapsed": false
   },
   "outputs": [],
   "source": [
    "def train_model_on_stage(model, split=True, test_size=0.2, batch_size=10):\n",
    "    \n",
    "    if split:\n",
    "        \n",
    "        Xpos = np.load('/home/katya/data/voxels_true64/subset0Xtrue.npy')\n",
    "        IXpos = np.load('/home/katya/data/voxels_true64/subset0IXtrue.npy')\n",
    "        \n",
    "        for subset in range(1,10):\n",
    "            XposTemp = np.load('/home/katya/data/voxels_true64/subset' + str(subset) + 'Xtrue.npy')\n",
    "            IXposTemp = np.load('/home/katya/data/voxels_true64/subset' + str(subset) + 'IXtrue.npy')\n",
    "            \n",
    "            Xpos = np.concatenate((Xpos, XposTemp),axis=0)\n",
    "            IXpos = np.concatenate((IXpos, IXposTemp),axis=0)\n",
    "            \n",
    "        del XposTemp, IXposTemp\n",
    "        \n",
    "        Xtrain1,Xvalid1,IXtrain1,IXvalid1 = train_test_split(Xpos, IXpos, test_size=test_size)\n",
    "        \n",
    "        del Xpos, IXpos\n",
    "        \n",
    "        Xneg = np.load('/home/katya/data/voxels_random64/subset0Xrandom.npy')\n",
    "        IXneg = np.load('/home/katya/data/voxels_random64/subset0IXrandom.npy')\n",
    "        \n",
    "        for subset in range(1,10):\n",
    "            XnegTemp = np.load('/home/katya/data/voxels_true64/subset' + str(subset) + 'Xtrue.npy')\n",
    "            IXnegTemp = np.load('/home/katya/data/voxels_true64/subset' + str(subset) + 'IXtrue.npy')\n",
    "            \n",
    "            Xneg = np.concatenate((Xneg, XnegTemp),axis=0)\n",
    "            IXneg = np.concatenate((IXneg, IXnegTemp),axis=0)\n",
    "            \n",
    "        del XnegTemp, IXnegTemp\n",
    "        \n",
    "        Xtrain2,Xvalid2,IXtrain2,IXvalid2 = train_test_split(Xneg, IXneg, test_size=test_size)\n",
    "        \n",
    "        del Xneg, IXneg\n",
    "        \n",
    "        train_generator_75 = batchGenerator(Xtrain1,Xtrain2,IXtrain1,IXtrain2,\\\n",
    "                                                  augment=False, batch_size=batch_size,\\\n",
    "                                                  current_frac=.5)\n",
    "        valid_generator_75 = batchGenerator(Xvalid1,Xvalid2,IXvalid1,IXvalid2,\\\n",
    "                                                  augment=False, batch_size=batch_size,\\\n",
    "                                                  current_frac=.5)\n",
    "    \n",
    "    else:\n",
    "\n",
    "    \n",
    "        subset=str(subset)\n",
    "        Xpos = np.load('/home/katya/data/voxels_true64/subset' + subset + 'Xtrue.npy')\n",
    "        IXpos = np.load('/home/katya/data/voxels_true64/subset' + subset + 'IXtrue.npy')\n",
    "        Xneg = np.load('/home/katya/data/voxels_random64/subset' + subset + 'Xrandom.npy')\n",
    "        IXneg = np.load('/home/katya/data/voxels_random64/subset' + subset + 'IXrandom.npy')\n",
    "        train_generator_75 = batchGenerator(Xpos, Xneg, IXpos, IXneg, \\\n",
    "                                                  augment=False, batch_size=batch_size, \\\n",
    "                                                  current_frac=.5)\n",
    "\n",
    "\n",
    "    name = '../model_and_weights/model_LUNA_v1_{epoch:02d}.h5'\n",
    "    chkp = ModelCheckpoint(filepath=name)\n",
    "\n",
    "    lr_schedule = LearningRateScheduler(stage_2_lr_schedule)\n",
    "    nb_epoch = 1\n",
    "    steps_per_epoch = 1\n",
    "        \n",
    "    lossHist = {}\n",
    "    \n",
    "#     for lossType in ['o_mal_loss','val_o_mal_loss']:\n",
    "#         lossHist[lossType] = []\n",
    "    \n",
    "    for epoch in range(nb_epoch):\n",
    "        lossHist = model.fit_generator(train_generator_75,validation_data=valid_generator_75, validation_steps=1,\\\n",
    "                                   steps_per_epoch=steps_per_epoch, \\\n",
    "                            nb_epoch=epoch+1,callbacks=[chkp],initial_epoch=epoch)\n",
    "#         for lossType in hist.history[lossType]:\n",
    "#             lossHist[lossType].extend(hist.history[lossType])\n",
    "\n",
    "    return model, lossHist"
   ]
  },
  {
   "cell_type": "code",
   "execution_count": 134,
   "metadata": {
    "collapsed": false,
    "scrolled": false
   },
   "outputs": [
    {
     "name": "stderr",
     "output_type": "stream",
     "text": [
      "/opt/anaconda/lib/python3.5/site-packages/ipykernel/__main__.py:64: UserWarning: Update your `fit_generator` call to the Keras 2 API: `fit_generator(<generator..., callbacks=[<keras.ca..., initial_epoch=0, validation_steps=1, validation_data=<generator..., epochs=1, steps_per_epoch=1)`\n"
     ]
    },
    {
     "name": "stdout",
     "output_type": "stream",
     "text": [
      "Epoch 1/1\n"
     ]
    },
    {
     "ename": "KeyboardInterrupt",
     "evalue": "",
     "output_type": "error",
     "traceback": [
      "\u001b[0;31m---------------------------------------------------------------------------\u001b[0m",
      "\u001b[0;31mKeyboardInterrupt\u001b[0m                         Traceback (most recent call last)",
      "\u001b[0;32m<ipython-input-134-1acdc927109f>\u001b[0m in \u001b[0;36m<module>\u001b[0;34m()\u001b[0m\n\u001b[1;32m      1\u001b[0m \u001b[0;31m# model_64.load_weights('/home/katya/LungCancer/Katya/CNN_v1/model_v1_weights_temp64.h5')\u001b[0m\u001b[0;34m\u001b[0m\u001b[0;34m\u001b[0m\u001b[0m\n\u001b[0;32m----> 2\u001b[0;31m \u001b[0mmodel_64\u001b[0m\u001b[0;34m,\u001b[0m \u001b[0mlossHist\u001b[0m \u001b[0;34m=\u001b[0m \u001b[0mtrain_model_on_stage\u001b[0m\u001b[0;34m(\u001b[0m\u001b[0mmodel_64\u001b[0m\u001b[0;34m,\u001b[0m \u001b[0msplit\u001b[0m\u001b[0;34m=\u001b[0m\u001b[0;32mTrue\u001b[0m\u001b[0;34m,\u001b[0m \u001b[0mbatch_size\u001b[0m\u001b[0;34m=\u001b[0m\u001b[0;36m30\u001b[0m\u001b[0;34m)\u001b[0m\u001b[0;34m\u001b[0m\u001b[0m\n\u001b[0m\u001b[1;32m      3\u001b[0m \u001b[0mmodel_64\u001b[0m\u001b[0;34m.\u001b[0m\u001b[0msave_weights\u001b[0m\u001b[0;34m(\u001b[0m\u001b[0;34m'/home/katya/LungCancer/Katya/CNN_v2/model_and_weights/model_v1_weights_temp64.h5'\u001b[0m\u001b[0;34m)\u001b[0m\u001b[0;34m\u001b[0m\u001b[0m\n",
      "\u001b[0;32m<ipython-input-133-ba2336627a40>\u001b[0m in \u001b[0;36mtrain_model_on_stage\u001b[0;34m(model, split, test_size, batch_size)\u001b[0m\n\u001b[1;32m     62\u001b[0m \u001b[0;34m\u001b[0m\u001b[0m\n\u001b[1;32m     63\u001b[0m     \u001b[0;32mfor\u001b[0m \u001b[0mepoch\u001b[0m \u001b[0;32min\u001b[0m \u001b[0mrange\u001b[0m\u001b[0;34m(\u001b[0m\u001b[0mnb_epoch\u001b[0m\u001b[0;34m)\u001b[0m\u001b[0;34m:\u001b[0m\u001b[0;34m\u001b[0m\u001b[0m\n\u001b[0;32m---> 64\u001b[0;31m         \u001b[0mlossHist\u001b[0m \u001b[0;34m=\u001b[0m \u001b[0mmodel\u001b[0m\u001b[0;34m.\u001b[0m\u001b[0mfit_generator\u001b[0m\u001b[0;34m(\u001b[0m\u001b[0mtrain_generator_75\u001b[0m\u001b[0;34m,\u001b[0m\u001b[0mvalidation_data\u001b[0m\u001b[0;34m=\u001b[0m\u001b[0mvalid_generator_75\u001b[0m\u001b[0;34m,\u001b[0m \u001b[0mvalidation_steps\u001b[0m\u001b[0;34m=\u001b[0m\u001b[0;36m1\u001b[0m\u001b[0;34m,\u001b[0m                                   \u001b[0msteps_per_epoch\u001b[0m\u001b[0;34m=\u001b[0m\u001b[0msteps_per_epoch\u001b[0m\u001b[0;34m,\u001b[0m                             \u001b[0mnb_epoch\u001b[0m\u001b[0;34m=\u001b[0m\u001b[0mepoch\u001b[0m\u001b[0;34m+\u001b[0m\u001b[0;36m1\u001b[0m\u001b[0;34m,\u001b[0m\u001b[0mcallbacks\u001b[0m\u001b[0;34m=\u001b[0m\u001b[0;34m[\u001b[0m\u001b[0mchkp\u001b[0m\u001b[0;34m]\u001b[0m\u001b[0;34m,\u001b[0m\u001b[0minitial_epoch\u001b[0m\u001b[0;34m=\u001b[0m\u001b[0mepoch\u001b[0m\u001b[0;34m)\u001b[0m\u001b[0;34m\u001b[0m\u001b[0m\n\u001b[0m\u001b[1;32m     65\u001b[0m \u001b[0;31m#         for lossType in hist.history[lossType]:\u001b[0m\u001b[0;34m\u001b[0m\u001b[0;34m\u001b[0m\u001b[0m\n\u001b[1;32m     66\u001b[0m \u001b[0;31m#             lossHist[lossType].extend(hist.history[lossType])\u001b[0m\u001b[0;34m\u001b[0m\u001b[0;34m\u001b[0m\u001b[0m\n",
      "\u001b[0;32m/opt/anaconda/lib/python3.5/site-packages/keras/legacy/interfaces.py\u001b[0m in \u001b[0;36mwrapper\u001b[0;34m(*args, **kwargs)\u001b[0m\n\u001b[1;32m     86\u001b[0m                 warnings.warn('Update your `' + object_name +\n\u001b[1;32m     87\u001b[0m                               '` call to the Keras 2 API: ' + signature, stacklevel=2)\n\u001b[0;32m---> 88\u001b[0;31m             \u001b[0;32mreturn\u001b[0m \u001b[0mfunc\u001b[0m\u001b[0;34m(\u001b[0m\u001b[0;34m*\u001b[0m\u001b[0margs\u001b[0m\u001b[0;34m,\u001b[0m \u001b[0;34m**\u001b[0m\u001b[0mkwargs\u001b[0m\u001b[0;34m)\u001b[0m\u001b[0;34m\u001b[0m\u001b[0m\n\u001b[0m\u001b[1;32m     89\u001b[0m         \u001b[0mwrapper\u001b[0m\u001b[0;34m.\u001b[0m\u001b[0m_legacy_support_signature\u001b[0m \u001b[0;34m=\u001b[0m \u001b[0minspect\u001b[0m\u001b[0;34m.\u001b[0m\u001b[0mgetargspec\u001b[0m\u001b[0;34m(\u001b[0m\u001b[0mfunc\u001b[0m\u001b[0;34m)\u001b[0m\u001b[0;34m\u001b[0m\u001b[0m\n\u001b[1;32m     90\u001b[0m         \u001b[0;32mreturn\u001b[0m \u001b[0mwrapper\u001b[0m\u001b[0;34m\u001b[0m\u001b[0m\n",
      "\u001b[0;32m/opt/anaconda/lib/python3.5/site-packages/keras/engine/training.py\u001b[0m in \u001b[0;36mfit_generator\u001b[0;34m(self, generator, steps_per_epoch, epochs, verbose, callbacks, validation_data, validation_steps, class_weight, max_q_size, workers, pickle_safe, initial_epoch)\u001b[0m\n\u001b[1;32m   1874\u001b[0m                     outs = self.train_on_batch(x, y,\n\u001b[1;32m   1875\u001b[0m                                                \u001b[0msample_weight\u001b[0m\u001b[0;34m=\u001b[0m\u001b[0msample_weight\u001b[0m\u001b[0;34m,\u001b[0m\u001b[0;34m\u001b[0m\u001b[0m\n\u001b[0;32m-> 1876\u001b[0;31m                                                class_weight=class_weight)\n\u001b[0m\u001b[1;32m   1877\u001b[0m \u001b[0;34m\u001b[0m\u001b[0m\n\u001b[1;32m   1878\u001b[0m                     \u001b[0;32mif\u001b[0m \u001b[0;32mnot\u001b[0m \u001b[0misinstance\u001b[0m\u001b[0;34m(\u001b[0m\u001b[0mouts\u001b[0m\u001b[0;34m,\u001b[0m \u001b[0mlist\u001b[0m\u001b[0;34m)\u001b[0m\u001b[0;34m:\u001b[0m\u001b[0;34m\u001b[0m\u001b[0m\n",
      "\u001b[0;32m/opt/anaconda/lib/python3.5/site-packages/keras/engine/training.py\u001b[0m in \u001b[0;36mtrain_on_batch\u001b[0;34m(self, x, y, sample_weight, class_weight)\u001b[0m\n\u001b[1;32m   1618\u001b[0m             \u001b[0mins\u001b[0m \u001b[0;34m=\u001b[0m \u001b[0mx\u001b[0m \u001b[0;34m+\u001b[0m \u001b[0my\u001b[0m \u001b[0;34m+\u001b[0m \u001b[0msample_weights\u001b[0m\u001b[0;34m\u001b[0m\u001b[0m\n\u001b[1;32m   1619\u001b[0m         \u001b[0mself\u001b[0m\u001b[0;34m.\u001b[0m\u001b[0m_make_train_function\u001b[0m\u001b[0;34m(\u001b[0m\u001b[0;34m)\u001b[0m\u001b[0;34m\u001b[0m\u001b[0m\n\u001b[0;32m-> 1620\u001b[0;31m         \u001b[0moutputs\u001b[0m \u001b[0;34m=\u001b[0m \u001b[0mself\u001b[0m\u001b[0;34m.\u001b[0m\u001b[0mtrain_function\u001b[0m\u001b[0;34m(\u001b[0m\u001b[0mins\u001b[0m\u001b[0;34m)\u001b[0m\u001b[0;34m\u001b[0m\u001b[0m\n\u001b[0m\u001b[1;32m   1621\u001b[0m         \u001b[0;32mif\u001b[0m \u001b[0mlen\u001b[0m\u001b[0;34m(\u001b[0m\u001b[0moutputs\u001b[0m\u001b[0;34m)\u001b[0m \u001b[0;34m==\u001b[0m \u001b[0;36m1\u001b[0m\u001b[0;34m:\u001b[0m\u001b[0;34m\u001b[0m\u001b[0m\n\u001b[1;32m   1622\u001b[0m             \u001b[0;32mreturn\u001b[0m \u001b[0moutputs\u001b[0m\u001b[0;34m[\u001b[0m\u001b[0;36m0\u001b[0m\u001b[0;34m]\u001b[0m\u001b[0;34m\u001b[0m\u001b[0m\n",
      "\u001b[0;32m/opt/anaconda/lib/python3.5/site-packages/keras/backend/tensorflow_backend.py\u001b[0m in \u001b[0;36m__call__\u001b[0;34m(self, inputs)\u001b[0m\n\u001b[1;32m   2071\u001b[0m         \u001b[0msession\u001b[0m \u001b[0;34m=\u001b[0m \u001b[0mget_session\u001b[0m\u001b[0;34m(\u001b[0m\u001b[0;34m)\u001b[0m\u001b[0;34m\u001b[0m\u001b[0m\n\u001b[1;32m   2072\u001b[0m         updated = session.run(self.outputs + [self.updates_op],\n\u001b[0;32m-> 2073\u001b[0;31m                               feed_dict=feed_dict)\n\u001b[0m\u001b[1;32m   2074\u001b[0m         \u001b[0;32mreturn\u001b[0m \u001b[0mupdated\u001b[0m\u001b[0;34m[\u001b[0m\u001b[0;34m:\u001b[0m\u001b[0mlen\u001b[0m\u001b[0;34m(\u001b[0m\u001b[0mself\u001b[0m\u001b[0;34m.\u001b[0m\u001b[0moutputs\u001b[0m\u001b[0;34m)\u001b[0m\u001b[0;34m]\u001b[0m\u001b[0;34m\u001b[0m\u001b[0m\n\u001b[1;32m   2075\u001b[0m \u001b[0;34m\u001b[0m\u001b[0m\n",
      "\u001b[0;32m/opt/anaconda/lib/python3.5/site-packages/tensorflow/python/client/session.py\u001b[0m in \u001b[0;36mrun\u001b[0;34m(self, fetches, feed_dict, options, run_metadata)\u001b[0m\n\u001b[1;32m    765\u001b[0m     \u001b[0;32mtry\u001b[0m\u001b[0;34m:\u001b[0m\u001b[0;34m\u001b[0m\u001b[0m\n\u001b[1;32m    766\u001b[0m       result = self._run(None, fetches, feed_dict, options_ptr,\n\u001b[0;32m--> 767\u001b[0;31m                          run_metadata_ptr)\n\u001b[0m\u001b[1;32m    768\u001b[0m       \u001b[0;32mif\u001b[0m \u001b[0mrun_metadata\u001b[0m\u001b[0;34m:\u001b[0m\u001b[0;34m\u001b[0m\u001b[0m\n\u001b[1;32m    769\u001b[0m         \u001b[0mproto_data\u001b[0m \u001b[0;34m=\u001b[0m \u001b[0mtf_session\u001b[0m\u001b[0;34m.\u001b[0m\u001b[0mTF_GetBuffer\u001b[0m\u001b[0;34m(\u001b[0m\u001b[0mrun_metadata_ptr\u001b[0m\u001b[0;34m)\u001b[0m\u001b[0;34m\u001b[0m\u001b[0m\n",
      "\u001b[0;32m/opt/anaconda/lib/python3.5/site-packages/tensorflow/python/client/session.py\u001b[0m in \u001b[0;36m_run\u001b[0;34m(self, handle, fetches, feed_dict, options, run_metadata)\u001b[0m\n\u001b[1;32m    963\u001b[0m     \u001b[0;32mif\u001b[0m \u001b[0mfinal_fetches\u001b[0m \u001b[0;32mor\u001b[0m \u001b[0mfinal_targets\u001b[0m\u001b[0;34m:\u001b[0m\u001b[0;34m\u001b[0m\u001b[0m\n\u001b[1;32m    964\u001b[0m       results = self._do_run(handle, final_targets, final_fetches,\n\u001b[0;32m--> 965\u001b[0;31m                              feed_dict_string, options, run_metadata)\n\u001b[0m\u001b[1;32m    966\u001b[0m     \u001b[0;32melse\u001b[0m\u001b[0;34m:\u001b[0m\u001b[0;34m\u001b[0m\u001b[0m\n\u001b[1;32m    967\u001b[0m       \u001b[0mresults\u001b[0m \u001b[0;34m=\u001b[0m \u001b[0;34m[\u001b[0m\u001b[0;34m]\u001b[0m\u001b[0;34m\u001b[0m\u001b[0m\n",
      "\u001b[0;32m/opt/anaconda/lib/python3.5/site-packages/tensorflow/python/client/session.py\u001b[0m in \u001b[0;36m_do_run\u001b[0;34m(self, handle, target_list, fetch_list, feed_dict, options, run_metadata)\u001b[0m\n\u001b[1;32m   1013\u001b[0m     \u001b[0;32mif\u001b[0m \u001b[0mhandle\u001b[0m \u001b[0;32mis\u001b[0m \u001b[0;32mNone\u001b[0m\u001b[0;34m:\u001b[0m\u001b[0;34m\u001b[0m\u001b[0m\n\u001b[1;32m   1014\u001b[0m       return self._do_call(_run_fn, self._session, feed_dict, fetch_list,\n\u001b[0;32m-> 1015\u001b[0;31m                            target_list, options, run_metadata)\n\u001b[0m\u001b[1;32m   1016\u001b[0m     \u001b[0;32melse\u001b[0m\u001b[0;34m:\u001b[0m\u001b[0;34m\u001b[0m\u001b[0m\n\u001b[1;32m   1017\u001b[0m       return self._do_call(_prun_fn, self._session, handle, feed_dict,\n",
      "\u001b[0;32m/opt/anaconda/lib/python3.5/site-packages/tensorflow/python/client/session.py\u001b[0m in \u001b[0;36m_do_call\u001b[0;34m(self, fn, *args)\u001b[0m\n\u001b[1;32m   1020\u001b[0m   \u001b[0;32mdef\u001b[0m \u001b[0m_do_call\u001b[0m\u001b[0;34m(\u001b[0m\u001b[0mself\u001b[0m\u001b[0;34m,\u001b[0m \u001b[0mfn\u001b[0m\u001b[0;34m,\u001b[0m \u001b[0;34m*\u001b[0m\u001b[0margs\u001b[0m\u001b[0;34m)\u001b[0m\u001b[0;34m:\u001b[0m\u001b[0;34m\u001b[0m\u001b[0m\n\u001b[1;32m   1021\u001b[0m     \u001b[0;32mtry\u001b[0m\u001b[0;34m:\u001b[0m\u001b[0;34m\u001b[0m\u001b[0m\n\u001b[0;32m-> 1022\u001b[0;31m       \u001b[0;32mreturn\u001b[0m \u001b[0mfn\u001b[0m\u001b[0;34m(\u001b[0m\u001b[0;34m*\u001b[0m\u001b[0margs\u001b[0m\u001b[0;34m)\u001b[0m\u001b[0;34m\u001b[0m\u001b[0m\n\u001b[0m\u001b[1;32m   1023\u001b[0m     \u001b[0;32mexcept\u001b[0m \u001b[0merrors\u001b[0m\u001b[0;34m.\u001b[0m\u001b[0mOpError\u001b[0m \u001b[0;32mas\u001b[0m \u001b[0me\u001b[0m\u001b[0;34m:\u001b[0m\u001b[0;34m\u001b[0m\u001b[0m\n\u001b[1;32m   1024\u001b[0m       \u001b[0mmessage\u001b[0m \u001b[0;34m=\u001b[0m \u001b[0mcompat\u001b[0m\u001b[0;34m.\u001b[0m\u001b[0mas_text\u001b[0m\u001b[0;34m(\u001b[0m\u001b[0me\u001b[0m\u001b[0;34m.\u001b[0m\u001b[0mmessage\u001b[0m\u001b[0;34m)\u001b[0m\u001b[0;34m\u001b[0m\u001b[0m\n",
      "\u001b[0;32m/opt/anaconda/lib/python3.5/site-packages/tensorflow/python/client/session.py\u001b[0m in \u001b[0;36m_run_fn\u001b[0;34m(session, feed_dict, fetch_list, target_list, options, run_metadata)\u001b[0m\n\u001b[1;32m   1002\u001b[0m         return tf_session.TF_Run(session, options,\n\u001b[1;32m   1003\u001b[0m                                  \u001b[0mfeed_dict\u001b[0m\u001b[0;34m,\u001b[0m \u001b[0mfetch_list\u001b[0m\u001b[0;34m,\u001b[0m \u001b[0mtarget_list\u001b[0m\u001b[0;34m,\u001b[0m\u001b[0;34m\u001b[0m\u001b[0m\n\u001b[0;32m-> 1004\u001b[0;31m                                  status, run_metadata)\n\u001b[0m\u001b[1;32m   1005\u001b[0m \u001b[0;34m\u001b[0m\u001b[0m\n\u001b[1;32m   1006\u001b[0m     \u001b[0;32mdef\u001b[0m \u001b[0m_prun_fn\u001b[0m\u001b[0;34m(\u001b[0m\u001b[0msession\u001b[0m\u001b[0;34m,\u001b[0m \u001b[0mhandle\u001b[0m\u001b[0;34m,\u001b[0m \u001b[0mfeed_dict\u001b[0m\u001b[0;34m,\u001b[0m \u001b[0mfetch_list\u001b[0m\u001b[0;34m)\u001b[0m\u001b[0;34m:\u001b[0m\u001b[0;34m\u001b[0m\u001b[0m\n",
      "\u001b[0;31mKeyboardInterrupt\u001b[0m: "
     ]
    }
   ],
   "source": [
    "# model_64.load_weights('/home/katya/LungCancer/Katya/CNN_v1/model_v1_weights_temp64.h5')\n",
    "model_64, lossHist = train_model_on_stage(model_64, split=True, batch_size=30)\n",
    "model_64.save_weights('/home/katya/LungCancer/Katya/CNN_v2/model_and_weights/model_v1_weights_temp64.h5')"
   ]
  },
  {
   "cell_type": "code",
   "execution_count": null,
   "metadata": {
    "collapsed": true
   },
   "outputs": [],
   "source": [
    "lossHist"
   ]
  },
  {
   "cell_type": "code",
   "execution_count": 103,
   "metadata": {
    "collapsed": false
   },
   "outputs": [
    {
     "data": {
      "image/png": "[encoded data removed]",
      "text/plain": [
       "<matplotlib.figure.Figure at 0x7fe0ca27f780>"
      ]
     },
     "metadata": {},
     "output_type": "display_data"
    }
   ],
   "source": [
    "plt.figure(figsize=[10,7])\n",
    "plt.grid(True, ls='--', lw=0.5, alpha=0.5, dash_capstyle = 'round', c='gray')\n",
    "plt.xlabel('Epoch #', fontsize=15)\n",
    "plt.ylabel('Loss', fontsize=15)\n",
    "\n",
    "colors = ['#F03861',''#176D81','#71ADB5','#0D3446']\n",
    "\n",
    "labels=list(lossHist.keys())\n",
    "\n",
    "for i,key in enumerate(lossHist):\n",
    "    plt.plot([x for x in range(15)], lossHist[key], '-', color=colors[i], label=labels[i])\n",
    "    plt.legend()\n",
    "    \n",
    "plt.savefig('/home/katya/LungCancer/Katya/CNN_v2/figures/2.png')"
   ]
  },
  {
   "cell_type": "code",
   "execution_count": null,
   "metadata": {
    "collapsed": true
   },
   "outputs": [],
   "source": []
  }
 ],
 "metadata": {
  "kernelspec": {
   "display_name": "Python [conda root]",
   "language": "python",
   "name": "conda-root-py"
  },
  "language_info": {
   "codemirror_mode": {
    "name": "ipython",
    "version": 3
   },
   "file_extension": ".py",
   "mimetype": "text/x-python",
   "name": "python",
   "nbconvert_exporter": "python",
   "pygments_lexer": "ipython3",
   "version": "3.5.2"
  }
 },
 "nbformat": 4,
 "nbformat_minor": 2
}
