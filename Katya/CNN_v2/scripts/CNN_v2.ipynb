{
 "cells": [
  {
   "cell_type": "code",
   "execution_count": 1,
   "metadata": {
    "collapsed": false
   },
   "outputs": [
    {
     "name": "stderr",
     "output_type": "stream",
     "text": [
      "Using TensorFlow backend.\n"
     ]
    }
   ],
   "source": [
    "import pandas as pd\n",
    "import pdb\n",
    "import numpy as np\n",
    "from keras.models import Model, load_model\n",
    "from keras.layers import Input, Lambda, Dense, Flatten, Reshape, merge, Highway, Activation,Dropout\n",
    "from keras.layers.convolutional import Conv3D\n",
    "from keras.layers.pooling import GlobalMaxPooling3D, MaxPooling3D, AveragePooling3D,GlobalAveragePooling3D\n",
    "from keras.layers.normalization import BatchNormalization\n",
    "from keras.layers.noise import GaussianDropout\n",
    "from keras.optimizers import Adamax, Adam, Nadam\n",
    "from keras.layers.advanced_activations import ELU,PReLU,LeakyReLU\n",
    "from keras import backend as K\n",
    "from sklearn.preprocessing import LabelBinarizer\n",
    "from keras.regularizers import l2\n",
    "from pylab import imshow, show\n",
    "from keras.preprocessing.image import ImageDataGenerator\n",
    "from keras.models import load_model\n",
    "import os\n",
    "from keras.callbacks import ModelCheckpoint,ReduceLROnPlateau,LearningRateScheduler\n",
    "from sklearn.metrics import accuracy_score, log_loss,roc_auc_score\n",
    "from sklearn.linear_model import LogisticRegression\n",
    "import numpy as np # linear algebra\n",
    "import pandas as pd # data processing, CSV file I/O (e.g. pd.read_csv)\n",
    "import os\n",
    "import scipy.ndimage\n",
    "import matplotlib.pyplot as plt\n",
    "from joblib import Parallel, delayed\n",
    "from skimage import measure, morphology\n",
    "import SimpleITK as sitk\n",
    "from PIL import Image\n",
    "from scipy import ndimage\n",
    "import threading\n",
    "from multiprocessing import Process\n",
    "from keras.regularizers import l2\n",
    "\n",
    "import tensorflow as tf\n",
    "from keras.backend.tensorflow_backend import set_session\n",
    "config = tf.ConfigProto()\n",
    "config.gpu_options.per_process_gpu_memory_fraction = 0.3\n",
    "set_session(tf.Session(config=config))\n",
    "\n",
    "%matplotlib inline"
   ]
  },
  {
   "cell_type": "code",
   "execution_count": 2,
   "metadata": {
    "collapsed": true
   },
   "outputs": [],
   "source": [
    "def conv_block(x_input, num_filters, pool=True, norm=True, drop_rate=0.0):\n",
    "\n",
    "    x1 = Conv3D(num_filters,3,3,3,border_mode='same',W_regularizer=l2(1e-4), data_format='channels_first')(x_input)\n",
    "    \n",
    "    if norm:\n",
    "        x1 = BatchNormalization(axis=1)(x1)\n",
    "    \n",
    "    x1 = GaussianDropout(drop_rate)(x1)\n",
    "    x1 = LeakyReLU(.1)(x1)\n",
    "    \n",
    "    if pool:\n",
    "        x1 = MaxPooling3D(dim_ordering=\"th\")(x1)\n",
    "        \n",
    "    x_out = x1\n",
    "    \n",
    "    return x_out"
   ]
  },
  {
   "cell_type": "code",
   "execution_count": 3,
   "metadata": {
    "collapsed": true
   },
   "outputs": [],
   "source": [
    "def dense_branch(xstart, name, outSize=1, activation='sigmoid'):\n",
    "    \n",
    "    xdense = Dense(32, W_regularizer=l2(1e-4))(xstart)\n",
    "    xdense = BatchNormalization()(xdense)\n",
    "    xdense = LeakyReLU(.1)(xdense)\n",
    "    xout = Dense(outSize, activation=activation, name=name, W_regularizer=l2(1e-4))(xdense)\n",
    "    \n",
    "    return xout"
   ]
  },
  {
   "cell_type": "code",
   "execution_count": 4,
   "metadata": {
    "collapsed": false
   },
   "outputs": [],
   "source": [
    "def build_model(input_shape):\n",
    "\n",
    "    xin = Input(input_shape)\n",
    "\n",
    "    x1 = conv_block(xin, 8, drop_rate=0) #outputs 9 ch\n",
    "    x1_ident = AveragePooling3D(dim_ordering=\"th\")(xin)\n",
    "    x1_merged = merge([x1, x1_ident], mode='concat', concat_axis=1)\n",
    "    \n",
    "    x2_1 = conv_block(x1_merged, 24, drop_rate=0) #outputs 16+9 ch  = 25\n",
    "    x2_ident = AveragePooling3D(dim_ordering=\"th\")(x1_ident)\n",
    "    x2_merged = merge([x2_1, x2_ident], mode='concat', concat_axis=1)\n",
    "    \n",
    "    #by branching we reduce the #params\n",
    "    x3_1 = conv_block(x2_merged,64,norm=True,drop_rate=0) #outputs 25 + 16 ch = 41\n",
    "    x3_ident = AveragePooling3D(dim_ordering=\"th\")(x2_ident)\n",
    "    x3_merged = merge([x3_1,x3_ident],mode='concat', concat_axis=1)\n",
    "\n",
    "    x4_1 = conv_block(x3_merged,72,norm=True,drop_rate=0) #outputs 25 + 16 ch = 41\n",
    "    x4_ident = AveragePooling3D(dim_ordering=\"th\")(x3_ident)\n",
    "    x4_merged = merge([x4_1,x4_ident],mode='concat', concat_axis=1)\n",
    "    \n",
    "\n",
    "    x5_1 = conv_block(x4_merged, 72, norm=True, pool=False, drop_rate=0) #outputs 25 + 16 ch = 41\n",
    "\n",
    "    xpool = GlobalMaxPooling3D()(x5_1)\n",
    "    xpool_norm = BatchNormalization()(xpool)\n",
    "\n",
    "    xout_cad_falsepositive = dense_branch(xpool_norm, name='o_fp', outSize=3, activation='softmax')\n",
    "    xout_malig = dense_branch(xpool_norm,name='o_mal',outSize=1,activation='sigmoid')\n",
    "    \n",
    "    model = Model(input=xin, output=[xout_malig, xout_cad_falsepositive])\n",
    "\n",
    "    \n",
    "    if input_shape[1] == 32:\n",
    "        lr_start = .005\n",
    "    elif input_shape[1] == 64:\n",
    "        lr_start = .001\n",
    "    elif input_shape[1] == 128:\n",
    "        lr_start = 1e-4\n",
    "    elif input_shape[1] == 96:\n",
    "        lr_start = 5e-4\n",
    "    \n",
    "    opt = Nadam(lr_start, clipvalue=1.0)\n",
    "    print ('compiling model')\n",
    "\n",
    "    model.compile(optimizer=opt,\\\n",
    "                  loss={'o_mal':'binary_crossentropy', 'o_fp':'categorical_crossentropy'})\n",
    "    return model"
   ]
  },
  {
   "cell_type": "code",
   "execution_count": 5,
   "metadata": {
    "collapsed": true
   },
   "outputs": [],
   "source": [
    "def str_to_arr(arr_str,length):\n",
    "    while '  ' in arr_str:\n",
    "        arr_str = arr_str.replace('  ', ' ')\n",
    "    result = eval(arr_str.replace('[ ', '[').replace(' ]', ']').replace(' ', ','))\n",
    "    assert len(result) == length\n",
    "    return np.array(result)"
   ]
  },
  {
   "cell_type": "code",
   "execution_count": 6,
   "metadata": {
    "collapsed": true
   },
   "outputs": [],
   "source": [
    "def get_generator_static(X1,X2,IX1,IX2,batch_size,augment=False,current_frac=.75):\n",
    "\n",
    "    df = pd.read_csv('/home/katya/data/CSVFILES/annotations_enhanced.csv')\n",
    "    \n",
    "    Ycad_fp = np.zeros((df.shape[0],3)).astype('float32')\n",
    "    Ycad_fp[:,0] = 1.0\n",
    "    #3 categories - [nodule, cad false positive, random subvoxel]\n",
    "\n",
    "    df['malignancy'] /= 5.\n",
    "\n",
    "    Ymalig = df['malignancy'].values\n",
    "\n",
    "    while True:\n",
    "        \n",
    "        n1 = int(current_frac * batch_size)\n",
    "        n2 = batch_size - n1\n",
    "        \n",
    "        ixs1 = np.random.choice(range(X1.shape[0]), size=n1, replace=False)\n",
    "        ixs2 = np.random.choice(range(X2.shape[0]), size=n2, replace=False)\n",
    "        Xbatch1, IXbatch1 = X1[ixs1], IX1[ixs1]\n",
    "        Xbatch2, IXbatch2 = X2[ixs2], IX2[ixs2]\n",
    "        \n",
    "        Xbatch = np.concatenate([Xbatch1, Xbatch2], axis=0)\n",
    "        IXbatch = np.concatenate([IXbatch1, IXbatch2], axis=0)\n",
    "        IXbatch_eq_neg2 = (IXbatch == -2)\n",
    "        IXbatch[IXbatch_eq_neg2] = -1\n",
    "        #this way things that are -2 (cad false positives)\n",
    "        #get labeled as non-nodules for everything else.\n",
    "        #but we still know where they are.\n",
    "        IXbatch_eq_neg1 = (IXbatch == -1)\n",
    "        \n",
    "        #making sure we don't use these.\n",
    "        #row 32 is a big tumor so it should be obvious\n",
    "        \n",
    "        #normalize\n",
    "        Xbatch = np.expand_dims(Xbatch, 1)\n",
    "        if augment:\n",
    "            Xbatch = random_perturb(Xbatch)\n",
    "        Xbatch = Xbatch.astype('float32')\n",
    "        Xbatch = (Xbatch + 1000.) / (400. + 1000.)\n",
    "        Xbatch = np.clip(Xbatch,0,1)\n",
    "        \n",
    "        Ybatch_malig = Ymalig[IXbatch]\n",
    "        Ybatch_malig[IXbatch_eq_neg1] = 0.0\n",
    "        \n",
    "        Ybatch_cad_fp = Ycad_fp[IXbatch]\n",
    "        #class 0 things = nodules are already set.\n",
    "        \n",
    "        #-1 = random subvoxel, class 3\n",
    "        Ybatch_cad_fp[IXbatch_eq_neg1,2] = 1.0\n",
    "        Ybatch_cad_fp[IXbatch_eq_neg1,0] = 0.0\n",
    "        Ybatch_cad_fp[IXbatch_eq_neg1,1] = 0.0\n",
    "        \n",
    "        #-2 = cad false positive, class 2\n",
    "        Ybatch_cad_fp[IXbatch_eq_neg2,1] = 1.0\n",
    "        Ybatch_cad_fp[IXbatch_eq_neg2,0] = 0.0\n",
    "        Ybatch_cad_fp[IXbatch_eq_neg2,2] = 0.0\n",
    "                \n",
    "        \n",
    "        yield Xbatch, {'o_mal':Ybatch_malig, 'o_fp':Ybatch_cad_fp}        "
   ]
  },
  {
   "cell_type": "code",
   "execution_count": 7,
   "metadata": {
    "collapsed": false
   },
   "outputs": [],
   "source": [
    "def stage_1_lr_schedule(i):\n",
    "    if i < 10:\n",
    "        return np.float32(.004)\n",
    "    if i < 15:\n",
    "        return np.float32(.002)\n",
    "    if i < 20:\n",
    "        return np.float32(.0005)\n",
    "    if i < 23:\n",
    "        return np.float32(.0001)\n",
    "    return np.float32(3e-5)\n",
    "\n",
    "def stage_2_lr_schedule(i):\n",
    "    if i == 0:\n",
    "        return np.float32(.001)\n",
    "    if i < 5:\n",
    "        return np.float32(.0004)\n",
    "    if i < 10:\n",
    "        return np.float32(.0002)\n",
    "    return np.float32(3e-5)"
   ]
  },
  {
   "cell_type": "code",
   "execution_count": 11,
   "metadata": {
    "collapsed": false
   },
   "outputs": [],
   "source": [
    "def train_model_on_stage(model, split=True, batch_size=10):\n",
    "    \n",
    "    if split:\n",
    "        \n",
    "        Xpos = np.load('/home/katya/data/voxels_true64/subset0Xtrue.npy')\n",
    "        IXpos = np.load('/home/katya/data/voxels_true64/subset0IXtrue.npy')\n",
    "        \n",
    "        for subset in range(1,10):\n",
    "            XposTemp = np.load('/home/katya/data/voxels_true64/subset' + str(subset) + 'Xtrue.npy')\n",
    "            IXposTemp = np.load('/home/katya/data/voxels_true64/subset' + str(subset) + 'IXtrue.npy')\n",
    "            \n",
    "            Xpos = np.concatenate((Xpos, XposTemp),axis=0)\n",
    "            IXpos = np.concatenate((IXpos, IXposTemp),axis=0)\n",
    "            \n",
    "        del XposTemp, IXposTemp\n",
    "            \n",
    "        split1 = int(.75*Xpos.shape[0])\n",
    "        Xtrain1 = Xpos[:split1]\n",
    "        Xvalid1 = Xpos[split1:]\n",
    "        IXtrain1 = IXpos[:split1]\n",
    "        IXvalid1 = IXpos[split1:]\n",
    "        \n",
    "        del Xpos, IXpos\n",
    "        \n",
    "        Xneg = np.load('/home/katya/data/voxels_random64/subset' + str(subset) + 'Xrandom.npy')\n",
    "        IXneg = np.load('/home/katya/data/voxels_random64/subset' + str(subset) + 'IXrandom.npy')\n",
    "\n",
    "        split2 = int(.75*Xneg.shape[0])\n",
    "        Xtrain2 = Xneg[:split2]\n",
    "        Xvalid2 = Xneg[split2:]\n",
    "        IXtrain2 = IXneg[:split2]\n",
    "        IXvalid2 = IXneg[split2:]\n",
    "        del Xneg, IXneg\n",
    "        \n",
    "        train_generator_75 = get_generator_static(Xtrain1,Xtrain2,IXtrain1,IXtrain2,\\\n",
    "                                                  augment=False, batch_size=batch_size,\\\n",
    "                                                  current_frac=.33)\n",
    "        valid_generator_75 = get_generator_static(Xvalid1,Xvalid2,IXvalid1,IXvalid2,\\\n",
    "                                                  augment=False, batch_size=batch_size,\\\n",
    "                                                  current_frac=.33)\n",
    "    \n",
    "    else:\n",
    "\n",
    "    \n",
    "        subset=str(subset)\n",
    "        Xpos = np.load('/home/katya/data/voxels_true64/subset' + subset + 'Xtrue.npy')\n",
    "        IXpos = np.load('/home/katya/data/voxels_true64/subset' + subset + 'IXtrue.npy')\n",
    "        Xneg = np.load('/home/katya/data/voxels_random64/subset' + subset + 'Xrandom.npy')\n",
    "        IXneg = np.load('/home/katya/data/voxels_random64/subset' + subset + 'IXrandom.npy')\n",
    "        train_generator_75 = get_generator_static(Xpos, Xneg, IXpos, IXneg, \\\n",
    "                                                  augment=False, batch_size=batch_size, \\\n",
    "                                                  current_frac=.33)\n",
    "\n",
    "\n",
    "    name = 'model_LUNA_v1_{epoch:02d}.h5'\n",
    "    chkp = ModelCheckpoint(filepath=name)\n",
    "\n",
    "    lr_schedule = LearningRateScheduler(stage_2_lr_schedule)\n",
    "    nb_epoch = 30\n",
    "    steps_per_epoch = 150\n",
    "        \n",
    "    lossHist = {}\n",
    "    \n",
    "    for lossType in ['loss', 'o_fp_loss', 'o_mal_loss', 'val_loss','val_o_fp_loss','val_o_mal_loss']:\n",
    "        lossHist[lossType] = []\n",
    "    \n",
    "    for epoch in range(nb_epoch):\n",
    "        hist = model.fit_generator(train_generator_75, validation_data=valid_generator_75, validation_steps=1,\\\n",
    "                                   steps_per_epoch=steps_per_epoch, \\\n",
    "                            nb_epoch=epoch+1,callbacks=[chkp,lr_schedule],initial_epoch=epoch)\n",
    "        for lossType in hist.history:\n",
    "            lossHist[lossType].extend(hist.history[lossType])\n",
    "\n",
    "    return model, lossHist"
   ]
  },
  {
   "cell_type": "code",
   "execution_count": 12,
   "metadata": {
    "collapsed": true
   },
   "outputs": [
    {
     "name": "stderr",
     "output_type": "stream",
     "text": [
      "/opt/anaconda/lib/python3.5/site-packages/ipykernel/__main__.py:3: UserWarning: Update your `Conv3D` call to the Keras 2 API: `Conv3D(8, (3, 3, 3), kernel_regularizer=<keras.reg..., data_format=\"channels_first\", padding=\"same\")`\n",
      "  app.launch_new_instance()\n",
      "/opt/anaconda/lib/python3.5/site-packages/ipykernel/__main__.py:12: UserWarning: Update your `MaxPooling3D` call to the Keras 2 API: `MaxPooling3D(data_format=\"channels_first\")`\n",
      "/opt/anaconda/lib/python3.5/site-packages/ipykernel/__main__.py:6: UserWarning: Update your `AveragePooling3D` call to the Keras 2 API: `AveragePooling3D(data_format=\"channels_first\")`\n",
      "/opt/anaconda/lib/python3.5/site-packages/ipykernel/__main__.py:7: UserWarning: The `merge` function is deprecated and will be removed after 08/2017. Use instead layers from `keras.layers.merge`, e.g. `add`, `concatenate`, etc.\n",
      "/opt/anaconda/lib/python3.5/site-packages/keras/legacy/layers.py:456: UserWarning: The `Merge` layer is deprecated and will be removed after 08/2017. Use instead layers from `keras.layers.merge`, e.g. `add`, `concatenate`, etc.\n",
      "  name=name)\n",
      "/opt/anaconda/lib/python3.5/site-packages/ipykernel/__main__.py:3: UserWarning: Update your `Conv3D` call to the Keras 2 API: `Conv3D(24, (3, 3, 3), kernel_regularizer=<keras.reg..., data_format=\"channels_first\", padding=\"same\")`\n",
      "  app.launch_new_instance()\n",
      "/opt/anaconda/lib/python3.5/site-packages/ipykernel/__main__.py:10: UserWarning: Update your `AveragePooling3D` call to the Keras 2 API: `AveragePooling3D(data_format=\"channels_first\")`\n",
      "/opt/anaconda/lib/python3.5/site-packages/ipykernel/__main__.py:11: UserWarning: The `merge` function is deprecated and will be removed after 08/2017. Use instead layers from `keras.layers.merge`, e.g. `add`, `concatenate`, etc.\n",
      "/opt/anaconda/lib/python3.5/site-packages/ipykernel/__main__.py:3: UserWarning: Update your `Conv3D` call to the Keras 2 API: `Conv3D(64, (3, 3, 3), kernel_regularizer=<keras.reg..., data_format=\"channels_first\", padding=\"same\")`\n",
      "  app.launch_new_instance()\n",
      "/opt/anaconda/lib/python3.5/site-packages/ipykernel/__main__.py:15: UserWarning: Update your `AveragePooling3D` call to the Keras 2 API: `AveragePooling3D(data_format=\"channels_first\")`\n",
      "/opt/anaconda/lib/python3.5/site-packages/ipykernel/__main__.py:16: UserWarning: The `merge` function is deprecated and will be removed after 08/2017. Use instead layers from `keras.layers.merge`, e.g. `add`, `concatenate`, etc.\n",
      "/opt/anaconda/lib/python3.5/site-packages/ipykernel/__main__.py:3: UserWarning: Update your `Conv3D` call to the Keras 2 API: `Conv3D(72, (3, 3, 3), kernel_regularizer=<keras.reg..., data_format=\"channels_first\", padding=\"same\")`\n",
      "  app.launch_new_instance()\n",
      "/opt/anaconda/lib/python3.5/site-packages/ipykernel/__main__.py:19: UserWarning: Update your `AveragePooling3D` call to the Keras 2 API: `AveragePooling3D(data_format=\"channels_first\")`\n",
      "/opt/anaconda/lib/python3.5/site-packages/ipykernel/__main__.py:20: UserWarning: The `merge` function is deprecated and will be removed after 08/2017. Use instead layers from `keras.layers.merge`, e.g. `add`, `concatenate`, etc.\n",
      "/opt/anaconda/lib/python3.5/site-packages/ipykernel/__main__.py:3: UserWarning: Update your `Dense` call to the Keras 2 API: `Dense(32, kernel_regularizer=<keras.reg...)`\n",
      "  app.launch_new_instance()\n",
      "/opt/anaconda/lib/python3.5/site-packages/ipykernel/__main__.py:6: UserWarning: Update your `Dense` call to the Keras 2 API: `Dense(3, kernel_regularizer=<keras.reg..., name=\"o_fp\", activation=\"softmax\")`\n",
      "/opt/anaconda/lib/python3.5/site-packages/ipykernel/__main__.py:6: UserWarning: Update your `Dense` call to the Keras 2 API: `Dense(1, kernel_regularizer=<keras.reg..., name=\"o_mal\", activation=\"sigmoid\")`\n",
      "/opt/anaconda/lib/python3.5/site-packages/ipykernel/__main__.py:31: UserWarning: Update your `Model` call to the Keras 2 API: `Model(outputs=[<tf.Tenso..., inputs=Tensor(\"in...)`\n"
     ]
    },
    {
     "name": "stdout",
     "output_type": "stream",
     "text": [
      "compiling model\n"
     ]
    }
   ],
   "source": [
    "model_64 = build_model((1,64,64,64))"
   ]
  },
  {
   "cell_type": "code",
   "execution_count": null,
   "metadata": {
    "collapsed": false,
    "scrolled": true
   },
   "outputs": [
    {
     "name": "stderr",
     "output_type": "stream",
     "text": [
      "/opt/anaconda/lib/python3.5/site-packages/ipykernel/__main__.py:62: UserWarning: Update your `fit_generator` call to the Keras 2 API: `fit_generator(<generator..., callbacks=[<keras.ca..., validation_steps=1, initial_epoch=0, steps_per_epoch=150, epochs=1, validation_data=<generator...)`\n"
     ]
    },
    {
     "name": "stdout",
     "output_type": "stream",
     "text": [
      "Epoch 1/1\n",
      " 21/150 [===>..........................] - ETA: 225s - loss: 1.7935 - o_mal_loss: 0.7951 - o_fp_loss: 0.9399\b\b\b\b\b\b\b\b\b\b\b\b\b\b\b\b\b\b\b\b\b\b\b\b\b\b\b\b\b\b\b\b\b\b\b\b\b\b\b\b\b\b\b\b\b\b\b\b\b\b\b\b\b\b\b\b\b\b\b\b\b\b\b\b\b\b\b\b\b\b\b\b\b\b\b\b\b\b\b\b\b\b\b\b\b\b\b\b\b\b\b\b\b\b\b\b\b\b\b\b\b\b\b\b\b\b\b\b\b\b\b\b\b\b\b\b\b\b\b\b\b\b\b\b\b\b\b\b\b\b\b\b\b\b\b\b\b\b\b\b\b\b\b\b\b\b\b\b\b\b\b\b\b\b\b\b\b\b\b\b\b\b\b\b\b\b\b\b\b\b\b\b\b\b\b\b\b\b\b\b\b\b\b\b\b\b\b\b\b\b\b\b\b\b\b\b\b\b\b\b\b\b\b\b\b\b\b\b\b\b\b\b\b\b\b\b\b\b\b\b\b\b\b\b\b\b\b\b\b\b\b\b\b\b\b\b\b\b\b\b\b\b\b\b\b\b\b\b\b\b\b\b\b\b\b\b\b\b\b\b\b\b\b\b\b\b\b\b\b\b\b\b\b\b\b\b\b\b\b\b\b\b\b\b\b\b\b\b\b\b\b\b\b\b\b\b\b\b\b\b\b\b\b\b\b\b\b\b\b\b\b\b\b\b\b\b\b\b\b\b\b\b\b\b\b\b\b\b\b\b\b\b\b\b\b\b\b\b\b\b\b\b\b\b\b\b\b\b\b\b\b\b\b\b\b\b\b\b\b\b\b\b\b\b\b\b\b\b\b\b\b\b\b\b\b\b\b\b\b\b\b\b\b\b\b\b\b\b\b\b\b\b\b\b\b\b\b\b\b\b\b\b\b\b\b\b\b\b\b\b\b\b\b\b\b\b\b\b\b\b\b\b\b\b\b\b\b\b\b\b\b\b\b\b\b\b\b\b\b\b\b\b\b\b\b\b\b\b\b\b\b\b\b\b\b\b\b\b\b\b\b\b\b\b\b\b\b\b\b\b\b\b\b\b\b\b\b\b\b\b\b\b\b\b\b\b\b\b\b\b\b\b\b\b\b\b\b\b\b\b\b\b\b\b\b\b\b\b\b\b\b\b\b\b\b\b\b\b\b\b\b\b\b\b\b\b\b\b\b\b\b\b\b\b\b\b\b\b\b\b\b\b\b\b\b\b\b\b\b\b\b\b\b\b\b\b\b\b\b\b\b\b\b\b\b\b\b\b\b\b\b\b\b\b\b\b\b\b\b\b\b\b\b\b\b\b\b\b\b\b\b\b\b\b\b\b\b\b\b\b\b\b\b\b\b\b\b\b\b\b\b\b\b\b\b\b\b\b\b\b\b\b\b\b\b\b\b\b\b\b\b\b\b\b\b\b\b\b\b\b\b\b\b\b\b\b\b\b\b\b\b\b\b\b\b\b\b\b\b\b\b\b\b\b\b\b\b\b\b\b\b\b\b\b\b\b\b\b\b\b\b\b\b\b\b\b\b\b\b\b\b\b\b\b\b\b\b\b\b\b\b\b\b\b\b\b\b\b\b\b\b\b\b\b\b\b\b\b\b\b\b\b\b\b\b\b\b\b\b\b\b\b\b\b\b\b\b\b\b\b\b\b\b\b\b\b\b\b\b\b\b\b\b\b\b\b\b\b\b\b\b\b\b\b\b\b\b\b\b\b\b\b\b\b\b\b\b\b\b\b\b\b\b\b\b\b\b\b\b\b\b\b\b\b\b\b\b\b\b\b\b\b\b\b\b\b\b\b\b\b\b\b\b\b\b\b\b\b\b\b\b\b\b\b\b\b\b\b\b\b\b\b\b\b\b\b\b\b\b\b\b\b\b\b\b\b\b\b\b\b\b\b\b\b\b\b\b\b\b\b\b\b\b\b\b\b\b\b\b\b\b\b\b\b\b\b\b\b\b\b\b\b\b\b\b\b\b\b\b\b\b\b\b\b\b\b\b\b\b\b\b\b\b\b\b\b\b\b\b\b\b\b\b\b\b\b\b\b\b\b\b\b\b\b\b\b\b\b\b\b\b\b\b\b\b\b\b\b\b\b\b\b\b\b\b\b\b\b\b\b\b\b\b\b\b\b\b\b\b\b\b\b\b\b\b\b\b\b\b\b\b\b\b\b\b\b\b\b\b\b\b\b\b\b\b\b\b\b\b\b\b\b\b\b\b\b\b\b\b\b\b\b\b\b\b\b\b\b\b\b\b\b\b\b\b\b\b\b\b\b\b\b\b\b\b\b\b\b\b\b\b\b\b\b\b\b\b\b\b\b\b\b\b\b\b\b\b\b\b\b\b\b\b\b\b\b\b\b\b\b\b\b\b\b\b\b\b\b\b\b\b\b\b\b\b\b\b\b\b\b\b\b\b\b\b\b\b\b\b\b\b\b\b\b\b\b\b\b\b\b\b\b\b\b\b\b\b\b\b\b\b\b\b\b\b\b\b\b\b\b\b\b\b\b\b\b\b\b\b\b\b\b\b\b\b\b\b\b\b\b\b\b\b\b\b\b\b\b\b\b\b\b\b\b\b\b\b\b\b\b\b\b\b\b\b\b\b\b\b\b\b\b\b\b\b\b\b\b\b\b\b\b\b\b\b\b\b\b\b\b\b\b\b\b\b\b\b\b\b\b\b\b\b\b\b\b\b\b\b\b\b\b\b\b\b\b\b\b\b\b\b\b\b\b\b\b\b\b\b\b\b\b\b\b\b\b\b\b\b\b\b\b\b\b\b\b\b\b\b\b\b\b\b\b\b\b\b\b\b\b\b\b\b\b\b\b\b\b\b\b\b\b\b\b\b\b\b\b\b\b\b\b\b\b\b\b\b\b\b\b\b\b\b\b\b\b\b\b\b\b\b\b\b\b\b\b\b\b\b\b\b\b\b\b\b\b\b\b\b\b\b\b\b\b\b\b\b\b\b\b\b\b\b\b\b\b\b\b\b\b\b\b\b\b\b\b\b\b\b\b\b\b\b\b\b\b\b\b\b\b\b\b\b\b\b\b\b\b\b\b\b\b\b\b\b\b\b\b\b\b\b\b\b\b\b\b\b\b\b\b\b\b\b\b\b\b\b\b\b\b\b\b\b\b\b\b\b\b\b\b\b\b\b\b\b\b\b\b\b\b\b\b\b\b\b\b\b\b\b\b\b\b\b\b\b\b\b\b\b\b\b\b\b\b\b\b\b\b\b\b\b\b\b\b\b\b\b\b\b\b\b\b\b\b\b\b\b\b\b\b\b\b\b\b\b\b\b\b\b\b\b\b\b\b\b\b\b\b\b\b\b\b\b\b\b\b\b\b\b\b\b\b\b\b\b\b\b\b\b\b\b\b\b\b\b\b\b\b\b\b\b\b\b\b\b\b\b\b\b\b\b\b\b\b\b\b\b\b\b\b\b\b\b\b\b\b\b\b\b\b\b\b\b\b\b\b\b\b\b\b\b\b\b\b\b\b\b\b\b\b\b\b\b\b\b\b\b\b\b\b\b\b\b\b\b\b\b\b\b\b\b\b\b\b\b\b\b\b\b\b\b\b\b\b\b\b\b\b\b\b\b\b\b\b\b\b\b\b\b\b\b\b\b\b\b\b\b\b\b\b\b\b\b\b\b\b\b\b\b\b\b\b\b\b\b\b\b\b\b\b\b\b\b\b\b\b\b\b\b\b\b\b\b\b\b\b\b\b\b\b\b\b\b\b\b\b\b\b\b\b\b\b\b\b\b\b\b\b\b\b\b\b\b\b\b\b\b\b\b\b\b\b\b\b\b\b\b\b\b\b\b\b\b\b\b\b\b\b\b\b\b\b\b\b\b\b\b\b\b\b\b\b\b\b\b\b\b\b\b\b\b\b\b\b\b\b\b\b\b\b\b\b\b\b\b\b\b\b\b\b\b\b\b\b\b\b\b\b\b\b\b\b\b\b\b\b\b\b\b\b\b\b\b\b\b\b\b\b\b\b\b\b\b\b\b\b\b\b\b\b\b\b\b\b\b\b\b\b\b\b\b\b\b\b\b\b\b\b\b\b\b\b\b\b\b\b\b\b\b\b\b\b\b\b\b\b\b\b\b\b\b\b\b\b\b\b\b\b\b\b\b\b\b\b\b\b\b\b\b\b\b\b\b\b\b\b\b\b\b\b\b\b\b\b\b\b\b\b\b\b\b\b\b\b\b\b\b\b\b\b\b\b\b\b\b\b\b\b\b\b\b\b\b\b\b\b\b\b\b\b\b\b\b\b\b\b\b\b\b\b\b\b\b\b\b\b\b\b\b\b\b\b\b\b\b\b\b\b\b\b\b\b\b\b\b\b\b\b\b\b\b\b\b\b\b\b\b\b\b\b\b\b\b\b\b\b\b\b\b\b\b\b\b\b\b\b\b\b\b\b\b\b\b\b\b\b\b\b\b\b\b\b\b\b\b\b\b\b\b\b\b\b\b\b\b\b\b\b\b\b\b\b\b\b\b\b\b\b\b\b\b\b\b\b\b\b\b\b\b\b\b\b\b\b\b\b\b\b\b\b\b\b\b\b\b\b\b\b\b\b\b\b\b\b\b\b\b\b\b\b\b\b\b\b\b\b\b\b\b\b\b\b\b\b\b\b\b\b\b\b\b\b\b\b\b\b\b\b\b\b\b\b\b\b\b\b\b\b\b\b\b\b\b\b\b\b\b\b\b\b\b\b\b\b\b\b\b\b\b\b\b\b\b\b\b\b\b\b\b\b\b\b\b\b\b\b\b\b\b\b\b\b\b\b\b\b\b\b\b\b\b\b\b\b\b\b\b\b\b\b"
     ]
    }
   ],
   "source": [
    "# model_64.load_weights('/home/katya/LungCancer/Katya/CNN_v1/model_v1_weights_temp64.h5')\n",
    "model_64, lossHist = train_model_on_stage(model_64, split=True, batch_size=20)\n",
    "model_64.save_weights('/home/katya/LungCancer/Katya/CNN_v1/model_v1_weights_temp64.h5')"
   ]
  },
  {
   "cell_type": "code",
   "execution_count": 28,
   "metadata": {
    "collapsed": false
   },
   "outputs": [
    {
     "data": {
      "image/png": "[encoded data removed]",
      "text/plain": [
       "<matplotlib.figure.Figure at 0x7ff48ea3c6a0>"
      ]
     },
     "metadata": {},
     "output_type": "display_data"
    }
   ],
   "source": [
    "plt.figure(figsize=[10,7])\n",
    "plt.grid(True, ls='--', lw=0.5, alpha=0.5, dash_capstyle = 'round', c='gray')\n",
    "plt.xlabel('Epoch #', fontsize=15)\n",
    "plt.ylabel('Loss', fontsize=15)\n",
    "\n",
    "colors = ['#F03861','#FF847C','#FECEA8','#176D81','#71ADB5','#0D3446']\n",
    "labels=list(lossHist.keys())\n",
    "\n",
    "for i,key in enumerate(lossHist):\n",
    "    plt.plot([x for x in range(30)], lossHist[key], '-', color=colors[i], label=labels[i])\n",
    "    plt.legend()"
   ]
  },
  {
   "cell_type": "code",
   "execution_count": null,
   "metadata": {
    "collapsed": true
   },
   "outputs": [],
   "source": []
  }
 ],
 "metadata": {
  "kernelspec": {
   "display_name": "Python [conda root]",
   "language": "python",
   "name": "conda-root-py"
  },
  "language_info": {
   "codemirror_mode": {
    "name": "ipython",
    "version": 3
   },
   "file_extension": ".py",
   "mimetype": "text/x-python",
   "name": "python",
   "nbconvert_exporter": "python",
   "pygments_lexer": "ipython3",
   "version": "3.5.2"
  }
 },
 "nbformat": 4,
 "nbformat_minor": 2
}
