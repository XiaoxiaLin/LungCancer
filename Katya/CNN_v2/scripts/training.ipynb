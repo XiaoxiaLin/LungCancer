{
 "cells": [
  {
   "cell_type": "code",
   "execution_count": 9,
   "metadata": {
    "collapsed": false
   },
   "outputs": [],
   "source": [
    "import tensorflow as tf\n",
    "from matplotlib import pyplot as plt\n",
    "from sklearn.model_selection import train_test_split\n",
    "from keras.backend.tensorflow_backend import set_session\n",
    "config = tf.ConfigProto()\n",
    "config.gpu_options.per_process_gpu_memory_fraction = 0.3\n",
    "set_session(tf.Session(config=config))\n",
    "\n",
    "%matplotlib inline"
   ]
  },
  {
   "cell_type": "code",
   "execution_count": 10,
   "metadata": {
    "collapsed": true
   },
   "outputs": [],
   "source": [
    "%run 'CNNBlocks.ipynb'\n",
    "%run 'modelArchitecture.ipynb'\n",
    "%run 'batchGenerator.ipynb'"
   ]
  },
  {
   "cell_type": "code",
   "execution_count": 11,
   "metadata": {
    "collapsed": false
   },
   "outputs": [
    {
     "name": "stderr",
     "output_type": "stream",
     "text": [
      "/opt/anaconda/lib/python3.5/site-packages/ipykernel/__main__.py:5: UserWarning: Update your `Conv3D` call to the Keras 2 API: `Conv3D(8, (3, 3, 3), kernel_regularizer=<keras.reg..., padding=\"same\", data_format=\"channels_first\")`\n",
      "/opt/anaconda/lib/python3.5/site-packages/ipykernel/__main__.py:12: UserWarning: Update your `MaxPooling3D` call to the Keras 2 API: `MaxPooling3D(data_format=\"channels_first\")`\n",
      "/opt/anaconda/lib/python3.5/site-packages/ipykernel/__main__.py:6: UserWarning: Update your `AveragePooling3D` call to the Keras 2 API: `AveragePooling3D(data_format=\"channels_first\")`\n",
      "/opt/anaconda/lib/python3.5/site-packages/ipykernel/__main__.py:7: UserWarning: The `merge` function is deprecated and will be removed after 08/2017. Use instead layers from `keras.layers.merge`, e.g. `add`, `concatenate`, etc.\n",
      "/opt/anaconda/lib/python3.5/site-packages/keras/legacy/layers.py:456: UserWarning: The `Merge` layer is deprecated and will be removed after 08/2017. Use instead layers from `keras.layers.merge`, e.g. `add`, `concatenate`, etc.\n",
      "  name=name)\n",
      "/opt/anaconda/lib/python3.5/site-packages/ipykernel/__main__.py:5: UserWarning: Update your `Conv3D` call to the Keras 2 API: `Conv3D(24, (3, 3, 3), kernel_regularizer=<keras.reg..., padding=\"same\", data_format=\"channels_first\")`\n",
      "/opt/anaconda/lib/python3.5/site-packages/ipykernel/__main__.py:10: UserWarning: Update your `AveragePooling3D` call to the Keras 2 API: `AveragePooling3D(data_format=\"channels_first\")`\n",
      "/opt/anaconda/lib/python3.5/site-packages/ipykernel/__main__.py:11: UserWarning: The `merge` function is deprecated and will be removed after 08/2017. Use instead layers from `keras.layers.merge`, e.g. `add`, `concatenate`, etc.\n",
      "/opt/anaconda/lib/python3.5/site-packages/ipykernel/__main__.py:5: UserWarning: Update your `Conv3D` call to the Keras 2 API: `Conv3D(64, (3, 3, 3), kernel_regularizer=<keras.reg..., padding=\"same\", data_format=\"channels_first\")`\n",
      "/opt/anaconda/lib/python3.5/site-packages/ipykernel/__main__.py:14: UserWarning: Update your `AveragePooling3D` call to the Keras 2 API: `AveragePooling3D(data_format=\"channels_first\")`\n",
      "/opt/anaconda/lib/python3.5/site-packages/ipykernel/__main__.py:15: UserWarning: The `merge` function is deprecated and will be removed after 08/2017. Use instead layers from `keras.layers.merge`, e.g. `add`, `concatenate`, etc.\n",
      "/opt/anaconda/lib/python3.5/site-packages/ipykernel/__main__.py:5: UserWarning: Update your `Conv3D` call to the Keras 2 API: `Conv3D(72, (3, 3, 3), kernel_regularizer=<keras.reg..., padding=\"same\", data_format=\"channels_first\")`\n",
      "/opt/anaconda/lib/python3.5/site-packages/ipykernel/__main__.py:18: UserWarning: Update your `AveragePooling3D` call to the Keras 2 API: `AveragePooling3D(data_format=\"channels_first\")`\n",
      "/opt/anaconda/lib/python3.5/site-packages/ipykernel/__main__.py:19: UserWarning: The `merge` function is deprecated and will be removed after 08/2017. Use instead layers from `keras.layers.merge`, e.g. `add`, `concatenate`, etc.\n",
      "/opt/anaconda/lib/python3.5/site-packages/ipykernel/__main__.py:3: UserWarning: Update your `Dense` call to the Keras 2 API: `Dense(32, kernel_regularizer=<keras.reg...)`\n",
      "  app.launch_new_instance()\n",
      "/opt/anaconda/lib/python3.5/site-packages/ipykernel/__main__.py:10: UserWarning: Update your `Dense` call to the Keras 2 API: `Dense(1, kernel_regularizer=<keras.reg..., name=\"Malignancy\", activation=\"sigmoid\")`\n",
      "/opt/anaconda/lib/python3.5/site-packages/ipykernel/__main__.py:10: UserWarning: Update your `Dense` call to the Keras 2 API: `Dense(1, kernel_regularizer=<keras.reg..., name=\"Diameter\", activation=\"sigmoid\")`\n"
     ]
    },
    {
     "name": "stdout",
     "output_type": "stream",
     "text": [
      "Compiling model...\n"
     ]
    },
    {
     "name": "stderr",
     "output_type": "stream",
     "text": [
      "/opt/anaconda/lib/python3.5/site-packages/ipykernel/__main__.py:10: UserWarning: Update your `Dense` call to the Keras 2 API: `Dense(1, kernel_regularizer=<keras.reg..., name=\"Lobulation\", activation=\"sigmoid\")`\n",
      "/opt/anaconda/lib/python3.5/site-packages/ipykernel/__main__.py:10: UserWarning: Update your `Dense` call to the Keras 2 API: `Dense(1, kernel_regularizer=<keras.reg..., name=\"Spiculation\", activation=\"sigmoid\")`\n",
      "/opt/anaconda/lib/python3.5/site-packages/ipykernel/__main__.py:33: UserWarning: Update your `Model` call to the Keras 2 API: `Model(outputs=[<tf.Tenso..., inputs=Tensor(\"in...)`\n"
     ]
    }
   ],
   "source": [
    "model = compileModel((1,64,64,64),1e-4)"
   ]
  },
  {
   "cell_type": "code",
   "execution_count": null,
   "metadata": {
    "collapsed": false
   },
   "outputs": [],
   "source": [
    "def train_model_on_stage(model, modelPath, testSize=0.2, batchSize=10):\n",
    "    \n",
    "    print ('Loading positive patches')\n",
    "    xPos, ixPos = loadCategory('true')\n",
    "    xPosTrain,xPosValid,ixPosTrain,ixPosValid = train_test_split(xPos, ixPos, test_size=testSize)   \n",
    "    del xPos, ixPos\n",
    "    \n",
    "    print ('Loading negative patches')\n",
    "    xNeg, ixNeg = loadCategory('random')\n",
    "    xNegTrain,xNegValid,ixNegTrain,ixNegValid = train_test_split(xNeg, ixNeg, test_size=testSize)\n",
    "    del xNeg, ixNeg\n",
    "    \n",
    "    print ('Loading false positive patches')\n",
    "    xFP, ixFP = loadCategory('false')\n",
    "    xFPTrain,xFPValid,ixFPTrain,ixFPValid = train_test_split(xFP, ixFP, test_size=testSize)\n",
    "    del xFP, ixFP\n",
    "\n",
    "    trainGenerator = batchGenerator(xPosTrain,xNegTrain,xFPTrain,\n",
    "                                        ixPosTrain,ixNegTrain,ixFPTrain,\n",
    "                                        batchSize=batch_size,\n",
    "                                        posFraction=.5)\n",
    "    \n",
    "    validGenerator = batchGenerator(xPosValid,xNegValid,xFPValid,\n",
    "                                     ixPosValid,ixNegValid,ixFPValid,\n",
    "                                     batchSize=batch_size,\n",
    "                                     posFraction=.5)\n",
    "\n",
    "    ckp = ModelCheckpoint(filepath=modelPath)\n",
    "    \n",
    "    nbEpoch = 1\n",
    "    stepsPerEpoch = 2\n",
    "        \n",
    "#     lossHist = {}\n",
    "    \n",
    "#     for lossType in ['loss','val_loss']:\n",
    "#         lossHist[lossType] = []\n",
    "    \n",
    "    for epoch in range(nbEpoch):\n",
    "        hist = model.fit_generator(trainGenerator, validation_data=validGenerator, \n",
    "                                   validation_steps=1,steps_per_epoch=stepsPerEpoch,\n",
    "                                   nb_epoch=epoch+1,callbacks=[ckp],\n",
    "                                   initial_epoch=epoch)\n",
    "        \n",
    "#         for lossType in ['loss','val_loss']:\n",
    "#             lossHist[lossType].extend(hist.history[lossType])\n",
    "\n",
    "    return model, hist"
   ]
  },
  {
   "cell_type": "code",
   "execution_count": null,
   "metadata": {
    "collapsed": false,
    "scrolled": false
   },
   "outputs": [
    {
     "name": "stdout",
     "output_type": "stream",
     "text": [
      "Loading positive patches\n",
      "Loading negative patches\n"
     ]
    }
   ],
   "source": [
    "# model_64.load_weights('/home/katya/LungCancer/Katya/CNN_v1/model_v1_weights_temp64.h5')\n",
    "modelPath = '/home/katya/LungCancer/Katya/CNN_v2/model_and_weights/LUNA_model_v2.h5'\n",
    "model, lossHist = train_model_on_stage(model, modelPath, batchSize=30)\n",
    "# model_64.save_weights('/home/katya/LungCancer/Katya/CNN_v2/model_and_weights/model_v1_weights_temp64.h5')"
   ]
  },
  {
   "cell_type": "code",
   "execution_count": 36,
   "metadata": {
    "collapsed": false
   },
   "outputs": [
    {
     "data": {
      "image/png": "[encoded data removed]",
      "text/plain": [
       "<matplotlib.figure.Figure at 0x7fa683b582e8>"
      ]
     },
     "metadata": {},
     "output_type": "display_data"
    }
   ],
   "source": [
    "plt.figure(figsize=[10,7])\n",
    "plt.grid(True, ls='--', lw=0.5, alpha=0.5, dash_capstyle = 'round', c='gray')\n",
    "plt.xlabel('Epoch #', fontsize=15)\n",
    "plt.ylabel('Loss', fontsize=15)\n",
    "\n",
    "colors = ['#F03861','#0D3446']\n",
    "\n",
    "labels=list(lossHist.keys())\n",
    "\n",
    "for i,key in enumerate(lossHist):\n",
    "    plt.plot([x for x in range(25)], lossHist[key], '-', color=colors[i], label=labels[i])\n",
    "    plt.legend()\n",
    "    \n",
    "plt.savefig('/home/katya/LungCancer/Katya/CNN_v2/figures/3.png')"
   ]
  },
  {
   "cell_type": "code",
   "execution_count": 37,
   "metadata": {
    "collapsed": false
   },
   "outputs": [
    {
     "data": {
      "text/plain": [
       "{'loss': [0.047433477727075415,\n",
       "  0.044984765878568096,\n",
       "  0.040337754475573702,\n",
       "  0.03810550731917222,\n",
       "  0.036011007154981296,\n",
       "  0.036158236494908728,\n",
       "  0.03306106706460317,\n",
       "  0.0329821704265972,\n",
       "  0.0311923700508972,\n",
       "  0.030556592606008053,\n",
       "  0.029285872721423706,\n",
       "  0.027476609852164983,\n",
       "  0.026850875839591025,\n",
       "  0.026649612461527188,\n",
       "  0.025066080391407012,\n",
       "  0.024734016650666792,\n",
       "  0.023778785560280083,\n",
       "  0.023410216321547828,\n",
       "  0.023650254998356105,\n",
       "  0.024728710173318784,\n",
       "  0.022698128738751013,\n",
       "  0.02166529779943327,\n",
       "  0.020512945186346769,\n",
       "  0.02248792743931214,\n",
       "  0.021987915725136798],\n",
       " 'val_loss': [0.068684428930282593,\n",
       "  0.050242267549037933,\n",
       "  0.066862069070339203,\n",
       "  0.054628130048513412,\n",
       "  0.057308338582515717,\n",
       "  0.27000811696052551,\n",
       "  0.036130350083112717,\n",
       "  0.02608959749341011,\n",
       "  0.048244640231132507,\n",
       "  0.040582481771707535,\n",
       "  0.032795865088701248,\n",
       "  0.041514098644256592,\n",
       "  0.037816092371940613,\n",
       "  0.047749005258083344,\n",
       "  0.051337014883756638,\n",
       "  0.042785957455635071,\n",
       "  0.042726486921310425,\n",
       "  0.045552913099527359,\n",
       "  0.0298147052526474,\n",
       "  0.037523306906223297,\n",
       "  0.030763633549213409,\n",
       "  0.031512048095464706,\n",
       "  0.039718188345432281,\n",
       "  0.025473957881331444,\n",
       "  0.025942379608750343]}"
      ]
     },
     "execution_count": 37,
     "metadata": {},
     "output_type": "execute_result"
    }
   ],
   "source": [
    "lossHist"
   ]
  },
  {
   "cell_type": "code",
   "execution_count": null,
   "metadata": {
    "collapsed": true
   },
   "outputs": [],
   "source": []
  }
 ],
 "metadata": {
  "kernelspec": {
   "display_name": "Python [conda root]",
   "language": "python",
   "name": "conda-root-py"
  },
  "language_info": {
   "codemirror_mode": {
    "name": "ipython",
    "version": 3
   },
   "file_extension": ".py",
   "mimetype": "text/x-python",
   "name": "python",
   "nbconvert_exporter": "python",
   "pygments_lexer": "ipython3",
   "version": "3.5.2"
  }
 },
 "nbformat": 4,
 "nbformat_minor": 2
}
