{
 "cells": [
  {
   "cell_type": "code",
   "execution_count": 12,
   "metadata": {
    "collapsed": false
   },
   "outputs": [
    {
     "name": "stdout",
     "output_type": "stream",
     "text": [
      "Once deleted, variables cannot be recovered. Proceed (y/[n])? y\n"
     ]
    }
   ],
   "source": [
    "%reset"
   ]
  },
  {
   "cell_type": "code",
   "execution_count": 13,
   "metadata": {
    "collapsed": false
   },
   "outputs": [],
   "source": [
    "import numpy as np\n",
    "import keras\n",
    "import os\n",
    "from keras.models import Sequential\n",
    "from keras.layers import Dense, Dropout, Flatten\n",
    "from keras.layers import Conv2D, MaxPooling2D, Conv3D, MaxPooling3D\n",
    "from keras.optimizers import SGD\n",
    "from keras.utils import to_categorical\n",
    "import pandas as pd\n",
    "\n",
    "import tensorflow as tf\n",
    "from keras.backend.tensorflow_backend import set_session\n",
    "config = tf.ConfigProto()\n",
    "config.gpu_options.per_process_gpu_memory_fraction = 0.3\n",
    "set_session(tf.Session(config=config))"
   ]
  },
  {
   "cell_type": "code",
   "execution_count": 14,
   "metadata": {
    "collapsed": true
   },
   "outputs": [],
   "source": [
    "labelsDF = pd.DataFrame.from_csv('/home/katya/data/stage1_labels.csv', sep=',', index_col=None)\n",
    "class_weights = {0:len(labelsDF)/sum(labelsDF.cancer), 1:len(labelsDF)/len(labelsDF) - sum(labelsDF.cancer)}\n",
    "del labelsDF"
   ]
  },
  {
   "cell_type": "code",
   "execution_count": 15,
   "metadata": {
    "collapsed": false
   },
   "outputs": [],
   "source": [
    "# Loading patients in the forma\n",
    "def data_for_keras(number_of_patients):\n",
    "    \n",
    "    labelsDF = pd.DataFrame.from_csv('/home/katya/data/stage1_labels.csv', sep=',', index_col=None)\n",
    "\n",
    "    imgs = []\n",
    "    labels = []\n",
    "    tempDF = labelsDF.sample(number_of_patients).reset_index()\n",
    "\n",
    "    for i in range(len(tempDF)):\n",
    "        img = np.load('/home/katya/data/processed_data_ResSeg/' + tempDF.id.ix[i] + '.npy')\n",
    "        img = np.expand_dims(img,axis=0)\n",
    "        imgs.append(img)\n",
    "        labels.append(tempDF.cancer.ix[i])\n",
    "\n",
    "    X = np.array(imgs)\n",
    "\n",
    "    Y = np.array(labels)\n",
    "    \n",
    "    return X, Y"
   ]
  },
  {
   "cell_type": "code",
   "execution_count": 16,
   "metadata": {
    "collapsed": true
   },
   "outputs": [],
   "source": [
    "x_train, y_train = data_for_keras(1)\n",
    "input_shape = x_train.shape[1:]\n",
    "del x_train, y_train"
   ]
  },
  {
   "cell_type": "code",
   "execution_count": 17,
   "metadata": {
    "collapsed": true
   },
   "outputs": [],
   "source": [
    "def patientsGenerator():\n",
    "    for i in range(140):\n",
    "        x_train, y_train = data_for_keras(10)\n",
    "        y_train = to_categorical(y_train)\n",
    "        \n",
    "        yield x_train, y_train"
   ]
  },
  {
   "cell_type": "code",
   "execution_count": null,
   "metadata": {
    "collapsed": false,
    "scrolled": false
   },
   "outputs": [
    {
     "name": "stdout",
     "output_type": "stream",
     "text": [
      "_________________________________________________________________\n",
      "Layer (type)                 Output Shape              Param #   \n",
      "=================================================================\n",
      "conv3d_16 (Conv3D)           (None, 6, 33, 25, 34)     168       \n",
      "_________________________________________________________________\n",
      "max_pooling3d_11 (MaxPooling (None, 6, 16, 12, 16)     0         \n",
      "_________________________________________________________________\n",
      "conv3d_17 (Conv3D)           (None, 4, 14, 10, 16)     6928      \n",
      "_________________________________________________________________\n",
      "max_pooling3d_12 (MaxPooling (None, 4, 6, 4, 7)        0         \n",
      "_________________________________________________________________\n",
      "conv3d_18 (Conv3D)           (None, 2, 4, 2, 120)      22800     \n",
      "_________________________________________________________________\n",
      "flatten_6 (Flatten)          (None, 1920)              0         \n",
      "_________________________________________________________________\n",
      "dense_11 (Dense)             (None, 84)                161364    \n",
      "_________________________________________________________________\n",
      "dense_12 (Dense)             (None, 2)                 170       \n",
      "=================================================================\n",
      "Total params: 191,430.0\n",
      "Trainable params: 191,430.0\n",
      "Non-trainable params: 0.0\n",
      "_________________________________________________________________\n",
      "None\n"
     ]
    },
    {
     "name": "stderr",
     "output_type": "stream",
     "text": [
      "/opt/anaconda/lib/python3.5/site-packages/ipykernel/__main__.py:17: UserWarning: Update your `fit_generator` call to the Keras 2 API: `fit_generator(<generator..., steps_per_epoch=140, class_weight={0: 3.8591..., epochs=20, verbose=1)`\n"
     ]
    },
    {
     "name": "stdout",
     "output_type": "stream",
     "text": [
      "Epoch 1/20\n"
     ]
    }
   ],
   "source": [
    "model = Sequential()\n",
    "\n",
    "model.add(Conv3D(6, (3, 3, 3), activation='tanh', strides=4, data_format='channels_first', input_shape=input_shape))\n",
    "model.add(MaxPooling3D(pool_size=(3, 3, 3), strides=2, data_format='channels_first'))\n",
    "model.add(Conv3D(16, (3, 3, 3), strides=1, activation='tanh'))\n",
    "model.add(MaxPooling3D(pool_size=(3, 3, 3), strides=2, data_format='channels_first'))\n",
    "model.add(Conv3D(120, (3, 3, 3), strides=1, activation='tanh'))\n",
    "\n",
    "model.add(Flatten())\n",
    "model.add(Dense(84, activation='tanh'))\n",
    "model.add(Dense(2, activation='softmax'))\n",
    "\n",
    "sgd = SGD(lr=0.01, decay=1e-6, momentum=0.9, nesterov=True)\n",
    "model.compile(loss='categorical_crossentropy', optimizer=sgd)\n",
    "print(model.summary())\n",
    "\n",
    "hist = model.fit_generator(patientsGenerator(), steps_per_epoch = 140, nb_epoch = 20, verbose=1, class_weight=class_weights)"
   ]
  },
  {
   "cell_type": "code",
   "execution_count": 9,
   "metadata": {
    "collapsed": false
   },
   "outputs": [
    {
     "data": {
      "text/plain": [
       "3.2236192226409912"
      ]
     },
     "execution_count": 9,
     "metadata": {},
     "output_type": "execute_result"
    }
   ],
   "source": [
    "model.evaluate_generator(patientsGenerator(),1)"
   ]
  },
  {
   "cell_type": "code",
   "execution_count": null,
   "metadata": {
    "collapsed": true
   },
   "outputs": [],
   "source": []
  }
 ],
 "metadata": {
  "kernelspec": {
   "display_name": "Python [conda root]",
   "language": "python",
   "name": "conda-root-py"
  },
  "language_info": {
   "codemirror_mode": {
    "name": "ipython",
    "version": 3
   },
   "file_extension": ".py",
   "mimetype": "text/x-python",
   "name": "python",
   "nbconvert_exporter": "python",
   "pygments_lexer": "ipython3",
   "version": "3.5.2"
  }
 },
 "nbformat": 4,
 "nbformat_minor": 2
}
