{
 "cells": [
  {
   "cell_type": "code",
   "execution_count": 4,
   "metadata": {
    "collapsed": true
   },
   "outputs": [],
   "source": [
    "import pandas as pd\n",
    "import numpy as np"
   ]
  },
  {
   "cell_type": "code",
   "execution_count": 78,
   "metadata": {
    "collapsed": false
   },
   "outputs": [],
   "source": [
    "# Loading patients in the forma\n",
    "def data_for_keras(number_of_patients):\n",
    "    \n",
    "    labelsDF = pd.DataFrame.from_csv('/home/katya/data/stage1_labels.csv', sep=',')\n",
    "    \n",
    "    imgs = []\n",
    "\n",
    "    for i in labelsDF.index[:number_of_patients]:\n",
    "        imgs.append(np.load('/home/katya/data/processed_data_ResSeg/' + i + '.npy'))\n",
    "        \n",
    "    X = np.array(imgs)\n",
    "    \n",
    "    Y = labelsDF.cancer[:number_of_patients].values\n",
    "    \n",
    "    return X, Y"
   ]
  },
  {
   "cell_type": "code",
   "execution_count": 97,
   "metadata": {
    "collapsed": false
   },
   "outputs": [],
   "source": [
    "number_of_patients = 2\n",
    "\n",
    "labelsDF = pd.DataFrame.from_csv('/home/katya/data/stage1_labels.csv', sep=',')\n",
    "\n",
    "imgs = []\n",
    "\n",
    "for i in labelsDF.index[:number_of_patients]:\n",
    "    imgs.append(np.expand_dims(np.load('/home/katya/data/processed_data_ResSeg/' + i + '.npy'),axis=0))\n",
    "\n",
    "X = np.array(imgs)\n",
    "\n",
    "Y = labelsDF.cancer[:number_of_patients].values"
   ]
  },
  {
   "cell_type": "code",
   "execution_count": 96,
   "metadata": {
    "collapsed": false
   },
   "outputs": [
    {
     "data": {
      "text/plain": [
       "(1, 2, 134, 101, 137)"
      ]
     },
     "execution_count": 96,
     "metadata": {},
     "output_type": "execute_result"
    }
   ],
   "source": [
    "np.expand_dims(X, axis=0).shape"
   ]
  },
  {
   "cell_type": "code",
   "execution_count": 98,
   "metadata": {
    "collapsed": false
   },
   "outputs": [
    {
     "data": {
      "text/plain": [
       "(2, 1, 134, 101, 137)"
      ]
     },
     "execution_count": 98,
     "metadata": {},
     "output_type": "execute_result"
    }
   ],
   "source": [
    "X.shape"
   ]
  },
  {
   "cell_type": "code",
   "execution_count": 91,
   "metadata": {
    "collapsed": false
   },
   "outputs": [
    {
     "data": {
      "text/plain": [
       "(1, 134, 101, 137)"
      ]
     },
     "execution_count": 91,
     "metadata": {},
     "output_type": "execute_result"
    }
   ],
   "source": [
    "np.zeros(([1,134,101,137])).shape"
   ]
  },
  {
   "cell_type": "code",
   "execution_count": 94,
   "metadata": {
    "collapsed": false
   },
   "outputs": [
    {
     "data": {
      "text/plain": [
       "array([[ 0.,  0.,  0., ...,  0.,  0.,  0.]])"
      ]
     },
     "execution_count": 94,
     "metadata": {},
     "output_type": "execute_result"
    }
   ],
   "source": [
    "np.load('/home/katya/data/processed_data_ResSeg/' + i + '.npy').reshape(1)"
   ]
  },
  {
   "cell_type": "code",
   "execution_count": null,
   "metadata": {
    "collapsed": true
   },
   "outputs": [],
   "source": []
  }
 ],
 "metadata": {
  "kernelspec": {
   "display_name": "Python [conda root]",
   "language": "python",
   "name": "conda-root-py"
  },
  "language_info": {
   "codemirror_mode": {
    "name": "ipython",
    "version": 3
   },
   "file_extension": ".py",
   "mimetype": "text/x-python",
   "name": "python",
   "nbconvert_exporter": "python",
   "pygments_lexer": "ipython3",
   "version": "3.5.2"
  }
 },
 "nbformat": 4,
 "nbformat_minor": 2
}
