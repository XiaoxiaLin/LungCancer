{
 "cells": [
  {
   "cell_type": "code",
   "execution_count": 1,
   "metadata": {
    "collapsed": true
   },
   "outputs": [],
   "source": [
    "import pandas as pd\n",
    "import numpy as np"
   ]
  },
  {
   "cell_type": "code",
   "execution_count": 52,
   "metadata": {
    "collapsed": false
   },
   "outputs": [],
   "source": [
    "# Loading patients in the forma\n",
    "def data_for_keras(number_of_patients):\n",
    "    \n",
    "    labelsDF = pd.DataFrame.from_csv('/home/katya/data/stage1_labels.csv', sep=',', index_col=None)\n",
    "\n",
    "    imgs = []\n",
    "    labels = []\n",
    "    tempDF = labelsDF.sample(number_of_patients).reset_index()\n",
    "\n",
    "    for i in range(len(tempDF)):\n",
    "        img = np.load('/home/katya/data/processed_data_ResSeg/' + tempDF.id.ix[i] + '.npy')\n",
    "        img = np.expand_dims(img,axis=0)\n",
    "        imgs.append(img)\n",
    "        labels.append(tempDF.cancer.ix[i])\n",
    "\n",
    "    X = np.array(imgs)\n",
    "\n",
    "    Y = np.array(labels)\n",
    "    \n",
    "    return X, Y"
   ]
  },
  {
   "cell_type": "code",
   "execution_count": 6,
   "metadata": {
    "collapsed": false
   },
   "outputs": [],
   "source": [
    "labelsDF = pd.DataFrame.from_csv('/home/katya/data/stage1_labels.csv', sep=',', index_col=None)\n",
    "class_weights = {0:len(labelsDF)/sum(labelsDF.cancer), 1:len(labelsDF)/len(labelsDF) - sum(labelsDF.cancer)}\n",
    "del labelsDF"
   ]
  },
  {
   "cell_type": "code",
   "execution_count": 4,
   "metadata": {
    "collapsed": true
   },
   "outputs": [],
   "source": []
  },
  {
   "cell_type": "code",
   "execution_count": null,
   "metadata": {
    "collapsed": true
   },
   "outputs": [],
   "source": []
  }
 ],
 "metadata": {
  "kernelspec": {
   "display_name": "Python [conda root]",
   "language": "python",
   "name": "conda-root-py"
  },
  "language_info": {
   "codemirror_mode": {
    "name": "ipython",
    "version": 3
   },
   "file_extension": ".py",
   "mimetype": "text/x-python",
   "name": "python",
   "nbconvert_exporter": "python",
   "pygments_lexer": "ipython3",
   "version": "3.5.2"
  }
 },
 "nbformat": 4,
 "nbformat_minor": 2
}
